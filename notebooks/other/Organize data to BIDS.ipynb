{
 "cells": [
  {
   "cell_type": "code",
   "execution_count": 1,
   "metadata": {
    "collapsed": true
   },
   "outputs": [],
   "source": [
    "import glob"
   ]
  },
  {
   "cell_type": "code",
   "execution_count": 5,
   "metadata": {
    "collapsed": true
   },
   "outputs": [],
   "source": [
    "subject_ids = sorted(['TS6T', 'UM2T', 'BI3T', 'MRCT', 'NM3T', 'SPGT', 'ZK4T', 'GAIT', 'DA9T', 'KCAT', 'VL1T', 'PF5T', 'WW2T', 'WSFT', 'KP6T', 'LV2T', 'FMFT', 'HCBT', 'RSIT'])"
   ]
  },
  {
   "cell_type": "code",
   "execution_count": 80,
   "metadata": {
    "collapsed": false
   },
   "outputs": [
    {
     "ename": "SyntaxError",
     "evalue": "invalid syntax (<ipython-input-80-78bb1c412874>, line 1)",
     "output_type": "error",
     "traceback": [
      "\u001b[0;36m  File \u001b[0;32m\"<ipython-input-80-78bb1c412874>\"\u001b[0;36m, line \u001b[0;32m1\u001b[0m\n\u001b[0;31m    zip([e[0]+1, e[1] for e in enumerate(subject_ids)])\u001b[0m\n\u001b[0m                        ^\u001b[0m\n\u001b[0;31mSyntaxError\u001b[0m\u001b[0;31m:\u001b[0m invalid syntax\n"
     ]
    }
   ],
   "source": [
    "zip([e[0]+1, e[1] for e in enumerate(subject_ids)])"
   ]
  },
  {
   "cell_type": "code",
   "execution_count": null,
   "metadata": {
    "collapsed": true
   },
   "outputs": [],
   "source": [
    "/home/gdholla1/projects/bias/data/raw/"
   ]
  },
  {
   "cell_type": "code",
   "execution_count": 27,
   "metadata": {
    "collapsed": true
   },
   "outputs": [],
   "source": [
    "!BIAS=/home/gdholla1/projects/bias/\n",
    "!export BIAS"
   ]
  },
  {
   "cell_type": "code",
   "execution_count": 30,
   "metadata": {
    "collapsed": true
   },
   "outputs": [],
   "source": [
    "import os\n",
    "os.environ['BIAS'] = '/home/gdholla1/projects/bias/'"
   ]
  },
  {
   "cell_type": "code",
   "execution_count": null,
   "metadata": {
    "collapsed": true
   },
   "outputs": [],
   "source": [
    "/home/gdholla1/projects/bias/data/raw/"
   ]
  },
  {
   "cell_type": "code",
   "execution_count": 43,
   "metadata": {
    "collapsed": false
   },
   "outputs": [],
   "source": [
    "for idx, subject_id in enumerate(subject_ids):\n",
    "    \n",
    "    sub_idx = '%02d' % (idx+1)\n",
    "    \n",
    "    path = os.path.join(os.environ['BIAS'], 'data', 'raw', 'sub-{sub_idx}'.format(**locals()), 'anat')\n",
    "    \n",
    "    if not os.path.exists(path):\n",
    "        os.makedirs(path)\n",
    "        \n",
    "    for echo in [11.22, 20.39, 29.57]:\n",
    "        old_fn = '/home/gdholla1/data/stop3/masks/structural_2std/{subject_id}/FLASH_magnitude/e{echo}.nii.gz'.format(**locals())\n",
    "        new_fn = os.path.join(path, 'sub-{sub_idx}_FLASH_echo_{echo}.nii.gz'.format(**locals()))\n",
    "        \n",
    "#         print old_fn, new_fn\n",
    "        os.link(old_fn, new_fn)"
   ]
  },
  {
   "cell_type": "code",
   "execution_count": 2,
   "metadata": {
    "collapsed": false
   },
   "outputs": [
    {
     "name": "stdout",
     "output_type": "stream",
     "text": [
      "\u001b[01;34m/home/gdholla1/data/stop3/masks/structural_2std/\u001b[00m\n",
      "├── \u001b[01;34mBI3T\u001b[00m\n",
      "│   ├── \u001b[01;34mFLASH_magnitude\u001b[00m\n",
      "│   │   ├── \u001b[01;31me11.22.nii.gz\u001b[00m\n",
      "│   │   ├── \u001b[01;31me20.39.nii.gz\u001b[00m\n",
      "│   │   ├── \u001b[01;31me20_warpcoef.nii.gz\u001b[00m\n",
      "│   │   └── \u001b[01;31me29.57.nii.gz\u001b[00m\n",
      "│   ├── \u001b[01;34mFLASH_phase\u001b[00m\n",
      "│   │   ├── \u001b[01;31me11.22.nii.gz\u001b[00m\n",
      "│   │   ├── \u001b[01;31me20.39.nii.gz\u001b[00m\n",
      "│   │   └── \u001b[01;31me29.57.nii.gz\u001b[00m\n",
      "│   ├── \u001b[01;34mmp2rage_slab\u001b[00m\n",
      "│   │   ├── \u001b[01;31mINV1.nii.gz\u001b[00m\n",
      "│   │   ├── \u001b[01;31mINV2.nii.gz\u001b[00m\n",
      "│   │   ├── \u001b[01;31mT1_Images.nii.gz\u001b[00m\n",
      "│   │   └── \u001b[01;31mUNI_Images.nii.gz\u001b[00m\n",
      "│   └── \u001b[01;34mmp2rage_whole_brain\u001b[00m\n",
      "│       ├── \u001b[01;31mINV1.nii.gz\u001b[00m\n",
      "│       ├── \u001b[01;31mINV2.nii.gz\u001b[00m\n",
      "│       ├── \u001b[01;31mT1_Images.nii.gz\u001b[00m\n",
      "│       └── \u001b[01;31mUNI_Images.nii.gz\u001b[00m\n",
      "├── \u001b[01;34mDA9T\u001b[00m\n",
      "│   ├── \u001b[01;34mFLASH_magnitude\u001b[00m\n",
      "│   │   ├── \u001b[01;31me11.22.nii.gz\u001b[00m\n",
      "│   │   ├── \u001b[01;31me20.39.nii.gz\u001b[00m\n",
      "│   │   ├── \u001b[01;31me20_warpcoef.nii.gz\u001b[00m\n",
      "│   │   └── \u001b[01;31me29.57.nii.gz\u001b[00m\n",
      "│   └── \u001b[01;34mFLASH_phase\u001b[00m\n",
      "│       ├── \u001b[01;31me11.22.nii.gz\u001b[00m\n",
      "│       ├── \u001b[01;31me20.39.nii.gz\u001b[00m\n",
      "│       └── \u001b[01;31me29.57.nii.gz\u001b[00m\n",
      "├── \u001b[01;34mFMFT\u001b[00m\n",
      "│   ├── \u001b[01;34mFLASH_magnitude\u001b[00m\n",
      "│   │   ├── \u001b[01;31me11.22.nii.gz\u001b[00m\n",
      "│   │   ├── \u001b[01;31me20.39.nii.gz\u001b[00m\n",
      "│   │   ├── \u001b[01;31me20_warpcoef.nii.gz\u001b[00m\n",
      "│   │   ├── \u001b[01;31me29.57.nii.gz\u001b[00m\n",
      "│   │   └── \u001b[01;31mtest.nii.gz\u001b[00m\n",
      "│   ├── \u001b[01;34mFLASH_phase\u001b[00m\n",
      "│   │   ├── \u001b[01;31me11.22.nii.gz\u001b[00m\n",
      "│   │   ├── \u001b[01;31me20.39.nii.gz\u001b[00m\n",
      "│   │   └── \u001b[01;31me29.57.nii.gz\u001b[00m\n",
      "│   ├── \u001b[01;34mmp2rage_slab\u001b[00m\n",
      "│   │   ├── \u001b[01;31mINV1.nii.gz\u001b[00m\n",
      "│   │   ├── \u001b[01;31mINV2.nii.gz\u001b[00m\n",
      "│   │   ├── \u001b[01;31mT1_Images.nii.gz\u001b[00m\n",
      "│   │   └── \u001b[01;31mUNI_Images.nii.gz\u001b[00m\n",
      "│   └── \u001b[01;34mmp2rage_whole_brain\u001b[00m\n",
      "│       ├── \u001b[01;31mINV1.nii.gz\u001b[00m\n",
      "│       ├── \u001b[01;31mINV2.nii.gz\u001b[00m\n",
      "│       ├── \u001b[01;31mT1_Images.nii.gz\u001b[00m\n",
      "│       └── \u001b[01;31mUNI_Images.nii.gz\u001b[00m\n",
      "├── \u001b[01;34mGAIT\u001b[00m\n",
      "│   ├── \u001b[01;34mFLASH_magnitude\u001b[00m\n",
      "│   │   ├── \u001b[01;31me11.22.nii.gz\u001b[00m\n",
      "│   │   ├── \u001b[01;31me20.39_brain.nii.gz\u001b[00m\n",
      "│   │   ├── \u001b[01;31me20.39.nii.gz\u001b[00m\n",
      "│   │   ├── \u001b[01;31me20_warpcoef.nii.gz\u001b[00m\n",
      "│   │   └── \u001b[01;31me29.57.nii.gz\u001b[00m\n",
      "│   └── \u001b[01;34mFLASH_phase\u001b[00m\n",
      "│       ├── \u001b[01;31me11.22.nii.gz\u001b[00m\n",
      "│       ├── \u001b[01;31me20.39.nii.gz\u001b[00m\n",
      "│       └── \u001b[01;31me29.57.nii.gz\u001b[00m\n",
      "├── \u001b[01;34mHCBT\u001b[00m\n",
      "│   ├── \u001b[01;34mFLASH_magnitude\u001b[00m\n",
      "│   │   ├── \u001b[01;31me11.22.nii.gz\u001b[00m\n",
      "│   │   ├── e11.22.nii.gz_nii.mat\n",
      "│   │   ├── \u001b[01;31me20.39.nii.gz\u001b[00m\n",
      "│   │   ├── e20.39.nii.gz_nii.mat\n",
      "│   │   ├── \u001b[01;31me20_warpcoef.nii.gz\u001b[00m\n",
      "│   │   ├── \u001b[01;31me29.57.nii.gz\u001b[00m\n",
      "│   │   └── e29.57.nii.gz_nii.mat\n",
      "│   ├── \u001b[01;34mFLASH_phase\u001b[00m\n",
      "│   │   ├── \u001b[01;31me11.22.nii.gz\u001b[00m\n",
      "│   │   ├── e11.22.nii.gz_nii.mat\n",
      "│   │   ├── \u001b[01;31me20.39.nii.gz\u001b[00m\n",
      "│   │   ├── e20.39.nii.gz_nii.mat\n",
      "│   │   ├── \u001b[01;31me29.57.nii.gz\u001b[00m\n",
      "│   │   └── e29.57.nii.gz_nii.mat\n",
      "│   ├── \u001b[01;34mmp2rage_slab\u001b[00m\n",
      "│   │   ├── \u001b[01;31mINV1.nii.gz\u001b[00m\n",
      "│   │   ├── \u001b[01;31mINV2.nii.gz\u001b[00m\n",
      "│   │   ├── \u001b[01;31mT1_Images.nii.gz\u001b[00m\n",
      "│   │   └── \u001b[01;31mUNI_Images.nii.gz\u001b[00m\n",
      "│   └── \u001b[01;34mmp2rage_whole_brain\u001b[00m\n",
      "│       ├── \u001b[01;31mINV1.nii.gz\u001b[00m\n",
      "│       ├── \u001b[01;31mINV2.nii.gz\u001b[00m\n",
      "│       ├── \u001b[01;31mT1_Images.nii.gz\u001b[00m\n",
      "│       ├── T1_Images.nii.gz_nii.mat\n",
      "│       ├── \u001b[01;31mUNI_Images.nii.gz\u001b[00m\n",
      "│       └── UNI_Images.nii.gz_nii.mat\n",
      "├── \u001b[01;34mKCAT\u001b[00m\n",
      "│   ├── \u001b[01;34mFLASH_magnitude\u001b[00m\n",
      "│   │   ├── \u001b[01;31me11.22.nii.gz\u001b[00m\n",
      "│   │   ├── \u001b[01;31me20.39.nii.gz\u001b[00m\n",
      "│   │   ├── \u001b[01;31me20_warpcoef.nii.gz\u001b[00m\n",
      "│   │   └── \u001b[01;31me29.57.nii.gz\u001b[00m\n",
      "│   ├── \u001b[01;34mFLASH_phase\u001b[00m\n",
      "│   │   ├── \u001b[01;31me11.22.nii.gz\u001b[00m\n",
      "│   │   ├── \u001b[01;31me20.39.nii.gz\u001b[00m\n",
      "│   │   └── \u001b[01;31me29.57.nii.gz\u001b[00m\n",
      "│   ├── \u001b[01;34mmp2rage_slab\u001b[00m\n",
      "│   │   ├── \u001b[01;31mINV1.nii.gz\u001b[00m\n",
      "│   │   ├── INV1.nii.gz_nii.mat\n",
      "│   │   ├── \u001b[01;31mINV2.nii.gz\u001b[00m\n",
      "│   │   ├── INV2.nii.gz_nii.mat\n",
      "│   │   ├── \u001b[01;31mT1_Images.nii.gz\u001b[00m\n",
      "│   │   ├── T1_Images.nii.gz_nii.mat\n",
      "│   │   ├── \u001b[01;31mUNI_Images.nii.gz\u001b[00m\n",
      "│   │   └── UNI_Images.nii.gz_nii.mat\n",
      "│   └── \u001b[01;34mmp2rage_whole_brain\u001b[00m\n",
      "│       ├── \u001b[01;31mINV1.nii.gz\u001b[00m\n",
      "│       ├── INV1.nii.gz_nii.mat\n",
      "│       ├── \u001b[01;31mINV2.nii.gz\u001b[00m\n",
      "│       ├── \u001b[01;31mT1_Images.nii.gz\u001b[00m\n",
      "│       └── \u001b[01;31mUNI_Images.nii.gz\u001b[00m\n",
      "├── \u001b[01;34mKP6T\u001b[00m\n",
      "│   ├── \u001b[01;34mFLASH_magnitude\u001b[00m\n",
      "│   │   ├── \u001b[01;31me11.22.nii.gz\u001b[00m\n",
      "│   │   ├── \u001b[01;31me20.39.nii.gz\u001b[00m\n",
      "│   │   ├── \u001b[01;31me20_warpcoef.nii.gz\u001b[00m\n",
      "│   │   └── \u001b[01;31me29.57.nii.gz\u001b[00m\n",
      "│   ├── \u001b[01;34mFLASH_phase\u001b[00m\n",
      "│   │   ├── \u001b[01;31me11.22.nii.gz\u001b[00m\n",
      "│   │   ├── \u001b[01;31me20.39.nii.gz\u001b[00m\n",
      "│   │   └── \u001b[01;31me29.57.nii.gz\u001b[00m\n",
      "│   ├── \u001b[01;34mmp2rage_slab\u001b[00m\n",
      "│   │   ├── \u001b[01;31mINV1.nii.gz\u001b[00m\n",
      "│   │   ├── \u001b[01;31mINV2.nii.gz\u001b[00m\n",
      "│   │   ├── \u001b[01;31mT1_Images.nii.gz\u001b[00m\n",
      "│   │   └── \u001b[01;31mUNI_Images.nii.gz\u001b[00m\n",
      "│   └── \u001b[01;34mmp2rage_whole_brain\u001b[00m\n",
      "│       ├── \u001b[01;31mINV1.nii.gz\u001b[00m\n",
      "│       ├── \u001b[01;31mINV2.nii.gz\u001b[00m\n",
      "│       ├── \u001b[01;31mT1_Images.nii.gz\u001b[00m\n",
      "│       └── \u001b[01;31mUNI_Images.nii.gz\u001b[00m\n",
      "├── \u001b[01;34mLV2T\u001b[00m\n",
      "│   ├── \u001b[01;34mFLASH_magnitude\u001b[00m\n",
      "│   │   ├── \u001b[01;31me11.22.nii.gz\u001b[00m\n",
      "│   │   ├── e11.22.nii.gz_nii.mat\n",
      "│   │   ├── \u001b[01;31me20.39.nii.gz\u001b[00m\n",
      "│   │   ├── \u001b[01;31me20_warpcoef.nii.gz\u001b[00m\n",
      "│   │   ├── \u001b[01;31me29.57.nii.gz\u001b[00m\n",
      "│   │   └── e29.57.nii.gz_nii.mat\n",
      "│   ├── \u001b[01;34mFLASH_phase\u001b[00m\n",
      "│   │   ├── \u001b[01;31me11.22.nii.gz\u001b[00m\n",
      "│   │   ├── \u001b[01;31me20.39.nii.gz\u001b[00m\n",
      "│   │   └── \u001b[01;31me29.57.nii.gz\u001b[00m\n",
      "│   ├── \u001b[01;34mmp2rage_slab\u001b[00m\n",
      "│   │   ├── \u001b[01;31mINV1.nii.gz\u001b[00m\n",
      "│   │   ├── INV1.nii.gz_nii.mat\n",
      "│   │   ├── \u001b[01;31mINV2.nii.gz\u001b[00m\n",
      "│   │   ├── INV2.nii.gz_nii.mat\n",
      "│   │   ├── \u001b[01;31mT1_Images.nii.gz\u001b[00m\n",
      "│   │   ├── T1_Images.nii.gz_nii.mat\n",
      "│   │   ├── \u001b[01;31mUNI_Images.nii.gz\u001b[00m\n",
      "│   │   └── UNI_Images.nii.gz_nii.mat\n",
      "│   └── \u001b[01;34mmp2rage_whole_brain\u001b[00m\n",
      "│       ├── \u001b[01;31mINV1.nii.gz\u001b[00m\n",
      "│       ├── \u001b[01;31mINV2.nii.gz\u001b[00m\n",
      "│       ├── \u001b[01;31mT1_Images.nii.gz\u001b[00m\n",
      "│       └── \u001b[01;31mUNI_Images.nii.gz\u001b[00m\n",
      "├── \u001b[01;34mMRCT\u001b[00m\n",
      "│   ├── \u001b[01;34mFLASH_magnitude\u001b[00m\n",
      "│   │   ├── \u001b[01;31me11.22.nii.gz\u001b[00m\n",
      "│   │   ├── \u001b[01;31me20.39.nii.gz\u001b[00m\n",
      "│   │   ├── \u001b[01;31me20_warpcoef.nii.gz\u001b[00m\n",
      "│   │   └── \u001b[01;31me29.57.nii.gz\u001b[00m\n",
      "│   ├── \u001b[01;34mFLASH_phase\u001b[00m\n",
      "│   │   ├── \u001b[01;31me11.22.nii.gz\u001b[00m\n",
      "│   │   ├── \u001b[01;31me20.39.nii.gz\u001b[00m\n",
      "│   │   └── \u001b[01;31me29.57.nii.gz\u001b[00m\n",
      "│   └── \u001b[01;34mmp2rage_slab\u001b[00m\n",
      "│       ├── \u001b[01;31mINV1.nii.gz\u001b[00m\n",
      "│       ├── \u001b[01;31mINV2.nii.gz\u001b[00m\n",
      "│       ├── \u001b[01;31mT1_Images.nii.gz\u001b[00m\n",
      "│       └── \u001b[01;31mUNI_Images.nii.gz\u001b[00m\n",
      "├── \u001b[01;34mNM3T\u001b[00m\n",
      "│   ├── \u001b[01;34mFLASH_magnitude\u001b[00m\n",
      "│   │   ├── \u001b[01;31me11.22.nii.gz\u001b[00m\n",
      "│   │   ├── \u001b[01;31me20.39.nii.gz\u001b[00m\n",
      "│   │   ├── \u001b[01;31me20_warpcoef.nii.gz\u001b[00m\n",
      "│   │   └── \u001b[01;31me29.57.nii.gz\u001b[00m\n",
      "│   ├── \u001b[01;34mFLASH_phase\u001b[00m\n",
      "│   │   ├── \u001b[01;31me11.22.nii.gz\u001b[00m\n",
      "│   │   ├── \u001b[01;31me20.39.nii.gz\u001b[00m\n",
      "│   │   └── \u001b[01;31me29.57.nii.gz\u001b[00m\n",
      "│   ├── \u001b[01;34mmp2rage_slab\u001b[00m\n",
      "│   │   ├── \u001b[01;31mINV1.nii.gz\u001b[00m\n",
      "│   │   ├── \u001b[01;31mINV2.nii.gz\u001b[00m\n",
      "│   │   ├── \u001b[01;31mT1_Images.nii.gz\u001b[00m\n",
      "│   │   └── \u001b[01;31mUNI_Images.nii.gz\u001b[00m\n",
      "│   └── \u001b[01;34mmp2rage_whole_brain\u001b[00m\n",
      "│       ├── \u001b[01;31mINV1.nii.gz\u001b[00m\n",
      "│       ├── \u001b[01;31mINV2.nii.gz\u001b[00m\n",
      "│       ├── \u001b[01;31mT1_Images.nii.gz\u001b[00m\n",
      "│       └── \u001b[01;31mUNI_Images.nii.gz\u001b[00m\n",
      "├── \u001b[01;34mPF5T\u001b[00m\n",
      "│   ├── \u001b[01;34mFLASH_magnitude\u001b[00m\n",
      "│   │   ├── \u001b[01;31me11.22.nii.gz\u001b[00m\n",
      "│   │   ├── \u001b[01;31me20.39.nii.gz\u001b[00m\n",
      "│   │   ├── \u001b[01;31me20_warpcoef.nii.gz\u001b[00m\n",
      "│   │   └── \u001b[01;31me29.57.nii.gz\u001b[00m\n",
      "│   ├── \u001b[01;34mFLASH_phase\u001b[00m\n",
      "│   │   ├── \u001b[01;31me11.22.nii.gz\u001b[00m\n",
      "│   │   ├── \u001b[01;31me20.39.nii.gz\u001b[00m\n",
      "│   │   └── \u001b[01;31me29.57.nii.gz\u001b[00m\n",
      "│   ├── \u001b[01;34mmp2rage_slab\u001b[00m\n",
      "│   │   ├── \u001b[01;31mINV1.nii.gz\u001b[00m\n",
      "│   │   ├── \u001b[01;31mINV2.nii.gz\u001b[00m\n",
      "│   │   ├── \u001b[01;31mT1_Images.nii.gz\u001b[00m\n",
      "│   │   └── \u001b[01;31mUNI_Images.nii.gz\u001b[00m\n",
      "│   └── \u001b[01;34mmp2rage_whole_brain\u001b[00m\n",
      "│       ├── \u001b[01;31mINV1.nii.gz\u001b[00m\n",
      "│       ├── \u001b[01;31mINV2.nii.gz\u001b[00m\n",
      "│       ├── \u001b[01;31mT1_Images.nii.gz\u001b[00m\n",
      "│       └── \u001b[01;31mUNI_Images.nii.gz\u001b[00m\n",
      "├── \u001b[01;34mRSIT\u001b[00m\n",
      "│   ├── \u001b[01;34mFLASH_magnitude\u001b[00m\n",
      "│   │   ├── \u001b[01;31me11.22.nii.gz\u001b[00m\n",
      "│   │   ├── \u001b[01;31me20.39.nii.gz\u001b[00m\n",
      "│   │   ├── \u001b[01;31me20_warpcoef.nii.gz\u001b[00m\n",
      "│   │   └── \u001b[01;31me29.57.nii.gz\u001b[00m\n",
      "│   ├── \u001b[01;34mFLASH_phase\u001b[00m\n",
      "│   │   ├── \u001b[01;31me11.22.nii.gz\u001b[00m\n",
      "│   │   ├── \u001b[01;31me20.39.nii.gz\u001b[00m\n",
      "│   │   └── \u001b[01;31me29.57.nii.gz\u001b[00m\n",
      "│   ├── \u001b[01;34mmp2rage_slab\u001b[00m\n",
      "│   │   ├── \u001b[01;31mINV1.nii.gz\u001b[00m\n",
      "│   │   ├── \u001b[01;31mINV2.nii.gz\u001b[00m\n",
      "│   │   ├── \u001b[01;31mT1_Images.nii.gz\u001b[00m\n",
      "│   │   └── \u001b[01;31mUNI_Images.nii.gz\u001b[00m\n",
      "│   └── \u001b[01;34mmp2rage_whole_brain\u001b[00m\n",
      "│       ├── \u001b[01;31mINV1.nii.gz\u001b[00m\n",
      "│       ├── \u001b[01;31mINV2.nii.gz\u001b[00m\n",
      "│       ├── \u001b[01;31mT1_Images.nii.gz\u001b[00m\n",
      "│       └── \u001b[01;31mUNI_Images.nii.gz\u001b[00m\n",
      "├── \u001b[01;34mSC1T\u001b[00m\n",
      "│   └── \u001b[01;34mFLASH_magnitude\u001b[00m\n",
      "│       ├── \u001b[01;31me11.22.nii.gz\u001b[00m\n",
      "│       ├── \u001b[01;31me20.39.nii.gz\u001b[00m\n",
      "│       ├── \u001b[01;31me20_warpcoef.nii.gz\u001b[00m\n",
      "│       └── \u001b[01;31me29.57.nii.gz\u001b[00m\n",
      "├── \u001b[01;34mSPGT\u001b[00m\n",
      "│   ├── \u001b[01;34mFLASH_magnitude\u001b[00m\n",
      "│   │   ├── \u001b[01;31me11.22.nii.gz\u001b[00m\n",
      "│   │   ├── \u001b[01;31me20.39.nii.gz\u001b[00m\n",
      "│   │   ├── \u001b[01;31me20_warpcoef.nii.gz\u001b[00m\n",
      "│   │   └── \u001b[01;31me29.57.nii.gz\u001b[00m\n",
      "│   └── \u001b[01;34mFLASH_phase\u001b[00m\n",
      "│       ├── \u001b[01;31me11.22.nii.gz\u001b[00m\n",
      "│       ├── \u001b[01;31me20.39.nii.gz\u001b[00m\n",
      "│       └── \u001b[01;31me29.57.nii.gz\u001b[00m\n",
      "├── \u001b[01;34mTS6T\u001b[00m\n",
      "│   ├── \u001b[01;34mFLASH_magnitude\u001b[00m\n",
      "│   │   ├── \u001b[01;31me11.22.nii.gz\u001b[00m\n",
      "│   │   ├── \u001b[01;31me20.39.nii.gz\u001b[00m\n",
      "│   │   ├── \u001b[01;31me20_warpcoef.nii.gz\u001b[00m\n",
      "│   │   └── \u001b[01;31me29.57.nii.gz\u001b[00m\n",
      "│   ├── \u001b[01;34mFLASH_phase\u001b[00m\n",
      "│   │   ├── \u001b[01;31me11.22.nii.gz\u001b[00m\n",
      "│   │   ├── \u001b[01;31me20.39.nii.gz\u001b[00m\n",
      "│   │   └── \u001b[01;31me29.57.nii.gz\u001b[00m\n",
      "│   ├── \u001b[01;34mmp2rage_slab\u001b[00m\n",
      "│   │   ├── \u001b[01;31mINV1.nii.gz\u001b[00m\n",
      "│   │   ├── \u001b[01;31mINV2.nii.gz\u001b[00m\n",
      "│   │   ├── \u001b[01;31mT1_Images.nii.gz\u001b[00m\n",
      "│   │   └── \u001b[01;31mUNI_Images.nii.gz\u001b[00m\n",
      "│   └── \u001b[01;34mmp2rage_whole_brain\u001b[00m\n",
      "│       ├── \u001b[01;31mINV1.nii.gz\u001b[00m\n",
      "│       ├── \u001b[01;31mINV2.nii.gz\u001b[00m\n",
      "│       ├── \u001b[01;31mT1_Images.nii.gz\u001b[00m\n",
      "│       └── \u001b[01;31mUNI_Images.nii.gz\u001b[00m\n",
      "├── \u001b[01;34mUM2T\u001b[00m\n",
      "│   ├── \u001b[01;34mFLASH_magnitude\u001b[00m\n",
      "│   │   ├── \u001b[01;31me11.22.nii.gz\u001b[00m\n",
      "│   │   ├── \u001b[01;31me20.39.nii.gz\u001b[00m\n",
      "│   │   ├── \u001b[01;31me20_warpcoef.nii.gz\u001b[00m\n",
      "│   │   └── \u001b[01;31me29.57.nii.gz\u001b[00m\n",
      "│   └── \u001b[01;34mFLASH_phase\u001b[00m\n",
      "│       ├── \u001b[01;31me11.22.nii.gz\u001b[00m\n",
      "│       ├── \u001b[01;31me20.39.nii.gz\u001b[00m\n",
      "│       └── \u001b[01;31me29.57.nii.gz\u001b[00m\n",
      "├── \u001b[01;34mVL1T\u001b[00m\n",
      "│   └── \u001b[01;34mFLASH_magnitude\u001b[00m\n",
      "│       ├── \u001b[01;31me11.22.nii.gz\u001b[00m\n",
      "│       ├── \u001b[01;31me20.39_before_bet.nii.gz\u001b[00m\n",
      "│       ├── \u001b[01;31me20.39.nii.gz\u001b[00m\n",
      "│       ├── \u001b[01;31me20_warpcoef.nii.gz\u001b[00m\n",
      "│       └── \u001b[01;31me29.57.nii.gz\u001b[00m\n",
      "├── \u001b[01;34mWSFT\u001b[00m\n",
      "│   ├── \u001b[01;34mFLASH_magnitude\u001b[00m\n",
      "│   │   ├── \u001b[01;31me11.22.nii.gz\u001b[00m\n",
      "│   │   ├── \u001b[01;31me20.39.nii.gz\u001b[00m\n",
      "│   │   ├── \u001b[01;31me20_warpcoef.nii.gz\u001b[00m\n",
      "│   │   └── \u001b[01;31me29.57.nii.gz\u001b[00m\n",
      "│   ├── \u001b[01;34mFLASH_phase\u001b[00m\n",
      "│   │   ├── \u001b[01;31me11.22.nii.gz\u001b[00m\n",
      "│   │   ├── \u001b[01;31me20.39.nii.gz\u001b[00m\n",
      "│   │   └── \u001b[01;31me29.57.nii.gz\u001b[00m\n",
      "│   ├── \u001b[01;34mmp2rage_slab\u001b[00m\n",
      "│   │   ├── \u001b[01;31mINV1.nii.gz\u001b[00m\n",
      "│   │   ├── \u001b[01;31mINV2.nii.gz\u001b[00m\n",
      "│   │   ├── \u001b[01;31mT1_Images.nii.gz\u001b[00m\n",
      "│   │   └── \u001b[01;31mUNI_Images.nii.gz\u001b[00m\n",
      "│   └── \u001b[01;34mmp2rage_whole_brain\u001b[00m\n",
      "│       ├── \u001b[01;31mINV1.nii.gz\u001b[00m\n",
      "│       ├── \u001b[01;31mINV2.nii.gz\u001b[00m\n",
      "│       ├── \u001b[01;31mT1_Images.nii.gz\u001b[00m\n",
      "│       └── \u001b[01;31mUNI_Images.nii.gz\u001b[00m\n",
      "├── \u001b[01;34mWW2T\u001b[00m\n",
      "│   ├── \u001b[01;34mFLASH_magnitude\u001b[00m\n",
      "│   │   ├── \u001b[01;31me11.22.nii.gz\u001b[00m\n",
      "│   │   ├── \u001b[01;31me20.39.nii.gz\u001b[00m\n",
      "│   │   ├── \u001b[01;31me20_warpcoef.nii.gz\u001b[00m\n",
      "│   │   └── \u001b[01;31me29.57.nii.gz\u001b[00m\n",
      "│   ├── \u001b[01;34mFLASH_phase\u001b[00m\n",
      "│   │   ├── \u001b[01;31me11.22.nii.gz\u001b[00m\n",
      "│   │   ├── \u001b[01;31me20.39.nii.gz\u001b[00m\n",
      "│   │   └── \u001b[01;31me29.57.nii.gz\u001b[00m\n",
      "│   ├── \u001b[01;34mmp2rage_slab\u001b[00m\n",
      "│   │   ├── \u001b[01;31mINV1.nii.gz\u001b[00m\n",
      "│   │   ├── \u001b[01;31mINV2.nii.gz\u001b[00m\n",
      "│   │   ├── \u001b[01;31mT1_Images.nii.gz\u001b[00m\n",
      "│   │   └── \u001b[01;31mUNI_Images.nii.gz\u001b[00m\n",
      "│   └── \u001b[01;34mmp2rage_whole_brain\u001b[00m\n",
      "│       ├── \u001b[01;31mINV1.nii.gz\u001b[00m\n",
      "│       ├── \u001b[01;31mINV2.nii.gz\u001b[00m\n",
      "│       ├── \u001b[01;31mT1_Images.nii.gz\u001b[00m\n",
      "│       └── \u001b[01;31mUNI_Images.nii.gz\u001b[00m\n",
      "└── \u001b[01;34mZK4T\u001b[00m\n",
      "    ├── \u001b[01;34mFLASH_magnitude\u001b[00m\n",
      "    │   ├── \u001b[01;31me11.22.nii.gz\u001b[00m\n",
      "    │   ├── \u001b[01;31me20.39.nii.gz\u001b[00m\n",
      "    │   ├── \u001b[01;31me20_warpcoef.nii.gz\u001b[00m\n",
      "    │   └── \u001b[01;31me29.57.nii.gz\u001b[00m\n",
      "    └── \u001b[01;34mFLASH_phase\u001b[00m\n",
      "        ├── \u001b[01;31me11.22.nii.gz\u001b[00m\n",
      "        ├── \u001b[01;31me20.39.nii.gz\u001b[00m\n",
      "        └── \u001b[01;31me29.57.nii.gz\u001b[00m\n",
      "\n",
      "83 directories, 256 files\n"
     ]
    }
   ],
   "source": [
    "!tree /home/gdholla1/data/stop3/masks/structural_2std/"
   ]
  },
  {
   "cell_type": "markdown",
   "metadata": {},
   "source": [
    "# Functional data"
   ]
  },
  {
   "cell_type": "code",
   "execution_count": 79,
   "metadata": {
    "collapsed": false
   },
   "outputs": [],
   "source": [
    "for idx, subject_id in enumerate(subject_ids[:1]):\n",
    "    \n",
    "    sub_idx = '%02d' % (idx+1)\n",
    "    \n",
    "    path = os.path.join(os.environ['BIAS'], 'data', 'raw', 'sub-{sub_idx}'.format(**locals()), 'func')\n",
    "    \n",
    "    if not os.path.exists(path):\n",
    "        os.makedirs(path)\n",
    "        \n",
    "    for run in [1,2,3]:\n",
    "        run_str = '%02d' % run\n",
    "        old_fn = '/home/gdholla1/projects/bias/data/raw/{subject_id}/run{run}.nii'.format(**locals())\n",
    "        new_fn = os.path.join(path, 'sub-{sub_idx}_task-randomdotmotion_run-{run_str}_bold.nii'.format(**locals()))\n",
    "        \n",
    "#         print old_fn, new_fn\n",
    "\n",
    "        if os.path.exists(new_fn):\n",
    "            os.remove(new_fn)\n",
    "\n",
    "        if os.path.exists(old_fn):\n",
    "            os.link(old_fn, new_fn)"
   ]
  },
  {
   "cell_type": "markdown",
   "metadata": {},
   "source": [
    "# Field maps"
   ]
  },
  {
   "cell_type": "code",
   "execution_count": 76,
   "metadata": {
    "collapsed": true
   },
   "outputs": [],
   "source": [
    "for idx, subject_id in enumerate(subject_ids[:]):\n",
    "    \n",
    "    sub_idx = '%02d' % (idx+1)\n",
    "    \n",
    "    path = os.path.join(os.environ['BIAS'], 'data', 'raw', 'sub-{sub_idx}'.format(**locals()), 'fmap')\n",
    "    \n",
    "    if not os.path.exists(path):\n",
    "        os.makedirs(path)\n",
    "        \n",
    "    old_fn = '/home/gdholla1/projects/bias/data/raw/{subject_id}/fieldmap_te6.nii'.format(**locals())\n",
    "    new_fn = os.path.join(path, 'sub-{sub_idx}_magnitude1.nii'.format(**locals()))\n",
    "    \n",
    "    if os.path.exists(new_fn):\n",
    "        os.remove(new_fn)\n",
    "\n",
    "    if os.path.exists(old_fn):\n",
    "        os.link(old_fn, new_fn)\n",
    "    \n",
    "    old_fn = '/home/gdholla1/projects/bias/data/raw/{subject_id}/fieldmap_te7.02_magnitude.nii'.format(**locals())\n",
    "    new_fn = os.path.join(path, 'sub-{sub_idx}_magnitude2.nii'.format(**locals()))    \n",
    " \n",
    "    if os.path.exists(new_fn):\n",
    "        os.remove(new_fn)\n",
    "\n",
    "    if os.path.exists(old_fn):\n",
    "        os.link(old_fn, new_fn)\n",
    "\n",
    "    old_fn = '/home/gdholla1/projects/bias/data/raw/{subject_id}/fieldmap_te7.02_phase.nii'.format(**locals())\n",
    "    new_fn = os.path.join(path, 'sub-{sub_idx}_phasediff.nii'.format(**locals()))        \n",
    "    \n",
    "    \n",
    "    if os.path.exists(new_fn):\n",
    "        os.remove(new_fn)\n",
    "\n",
    "    if os.path.exists(old_fn):\n",
    "        os.link(old_fn, new_fn)    "
   ]
  },
  {
   "cell_type": "markdown",
   "metadata": {},
   "source": [
    "# Masks"
   ]
  },
  {
   "cell_type": "code",
   "execution_count": 44,
   "metadata": {
    "collapsed": true
   },
   "outputs": [],
   "source": [
    "for idx, subject_id in enumerate(subject_ids):\n",
    "    \n",
    "    sub_idx = '%02d' % (idx+1)\n",
    "    \n",
    "    path = os.path.join(os.environ['BIAS'], 'data', 'derivatives', 'sub-{sub_idx}'.format(**locals()), 'masks', 'FLASH_space')\n",
    "    \n",
    "    if not os.path.exists(path):\n",
    "        os.makedirs(path)\n",
    "    \n",
    "    \n",
    "    for mask in ['STh_L', 'STh_R']:\n",
    "        old_fn = '/home/gdholla1/data/bias_task/masks/flash_std/{subject_id}_{mask}.nii.gz'.format(**locals())\n",
    "        \n",
    "        new_fn = os.path.join(path, 'sub-{sub_idx}_mask-{mask}.nii.gz'.format(**locals()))\n",
    "\n",
    "        if os.path.exists(new_fn):\n",
    "            os.remove(new_fn)\n",
    "\n",
    "        if os.path.exists(old_fn):\n",
    "            os.link(old_fn, new_fn)"
   ]
  },
  {
   "cell_type": "markdown",
   "metadata": {},
   "source": [
    "# T1-weighted"
   ]
  },
  {
   "cell_type": "code",
   "execution_count": 46,
   "metadata": {
    "collapsed": true
   },
   "outputs": [],
   "source": [
    "for idx, subject_id in enumerate(subject_ids):\n",
    "    \n",
    "    sub_idx = '%02d' % (idx+1)\n",
    "    \n",
    "    path = os.path.join(os.environ['BIAS'], 'data', 'raw', 'sub-{sub_idx}'.format(**locals()), 'anat')\n",
    "    \n",
    "    if not os.path.exists(path):\n",
    "        os.makedirs(path)\n",
    "        \n",
    "    old_fn = '/home/gdholla1/data/bias_task/t1_weighted/{subject_id}.nii.gz'.format(**locals())\n",
    "    new_fn = os.path.join(path, 'sub-{sub_idx}_T1w.nii.gz'.format(**locals()))\n",
    "        \n",
    "\n",
    "    os.link(old_fn, new_fn)"
   ]
  },
  {
   "cell_type": "markdown",
   "metadata": {
    "collapsed": true
   },
   "source": [
    "# Behavioral Data"
   ]
  },
  {
   "cell_type": "code",
   "execution_count": 70,
   "metadata": {
    "collapsed": true
   },
   "outputs": [],
   "source": [
    "import pandas\n",
    "\n",
    "data = pandas.read_pickle('/home/gdholla1/data/bias_task/behavior/behavior.pandas')"
   ]
  },
  {
   "cell_type": "code",
   "execution_count": 71,
   "metadata": {
    "collapsed": false
   },
   "outputs": [],
   "source": [
    "data['subj_idx'] = data.subj_idx.map(dict([(e[1], e[0]+1) for e in enumerate(subject_ids)]))"
   ]
  },
  {
   "cell_type": "code",
   "execution_count": 73,
   "metadata": {
    "collapsed": true
   },
   "outputs": [],
   "source": [
    "data.to_pickle('/home/gdholla1/bias/data/behavior/behavior.pandas')\n",
    "data.to_csv('/home/gdholla1/bias/data/behavior/behavior.csv')"
   ]
  },
  {
   "cell_type": "markdown",
   "metadata": {
    "collapsed": true
   },
   "source": [
    "# FLASH group space"
   ]
  },
  {
   "cell_type": "code",
   "execution_count": 131,
   "metadata": {
    "collapsed": true
   },
   "outputs": [],
   "source": [
    "!mkdir /home/gdholla1/projects/bias/data/FLASH_group_space/"
   ]
  },
  {
   "cell_type": "code",
   "execution_count": 132,
   "metadata": {
    "collapsed": true
   },
   "outputs": [],
   "source": [
    "from nipype.interfaces import ants"
   ]
  },
  {
   "cell_type": "code",
   "execution_count": 141,
   "metadata": {
    "collapsed": false
   },
   "outputs": [],
   "source": [
    "for idx, subject_id in enumerate(subject_ids):\n",
    "    \n",
    "    sub_idx = '%02d' % (idx+1)\n",
    "    \n",
    "    path = os.path.join(os.environ['BIAS'], 'data', 'FLASH_group_space', 'sub-{sub_idx}'.format(**locals()))\n",
    "    \n",
    "    if not os.path.exists(path):\n",
    "        os.makedirs(path)\n",
    "        \n",
    "    old_fn = '/home/gdholla1/data/ERC_FLASH_template_ants/FLASH2group/_subject_id_{subject_id}/transformComposite.h5'.format(**locals())\n",
    "    new_fn = os.path.join(path, 'sub-{sub_idx}_flash2group.h5'.format(**locals()))\n",
    "        \n",
    "\n",
    "    if os.path.exists(new_fn):\n",
    "        os.remove(new_fn)\n",
    "\n",
    "    if os.path.exists(old_fn):\n",
    "        os.link(old_fn, new_fn)"
   ]
  },
  {
   "cell_type": "code",
   "execution_count": 142,
   "metadata": {
    "collapsed": true
   },
   "outputs": [],
   "source": [
    "for idx, subject_id in enumerate(subject_ids):\n",
    "    \n",
    "    sub_idx = '%02d' % (idx+1)\n",
    "    \n",
    "    path = os.path.join(os.environ['BIAS'], 'data', 'FLASH_group_space', 'sub-{sub_idx}'.format(**locals()))\n",
    "    \n",
    "    if not os.path.exists(path):\n",
    "        os.makedirs(path)\n",
    "        \n",
    "    old_fn = '/home/gdholla1/data/ERC_FLASH_template_ants/group2flash/_subject_id_{subject_id}/transformInverseComposite.h5'.format(**locals())\n",
    "    new_fn = os.path.join(path, 'sub-{sub_idx}_group2flash.h5'.format(**locals()))\n",
    "        \n",
    "\n",
    "    if os.path.exists(new_fn):\n",
    "        os.remove(new_fn)\n",
    "\n",
    "    if os.path.exists(old_fn):\n",
    "        os.link(old_fn, new_fn)"
   ]
  },
  {
   "cell_type": "code",
   "execution_count": null,
   "metadata": {
    "collapsed": true
   },
   "outputs": [],
   "source": []
  }
 ],
 "metadata": {
  "kernelspec": {
   "display_name": "Python 2",
   "language": "python",
   "name": "python2"
  },
  "language_info": {
   "codemirror_mode": {
    "name": "ipython",
    "version": 2
   },
   "file_extension": ".py",
   "mimetype": "text/x-python",
   "name": "python",
   "nbconvert_exporter": "python",
   "pygments_lexer": "ipython2",
   "version": "2.7.3"
  }
 },
 "nbformat": 4,
 "nbformat_minor": 1
}
