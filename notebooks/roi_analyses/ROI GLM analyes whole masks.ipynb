{
 "cells": [
  {
   "cell_type": "code",
   "execution_count": 1,
   "metadata": {
    "collapsed": true
   },
   "outputs": [],
   "source": [
    "import pandas"
   ]
  },
  {
   "cell_type": "code",
   "execution_count": 2,
   "metadata": {
    "collapsed": true
   },
   "outputs": [],
   "source": [
    "def get_signal(subject_id, run, mask):\n",
    "    subject_id = '%02d' % int(subject_id)\n",
    "    run = '%02d' % int(run)    \n",
    "    run0 = int(run) - 1\n",
    "    \n",
    "    signal = np.loadtxt('/home/gdholla1/projects/bias/data/derivatives/extracted_signal/highpassed_motion/_mask_{mask}_subject_id_{subject_id}/_extracter_highpassed_motion{run0}/sub-{subject_id}_task-randomdotmotion_run-{run}_bold_unwarped_st_dtype_mcf_mask_gms_tempfilt_regfilt_maths_ts.txt'.format(**locals()))\n",
    "    \n",
    "    signal = (signal / signal.mean()) * 100\n",
    "    signal -= signal.mean()\n",
    "    \n",
    "    return signal\n",
    "\n",
    "def get_onsets(subject_id, run, design='model0', shift=0):\n",
    "\n",
    "    df = pandas.read_pickle('/home/gdholla1/projects/bias/data/behavior/behavior.pandas')\n",
    "    df = df[(df.subj_idx == subject_id) & (df.block == run)]\n",
    "\n",
    "    df['onset_cue'] += shift\n",
    "    df['onset_stim'] += shift\n",
    "    \n",
    "    \n",
    "    if design == 'model0':\n",
    "        onsets_cue = df.onset_cue.tolist()\n",
    "        onsets_stim = df.onset_stim.tolist()\n",
    "\n",
    "        conditions=['onsets_cue',\n",
    "                    'onsets_stim',]\n",
    "        \n",
    "        onsets=[onsets_cue,\n",
    "                onsets_stim]\n",
    "        \n",
    "    elif design == 'model1a':\n",
    "        conditions=['payoff cue',\n",
    "                    'neutral cue',\n",
    "                    'easy',\n",
    "                    'hard']\n",
    "        \n",
    "        onsets=[df[df.cue != 'neutral'].onset_cue.tolist(),\n",
    "                df[df.cue == 'neutral'].onset_cue.tolist(),\n",
    "                df[df.difficulty == 'easy'].onset_stim.tolist(),\n",
    "                df[df.difficulty == 'hard'].onset_stim.tolist()]\n",
    "        \n",
    "    elif design == 'model1b':\n",
    "        conditions= ['left', 'right', 'neutral', 'easy', 'hard']\n",
    "        \n",
    "        onsets=[df[df.cue == 'left'].onset_cue.tolist(),\n",
    "                df[df.cue == 'right'].onset_cue.tolist(),                \n",
    "                df[df.cue == 'neutral'].onset_cue.tolist(),\n",
    "                df[df.difficulty == 'easy'].onset_stim.tolist(),\n",
    "                df[df.difficulty == 'hard'].onset_stim.tolist()]        \n",
    "        \n",
    "        \n",
    "    elif design == 'model1c':\n",
    "        conditions=['payoff_cue',\n",
    "                    'neutral_cue',\n",
    "                    'easy (correct)',\n",
    "                    'hard (correct)',\n",
    "                    'easy (error)',\n",
    "                    'hard (error)']\n",
    "        \n",
    "        onsets=[df[df.cue != 'neutral'].onset_cue.tolist(),\n",
    "                df[df.cue == 'neutral'].onset_cue.tolist(),\n",
    "                df[(df.difficulty == 'easy') & (df.correct == 1)].onset_stim.tolist(),\n",
    "                df[(df.difficulty == 'hard') & (df.correct == 1)].onset_stim.tolist(),\n",
    "                df[(df.difficulty == 'easy') & (df.correct == 0)].onset_stim.tolist(),\n",
    "                df[(df.difficulty == 'hard') & (df.correct == 0)].onset_stim.tolist()]        \n",
    "        \n",
    "    elif design == 'model1d':\n",
    "        conditions=['payoff_cue',\n",
    "                    'neutral_cue',\n",
    "                    'easy',\n",
    "                    'hard',\n",
    "                    'correct',\n",
    "                    'error']\n",
    "        \n",
    "        onsets=[df[df.cue != 'neutral'].onset_cue.tolist(),\n",
    "                df[df.cue == 'neutral'].onset_cue.tolist(),\n",
    "                df[(df.difficulty == 'easy')].onset_stim.tolist(),\n",
    "                df[(df.difficulty == 'hard')].onset_stim.tolist(),\n",
    "                df[(df.correct == 1)].onset_stim.tolist(),\n",
    "                df[(df.correct == 0)].onset_stim.tolist()]\n",
    "        \n",
    "    \n",
    "    elif design == 'model2':\n",
    "        conditions=['payoff_cue',\n",
    "                    'neutral_cue',\n",
    "                    'correct (congruent)',\n",
    "                    'correct (neutral)',\n",
    "                    'correct (incongruent)',\n",
    "                    'error (congruent)',\n",
    "                    'error (neutral)',\n",
    "                    'error (incongruent)']   \n",
    "        \n",
    "        onsets=[df[df.cue != 'neutral'].onset_cue.tolist(),\n",
    "                df[df.cue == 'neutral'].onset_cue.tolist(),\n",
    "                df[(df.cue_validity == 'valid') & (df.correct == 1)].onset_stim.tolist(),\n",
    "                df[(df.cue_validity == 'neutral') & (df.correct == 1)].onset_stim.tolist(),\n",
    "                df[(df.cue_validity == 'invalid') & (df.correct == 1)].onset_stim.tolist(),\n",
    "                df[(df.cue_validity == 'valid') & (df.correct == 0)].onset_stim.tolist(),\n",
    "                df[(df.cue_validity == 'neutral') & (df.correct == 0)].onset_stim.tolist(),\n",
    "                df[(df.cue_validity == 'invalid') & (df.correct == 0)].onset_stim.tolist()]\n",
    "        \n",
    "        \n",
    "    elif design == 'model3':\n",
    "        conditions=['payoff_cue',\n",
    "                    'neutral_cue',                    \n",
    "                    'left response',\n",
    "                    'right response']\n",
    "        \n",
    "        onsets=[df[df.cue != 'neutral'].onset_cue.tolist(),\n",
    "                df[df.cue == 'neutral'].onset_cue.tolist(),\n",
    "                df[df.response == 1].onset_stim.tolist(),\n",
    "                df[df.response == 2].onset_stim.tolist()]        \n",
    "        \n",
    "        \n",
    "    elif design == 'model4':\n",
    "        \n",
    "        onsets_neutral_cue_correct = df[(df.cue_validity == 'neutral') & (df.correct == 1)].onset_stim.tolist()\n",
    "        onsets_neutral_cue_error = df[(df.cue_validity == 'neutral') & (df.correct == 0)].onset_stim.tolist()\n",
    "        \n",
    "        onsets_valid_cue_correct = df[(df.cue_validity == 'valid') & (df.correct == 1)].onset_stim.tolist()\n",
    "        onsets_valid_cue_error = df[(df.cue_validity == 'valid') & (df.correct == 0)].onset_stim.tolist()        \n",
    "        \n",
    "        onsets_invalid_cue_correct = df[(df.cue_validity == 'invalid') & (df.correct == 1)].onset_stim.tolist()\n",
    "        onsets_invalid_cue_error = df[(df.cue_validity == 'invalid') & (df.correct == 0)].onset_stim.tolist()                \n",
    "\n",
    "        \n",
    "        conditions=['payoff_cue',\n",
    "                    'neutral_cue',\n",
    "                    'valid (correct)',\n",
    "                    'valid (error)',\n",
    "                    'neutral (correct)',\n",
    "                    'neutral (error)',\n",
    "                    'invalid (correct)',\n",
    "                    'invalid (error)']\n",
    "        \n",
    "        onsets=[df[df.cue != 'neutral'].onset_cue.tolist(),\n",
    "                df[df.cue == 'neutral'].onset_cue.tolist(),\n",
    "                onsets_valid_cue_correct,\n",
    "                onsets_valid_cue_error,\n",
    "                onsets_neutral_cue_correct,\n",
    "                onsets_neutral_cue_error,\n",
    "                onsets_invalid_cue_correct,\n",
    "                onsets_invalid_cue_error]                \n",
    "    \n",
    "    return dict(zip(conditions, onsets))"
   ]
  },
  {
   "cell_type": "code",
   "execution_count": 3,
   "metadata": {
    "collapsed": false
   },
   "outputs": [],
   "source": [
    "%load_ext rpy2.ipython\n"
   ]
  },
  {
   "cell_type": "markdown",
   "metadata": {},
   "source": [
    "# Model 1a"
   ]
  },
  {
   "cell_type": "code",
   "execution_count": 4,
   "metadata": {
    "collapsed": false
   },
   "outputs": [
    {
     "name": "stderr",
     "output_type": "stream",
     "text": [
      "/usr/local/lib/python2.7/dist-packages/nipy/modalities/fmri/design_matrix.py:191: FutureWarning: comparison to `None` will result in an elementwise object comparison in the future.\n",
      "  if rmatrix == None:\n"
     ]
    },
    {
     "name": "stdout",
     "output_type": "stream",
     "text": [
      "Error: 6/STh_R/all the input arrays must have same number of dimensions\n"
     ]
    }
   ],
   "source": [
    "import itertools\n",
    "import pyfir\n",
    "from nipy.modalities.fmri import design_matrix, experimental_paradigm\n",
    "import statsmodels.api as sm\n",
    "\n",
    "level2_dict = []\n",
    "adj_r = []\n",
    "# pars = ['neutral_cue', 'left_cue', 'right_cue', 'neutral_easy_correct', 'valid_easy_correct', 'invalid_easy_correct', 'neutral_hard_correct', 'valid_hard_correct', 'invalid_hard_correct', 'easy_error', 'hard_error',]\n",
    "# pars = \n",
    "\n",
    "for subject_id in np.arange(1, 20):\n",
    "    for run in [1,2,3]:\n",
    "\n",
    "        try:\n",
    "            onsets_dict = get_onsets(subject_id, run, 'model1a', shift=-1.5)\n",
    "            pars = onsets_dict.keys()\n",
    "\n",
    "            conditions = []\n",
    "            onsets = []\n",
    "            for key in onsets_dict.keys():\n",
    "                conditions += [key] * len(onsets_dict[key])\n",
    "                onsets += onsets_dict[key]\n",
    "\n",
    "            paradigm =  experimental_paradigm.BlockParadigm(con_id=conditions, \n",
    "                                                            onset=onsets,\n",
    "                                                            duration=[[1.]] * len(conditions))\n",
    "            tr = 3.0\n",
    "            frametimes = np.linspace(0, 387 * tr, 387)\n",
    "            hrf_model = 'Canonical with Derivative'\n",
    "\n",
    "            X, names= design_matrix.dmtx_light(frametimes, paradigm, hrf_model=hrf_model, drift_model='polynomial', fir_delays=np.arange(11), drift_order=3)\n",
    "\n",
    "            X /= X.max(0)\n",
    "            X = pandas.DataFrame(X, columns=names)\n",
    "\n",
    "            for i, mask in enumerate(['STh_L', 'STh_R']):\n",
    "                signal = get_signal(subject_id,  run, mask)\n",
    "                r = sm.GLSAR(signal, X).iterative_fit()\n",
    "\n",
    "                adj_r.append({'subject_id':subject_id, 'mask':mask, 'r2_adj':r.rsquared_adj, 'r2':r.rsquared, 'run':run})\n",
    "\n",
    "                for par in pars:\n",
    "                    level2_dict.append({'value':r.params[par],\n",
    "                                        'par':par,\n",
    "                                        'subject_id':subject_id,\n",
    "                                        'mask':mask,\n",
    "                                        'run':run})\n",
    "        except Exception as e:\n",
    "            print 'Error: %s/%s/%s' %  (subject_id, mask, e)"
   ]
  },
  {
   "cell_type": "markdown",
   "metadata": {},
   "source": [
    "The first set of analyses tested whether there were significant differences in the BOLD response between task conditions. Therefore, a set of general linear models (GLM) were fit to the extracted STN segment time series. The first model (GLM1a) contained the following task condition regressors: (a) neutral cue, (b) payoff cue, (c) easy RDM stimulus, (d) hard RDM stimulus. Its first main contrast of interest was ‘payoff cue > neutral cue’ (and neutral cue > payoff cue), to see whether any segments were involved in processing the cue information. The other main contrast was ‘hard RDM stimulus > easy RDM stimulus’ (and ‘easy RDM stimulus > hard RDM stimulus’), which should indicate areas that were related to the speed of evidence accumulation. \n"
   ]
  },
  {
   "cell_type": "code",
   "execution_count": 5,
   "metadata": {
    "collapsed": false
   },
   "outputs": [
    {
     "name": "stderr",
     "output_type": "stream",
     "text": [
      "/usr/local/lib/python2.7/dist-packages/seaborn/categorical.py:3367: UserWarning: The `x_order` parameter has been renamed `order`\n",
      "  UserWarning)\n"
     ]
    },
    {
     "data": {
      "text/plain": [
       "<seaborn.axisgrid.FacetGrid at 0x74cf490>"
      ]
     },
     "execution_count": 5,
     "metadata": {},
     "output_type": "execute_result"
    },
    {
     "data": {
      "image/png": "[encoded data removed]",
      "text/plain": [
       "<matplotlib.figure.Figure at 0x8cd3bd0>"
      ]
     },
     "metadata": {},
     "output_type": "display_data"
    }
   ],
   "source": [
    "df_glm = pandas.DataFrame(level2_dict)\n",
    "df_glm = df_glm.query('par != \"constant\"')\n",
    "df_glm['dummy'] = 1\n",
    "\n",
    "df_glm['% signal change'] = df_glm['value']\n",
    "sns.set_palette('Set1')\n",
    "sns.set_context('poster')\n",
    "sns.set_style('white')\n",
    "\n",
    "# sns.factorplot(x='dummy', y='value', hue='par', data=df_glm, col='mask', col_wrap=3, kind='bar', ci=95, hue_order=['payoff_cue (left)', 'payoff_cue (right)', 'neutral_cue','difficult_rdm', 'easy_rdm'])\n",
    "\n",
    "tmp = df_glm.groupby(['subject_id', 'mask', 'par', 'dummy'], as_index=False).mean()\n",
    "fac = sns.factorplot(x='par', y='% signal change', data=tmp, col='mask', col_wrap=3, kind='bar', ci=95, x_order=['neutral cue', 'payoff cue', '', 'easy', 'hard',])\n",
    "\n",
    "fac.set_xticklabels(rotation=45)\n",
    "\n",
    "plt.tight_layout()\n",
    "\n",
    "fac.set_xlabels('')"
   ]
  },
  {
   "cell_type": "markdown",
   "metadata": {},
   "source": [
    "### Payoff cue > neutral cue"
   ]
  },
  {
   "cell_type": "code",
   "execution_count": 6,
   "metadata": {
    "collapsed": false,
    "scrolled": false
   },
   "outputs": [
    {
     "name": "stdout",
     "output_type": "stream",
     "text": [
      "***** STh_L ******\n",
      "***** STh_R ******\n"
     ]
    },
    {
     "name": "stderr",
     "output_type": "stream",
     "text": [
      "/usr/local/lib/python2.7/dist-packages/rpy2/rinterface/__init__.py:185: RRuntimeWarning: Loading required package: coda\n",
      "\n",
      "  warnings.warn(x, RRuntimeWarning)\n",
      "/usr/local/lib/python2.7/dist-packages/rpy2/rinterface/__init__.py:185: RRuntimeWarning: Loading required package: Matrix\n",
      "\n",
      "  warnings.warn(x, RRuntimeWarning)\n",
      "/usr/local/lib/python2.7/dist-packages/rpy2/rinterface/__init__.py:185: RRuntimeWarning: ************\n",
      "Welcome to BayesFactor 0.9.11-1. If you have questions, please contact Richard Morey (richarddmorey@gmail.com).\n",
      "\n",
      "Type BFManual() to open the manual.\n",
      "************\n",
      "\n",
      "  warnings.warn(x, RRuntimeWarning)\n"
     ]
    },
    {
     "data": {
      "text/html": [
       "<div>\n",
       "<table border=\"1\" class=\"dataframe\">\n",
       "  <thead>\n",
       "    <tr style=\"text-align: right;\">\n",
       "      <th></th>\n",
       "      <th>0</th>\n",
       "      <th>1</th>\n",
       "    </tr>\n",
       "  </thead>\n",
       "  <tbody>\n",
       "    <tr>\n",
       "      <th>mask</th>\n",
       "      <td>STh_L</td>\n",
       "      <td>STh_R</td>\n",
       "    </tr>\n",
       "    <tr>\n",
       "      <th>BF</th>\n",
       "      <td>0.54</td>\n",
       "      <td>0.32</td>\n",
       "    </tr>\n",
       "    <tr>\n",
       "      <th>t</th>\n",
       "      <td>1.38</td>\n",
       "      <td>0.81</td>\n",
       "    </tr>\n",
       "    <tr>\n",
       "      <th>p</th>\n",
       "      <td>0.19</td>\n",
       "      <td>0.43</td>\n",
       "    </tr>\n",
       "  </tbody>\n",
       "</table>\n",
       "</div>"
      ],
      "text/plain": [
       "          0      1\n",
       "mask  STh_L  STh_R\n",
       "BF     0.54   0.32\n",
       "t      1.38   0.81\n",
       "p      0.19   0.43"
      ]
     },
     "execution_count": 6,
     "metadata": {},
     "output_type": "execute_result"
    }
   ],
   "source": [
    "masks = ['STh_L', 'STh_R']\n",
    "\n",
    "results = []\n",
    "\n",
    "for mask in masks:\n",
    "    df_mask = df_glm[df_glm['mask'] == mask].pivot_table(index='subject_id', values='value', columns='par')\n",
    "    \n",
    "    \n",
    "    print '***** %s ******' % mask\n",
    "    %R -i df_mask\n",
    "    %R library(BayesFactor)\n",
    "    %R bf = ttestBF(df_mask$payoff.cue - df_mask$neutral.cue)\n",
    "    %R tmp = extractBF(bf)\n",
    "    %R -o tmp\n",
    "    \n",
    "    t, p = sp.stats.ttest_rel(df_mask['payoff cue'], df_mask['neutral cue'])\n",
    "    \n",
    "    results.append({'mask':mask,\n",
    "                    'BF':tmp.bf.values[0],\n",
    "                    't':t,\n",
    "                    'p':p})\n",
    "    \n",
    "np.round(pandas.DataFrame(results)[['mask', 'BF', 't', 'p']], 2).T"
   ]
  },
  {
   "cell_type": "code",
   "execution_count": 7,
   "metadata": {
    "collapsed": false
   },
   "outputs": [],
   "source": [
    "tmp = df_glm.pivot_table(index='subject_id', values='value', columns=['par', 'mask'])\n",
    "tmp = tmp['payoff cue'] - tmp['neutral cue']\n",
    "tmp = pandas.melt(tmp.reset_index(), id_vars=['subject_id'])"
   ]
  },
  {
   "cell_type": "markdown",
   "metadata": {},
   "source": [
    "# Difficulty > Easy"
   ]
  },
  {
   "cell_type": "code",
   "execution_count": 9,
   "metadata": {
    "collapsed": false
   },
   "outputs": [
    {
     "name": "stdout",
     "output_type": "stream",
     "text": [
      "***** STh_L ******\n",
      "***** STh_R ******\n"
     ]
    },
    {
     "data": {
      "text/html": [
       "<div>\n",
       "<table border=\"1\" class=\"dataframe\">\n",
       "  <thead>\n",
       "    <tr style=\"text-align: right;\">\n",
       "      <th></th>\n",
       "      <th>0</th>\n",
       "      <th>1</th>\n",
       "    </tr>\n",
       "  </thead>\n",
       "  <tbody>\n",
       "    <tr>\n",
       "      <th>mask</th>\n",
       "      <td>STh_L</td>\n",
       "      <td>STh_R</td>\n",
       "    </tr>\n",
       "    <tr>\n",
       "      <th>BF</th>\n",
       "      <td>0.25</td>\n",
       "      <td>0.42</td>\n",
       "    </tr>\n",
       "    <tr>\n",
       "      <th>p</th>\n",
       "      <td>0.74</td>\n",
       "      <td>0.26</td>\n",
       "    </tr>\n",
       "  </tbody>\n",
       "</table>\n",
       "</div>"
      ],
      "text/plain": [
       "          0      1\n",
       "mask  STh_L  STh_R\n",
       "BF     0.25   0.42\n",
       "p      0.74   0.26"
      ]
     },
     "execution_count": 9,
     "metadata": {},
     "output_type": "execute_result"
    }
   ],
   "source": [
    "masks = ['STh_L', 'STh_R']\n",
    "\n",
    "results = []\n",
    "\n",
    "for mask in masks:\n",
    "    df_mask = df_glm[df_glm['mask'] == mask].pivot_table(index='subject_id', values='value', columns='par')\n",
    "    \n",
    "    \n",
    "    print '***** %s ******' % mask\n",
    "    %R -i df_mask\n",
    "    %R library(BayesFactor)\n",
    "    %R bf = ttestBF(df_mask$easy - df_mask$hard)\n",
    "    %R tmp = extractBF(bf)\n",
    "    %R -o tmp\n",
    "    \n",
    "    t, p = sp.stats.ttest_rel(df_mask['easy'], df_mask['hard'])\n",
    "    \n",
    "    results.append({'mask':mask,\n",
    "                    'BF':tmp.bf.values[0],\n",
    "                     't':t,\n",
    "                    'p':p})\n",
    "    \n",
    "np.round(pandas.DataFrame(results)[['mask', 'BF', 'p']], 2).T"
   ]
  },
  {
   "cell_type": "markdown",
   "metadata": {},
   "source": [
    "# Model 1b"
   ]
  },
  {
   "cell_type": "code",
   "execution_count": 11,
   "metadata": {
    "collapsed": false
   },
   "outputs": [
    {
     "name": "stdout",
     "output_type": "stream",
     "text": [
      "Error: 6/STh_R/all the input arrays must have same number of dimensions\n"
     ]
    }
   ],
   "source": [
    "import itertools\n",
    "import pyfir\n",
    "from nipy.modalities.fmri import design_matrix, experimental_paradigm\n",
    "import statsmodels.api as sm\n",
    "\n",
    "level2_dict = []\n",
    "adj_r = []\n",
    "# pars = ['neutral_cue', 'left_cue', 'right_cue', 'neutral_easy_correct', 'valid_easy_correct', 'invalid_easy_correct', 'neutral_hard_correct', 'valid_hard_correct', 'invalid_hard_correct', 'easy_error', 'hard_error',]\n",
    "# pars = \n",
    "\n",
    "for subject_id in np.arange(1, 20):\n",
    "    for run in [1,2,3]:\n",
    "\n",
    "        try:\n",
    "            onsets_dict = get_onsets(subject_id, run, 'model1b', shift=-1.5)\n",
    "            pars = onsets_dict.keys()\n",
    "\n",
    "            conditions = []\n",
    "            onsets = []\n",
    "            for key in onsets_dict.keys():\n",
    "                conditions += [key] * len(onsets_dict[key])\n",
    "                onsets += onsets_dict[key]\n",
    "\n",
    "            paradigm =  experimental_paradigm.BlockParadigm(con_id=conditions, \n",
    "                                                            onset=onsets,\n",
    "                                                            duration=[[1.]] * len(conditions))\n",
    "            tr = 3.0\n",
    "            frametimes = np.linspace(0, 387 * tr, 387)\n",
    "            hrf_model = 'Canonical with Derivative'\n",
    "\n",
    "            X, names= design_matrix.dmtx_light(frametimes, paradigm, hrf_model=hrf_model, drift_model='polynomial', fir_delays=np.arange(11), drift_order=3)\n",
    "\n",
    "            X /= X.max(0)\n",
    "            X = pandas.DataFrame(X, columns=names)\n",
    "\n",
    "            for i, mask in enumerate(['STh_L', 'STh_R']):\n",
    "                signal = get_signal(subject_id,  run, mask)\n",
    "                r = sm.GLSAR(signal, X).iterative_fit()\n",
    "\n",
    "                adj_r.append({'subject_id':subject_id, 'mask':mask, 'r2_adj':r.rsquared_adj, 'r2':r.rsquared, 'run':run})\n",
    "\n",
    "                for par in pars:\n",
    "                    level2_dict.append({'value':r.params[par],\n",
    "                                        'par':par,\n",
    "                                        'subject_id':subject_id,\n",
    "                                        'mask':mask,\n",
    "                                        'run':run})\n",
    "        except Exception as e:\n",
    "            print 'Error: %s/%s/%s' %  (subject_id, mask, e)"
   ]
  },
  {
   "cell_type": "code",
   "execution_count": 12,
   "metadata": {
    "collapsed": false
   },
   "outputs": [
    {
     "data": {
      "text/plain": [
       "<seaborn.axisgrid.FacetGrid at 0xdc1e090>"
      ]
     },
     "execution_count": 12,
     "metadata": {},
     "output_type": "execute_result"
    },
    {
     "data": {
      "image/png": "[encoded data removed]",
      "text/plain": [
       "<matplotlib.figure.Figure at 0xdc26810>"
      ]
     },
     "metadata": {},
     "output_type": "display_data"
    }
   ],
   "source": [
    "df_glm = pandas.DataFrame(level2_dict)\n",
    "df_glm = df_glm.query('par != \"constant\"')\n",
    "df_glm['dummy'] = 1\n",
    "\n",
    "df_glm['% signal change'] = df_glm['value']\n",
    "sns.set_palette('Set1')\n",
    "sns.set_context('poster')\n",
    "sns.set_style('white')\n",
    "\n",
    "# sns.factorplot(x='dummy', y='value', hue='par', data=df_glm, col='mask', col_wrap=3, kind='bar', ci=95, hue_order=['payoff_cue (left)', 'payoff_cue (right)', 'neutral_cue','difficult_rdm', 'easy_rdm'])\n",
    "\n",
    "tmp = df_glm.groupby(['subject_id', 'mask', 'par', 'dummy'], as_index=False).mean()\n",
    "sns.factorplot(x='dummy', y='value', hue='par', data=tmp, col='mask', col_wrap=3, kind='bar', ci=95)"
   ]
  },
  {
   "cell_type": "code",
   "execution_count": 13,
   "metadata": {
    "collapsed": false
   },
   "outputs": [
    {
     "name": "stdout",
     "output_type": "stream",
     "text": [
      "***** STh_L ******\n",
      "***** STh_R ******\n"
     ]
    },
    {
     "data": {
      "text/html": [
       "<div>\n",
       "<table border=\"1\" class=\"dataframe\">\n",
       "  <thead>\n",
       "    <tr style=\"text-align: right;\">\n",
       "      <th></th>\n",
       "      <th>0</th>\n",
       "      <th>1</th>\n",
       "    </tr>\n",
       "  </thead>\n",
       "  <tbody>\n",
       "    <tr>\n",
       "      <th>mask</th>\n",
       "      <td>STh_L</td>\n",
       "      <td>STh_R</td>\n",
       "    </tr>\n",
       "    <tr>\n",
       "      <th>BF</th>\n",
       "      <td>0.27</td>\n",
       "      <td>0.28</td>\n",
       "    </tr>\n",
       "    <tr>\n",
       "      <th>p</th>\n",
       "      <td>0.61</td>\n",
       "      <td>0.55</td>\n",
       "    </tr>\n",
       "  </tbody>\n",
       "</table>\n",
       "</div>"
      ],
      "text/plain": [
       "          0      1\n",
       "mask  STh_L  STh_R\n",
       "BF     0.27   0.28\n",
       "p      0.61   0.55"
      ]
     },
     "execution_count": 13,
     "metadata": {},
     "output_type": "execute_result"
    }
   ],
   "source": [
    "results = []\n",
    "\n",
    "for mask in masks:\n",
    "    df_mask = df_glm[df_glm['mask'] == mask].pivot_table(index='subject_id', values='value', columns='par')\n",
    "    \n",
    "    \n",
    "    print '***** %s ******' % mask\n",
    "    %R -i df_mask\n",
    "    %R library(BayesFactor)\n",
    "    %R bf = ttestBF(df_mask$left - df_mask$right)\n",
    "    %R tmp = extractBF(bf)\n",
    "    %R -o tmp\n",
    "    \n",
    "    t, p = sp.stats.ttest_rel(df_mask['left'], df_mask['right'])\n",
    "    \n",
    "    results.append({'mask':mask,\n",
    "                    'BF':tmp.bf.values[0],\n",
    "                     't':t,\n",
    "                    'p':p})\n",
    "    \n",
    "np.round(pandas.DataFrame(results)[['mask', 'BF', 'p']], 2).T"
   ]
  },
  {
   "cell_type": "markdown",
   "metadata": {},
   "source": [
    "# Model 1c"
   ]
  },
  {
   "cell_type": "markdown",
   "metadata": {},
   "source": [
    "\n",
    "It is well-known that especially limbic structures show highly heightened activity after an error has been made {Alexander:2011js}. Therefore, “drift-rate”-related activity in limbic areas such as the Insula {Mulder:2014ho, Keuken:2014iz} might just be a result of a larger number of errors in trials with a lower drift rate. To test this hypothesis, we fitted a third variant of the GLM (GLM 1c), that deconfounded the task difficulty from error trials. It included the following regressors: (a) neutral cue, (b) payoff cue, (d) easy RDM stimulus (correct), (e) easy RDM stimulus (error), (f) hard RDM stimulus (correct), (g) hard RDM stimulus (error). The main contrast-of-interest for this GLM was ‘hard RDM stimulus (correct) > easy RDM stimulus (correct)’.\n"
   ]
  },
  {
   "cell_type": "code",
   "execution_count": 14,
   "metadata": {
    "collapsed": false
   },
   "outputs": [
    {
     "name": "stdout",
     "output_type": "stream",
     "text": [
      "Error: 6/STh_R/all the input arrays must have same number of dimensions\n"
     ]
    }
   ],
   "source": [
    "import itertools\n",
    "import pyfir\n",
    "from nipy.modalities.fmri import design_matrix, experimental_paradigm\n",
    "import statsmodels.api as sm\n",
    "\n",
    "level2_dict = []\n",
    "adj_r = []\n",
    "# pars = ['neutral_cue', 'left_cue', 'right_cue', 'neutral_easy_correct', 'valid_easy_correct', 'invalid_easy_correct', 'neutral_hard_correct', 'valid_hard_correct', 'invalid_hard_correct', 'easy_error', 'hard_error',]\n",
    "# pars = \n",
    "\n",
    "for subject_id in np.arange(1, 20):\n",
    "    for run in [1,2,3]:\n",
    "\n",
    "        try:\n",
    "            onsets_dict = get_onsets(subject_id, run, 'model1c', shift=-1.5)\n",
    "            pars = onsets_dict.keys()\n",
    "\n",
    "            conditions = []\n",
    "            onsets = []\n",
    "            for key in onsets_dict.keys():\n",
    "                conditions += [key] * len(onsets_dict[key])\n",
    "                onsets += onsets_dict[key]\n",
    "\n",
    "            paradigm =  experimental_paradigm.BlockParadigm(con_id=conditions, \n",
    "                                                            onset=onsets,\n",
    "                                                            duration=[[1.]] * len(conditions))\n",
    "            tr = 3.0\n",
    "            frametimes = np.linspace(0, 387 * tr, 387)\n",
    "            hrf_model = 'Canonical with Derivative'\n",
    "\n",
    "            X, names= design_matrix.dmtx_light(frametimes, paradigm, hrf_model=hrf_model, drift_model='polynomial', fir_delays=np.arange(11), drift_order=3)\n",
    "\n",
    "            X /= X.max(0)\n",
    "            X = pandas.DataFrame(X, columns=names)\n",
    "\n",
    "            for i, mask in enumerate(masks):\n",
    "                signal = get_signal(subject_id,  run, mask)\n",
    "                r = sm.GLSAR(signal, X).iterative_fit()\n",
    "\n",
    "                adj_r.append({'subject_id':subject_id, 'mask':mask, 'r2_adj':r.rsquared_adj, 'r2':r.rsquared, 'run':run})\n",
    "\n",
    "                for par in pars:\n",
    "                    level2_dict.append({'value':r.params[par],\n",
    "                                        'par':par,\n",
    "                                        'subject_id':subject_id,\n",
    "                                        'mask':mask,\n",
    "                                        'run':run})\n",
    "        except Exception as e:\n",
    "            print 'Error: %s/%s/%s' %  (subject_id, mask, e)"
   ]
  },
  {
   "cell_type": "code",
   "execution_count": 15,
   "metadata": {
    "collapsed": false
   },
   "outputs": [
    {
     "data": {
      "image/png": "[encoded data removed]",
      "text/plain": [
       "<matplotlib.figure.Figure at 0xe4f1710>"
      ]
     },
     "metadata": {},
     "output_type": "display_data"
    }
   ],
   "source": [
    "df_glm = pandas.DataFrame(level2_dict)\n",
    "df_glm = df_glm.query('par != \"constant\"')\n",
    "df_glm['dummy'] = 1\n",
    "\n",
    "df_glm['% signal change'] = df_glm['value']\n",
    "sns.set_palette('Set1')\n",
    "sns.set_context('poster')\n",
    "sns.set_style('white')\n",
    "\n",
    "# sns.factorplot(x='dummy', y='value', hue='par', data=df_glm, col='mask', col_wrap=3, kind='bar', ci=95, hue_order=['payoff_cue (left)', 'payoff_cue (right)', 'neutral_cue','difficult_rdm', 'easy_rdm'])\n",
    "\n",
    "tmp = df_glm.groupby(['subject_id', 'mask', 'par', 'dummy'], as_index=False).mean()\n",
    "fac = sns.factorplot(x='par', y='% signal change', data=tmp, col='mask', col_wrap=3, kind='bar', ci=67, x_order=['easy (correct)', 'hard (correct)', '', 'easy (error)', 'hard (error)'], palette=['lightgreen', 'darkgreen', 'red', 'red', 'darkred'])\n",
    "\n",
    "fac.set_xticklabels(rotation=45)\n",
    "fac.set_xlabels('')\n",
    "\n",
    "plt.tight_layout()"
   ]
  },
  {
   "cell_type": "code",
   "execution_count": 16,
   "metadata": {
    "collapsed": true
   },
   "outputs": [],
   "source": [
    "import re"
   ]
  },
  {
   "cell_type": "code",
   "execution_count": 17,
   "metadata": {
    "collapsed": false,
    "scrolled": false
   },
   "outputs": [
    {
     "name": "stdout",
     "output_type": "stream",
     "text": [
      " ****** STh_L *******\n"
     ]
    },
    {
     "name": "stderr",
     "output_type": "stream",
     "text": [
      "/usr/local/lib/python2.7/dist-packages/rpy2/robjects/pandas2ri.py:57: UserWarning: Error while trying to convert the column \"subject_id\". Fall back to string conversion. The error is: Converting pandas \"Category\" series to R factor is only possible when categories are strings.\n",
      "  (name, str(e)))\n"
     ]
    },
    {
     "data": {
      "text/plain": [
       "\r",
       "  |                                                                            \r",
       "  |                                                                      |   0%\r",
       "  |                                                                            \r",
       "  |==============                                                        |  20%\r",
       "  |                                                                            \r",
       "  |============================                                          |  40%\r",
       "  |                                                                            \r",
       "  |==========================================                            |  60%\r",
       "  |                                                                            \r",
       "  |========================================================              |  80%\r",
       "  |                                                                            \r",
       "  |======================================================================| 100%\n"
      ]
     },
     "metadata": {},
     "output_type": "display_data"
    },
    {
     "data": {
      "text/plain": [
       "Bayes factor top-down analysis\n",
       "--------------\n",
       "When effect is omitted from difficulty + correct + difficulty:correct + subject_id , BF is...\n",
       "[1] Omit correct:difficulty : 2.290569 ±2.32%\n",
       "[2] Omit correct            : 1.559496 ±3.33%\n",
       "[3] Omit difficulty         : 4.049439 ±2.84%\n",
       "\n",
       "Against denominator:\n",
       "  value ~ difficulty + correct + difficulty:correct + subject_id \n",
       "---\n",
       "Bayes factor type: BFlinearModel, JZS\n",
       "\n"
      ]
     },
     "metadata": {},
     "output_type": "display_data"
    },
    {
     "data": {
      "text/plain": [
       "                                                        denominator\n",
       "numerator                                                difficulty + correct + subject_id\n",
       "  difficulty + correct + difficulty:correct + subject_id                         0.4365728\n",
       "                                                        denominator\n",
       "numerator                                                difficulty + difficulty:correct + subject_id\n",
       "  difficulty + correct + difficulty:correct + subject_id                                    0.6412327\n",
       "                                                        denominator\n",
       "numerator                                                correct + difficulty:correct + subject_id\n",
       "  difficulty + correct + difficulty:correct + subject_id                                 0.2469478\n"
      ]
     },
     "metadata": {},
     "output_type": "display_data"
    },
    {
     "data": {
      "text/plain": [
       "\n",
       "Error: subject_id\n",
       "          Df Sum Sq Mean Sq F value Pr(>F)\n",
       "Residuals 18   3.24    0.18               \n",
       "\n",
       "Error: subject_id:difficulty\n",
       "           Df  Sum Sq  Mean Sq F value Pr(>F)\n",
       "difficulty  1 0.00311 0.003108   0.183  0.674\n",
       "Residuals  18 0.30585 0.016992               \n",
       "\n",
       "Error: subject_id:correct\n",
       "          Df Sum Sq Mean Sq F value Pr(>F)\n",
       "correct    1  0.081 0.08105   1.078  0.313\n",
       "Residuals 18  1.354 0.07521               \n",
       "\n",
       "Error: subject_id:difficulty:correct\n",
       "                   Df Sum Sq Mean Sq F value Pr(>F)\n",
       "difficulty:correct  1 0.0299 0.02990   1.936  0.181\n",
       "Residuals          18 0.2781 0.01545               \n"
      ]
     },
     "metadata": {},
     "output_type": "display_data"
    },
    {
     "name": "stdout",
     "output_type": "stream",
     "text": [
      " ****** STh_R *******\n"
     ]
    },
    {
     "data": {
      "text/plain": [
       "\r",
       "  |                                                                            \r",
       "  |                                                                      |   0%\r",
       "  |                                                                            \r",
       "  |==============                                                        |  20%\r",
       "  |                                                                            \r",
       "  |============================                                          |  40%\r",
       "  |                                                                            \r",
       "  |==========================================                            |  60%\r",
       "  |                                                                            \r",
       "  |========================================================              |  80%\r",
       "  |                                                                            \r",
       "  |======================================================================| 100%\n"
      ]
     },
     "metadata": {},
     "output_type": "display_data"
    },
    {
     "data": {
      "text/plain": [
       "Bayes factor top-down analysis\n",
       "--------------\n",
       "When effect is omitted from difficulty + correct + difficulty:correct + subject_id , BF is...\n",
       "[1] Omit correct:difficulty : 0.6272753 ±1.69%\n",
       "[2] Omit correct            : 1.008385  ±1.14%\n",
       "[3] Omit difficulty         : 1.893889  ±1.53%\n",
       "\n",
       "Against denominator:\n",
       "  value ~ difficulty + correct + difficulty:correct + subject_id \n",
       "---\n",
       "Bayes factor type: BFlinearModel, JZS\n",
       "\n"
      ]
     },
     "metadata": {},
     "output_type": "display_data"
    },
    {
     "data": {
      "text/plain": [
       "                                                        denominator\n",
       "numerator                                                difficulty + correct + subject_id\n",
       "  difficulty + correct + difficulty:correct + subject_id                          1.594196\n",
       "                                                        denominator\n",
       "numerator                                                difficulty + difficulty:correct + subject_id\n",
       "  difficulty + correct + difficulty:correct + subject_id                                    0.9916844\n",
       "                                                        denominator\n",
       "numerator                                                correct + difficulty:correct + subject_id\n",
       "  difficulty + correct + difficulty:correct + subject_id                                 0.5280141\n"
      ]
     },
     "metadata": {},
     "output_type": "display_data"
    },
    {
     "data": {
      "text/plain": [
       "\n",
       "Error: subject_id\n",
       "          Df Sum Sq Mean Sq F value Pr(>F)\n",
       "Residuals 18  2.433  0.1351               \n",
       "\n",
       "Error: subject_id:difficulty\n",
       "           Df Sum Sq Mean Sq F value Pr(>F)  \n",
       "difficulty  1 0.0669 0.06688   3.197 0.0906 .\n",
       "Residuals  18 0.3765 0.02092                 \n",
       "---\n",
       "Signif. codes:  0 ‘***’ 0.001 ‘**’ 0.01 ‘*’ 0.05 ‘.’ 0.1 ‘ ’ 1\n",
       "\n",
       "Error: subject_id:correct\n",
       "          Df Sum Sq Mean Sq F value Pr(>F)\n",
       "correct    1 0.1203 0.12029   1.874  0.188\n",
       "Residuals 18 1.1552 0.06418               \n",
       "\n",
       "Error: subject_id:difficulty:correct\n",
       "                   Df Sum Sq Mean Sq F value Pr(>F)  \n",
       "difficulty:correct  1  0.147 0.14702   6.751 0.0182 *\n",
       "Residuals          18  0.392 0.02178                 \n",
       "---\n",
       "Signif. codes:  0 ‘***’ 0.001 ‘**’ 0.01 ‘*’ 0.05 ‘.’ 0.1 ‘ ’ 1\n"
      ]
     },
     "metadata": {},
     "output_type": "display_data"
    }
   ],
   "source": [
    "results = []\n",
    "\n",
    "for mask in masks:\n",
    "    df = df_glm[df_glm['mask'] == mask].pivot_table(index='subject_id', values='value', columns='par')\n",
    "    \n",
    "    df = pandas.melt(df.reset_index(), id_vars='subject_id')\n",
    "    reg = re.compile('([a-z]+) \\(([a-z]+)\\)')\n",
    "\n",
    "    df = df[df.par.apply(lambda x: reg.match(x) is not None)]\n",
    "    df['difficulty'] = df.par.apply(lambda x: reg.match(x).group(1))\n",
    "    df['correct'] = df.par.apply(lambda x: reg.match(x).group(2))\n",
    "    df['subject_id'] = df['subject_id'].astype('category')\n",
    "    \n",
    "    \n",
    "    print ' ****** %s *******' % mask\n",
    "    %R -i df\n",
    "\n",
    "    %R library(BayesFactor)\n",
    "    %R bf = anovaBF(value ~ difficulty*correct + subject_id, data = df,  whichRandom=\"subject_id\", whichModels='top', iterations=100000)\n",
    "    %R print(bf)\n",
    "    %R print(1/bf)\n",
    "    %R print(summary(aov(value ~ difficulty*correct + Error(subject_id/(difficulty*correct)), df)))\n",
    "    \n",
    "#     %R tmp = extractBF(bf)\n",
    "#     %R -o tmp\n",
    "    \n",
    "#     results.append({'mask':mask,\n",
    "#                     'BF':tmp.bf.values[0]})\n",
    "    \n",
    "# pandas.DataFrame(results)[['mask', 'BF']]"
   ]
  },
  {
   "cell_type": "markdown",
   "metadata": {
    "collapsed": true
   },
   "source": [
    "## Model 2"
   ]
  },
  {
   "cell_type": "code",
   "execution_count": 18,
   "metadata": {
    "collapsed": false
   },
   "outputs": [
    {
     "name": "stdout",
     "output_type": "stream",
     "text": [
      "Error: 6/STh_R/all the input arrays must have same number of dimensions\n",
      "Error: 15/STh_L/'error (incongruent)'\n"
     ]
    }
   ],
   "source": [
    "\n",
    "\n",
    "import itertools\n",
    "import pyfir\n",
    "from nipy.modalities.fmri import design_matrix, experimental_paradigm\n",
    "import statsmodels.api as sm\n",
    "\n",
    "level2_dict = []\n",
    "adj_r = []\n",
    "# pars = ['neutral_cue', 'left_cue', 'right_cue', 'neutral_easy_correct', 'valid_easy_correct', 'invalid_easy_correct', 'neutral_hard_correct', 'valid_hard_correct', 'invalid_hard_correct', 'easy_error', 'hard_error',]\n",
    "# pars = \n",
    "\n",
    "for subject_id in np.arange(1, 20):\n",
    "    for run in [1,2,3]:\n",
    "\n",
    "        try:\n",
    "            onsets_dict = get_onsets(subject_id, run, 'model2', shift=-1.5)\n",
    "            pars = onsets_dict.keys()\n",
    "\n",
    "            conditions = []\n",
    "            onsets = []\n",
    "            for key in onsets_dict.keys():\n",
    "                conditions += [key] * len(onsets_dict[key])\n",
    "                onsets += onsets_dict[key]\n",
    "\n",
    "            paradigm =  experimental_paradigm.BlockParadigm(con_id=conditions, \n",
    "                                                            onset=onsets,\n",
    "                                                            duration=[[1.]] * len(conditions))\n",
    "            tr = 3.0\n",
    "            frametimes = np.linspace(0, 387 * tr, 387)\n",
    "            hrf_model = 'Canonical with Derivative'\n",
    "\n",
    "            X, names= design_matrix.dmtx_light(frametimes, paradigm, hrf_model=hrf_model, drift_model='polynomial', fir_delays=np.arange(11), drift_order=3)\n",
    "\n",
    "            X /= X.max(0)\n",
    "            X = pandas.DataFrame(X, columns=names)\n",
    "\n",
    "            for i, mask in enumerate(masks):\n",
    "                signal = get_signal(subject_id,  run, mask)\n",
    "                r = sm.GLSAR(signal, X).iterative_fit()\n",
    "\n",
    "                adj_r.append({'subject_id':subject_id, 'mask':mask, 'r2_adj':r.rsquared_adj, 'r2':r.rsquared, 'run':run})\n",
    "\n",
    "                for par in pars:\n",
    "                    level2_dict.append({'value':r.params[par],\n",
    "                                        'par':par,\n",
    "                                        'subject_id':subject_id,\n",
    "                                        'mask':mask,\n",
    "                                        'run':run})\n",
    "        except Exception as e:\n",
    "            print 'Error: %s/%s/%s' %  (subject_id, mask, e)"
   ]
  },
  {
   "cell_type": "code",
   "execution_count": 19,
   "metadata": {
    "collapsed": false
   },
   "outputs": [
    {
     "data": {
      "text/plain": [
       "<seaborn.axisgrid.FacetGrid at 0xeff8510>"
      ]
     },
     "execution_count": 19,
     "metadata": {},
     "output_type": "execute_result"
    },
    {
     "data": {
      "image/png": "[encoded data removed]",
      "text/plain": [
       "<matplotlib.figure.Figure at 0xefd9f90>"
      ]
     },
     "metadata": {},
     "output_type": "display_data"
    }
   ],
   "source": [
    "df_glm = pandas.DataFrame(level2_dict)\n",
    "df_glm = df_glm.query('par != \"constant\"')\n",
    "df_glm['dummy'] = 1\n",
    "\n",
    "df_glm['% signal change'] = df_glm['value']\n",
    "sns.set_palette('Set1')\n",
    "sns.set_context('poster')\n",
    "sns.set_style('white')\n",
    "\n",
    "# sns.factorplot(x='dummy', y='value', hue='par', data=df_glm, col='mask', col_wrap=3, kind='bar', ci=95, hue_order=['payoff_cue (left)', 'payoff_cue (right)', 'neutral_cue','difficult_rdm', 'easy_rdm'])\n",
    "\n",
    "tmp = df_glm.groupby(['subject_id', 'mask', 'par', 'dummy'], as_index=False).mean()\n",
    "# sns.factorplot(x='dummy', y='value', hue='par', data=tmp, col='mask', col_wrap=3, kind='bar', ci=95, hue_order=['correct (congruent)', 'correct (neutral)', 'correct (incongruent)', '', 'error (congruent)', 'error (neutral)', 'error (incongruent)', ''])\n",
    "fac = sns.factorplot(x='par', y='value', data=tmp, col='mask', col_wrap=3, kind='bar', ci=95, x_order=['correct (congruent)', 'correct (neutral)', 'correct (incongruent)', '', 'error (congruent)', 'error (neutral)', 'error (incongruent)', ''], palette=['gray'])\n",
    "fac.set_xticklabels(rotation=90)\n",
    "\n"
   ]
  },
  {
   "cell_type": "code",
   "execution_count": 20,
   "metadata": {
    "collapsed": false,
    "scrolled": false
   },
   "outputs": [
    {
     "data": {
      "text/plain": [
       "\r",
       "  |                                                                            \r",
       "  |                                                                      |   0%\r",
       "  |                                                                            \r",
       "  |==============                                                        |  20%\r",
       "  |                                                                            \r",
       "  |============================                                          |  40%\r",
       "  |                                                                            \r",
       "  |==========================================                            |  60%\r",
       "  |                                                                            \r",
       "  |========================================================              |  80%\r",
       "  |                                                                            \r",
       "  |======================================================================| 100%\n"
      ]
     },
     "metadata": {},
     "output_type": "display_data"
    },
    {
     "data": {
      "text/plain": [
       "Bayes factor top-down analysis\n",
       "--------------\n",
       "When effect is omitted from correct + congruency + correct:congruency + subject_id , BF is...\n",
       "[1] Omit congruency:correct : 6.17409  ±2.33%\n",
       "[2] Omit congruency         : 8.697574 ±2.21%\n",
       "[3] Omit correct            : 1.901809 ±2.47%\n",
       "\n",
       "Against denominator:\n",
       "  value ~ correct + congruency + correct:congruency + subject_id \n",
       "---\n",
       "Bayes factor type: BFlinearModel, JZS\n",
       "\n"
      ]
     },
     "metadata": {},
     "output_type": "display_data"
    },
    {
     "data": {
      "text/plain": [
       "                                                        denominator\n",
       "numerator                                                correct + congruency + subject_id\n",
       "  correct + congruency + correct:congruency + subject_id                         0.1619672\n",
       "                                                        denominator\n",
       "numerator                                                correct + correct:congruency + subject_id\n",
       "  correct + congruency + correct:congruency + subject_id                                 0.1149746\n",
       "                                                        denominator\n",
       "numerator                                                congruency + correct:congruency + subject_id\n",
       "  correct + congruency + correct:congruency + subject_id                                    0.5258151\n"
      ]
     },
     "metadata": {},
     "output_type": "display_data"
    },
    {
     "data": {
      "text/plain": [
       "\n",
       "Error: subject_id\n",
       "          Df Sum Sq Mean Sq F value Pr(>F)\n",
       "Residuals 18  5.075  0.2819               \n",
       "\n",
       "Error: subject_id:congruency\n",
       "           Df Sum Sq Mean Sq F value Pr(>F)\n",
       "congruency  2 0.0488 0.02438   0.328  0.722\n",
       "Residuals  36 2.6736 0.07427               \n",
       "\n",
       "Error: subject_id:correct\n",
       "          Df Sum Sq Mean Sq F value Pr(>F)\n",
       "correct    1 0.1356  0.1356   1.346  0.261\n",
       "Residuals 18 1.8132  0.1007               \n",
       "\n",
       "Error: subject_id:congruency:correct\n",
       "                   Df Sum Sq Mean Sq F value Pr(>F)\n",
       "congruency:correct  2 0.0244 0.01220   0.341  0.713\n",
       "Residuals          36 1.2866 0.03574               \n"
      ]
     },
     "metadata": {},
     "output_type": "display_data"
    },
    {
     "data": {
      "text/plain": [
       "\r",
       "  |                                                                            \r",
       "  |                                                                      |   0%\r",
       "  |                                                                            \r",
       "  |==============                                                        |  20%\r",
       "  |                                                                            \r",
       "  |============================                                          |  40%\r",
       "  |                                                                            \r",
       "  |==========================================                            |  60%\r",
       "  |                                                                            \r",
       "  |========================================================              |  80%\r",
       "  |                                                                            \r",
       "  |======================================================================| 100%\n"
      ]
     },
     "metadata": {},
     "output_type": "display_data"
    },
    {
     "data": {
      "text/plain": [
       "Bayes factor top-down analysis\n",
       "--------------\n",
       "When effect is omitted from correct + congruency + correct:congruency + subject_id , BF is...\n",
       "[1] Omit congruency:correct : 3.008755  ±2.8%\n",
       "[2] Omit congruency         : 11.53935  ±3.28%\n",
       "[3] Omit correct            : 0.2036176 ±3.87%\n",
       "\n",
       "Against denominator:\n",
       "  value ~ correct + congruency + correct:congruency + subject_id \n",
       "---\n",
       "Bayes factor type: BFlinearModel, JZS\n",
       "\n"
      ]
     },
     "metadata": {},
     "output_type": "display_data"
    },
    {
     "data": {
      "text/plain": [
       "                                                        denominator\n",
       "numerator                                                correct + congruency + subject_id\n",
       "  correct + congruency + correct:congruency + subject_id                         0.3323634\n",
       "                                                        denominator\n",
       "numerator                                                correct + correct:congruency + subject_id\n",
       "  correct + congruency + correct:congruency + subject_id                                0.08665998\n",
       "                                                        denominator\n",
       "numerator                                                congruency + correct:congruency + subject_id\n",
       "  correct + congruency + correct:congruency + subject_id                                     4.911167\n"
      ]
     },
     "metadata": {},
     "output_type": "display_data"
    },
    {
     "data": {
      "text/plain": [
       "\n",
       "Error: subject_id\n",
       "          Df Sum Sq Mean Sq F value Pr(>F)\n",
       "Residuals 18  6.387  0.3548               \n",
       "\n",
       "Error: subject_id:congruency\n",
       "           Df Sum Sq Mean Sq F value Pr(>F)\n",
       "congruency  2 0.0028 0.00141   0.024  0.976\n",
       "Residuals  36 2.0965 0.05824               \n",
       "\n",
       "Error: subject_id:correct\n",
       "          Df Sum Sq Mean Sq F value Pr(>F)  \n",
       "correct    1 0.3049 0.30489   5.353 0.0327 *\n",
       "Residuals 18 1.0252 0.05696                 \n",
       "---\n",
       "Signif. codes:  0 ‘***’ 0.001 ‘**’ 0.01 ‘*’ 0.05 ‘.’ 0.1 ‘ ’ 1\n",
       "\n",
       "Error: subject_id:congruency:correct\n",
       "                   Df Sum Sq Mean Sq F value Pr(>F)\n",
       "congruency:correct  2 0.0949 0.04743   2.244  0.121\n",
       "Residuals          36 0.7608 0.02113               \n"
      ]
     },
     "metadata": {},
     "output_type": "display_data"
    }
   ],
   "source": [
    "results = []\n",
    "\n",
    "for mask in masks:\n",
    "    df = df_glm[df_glm['mask'] == mask].pivot_table(index='subject_id', values='value', columns='par')\n",
    "    \n",
    "    df = pandas.melt(df.reset_index(), id_vars='subject_id')\n",
    "    reg = re.compile('([a-z]+) \\(([a-z]+)\\)')\n",
    "\n",
    "    df = df[df.par.apply(lambda x: reg.match(x) is not None)]\n",
    "    df['correct'] = df.par.apply(lambda x: reg.match(x).group(1))\n",
    "    df['congruency'] = df.par.apply(lambda x: reg.match(x).group(2))\n",
    "    df['subject_id'] = df['subject_id'].astype('category')\n",
    "\n",
    "    %R -i df\n",
    "\n",
    "    %R library(BayesFactor)\n",
    "    %R bf = anovaBF(value ~ congruency*correct + subject_id, data = df,  whichRandom=\"subject_id\", whichModels='top')\n",
    "    %R print(bf)\n",
    "    %R print(1/bf)\n",
    "    %R print(summary(aov(value ~ congruency * correct + Error(subject_id/(congruency * correct)), df)))\n",
    "    %R tmp = extractBF(bf)\n",
    "    %R -o tmp\n",
    "    \n",
    "#     results.append({'mask':mask,\n",
    "#                     'BF':tmp.bf.values[0]})\n",
    "    \n",
    "# pandas.DataFrame(results)[['mask', 'BF']]"
   ]
  },
  {
   "cell_type": "markdown",
   "metadata": {},
   "source": [
    "# Model 3"
   ]
  },
  {
   "cell_type": "code",
   "execution_count": 21,
   "metadata": {
    "collapsed": false
   },
   "outputs": [
    {
     "name": "stdout",
     "output_type": "stream",
     "text": [
      "Error: 6/STh_R/all the input arrays must have same number of dimensions\n"
     ]
    }
   ],
   "source": [
    "import itertools\n",
    "import pyfir\n",
    "from nipy.modalities.fmri import design_matrix, experimental_paradigm\n",
    "import statsmodels.api as sm\n",
    "\n",
    "level2_dict = []\n",
    "adj_r = []\n",
    "# pars = ['neutral_cue', 'left_cue', 'right_cue', 'neutral_easy_correct', 'valid_easy_correct', 'invalid_easy_correct', 'neutral_hard_correct', 'valid_hard_correct', 'invalid_hard_correct', 'easy_error', 'hard_error',]\n",
    "# pars = \n",
    "\n",
    "for subject_id in np.arange(1, 20):\n",
    "    for run in [1,2,3]:\n",
    "\n",
    "        try:\n",
    "            onsets_dict = get_onsets(subject_id, run, 'model3', shift=-1.5)\n",
    "            pars = onsets_dict.keys()\n",
    "\n",
    "            conditions = []\n",
    "            onsets = []\n",
    "            for key in onsets_dict.keys():\n",
    "                conditions += [key] * len(onsets_dict[key])\n",
    "                onsets += onsets_dict[key]\n",
    "\n",
    "            paradigm =  experimental_paradigm.BlockParadigm(con_id=conditions, \n",
    "                                                            onset=onsets,\n",
    "                                                            duration=[[1.]] * len(conditions))\n",
    "            tr = 3.0\n",
    "            frametimes = np.linspace(0, 387 * tr, 387)\n",
    "            hrf_model = 'Canonical with Derivative'\n",
    "\n",
    "            X, names= design_matrix.dmtx_light(frametimes, paradigm, hrf_model=hrf_model, drift_model='polynomial', fir_delays=np.arange(11), drift_order=3)\n",
    "\n",
    "            X /= X.max(0)\n",
    "            X = pandas.DataFrame(X, columns=names)\n",
    "\n",
    "            for i, mask in enumerate(masks):\n",
    "                signal = get_signal(subject_id,  run, mask)\n",
    "                r = sm.GLSAR(signal, X).iterative_fit()\n",
    "\n",
    "                adj_r.append({'subject_id':subject_id, 'mask':mask, 'r2_adj':r.rsquared_adj, 'r2':r.rsquared, 'run':run})\n",
    "\n",
    "                for par in pars:\n",
    "                    level2_dict.append({'value':r.params[par],\n",
    "                                        'par':par,\n",
    "                                        'subject_id':subject_id,\n",
    "                                        'mask':mask,\n",
    "                                        'run':run})\n",
    "        except Exception as e:\n",
    "            print 'Error: %s/%s/%s' %  (subject_id, mask, e)"
   ]
  },
  {
   "cell_type": "code",
   "execution_count": 22,
   "metadata": {
    "collapsed": false
   },
   "outputs": [
    {
     "data": {
      "text/plain": [
       "<seaborn.axisgrid.FacetGrid at 0x13637610>"
      ]
     },
     "execution_count": 22,
     "metadata": {},
     "output_type": "execute_result"
    },
    {
     "data": {
      "image/png": "[encoded data removed]",
      "text/plain": [
       "<matplotlib.figure.Figure at 0xf554150>"
      ]
     },
     "metadata": {},
     "output_type": "display_data"
    }
   ],
   "source": [
    "df_glm = pandas.DataFrame(level2_dict)\n",
    "df_glm = df_glm.query('par != \"constant\"')\n",
    "df_glm['dummy'] = 1\n",
    "\n",
    "df_glm['% signal change'] = df_glm['value']\n",
    "sns.set_palette('Set1')\n",
    "sns.set_context('poster')\n",
    "sns.set_style('white')\n",
    "\n",
    "# sns.factorplot(x='dummy', y='value', hue='par', data=df_glm, col='mask', col_wrap=3, kind='bar', ci=95, hue_order=['payoff_cue (left)', 'payoff_cue (right)', 'neutral_cue','difficult_rdm', 'easy_rdm'])\n",
    "\n",
    "tmp = df_glm.groupby(['subject_id', 'mask', 'par', 'dummy'], as_index=False).mean()\n",
    "# sns.factorplot(x='dummy', y='value', hue='par', data=tmp, col='mask', col_wrap=3, kind='bar', ci=95, hue_order=['correct (congruent)', 'correct (neutral)', 'correct (incongruent)', '', 'error (congruent)', 'error (neutral)', 'error (incongruent)', ''])\n",
    "fac = sns.factorplot(x='par', y='value', data=tmp, col='mask', col_wrap=3, kind='bar', ci=95, x_order=['left response', 'right response'], palette=['gray'])\n",
    "fac.set_xticklabels(rotation=45)\n",
    "\n"
   ]
  },
  {
   "cell_type": "code",
   "execution_count": 23,
   "metadata": {
    "collapsed": false
   },
   "outputs": [
    {
     "data": {
      "text/html": [
       "<div>\n",
       "<table border=\"1\" class=\"dataframe\">\n",
       "  <thead>\n",
       "    <tr style=\"text-align: right;\">\n",
       "      <th></th>\n",
       "      <th>0</th>\n",
       "      <th>1</th>\n",
       "    </tr>\n",
       "  </thead>\n",
       "  <tbody>\n",
       "    <tr>\n",
       "      <th>mask</th>\n",
       "      <td>STh_L</td>\n",
       "      <td>STh_R</td>\n",
       "    </tr>\n",
       "    <tr>\n",
       "      <th>BF</th>\n",
       "      <td>0.5</td>\n",
       "      <td>0.63</td>\n",
       "    </tr>\n",
       "    <tr>\n",
       "      <th>t</th>\n",
       "      <td>1.32</td>\n",
       "      <td>1.52</td>\n",
       "    </tr>\n",
       "    <tr>\n",
       "      <th>p</th>\n",
       "      <td>0.2</td>\n",
       "      <td>0.15</td>\n",
       "    </tr>\n",
       "  </tbody>\n",
       "</table>\n",
       "</div>"
      ],
      "text/plain": [
       "          0      1\n",
       "mask  STh_L  STh_R\n",
       "BF      0.5   0.63\n",
       "t      1.32   1.52\n",
       "p       0.2   0.15"
      ]
     },
     "execution_count": 23,
     "metadata": {},
     "output_type": "execute_result"
    }
   ],
   "source": [
    "results = []\n",
    "\n",
    "for mask in masks:\n",
    "    df = df_glm[df_glm['mask'] == mask].pivot_table(index='subject_id', values='value', columns='par')\n",
    "    \n",
    "    df = pandas.melt(df.reset_index(), id_vars='subject_id')\n",
    "\n",
    "    df = df[df.par.apply(lambda x: x.split(' ')[-1] == 'response')]\n",
    "    \n",
    "    df_mask = df.pivot_table(index='subject_id', columns='par', values='value')\n",
    "\n",
    "    %R -i df_mask\n",
    "    %R library(BayesFactor)\n",
    "    %R bf = ttestBF(df_mask$left.response - df_mask$right.response)\n",
    "    %R tmp = extractBF(bf)\n",
    "    %R -o tmp\n",
    "    \n",
    "    t, p = sp.stats.ttest_rel(df_mask['left response'], df_mask['right response'])\n",
    "    \n",
    "    results.append({'mask':mask,\n",
    "                    'BF':tmp.bf.values[0],\n",
    "                    't':t,\n",
    "                    'p':p})\n",
    "    \n",
    "np.round(pandas.DataFrame(results)[['mask', 'BF', 't', 'p']], 2).T    \n",
    "    "
   ]
  },
  {
   "cell_type": "markdown",
   "metadata": {},
   "source": [
    "# Model 0"
   ]
  },
  {
   "cell_type": "code",
   "execution_count": 10,
   "metadata": {
    "collapsed": false
   },
   "outputs": [
    {
     "name": "stdout",
     "output_type": "stream",
     "text": [
      "1\n",
      "2\n",
      "3\n",
      "4\n",
      "5\n",
      "6\n",
      "Error: 6/STh_R_C/all the input arrays must have same number of dimensions\n",
      "7\n",
      "8\n",
      "9\n",
      "10\n",
      "11\n",
      "12\n",
      "13\n",
      "14\n",
      "15\n",
      "16\n",
      "17\n",
      "18\n",
      "19\n"
     ]
    }
   ],
   "source": [
    "import itertools\n",
    "import pyfir\n",
    "from nipy.modalities.fmri import design_matrix, experimental_paradigm\n",
    "import statsmodels.api as sm\n",
    "\n",
    "level2_dict = []\n",
    "adj_r = []\n",
    "# pars = ['neutral_cue', 'left_cue', 'right_cue', 'neutral_easy_correct', 'valid_easy_correct', 'invalid_easy_correct', 'neutral_hard_correct', 'valid_hard_correct', 'invalid_hard_correct', 'easy_error', 'hard_error',]\n",
    "# pars = \n",
    "\n",
    "for subject_id in np.arange(1, 20):\n",
    "    print subject_id\n",
    "    for run in [1,2,3]:\n",
    "#         for shift in [-3.0, -1.5, 0.0, 1.5, 3.0]:\n",
    "\n",
    "        try:\n",
    "            onsets_dict = get_onsets(subject_id, run, 'model0', shift=-1.5)\n",
    "            pars = onsets_dict.keys()\n",
    "\n",
    "            conditions = []\n",
    "            onsets = []\n",
    "            for key in onsets_dict.keys():\n",
    "                conditions += [key] * len(onsets_dict[key])\n",
    "                onsets += onsets_dict[key]\n",
    "\n",
    "            paradigm =  experimental_paradigm.BlockParadigm(con_id=conditions, \n",
    "                                                            onset=onsets,\n",
    "                                                            duration=[[1.]] * len(conditions))\n",
    "            tr = 3.0\n",
    "            frametimes = np.linspace(0, 387 * tr, 387)\n",
    "#                 hrf_model = 'Canonical with Derivative'\n",
    "\n",
    "            X, names= design_matrix.dmtx_light(frametimes, paradigm, hrf_model=hrf_model, drift_model='polynomial', fir_delays=np.arange(11), drift_order=3)\n",
    "\n",
    "            X /= X.max(0)\n",
    "            X = pandas.DataFrame(X, columns=names)\n",
    "\n",
    "            for i, mask in enumerate(['STh_L_A', 'STh_L_B', 'STh_L_C', 'STh_R_A', 'STh_R_B', 'STh_R_C']):\n",
    "                signal = get_signal(subject_id,  run, mask)\n",
    "                r = sm.GLSAR(signal, X).iterative_fit()\n",
    "\n",
    "                adj_r.append({'subject_id':subject_id, 'mask':mask, 'r2_adj':r.rsquared_adj, 'r2':r.rsquared, 'run':run})\n",
    "\n",
    "                for par in pars:\n",
    "                    level2_dict.append({'value':r.params[par],\n",
    "                                        'par':par,\n",
    "                                        'p':r.pvalues[par],\n",
    "                                        'subject_id':subject_id,\n",
    "                                        'mask':mask,\n",
    "                                        'run':run,})\n",
    "        except Exception as e:\n",
    "            print 'Error: %s/%s/%s' %  (subject_id, mask, e)"
   ]
  },
  {
   "cell_type": "code",
   "execution_count": 16,
   "metadata": {
    "collapsed": false
   },
   "outputs": [
    {
     "data": {
      "image/png": "[encoded data removed]",
      "text/plain": [
       "<matplotlib.figure.Figure at 0x11c4fed0>"
      ]
     },
     "metadata": {},
     "output_type": "display_data"
    }
   ],
   "source": [
    "df_glm = pandas.DataFrame(level2_dict)\n",
    "df_glm = df_glm.query('par != \"constant\"')\n",
    "df_glm['dummy'] = 1\n",
    "\n",
    "df_glm['% signal change'] = df_glm['value']\n",
    "sns.set_palette('Set1')\n",
    "sns.set_context('poster')\n",
    "sns.set_style('white')\n",
    "\n",
    "# sns.factorplot(x='dummy', y='value', hue='par', data=df_glm, col='mask', col_wrap=3, kind='bar', ci=95, hue_order=['payoff_cue (left)', 'payoff_cue (right)', 'neutral_cue','difficult_rdm', 'easy_rdm'])\n",
    "\n",
    "tmp = df_glm.groupby(['subject_id', 'mask', 'par', 'dummy'], as_index=False).mean()\n",
    "fac = sns.factorplot(x='par', y='% signal change', data=tmp, col='mask', col_wrap=3, kind='bar', ci=95)\n",
    "\n",
    "fac.set_xticklabels(rotation=45)\n",
    "\n",
    "plt.tight_layout()\n",
    "\n",
    "fac.set_xlabels('')\n",
    "\n",
    "plt.savefig('/home/gdholla1/projects/bias/reports/figures/glm_model0.pdf')"
   ]
  },
  {
   "cell_type": "markdown",
   "metadata": {},
   "source": [
    "## Stimulus"
   ]
  },
  {
   "cell_type": "code",
   "execution_count": 17,
   "metadata": {
    "collapsed": false
   },
   "outputs": [
    {
     "data": {
      "text/html": [
       "<div>\n",
       "<table border=\"1\" class=\"dataframe\">\n",
       "  <thead>\n",
       "    <tr style=\"text-align: right;\">\n",
       "      <th></th>\n",
       "      <th>0</th>\n",
       "      <th>1</th>\n",
       "      <th>2</th>\n",
       "      <th>3</th>\n",
       "      <th>4</th>\n",
       "      <th>5</th>\n",
       "    </tr>\n",
       "  </thead>\n",
       "  <tbody>\n",
       "    <tr>\n",
       "      <th>mask</th>\n",
       "      <td>STh_L_A</td>\n",
       "      <td>STh_L_B</td>\n",
       "      <td>STh_L_C</td>\n",
       "      <td>STh_R_A</td>\n",
       "      <td>STh_R_B</td>\n",
       "      <td>STh_R_C</td>\n",
       "    </tr>\n",
       "    <tr>\n",
       "      <th>BF</th>\n",
       "      <td>6.23</td>\n",
       "      <td>3.45</td>\n",
       "      <td>1.53</td>\n",
       "      <td>6.25</td>\n",
       "      <td>0.99</td>\n",
       "      <td>0.48</td>\n",
       "    </tr>\n",
       "    <tr>\n",
       "      <th>t</th>\n",
       "      <td>2.98</td>\n",
       "      <td>2.65</td>\n",
       "      <td>2.15</td>\n",
       "      <td>2.98</td>\n",
       "      <td>1.86</td>\n",
       "      <td>1.28</td>\n",
       "    </tr>\n",
       "    <tr>\n",
       "      <th>p</th>\n",
       "      <td>0.01</td>\n",
       "      <td>0.02</td>\n",
       "      <td>0.05</td>\n",
       "      <td>0.01</td>\n",
       "      <td>0.08</td>\n",
       "      <td>0.22</td>\n",
       "    </tr>\n",
       "  </tbody>\n",
       "</table>\n",
       "</div>"
      ],
      "text/plain": [
       "            0        1        2        3        4        5\n",
       "mask  STh_L_A  STh_L_B  STh_L_C  STh_R_A  STh_R_B  STh_R_C\n",
       "BF       6.23     3.45     1.53     6.25     0.99     0.48\n",
       "t        2.98     2.65     2.15     2.98     1.86     1.28\n",
       "p        0.01     0.02     0.05     0.01     0.08     0.22"
      ]
     },
     "execution_count": 17,
     "metadata": {},
     "output_type": "execute_result"
    }
   ],
   "source": [
    "masks = ['STh_L_A', 'STh_L_B', 'STh_L_C', 'STh_R_A', 'STh_R_B', 'STh_R_C']\n",
    "\n",
    "results = []\n",
    "\n",
    "for mask in masks:\n",
    "    df_mask = df_glm[df_glm['mask'] == mask].pivot_table(index='subject_id', values='value', columns='par')\n",
    "\n",
    "    %R -i df_mask\n",
    "    %R library(BayesFactor)\n",
    "    %R bf = ttestBF(df_mask$onsets_stim)\n",
    "    %R tmp = extractBF(bf)\n",
    "    %R -o tmp\n",
    "    \n",
    "    t, p = sp.stats.ttest_1samp(df_mask['onsets_stim'], 0)\n",
    "    \n",
    "    results.append({'mask':mask,\n",
    "                    'BF':tmp.bf.values[0],\n",
    "                    't':t,\n",
    "                    'p':p})\n",
    "    \n",
    "np.round(pandas.DataFrame(results)[['mask', 'BF', 't', 'p']], 2).T    \n",
    "    "
   ]
  },
  {
   "cell_type": "markdown",
   "metadata": {},
   "source": [
    "## Cue"
   ]
  },
  {
   "cell_type": "code",
   "execution_count": 18,
   "metadata": {
    "collapsed": false
   },
   "outputs": [
    {
     "data": {
      "text/html": [
       "<div>\n",
       "<table border=\"1\" class=\"dataframe\">\n",
       "  <thead>\n",
       "    <tr style=\"text-align: right;\">\n",
       "      <th></th>\n",
       "      <th>0</th>\n",
       "      <th>1</th>\n",
       "      <th>2</th>\n",
       "      <th>3</th>\n",
       "      <th>4</th>\n",
       "      <th>5</th>\n",
       "    </tr>\n",
       "  </thead>\n",
       "  <tbody>\n",
       "    <tr>\n",
       "      <th>mask</th>\n",
       "      <td>STh_L_A</td>\n",
       "      <td>STh_L_B</td>\n",
       "      <td>STh_L_C</td>\n",
       "      <td>STh_R_A</td>\n",
       "      <td>STh_R_B</td>\n",
       "      <td>STh_R_C</td>\n",
       "    </tr>\n",
       "    <tr>\n",
       "      <th>BF</th>\n",
       "      <td>0.44</td>\n",
       "      <td>1.42</td>\n",
       "      <td>1.37</td>\n",
       "      <td>1.07</td>\n",
       "      <td>0.68</td>\n",
       "      <td>1.59</td>\n",
       "    </tr>\n",
       "    <tr>\n",
       "      <th>t</th>\n",
       "      <td>1.19</td>\n",
       "      <td>2.1</td>\n",
       "      <td>2.08</td>\n",
       "      <td>1.91</td>\n",
       "      <td>1.58</td>\n",
       "      <td>2.18</td>\n",
       "    </tr>\n",
       "    <tr>\n",
       "      <th>p</th>\n",
       "      <td>0.25</td>\n",
       "      <td>0.05</td>\n",
       "      <td>0.05</td>\n",
       "      <td>0.07</td>\n",
       "      <td>0.13</td>\n",
       "      <td>0.04</td>\n",
       "    </tr>\n",
       "  </tbody>\n",
       "</table>\n",
       "</div>"
      ],
      "text/plain": [
       "            0        1        2        3        4        5\n",
       "mask  STh_L_A  STh_L_B  STh_L_C  STh_R_A  STh_R_B  STh_R_C\n",
       "BF       0.44     1.42     1.37     1.07     0.68     1.59\n",
       "t        1.19      2.1     2.08     1.91     1.58     2.18\n",
       "p        0.25     0.05     0.05     0.07     0.13     0.04"
      ]
     },
     "execution_count": 18,
     "metadata": {},
     "output_type": "execute_result"
    }
   ],
   "source": [
    "\n",
    "masks = ['STh_L_A', 'STh_L_B', 'STh_L_C', 'STh_R_A', 'STh_R_B', 'STh_R_C']\n",
    "\n",
    "results = []\n",
    "\n",
    "for mask in masks:\n",
    "    df_mask = df_glm[df_glm['mask'] == mask].pivot_table(index='subject_id', values='value', columns='par')\n",
    "\n",
    "    %R -i df_mask\n",
    "    %R library(BayesFactor)\n",
    "    %R bf = ttestBF(df_mask$onsets_cue)\n",
    "    %R tmp = extractBF(bf)\n",
    "    %R -o tmp\n",
    "    \n",
    "    t, p = sp.stats.ttest_1samp(df_mask['onsets_cue'], 0)\n",
    "    \n",
    "    results.append({'mask':mask,\n",
    "                    'BF':tmp.bf.values[0],\n",
    "                    't':t,\n",
    "                    'p':p})\n",
    "    \n",
    "np.round(pandas.DataFrame(results)[['mask', 'BF', 't', 'p']], 2).T    \n",
    "    "
   ]
  },
  {
   "cell_type": "code",
   "execution_count": 19,
   "metadata": {
    "collapsed": false
   },
   "outputs": [
    {
     "data": {
      "image/png": "[encoded data removed]",
      "text/plain": [
       "<matplotlib.figure.Figure at 0x12582510>"
      ]
     },
     "metadata": {},
     "output_type": "display_data"
    }
   ],
   "source": [
    "fac = sns.FacetGrid(df_glm.groupby(['subject_id', 'par', 'mask'], as_index=False).mean(), col='mask', col_wrap=3, hue='par')\n",
    "\n",
    "fac.map(sns.distplot, 'value')\n",
    "for ax in fac.axes.ravel():\n",
    "    ax.axvline(0, c='k', ls='--')"
   ]
  },
  {
   "cell_type": "code",
   "execution_count": 20,
   "metadata": {
    "collapsed": false
   },
   "outputs": [
    {
     "name": "stderr",
     "output_type": "stream",
     "text": [
      "/usr/local/lib/python2.7/dist-packages/rpy2/robjects/pandas2ri.py:57: UserWarning: Error while trying to convert the column \"subject_id\". Fall back to string conversion. The error is: Converting pandas \"Category\" series to R factor is only possible when categories are strings.\n",
      "  (name, str(e)))\n"
     ]
    },
    {
     "data": {
      "text/plain": [
       "\r",
       "  |                                                                            \r",
       "  |                                                                      |   0%\r",
       "  |                                                                            \r",
       "  |===================================                                   |  50%\r",
       "  |                                                                            \r",
       "  |======================================================================| 100%\n"
      ]
     },
     "metadata": {},
     "output_type": "display_data"
    },
    {
     "data": {
      "text/plain": [
       "Bayes factor analysis\n",
       "--------------\n",
       "[1] mask + subject_id : 0.4398343 ±0.32%\n",
       "\n",
       "Against denominator:\n",
       "  onsets_cue ~ subject_id \n",
       "---\n",
       "Bayes factor type: BFlinearModel, JZS\n",
       "\n"
      ]
     },
     "metadata": {},
     "output_type": "display_data"
    },
    {
     "data": {
      "text/plain": [
       "\r",
       "  |                                                                            \r",
       "  |                                                                      |   0%\r",
       "  |                                                                            \r",
       "  |===================================                                   |  50%\r",
       "  |                                                                            \r",
       "  |======================================================================| 100%\n"
      ]
     },
     "metadata": {},
     "output_type": "display_data"
    },
    {
     "data": {
      "text/plain": [
       "Bayes factor analysis\n",
       "--------------\n",
       "[1] mask + subject_id : 0.1628657 ±0.58%\n",
       "\n",
       "Against denominator:\n",
       "  onsets_stim ~ subject_id \n",
       "---\n",
       "Bayes factor type: BFlinearModel, JZS\n",
       "\n"
      ]
     },
     "metadata": {},
     "output_type": "display_data"
    },
    {
     "data": {
      "text/plain": [
       "\r",
       "  |                                                                            \r",
       "  |                                                                      |   0%\r",
       "  |                                                                            \r",
       "  |===================================                                   |  50%\r",
       "  |                                                                            \r",
       "  |======================================================================| 100%\n"
      ]
     },
     "metadata": {},
     "output_type": "display_data"
    },
    {
     "data": {
      "text/plain": [
       "Bayes factor analysis\n",
       "--------------\n",
       "[1] mask + subject_id : 0.1941809 ±0.37%\n",
       "\n",
       "Against denominator:\n",
       "  onsets_cue ~ subject_id \n",
       "---\n",
       "Bayes factor type: BFlinearModel, JZS\n",
       "\n"
      ]
     },
     "metadata": {},
     "output_type": "display_data"
    },
    {
     "data": {
      "text/plain": [
       "\r",
       "  |                                                                            \r",
       "  |                                                                      |   0%\r",
       "  |                                                                            \r",
       "  |===================================                                   |  50%\r",
       "  |                                                                            \r",
       "  |======================================================================| 100%\n"
      ]
     },
     "metadata": {},
     "output_type": "display_data"
    },
    {
     "data": {
      "text/plain": [
       "Bayes factor analysis\n",
       "--------------\n",
       "[1] mask + subject_id : 0.5141639 ±0.28%\n",
       "\n",
       "Against denominator:\n",
       "  onsets_stim ~ subject_id \n",
       "---\n",
       "Bayes factor type: BFlinearModel, JZS\n",
       "\n"
      ]
     },
     "metadata": {},
     "output_type": "display_data"
    }
   ],
   "source": [
    "tmp = df_glm.pivot_table(index=['mask', 'subject_id'], columns=['par'], values='value').reset_index()\n",
    "tmp['subject_id'] = tmp['subject_id'].astype('category')\n",
    "\n",
    "tmp_l = tmp[np.in1d(tmp['mask'], ['STh_L_A', 'STh_L_B', 'STh_L_C'])]\n",
    "%R -i tmp_l\n",
    "%R bf = anovaBF(onsets_cue ~ mask + subject_id, data =tmp_l,  whichRandom=\"subject_id\", whichModels='ID', iterations=100000)\n",
    "%R print(bf)\n",
    "\n",
    "tmp_l = tmp[np.in1d(tmp['mask'], ['STh_L_A', 'STh_L_B', 'STh_L_C'])]\n",
    "%R -i tmp_l\n",
    "%R bf = anovaBF(onsets_stim ~ mask + subject_id, data =tmp_l,  whichRandom=\"subject_id\", iterations=100000)\n",
    "%R print(bf)\n",
    "\n",
    "tmp_r = tmp[np.in1d(tmp['mask'], ['STh_R_A', 'STh_R_B', 'STh_R_C'])]\n",
    "%R -i tmp_r\n",
    "%R bf = anovaBF(onsets_cue ~ mask + subject_id, data =tmp_r,  whichRandom=\"subject_id\", whichModels='all', iterations=100000)\n",
    "%R print(bf)\n",
    "\n",
    "tmp_r = tmp[np.in1d(tmp['mask'], ['STh_R_A', 'STh_R_B', 'STh_R_C'])]\n",
    "%R -i tmp_r\n",
    "%R bf = anovaBF(onsets_stim ~ mask + subject_id, data =tmp_r,  whichRandom=\"subject_id\", whichModels='all', iterations=100000)\n",
    "%R print(bf)"
   ]
  },
  {
   "cell_type": "code",
   "execution_count": 554,
   "metadata": {
    "collapsed": false
   },
   "outputs": [
    {
     "data": {
      "text/plain": [
       "Bayes factor analysis\n",
       "--------------\n",
       "[1] Alt., r=0.707 : 1.144898 ±0%\n",
       "\n",
       "Against denominator:\n",
       "  Null, mu = 0 \n",
       "---\n",
       "Bayes factor type: BFoneSample, JZS\n",
       "\n"
      ]
     },
     "metadata": {},
     "output_type": "display_data"
    },
    {
     "data": {
      "text/plain": [
       "Bayes factor analysis\n",
       "--------------\n",
       "[1] Alt., r=0.707 : 712.9012 ±0%\n",
       "\n",
       "Against denominator:\n",
       "  Null, mu = 0 \n",
       "---\n",
       "Bayes factor type: BFoneSample, JZS\n",
       "\n"
      ]
     },
     "metadata": {},
     "output_type": "display_data"
    }
   ],
   "source": [
    "tmp_l = tmp_l.pivot_table(index='subject_id')\n",
    "\n",
    "%R -i tmp_l\n",
    "%R bf = ttestBF(tmp_l$onsets_cue)\n",
    "%R print(bf)\n",
    "%R bf = ttestBF(tmp_l$onsets_stim)\n",
    "%R print(bf)"
   ]
  },
  {
   "cell_type": "code",
   "execution_count": 555,
   "metadata": {
    "collapsed": false
   },
   "outputs": [
    {
     "data": {
      "text/plain": [
       "Bayes factor analysis\n",
       "--------------\n",
       "[1] Alt., r=0.707 : 0.4092498 ±0.01%\n",
       "\n",
       "Against denominator:\n",
       "  Null, mu = 0 \n",
       "---\n",
       "Bayes factor type: BFoneSample, JZS\n",
       "\n"
      ]
     },
     "metadata": {},
     "output_type": "display_data"
    },
    {
     "data": {
      "text/plain": [
       "Bayes factor analysis\n",
       "--------------\n",
       "[1] Alt., r=0.707 : 262.0966 ±0%\n",
       "\n",
       "Against denominator:\n",
       "  Null, mu = 0 \n",
       "---\n",
       "Bayes factor type: BFoneSample, JZS\n",
       "\n"
      ]
     },
     "metadata": {},
     "output_type": "display_data"
    }
   ],
   "source": [
    "tmp_r = tmp_r.pivot_table(index='subject_id')\n",
    "\n",
    "%R -i tmp_r\n",
    "%R bf = ttestBF(tmp_r$onsets_cue)\n",
    "%R print(bf)\n",
    "%R bf = ttestBF(tmp_r$onsets_stim)\n",
    "%R print(bf)"
   ]
  },
  {
   "cell_type": "code",
   "execution_count": null,
   "metadata": {
    "collapsed": true
   },
   "outputs": [],
   "source": []
  }
 ],
 "metadata": {
  "kernelspec": {
   "display_name": "Python 2",
   "language": "python",
   "name": "python2"
  },
  "language_info": {
   "codemirror_mode": {
    "name": "ipython",
    "version": 2
   },
   "file_extension": ".py",
   "mimetype": "text/x-python",
   "name": "python",
   "nbconvert_exporter": "python",
   "pygments_lexer": "ipython2",
   "version": "2.7.3"
  }
 },
 "nbformat": 4,
 "nbformat_minor": 1
}
