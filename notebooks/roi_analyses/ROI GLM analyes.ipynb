{
 "cells": [
  {
   "cell_type": "code",
   "execution_count": 1,
   "metadata": {
    "collapsed": true
   },
   "outputs": [],
   "source": [
    "import pandas"
   ]
  },
  {
   "cell_type": "code",
   "execution_count": 47,
   "metadata": {
    "collapsed": true
   },
   "outputs": [],
   "source": [
    "def get_signal(subject_id, run, mask):\n",
    "    subject_id = '%02d' % int(subject_id)\n",
    "    run = '%02d' % int(run)    \n",
    "    run0 = int(run) - 1\n",
    "    \n",
    "    signal = np.loadtxt('/home/gdholla1/projects/bias/data/derivatives/extracted_signal/highpassed_motion/_mask_{mask}_subject_id_{subject_id}/_extracter_highpassed_motion{run0}/sub-{subject_id}_task-randomdotmotion_run-{run}_bold_unwarped_st_dtype_mcf_mask_gms_tempfilt_regfilt_maths_ts.txt'.format(**locals()))\n",
    "    \n",
    "    signal = (signal / signal.mean()) * 100\n",
    "    signal -= signal.mean()\n",
    "    \n",
    "    return signal\n",
    "\n",
    "def get_onsets(subject_id, run, design='model0', shift=0):\n",
    "\n",
    "    df = pandas.read_pickle('/home/gdholla1/projects/bias/data/behavior/behavior.pandas')\n",
    "    df = df[(df.subj_idx == subject_id) & (df.block == run)]\n",
    "\n",
    "    df['onset_cue'] += shift\n",
    "    df['onset_stim'] += shift\n",
    "    \n",
    "    \n",
    "    if design == 'model0':\n",
    "        onsets_cue = df.onset_cue.tolist()\n",
    "        onsets_stim = df.onset_stim.tolist()\n",
    "\n",
    "        conditions=['onsets_cue',\n",
    "                    'onsets_stim',]\n",
    "        \n",
    "        onsets=[onsets_cue,\n",
    "                onsets_stim]\n",
    "        \n",
    "    elif design == 'model1a':\n",
    "        conditions=['payoff cue',\n",
    "                    'neutral cue',\n",
    "                    'easy',\n",
    "                    'hard']\n",
    "        \n",
    "        onsets=[df[df.cue != 'neutral'].onset_cue.tolist(),\n",
    "                df[df.cue == 'neutral'].onset_cue.tolist(),\n",
    "                df[df.difficulty == 'easy'].onset_stim.tolist(),\n",
    "                df[df.difficulty == 'hard'].onset_stim.tolist()]\n",
    "        \n",
    "    elif design == 'model1b':\n",
    "        conditions= ['left', 'right', 'neutral', 'easy', 'hard']\n",
    "        \n",
    "        onsets=[df[df.cue == 'left'].onset_cue.tolist(),\n",
    "                df[df.cue == 'right'].onset_cue.tolist(),                \n",
    "                df[df.cue == 'neutral'].onset_cue.tolist(),\n",
    "                df[df.difficulty == 'easy'].onset_stim.tolist(),\n",
    "                df[df.difficulty == 'hard'].onset_stim.tolist()]        \n",
    "        \n",
    "        \n",
    "    elif design == 'model1c':\n",
    "        conditions=['payoff_cue',\n",
    "                    'neutral_cue',\n",
    "                    'easy (correct)',\n",
    "                    'hard (correct)',\n",
    "                    'easy (error)',\n",
    "                    'hard (error)']\n",
    "        \n",
    "        onsets=[df[df.cue != 'neutral'].onset_cue.tolist(),\n",
    "                df[df.cue == 'neutral'].onset_cue.tolist(),\n",
    "                df[(df.difficulty == 'easy') & (df.correct == 1)].onset_stim.tolist(),\n",
    "                df[(df.difficulty == 'hard') & (df.correct == 1)].onset_stim.tolist(),\n",
    "                df[(df.difficulty == 'easy') & (df.correct == 0)].onset_stim.tolist(),\n",
    "                df[(df.difficulty == 'hard') & (df.correct == 0)].onset_stim.tolist()]        \n",
    "        \n",
    "    elif design == 'model1d':\n",
    "        conditions=['payoff_cue',\n",
    "                    'neutral_cue',\n",
    "                    'easy',\n",
    "                    'hard',\n",
    "                    'correct',\n",
    "                    'error']\n",
    "        \n",
    "        onsets=[df[df.cue != 'neutral'].onset_cue.tolist(),\n",
    "                df[df.cue == 'neutral'].onset_cue.tolist(),\n",
    "                df[(df.difficulty == 'easy')].onset_stim.tolist(),\n",
    "                df[(df.difficulty == 'hard')].onset_stim.tolist(),\n",
    "                df[(df.correct == 1)].onset_stim.tolist(),\n",
    "                df[(df.correct == 0)].onset_stim.tolist()]\n",
    "        \n",
    "    \n",
    "    elif design == 'model2':\n",
    "        conditions=['payoff_cue',\n",
    "                    'neutral_cue',\n",
    "                    'correct (congruent)',\n",
    "                    'correct (neutral)',\n",
    "                    'correct (incongruent)',\n",
    "                    'error (congruent)',\n",
    "                    'error (neutral)',\n",
    "                    'error (incongruent)']   \n",
    "        \n",
    "        onsets=[df[df.cue != 'neutral'].onset_cue.tolist(),\n",
    "                df[df.cue == 'neutral'].onset_cue.tolist(),\n",
    "                df[(df.cue_validity == 'valid') & (df.correct == 1)].onset_stim.tolist(),\n",
    "                df[(df.cue_validity == 'neutral') & (df.correct == 1)].onset_stim.tolist(),\n",
    "                df[(df.cue_validity == 'invalid') & (df.correct == 1)].onset_stim.tolist(),\n",
    "                df[(df.cue_validity == 'valid') & (df.correct == 0)].onset_stim.tolist(),\n",
    "                df[(df.cue_validity == 'neutral') & (df.correct == 0)].onset_stim.tolist(),\n",
    "                df[(df.cue_validity == 'invalid') & (df.correct == 0)].onset_stim.tolist()]\n",
    "        \n",
    "        \n",
    "    elif design == 'model3':\n",
    "        conditions=['payoff_cue',\n",
    "                    'neutral_cue',                    \n",
    "                    'left response',\n",
    "                    'right response']\n",
    "        \n",
    "        onsets=[df[df.cue != 'neutral'].onset_cue.tolist(),\n",
    "                df[df.cue == 'neutral'].onset_cue.tolist(),\n",
    "                df[df.response == 1].onset_stim.tolist(),\n",
    "                df[df.response == 2].onset_stim.tolist()]        \n",
    "        \n",
    "        \n",
    "    elif design == 'model4':\n",
    "        \n",
    "        onsets_neutral_cue_correct = df[(df.cue_validity == 'neutral') & (df.correct == 1)].onset_stim.tolist()\n",
    "        onsets_neutral_cue_error = df[(df.cue_validity == 'neutral') & (df.correct == 0)].onset_stim.tolist()\n",
    "        \n",
    "        onsets_valid_cue_correct = df[(df.cue_validity == 'valid') & (df.correct == 1)].onset_stim.tolist()\n",
    "        onsets_valid_cue_error = df[(df.cue_validity == 'valid') & (df.correct == 0)].onset_stim.tolist()        \n",
    "        \n",
    "        onsets_invalid_cue_correct = df[(df.cue_validity == 'invalid') & (df.correct == 1)].onset_stim.tolist()\n",
    "        onsets_invalid_cue_error = df[(df.cue_validity == 'invalid') & (df.correct == 0)].onset_stim.tolist()                \n",
    "\n",
    "        \n",
    "        conditions=['payoff_cue',\n",
    "                    'neutral_cue',\n",
    "                    'valid (correct)',\n",
    "                    'valid (error)',\n",
    "                    'neutral (correct)',\n",
    "                    'neutral (error)',\n",
    "                    'invalid (correct)',\n",
    "                    'invalid (error)']\n",
    "        \n",
    "        onsets=[df[df.cue != 'neutral'].onset_cue.tolist(),\n",
    "                df[df.cue == 'neutral'].onset_cue.tolist(),\n",
    "                onsets_valid_cue_correct,\n",
    "                onsets_valid_cue_error,\n",
    "                onsets_neutral_cue_correct,\n",
    "                onsets_neutral_cue_error,\n",
    "                onsets_invalid_cue_correct,\n",
    "                onsets_invalid_cue_error]    \n",
    "        \n",
    "        \n",
    "    elif design == 'model5':\n",
    "        conditions=['payoff cue',\n",
    "                    'neutral cue',]\n",
    "\n",
    "        onsets=[df[df.cue != 'neutral'].onset_cue.tolist(),\n",
    "                df[df.cue == 'neutral'].onset_cue.tolist(),]\n",
    "\n",
    "\n",
    "    elif design == 'model6':\n",
    "        conditions=['easy rdm',\n",
    "                    'hard rdm',]\n",
    "\n",
    "        onsets=[df[df.difficulty == 'easy'].onset_stim.tolist(),\n",
    "                df[df.difficulty == 'hard'].onset_stim.tolist(),]\n",
    "     \n",
    "    \n",
    "    return dict(zip(conditions, onsets))"
   ]
  },
  {
   "cell_type": "code",
   "execution_count": 3,
   "metadata": {
    "collapsed": false
   },
   "outputs": [],
   "source": [
    "%load_ext rpy2.ipython\n"
   ]
  },
  {
   "cell_type": "markdown",
   "metadata": {},
   "source": [
    "# Model 1a"
   ]
  },
  {
   "cell_type": "code",
   "execution_count": 23,
   "metadata": {
    "collapsed": false
   },
   "outputs": [
    {
     "name": "stdout",
     "output_type": "stream",
     "text": [
      "Error: 6/STh_R_C/all the input arrays must have same number of dimensions\n"
     ]
    }
   ],
   "source": [
    "import itertools\n",
    "import pyfir\n",
    "from nipy.modalities.fmri import design_matrix, experimental_paradigm\n",
    "import statsmodels.api as sm\n",
    "\n",
    "level2_dict = []\n",
    "adj_r = []\n",
    "# pars = ['neutral_cue', 'left_cue', 'right_cue', 'neutral_easy_correct', 'valid_easy_correct', 'invalid_easy_correct', 'neutral_hard_correct', 'valid_hard_correct', 'invalid_hard_correct', 'easy_error', 'hard_error',]\n",
    "# pars = \n",
    "\n",
    "for subject_id in np.arange(1, 20):\n",
    "    for run in [1,2,3]:\n",
    "\n",
    "        try:\n",
    "            onsets_dict = get_onsets(subject_id, run, 'model1a', shift=-1.5)\n",
    "            pars = onsets_dict.keys()\n",
    "\n",
    "            conditions = []\n",
    "            onsets = []\n",
    "            for key in onsets_dict.keys():\n",
    "                conditions += [key] * len(onsets_dict[key])\n",
    "                onsets += onsets_dict[key]\n",
    "\n",
    "            paradigm =  experimental_paradigm.BlockParadigm(con_id=conditions, \n",
    "                                                            onset=onsets,\n",
    "                                                            duration=[[1.]] * len(conditions))\n",
    "            tr = 3.0\n",
    "            frametimes = np.linspace(0, 387 * tr, 387)\n",
    "            hrf_model = 'Canonical with Derivative'\n",
    "\n",
    "            X, names= design_matrix.dmtx_light(frametimes, paradigm, hrf_model=hrf_model, drift_model='polynomial', fir_delays=np.arange(11), drift_order=3)\n",
    "\n",
    "            X /= X.max(0)\n",
    "            X = pandas.DataFrame(X, columns=names)\n",
    "\n",
    "            for i, mask in enumerate(['STh_L_A', 'STh_L_B', 'STh_L_C', 'STh_R_A', 'STh_R_B', 'STh_R_C']):\n",
    "                signal = get_signal(subject_id,  run, mask)\n",
    "                r = sm.GLSAR(signal, X).iterative_fit()\n",
    "\n",
    "                adj_r.append({'subject_id':subject_id, 'mask':mask, 'r2_adj':r.rsquared_adj, 'r2':r.rsquared, 'run':run})\n",
    "\n",
    "                for par in pars:\n",
    "                    level2_dict.append({'value':r.params[par],\n",
    "                                        'par':par,\n",
    "                                        'subject_id':subject_id,\n",
    "                                        'mask':mask,\n",
    "                                        'run':run})\n",
    "        except Exception as e:\n",
    "            print 'Error: %s/%s/%s' %  (subject_id, mask, e)"
   ]
  },
  {
   "cell_type": "markdown",
   "metadata": {},
   "source": [
    "The first set of analyses tested whether there were significant differences in the BOLD response between task conditions. Therefore, a set of general linear models (GLM) were fit to the extracted STN segment time series. The first model (GLM1a) contained the following task condition regressors: (a) neutral cue, (b) payoff cue, (c) easy RDM stimulus, (d) hard RDM stimulus. Its first main contrast of interest was ‘payoff cue > neutral cue’ (and neutral cue > payoff cue), to see whether any segments were involved in processing the cue information. The other main contrast was ‘hard RDM stimulus > easy RDM stimulus’ (and ‘easy RDM stimulus > hard RDM stimulus’), which should indicate areas that were related to the speed of evidence accumulation. \n"
   ]
  },
  {
   "cell_type": "code",
   "execution_count": 24,
   "metadata": {
    "collapsed": false
   },
   "outputs": [
    {
     "data": {
      "image/png": "[encoded data removed]",
      "text/plain": [
       "<matplotlib.figure.Figure at 0x13c26850>"
      ]
     },
     "metadata": {},
     "output_type": "display_data"
    }
   ],
   "source": [
    "df_glm = pandas.DataFrame(level2_dict)\n",
    "df_glm = df_glm.query('par != \"constant\"')\n",
    "df_glm['dummy'] = 1\n",
    "\n",
    "df_glm['% signal change'] = df_glm['value']\n",
    "sns.set_palette('Set1')\n",
    "sns.set_context('poster')\n",
    "sns.set_style('white')\n",
    "\n",
    "# sns.factorplot(x='dummy', y='value', hue='par', data=df_glm, col='mask', col_wrap=3, kind='bar', ci=95, hue_order=['payoff_cue (left)', 'payoff_cue (right)', 'neutral_cue','difficult_rdm', 'easy_rdm'])\n",
    "\n",
    "tmp = df_glm.groupby(['subject_id', 'mask', 'par', 'dummy'], as_index=False).mean()\n",
    "fac = sns.factorplot(x='par', y='% signal change', data=tmp, col='mask', col_wrap=3, kind='bar', ci=95, x_order=['neutral cue', 'payoff cue', '', 'easy', 'hard',])\n",
    "\n",
    "fac.set_xticklabels(rotation=45)\n",
    "\n",
    "plt.tight_layout()\n",
    "\n",
    "fac.set_xlabels('')\n",
    "\n",
    "plt.savefig('/home/gdholla1/projects/bias/reports/figures/glm_model1a.pdf')"
   ]
  },
  {
   "cell_type": "markdown",
   "metadata": {},
   "source": [
    "### Payoff cue > neutral cue"
   ]
  },
  {
   "cell_type": "code",
   "execution_count": 25,
   "metadata": {
    "collapsed": false,
    "scrolled": false
   },
   "outputs": [
    {
     "name": "stdout",
     "output_type": "stream",
     "text": [
      "***** STh_L_A ******\n",
      "***** STh_L_B ******\n",
      "***** STh_L_C ******\n",
      "***** STh_R_A ******\n",
      "***** STh_R_B ******\n",
      "***** STh_R_C ******\n"
     ]
    },
    {
     "data": {
      "text/html": [
       "<div>\n",
       "<table border=\"1\" class=\"dataframe\">\n",
       "  <thead>\n",
       "    <tr style=\"text-align: right;\">\n",
       "      <th></th>\n",
       "      <th>0</th>\n",
       "      <th>1</th>\n",
       "      <th>2</th>\n",
       "      <th>3</th>\n",
       "      <th>4</th>\n",
       "      <th>5</th>\n",
       "    </tr>\n",
       "  </thead>\n",
       "  <tbody>\n",
       "    <tr>\n",
       "      <th>mask</th>\n",
       "      <td>STh_L_A</td>\n",
       "      <td>STh_L_B</td>\n",
       "      <td>STh_L_C</td>\n",
       "      <td>STh_R_A</td>\n",
       "      <td>STh_R_B</td>\n",
       "      <td>STh_R_C</td>\n",
       "    </tr>\n",
       "    <tr>\n",
       "      <th>BF</th>\n",
       "      <td>0.26</td>\n",
       "      <td>0.28</td>\n",
       "      <td>1.68</td>\n",
       "      <td>0.26</td>\n",
       "      <td>0.27</td>\n",
       "      <td>2.73</td>\n",
       "    </tr>\n",
       "    <tr>\n",
       "      <th>t</th>\n",
       "      <td>0.46</td>\n",
       "      <td>0.6</td>\n",
       "      <td>2.21</td>\n",
       "      <td>0.42</td>\n",
       "      <td>-0.55</td>\n",
       "      <td>2.51</td>\n",
       "    </tr>\n",
       "    <tr>\n",
       "      <th>p</th>\n",
       "      <td>0.65</td>\n",
       "      <td>0.56</td>\n",
       "      <td>0.04</td>\n",
       "      <td>0.68</td>\n",
       "      <td>0.59</td>\n",
       "      <td>0.02</td>\n",
       "    </tr>\n",
       "  </tbody>\n",
       "</table>\n",
       "</div>"
      ],
      "text/plain": [
       "            0        1        2        3        4        5\n",
       "mask  STh_L_A  STh_L_B  STh_L_C  STh_R_A  STh_R_B  STh_R_C\n",
       "BF       0.26     0.28     1.68     0.26     0.27     2.73\n",
       "t        0.46      0.6     2.21     0.42    -0.55     2.51\n",
       "p        0.65     0.56     0.04     0.68     0.59     0.02"
      ]
     },
     "execution_count": 25,
     "metadata": {},
     "output_type": "execute_result"
    }
   ],
   "source": [
    "masks = ['STh_L_A', 'STh_L_B', 'STh_L_C', 'STh_R_A', 'STh_R_B', 'STh_R_C']\n",
    "\n",
    "results = []\n",
    "\n",
    "for mask in masks:\n",
    "    df_mask = df_glm[df_glm['mask'] == mask].pivot_table(index='subject_id', values='value', columns='par')\n",
    "    \n",
    "    \n",
    "    print '***** %s ******' % mask\n",
    "    %R -i df_mask\n",
    "    %R library(BayesFactor)\n",
    "    %R bf = ttestBF(df_mask$payoff.cue - df_mask$neutral.cue)\n",
    "    %R tmp = extractBF(bf)\n",
    "    %R -o tmp\n",
    "    \n",
    "    t, p = sp.stats.ttest_rel(df_mask['payoff cue'], df_mask['neutral cue'])\n",
    "    \n",
    "    results.append({'mask':mask,\n",
    "                    'BF':tmp.bf.values[0],\n",
    "                    't':t,\n",
    "                    'p':p})\n",
    "    \n",
    "np.round(pandas.DataFrame(results)[['mask', 'BF', 't', 'p']], 2).T"
   ]
  },
  {
   "cell_type": "code",
   "execution_count": 26,
   "metadata": {
    "collapsed": false
   },
   "outputs": [],
   "source": [
    "tmp = df_glm.pivot_table(index='subject_id', values='value', columns=['par', 'mask'])\n",
    "tmp = tmp['payoff cue'] - tmp['neutral cue']\n",
    "tmp = pandas.melt(tmp.reset_index(), id_vars=['subject_id'])"
   ]
  },
  {
   "cell_type": "code",
   "execution_count": 27,
   "metadata": {
    "collapsed": false
   },
   "outputs": [
    {
     "data": {
      "text/plain": [
       "\r",
       "  |                                                                            \r",
       "  |                                                                      |   0%\r",
       "  |                                                                            \r",
       "  |===================================                                   |  50%\r",
       "  |                                                                            \r",
       "  |======================================================================| 100%\n"
      ]
     },
     "metadata": {},
     "output_type": "display_data"
    },
    {
     "data": {
      "text/plain": [
       "Bayes factor analysis\n",
       "--------------\n",
       "[1] mask + subject_id : 0.3254724 ±0.99%\n",
       "\n",
       "Against denominator:\n",
       "  value ~ subject_id \n",
       "---\n",
       "Bayes factor type: BFlinearModel, JZS\n",
       "\n"
      ]
     },
     "metadata": {},
     "output_type": "display_data"
    },
    {
     "data": {
      "text/plain": [
       "\n",
       "Error: subject_id\n",
       "          Df Sum Sq Mean Sq F value Pr(>F)\n",
       "Residuals 18 0.8026 0.04459               \n",
       "\n",
       "Error: subject_id:mask\n",
       "          Df Sum Sq Mean Sq F value Pr(>F)\n",
       "mask       2 0.0372 0.01862   1.146  0.329\n",
       "Residuals 36 0.5851 0.01625               \n"
      ]
     },
     "metadata": {},
     "output_type": "display_data"
    },
    {
     "data": {
      "text/plain": [
       "\r",
       "  |                                                                            \r",
       "  |                                                                      |   0%\r",
       "  |                                                                            \r",
       "  |===================================                                   |  50%\r",
       "  |                                                                            \r",
       "  |======================================================================| 100%\n"
      ]
     },
     "metadata": {},
     "output_type": "display_data"
    },
    {
     "data": {
      "text/plain": [
       "Bayes factor analysis\n",
       "--------------\n",
       "[1] mask + subject_id : 1.138723 ±0.65%\n",
       "\n",
       "Against denominator:\n",
       "  value ~ subject_id \n",
       "---\n",
       "Bayes factor type: BFlinearModel, JZS\n",
       "\n"
      ]
     },
     "metadata": {},
     "output_type": "display_data"
    },
    {
     "data": {
      "text/plain": [
       "\n",
       "Error: subject_id\n",
       "          Df Sum Sq Mean Sq F value Pr(>F)\n",
       "Residuals 18 0.8705 0.04836               \n",
       "\n",
       "Error: subject_id:mask\n",
       "          Df Sum Sq Mean Sq F value Pr(>F)  \n",
       "mask       2 0.0801 0.04007   2.963 0.0644 .\n",
       "Residuals 36 0.4869 0.01352                 \n",
       "---\n",
       "Signif. codes:  0 ‘***’ 0.001 ‘**’ 0.01 ‘*’ 0.05 ‘.’ 0.1 ‘ ’ 1\n"
      ]
     },
     "metadata": {},
     "output_type": "display_data"
    }
   ],
   "source": [
    "tmp = df_glm.pivot_table(index='subject_id', values='value', columns=['par', 'mask'])\n",
    "tmp = tmp['payoff cue'] - tmp['neutral cue']\n",
    "tmp = pandas.melt(tmp.reset_index(), id_vars=['subject_id'])\n",
    "tmp['subject_id'] = tmp.subject_id.astype('category')\n",
    "\n",
    "tmp_l = tmp[np.in1d(tmp['mask'], ['STh_L_A', 'STh_L_B', 'STh_L_C'])]\n",
    "%R -i tmp_l\n",
    "%R bf = anovaBF(value ~ mask + subject_id, data=tmp_l,  whichRandom=\"subject_id\")\n",
    "# %R bf = anovaBF(value ~ mask , data=tmp_l,  iterations=10000)\n",
    "%R print(bf)\n",
    "%R print(summary(aov(value ~ mask + Error(subject_id/(mask)), tmp_l)))\n",
    "\n",
    "    \n",
    "tmp_r = tmp[np.in1d(tmp['mask'], ['STh_R_A', 'STh_R_B', 'STh_R_C'])]\n",
    "%R -i tmp_r\n",
    "%R bf = anovaBF(value ~ mask + subject_id, data=tmp_r,  whichRandom=\"subject_id\")\n",
    "# %R bf = anovaBF(value ~ mask , data=tmp_l,  iterations=10000)\n",
    "%R print(bf)\n",
    "%R print(summary(aov(value ~ mask + Error(subject_id/(mask)), tmp_r)))"
   ]
  },
  {
   "cell_type": "code",
   "execution_count": 28,
   "metadata": {
    "collapsed": false
   },
   "outputs": [
    {
     "name": "stderr",
     "output_type": "stream",
     "text": [
      "/usr/local/lib/python2.7/dist-packages/seaborn/categorical.py:2342: UserWarning: The violinplot API has been changed. Attempting to adjust your arguments for the new API (which might not work). Please update your code. See the version 0.6 release notes for more info.\n",
      "  warnings.warn(msg, UserWarning)\n"
     ]
    },
    {
     "data": {
      "text/plain": [
       "Bayes factor analysis\n",
       "--------------\n",
       "[1] Alt., r=0.707 : 0.5434273 ±0%\n",
       "\n",
       "Against denominator:\n",
       "  Null, mu = 0 \n",
       "---\n",
       "Bayes factor type: BFoneSample, JZS\n",
       "\n"
      ]
     },
     "metadata": {},
     "output_type": "display_data"
    },
    {
     "data": {
      "text/plain": [
       "Bayes factor analysis\n",
       "--------------\n",
       "[1] Alt., r=0.707 : 0.3697851 ±0.01%\n",
       "\n",
       "Against denominator:\n",
       "  Null, mu = 0 \n",
       "---\n",
       "Bayes factor type: BFoneSample, JZS\n",
       "\n"
      ]
     },
     "metadata": {},
     "output_type": "display_data"
    },
    {
     "data": {
      "text/plain": [
       "Bayes factor analysis\n",
       "--------------\n",
       "[1] Alt., r=0.707 : 0.4229843 ±0.01%\n",
       "\n",
       "Against denominator:\n",
       "  Null, mu = 0 \n",
       "---\n",
       "Bayes factor type: BFoneSample, JZS\n",
       "\n"
      ]
     },
     "metadata": {},
     "output_type": "display_data"
    },
    {
     "data": {
      "text/plain": [
       "Bayes factor analysis\n",
       "--------------\n",
       "[1] Alt., r=0.707 : 2.404739 ±0%\n",
       "\n",
       "Against denominator:\n",
       "  Null, mu = 0 \n",
       "---\n",
       "Bayes factor type: BFoneSample, JZS\n",
       "\n"
      ]
     },
     "metadata": {},
     "output_type": "display_data"
    },
    {
     "data": {
      "image/png": "[encoded data removed]",
      "text/plain": [
       "<matplotlib.figure.Figure at 0x13b25710>"
      ]
     },
     "metadata": {},
     "output_type": "display_data"
    }
   ],
   "source": [
    "tmp = df_glm.pivot_table(index='subject_id', values='value', columns=['par', 'mask'])\n",
    "tmp = tmp['payoff cue'] - tmp['neutral cue']\n",
    "\n",
    "sns.violinplot(tmp)\n",
    "plt.axhline(0, c='k')\n",
    "\n",
    "%R -i tmp\n",
    "%R bf = ttestBF(tmp$STh_L_A - tmp$STh_L_C)\n",
    "%R print(bf)\n",
    "%R bf = ttestBF(tmp$STh_L_B - tmp$STh_L_C)\n",
    "%R print(bf)\n",
    "%R bf = ttestBF(tmp$STh_R_A - tmp$STh_L_C)\n",
    "%R print(bf)\n",
    "%R bf = ttestBF(tmp$STh_R_B - tmp$STh_L_C)\n",
    "%R print(bf)"
   ]
  },
  {
   "cell_type": "markdown",
   "metadata": {},
   "source": [
    "# Difficulty > Easy"
   ]
  },
  {
   "cell_type": "code",
   "execution_count": 29,
   "metadata": {
    "collapsed": false
   },
   "outputs": [
    {
     "name": "stdout",
     "output_type": "stream",
     "text": [
      "***** STh_L_A ******\n",
      "***** STh_L_B ******\n",
      "***** STh_L_C ******\n",
      "***** STh_R_A ******\n",
      "***** STh_R_B ******\n",
      "***** STh_R_C ******\n"
     ]
    },
    {
     "data": {
      "text/html": [
       "<div>\n",
       "<table border=\"1\" class=\"dataframe\">\n",
       "  <thead>\n",
       "    <tr style=\"text-align: right;\">\n",
       "      <th></th>\n",
       "      <th>0</th>\n",
       "      <th>1</th>\n",
       "      <th>2</th>\n",
       "      <th>3</th>\n",
       "      <th>4</th>\n",
       "      <th>5</th>\n",
       "    </tr>\n",
       "  </thead>\n",
       "  <tbody>\n",
       "    <tr>\n",
       "      <th>mask</th>\n",
       "      <td>STh_L_A</td>\n",
       "      <td>STh_L_B</td>\n",
       "      <td>STh_L_C</td>\n",
       "      <td>STh_R_A</td>\n",
       "      <td>STh_R_B</td>\n",
       "      <td>STh_R_C</td>\n",
       "    </tr>\n",
       "    <tr>\n",
       "      <th>BF</th>\n",
       "      <td>0.24</td>\n",
       "      <td>0.25</td>\n",
       "      <td>0.36</td>\n",
       "      <td>0.49</td>\n",
       "      <td>0.26</td>\n",
       "      <td>0.25</td>\n",
       "    </tr>\n",
       "    <tr>\n",
       "      <th>p</th>\n",
       "      <td>0.98</td>\n",
       "      <td>0.76</td>\n",
       "      <td>0.34</td>\n",
       "      <td>0.21</td>\n",
       "      <td>0.69</td>\n",
       "      <td>0.7</td>\n",
       "    </tr>\n",
       "  </tbody>\n",
       "</table>\n",
       "</div>"
      ],
      "text/plain": [
       "            0        1        2        3        4        5\n",
       "mask  STh_L_A  STh_L_B  STh_L_C  STh_R_A  STh_R_B  STh_R_C\n",
       "BF       0.24     0.25     0.36     0.49     0.26     0.25\n",
       "p        0.98     0.76     0.34     0.21     0.69      0.7"
      ]
     },
     "execution_count": 29,
     "metadata": {},
     "output_type": "execute_result"
    }
   ],
   "source": [
    "masks = ['STh_L_A', 'STh_L_B', 'STh_L_C', 'STh_R_A', 'STh_R_B', 'STh_R_C']\n",
    "\n",
    "results = []\n",
    "\n",
    "for mask in masks:\n",
    "    df_mask = df_glm[df_glm['mask'] == mask].pivot_table(index='subject_id', values='value', columns='par')\n",
    "    \n",
    "    \n",
    "    print '***** %s ******' % mask\n",
    "    %R -i df_mask\n",
    "    %R library(BayesFactor)\n",
    "    %R bf = ttestBF(df_mask$easy - df_mask$hard)\n",
    "    %R tmp = extractBF(bf)\n",
    "    %R -o tmp\n",
    "    \n",
    "    t, p = sp.stats.ttest_rel(df_mask['easy'], df_mask['hard'])\n",
    "    \n",
    "    results.append({'mask':mask,\n",
    "                    'BF':tmp.bf.values[0],\n",
    "                     't':t,\n",
    "                    'p':p})\n",
    "    \n",
    "np.round(pandas.DataFrame(results)[['mask', 'BF', 'p']], 2).T"
   ]
  },
  {
   "cell_type": "markdown",
   "metadata": {},
   "source": [
    "### Interaction"
   ]
  },
  {
   "cell_type": "code",
   "execution_count": 32,
   "metadata": {
    "collapsed": false
   },
   "outputs": [
    {
     "data": {
      "text/plain": [
       "\r",
       "  |                                                                            \r",
       "  |                                                                      |   0%\r",
       "  |                                                                            \r",
       "  |===================================                                   |  50%\r",
       "  |                                                                            \r",
       "  |======================================================================| 100%\n"
      ]
     },
     "metadata": {},
     "output_type": "display_data"
    },
    {
     "data": {
      "text/plain": [
       "Bayes factor analysis\n",
       "--------------\n",
       "[1] mask + subject_id : 0.3125829 ±0.65%\n",
       "\n",
       "Against denominator:\n",
       "  value ~ subject_id \n",
       "---\n",
       "Bayes factor type: BFlinearModel, JZS\n",
       "\n"
      ]
     },
     "metadata": {},
     "output_type": "display_data"
    },
    {
     "data": {
      "text/plain": [
       "\n",
       "Error: subject_id\n",
       "          Df Sum Sq Mean Sq F value Pr(>F)\n",
       "Residuals 18 0.7682 0.04268               \n",
       "\n",
       "Error: subject_id:mask\n",
       "          Df Sum Sq Mean Sq F value Pr(>F)\n",
       "mask       2 0.0277 0.01385   1.112   0.34\n",
       "Residuals 36 0.4484 0.01246               \n"
      ]
     },
     "metadata": {},
     "output_type": "display_data"
    },
    {
     "data": {
      "text/plain": [
       "\r",
       "  |                                                                            \r",
       "  |                                                                      |   0%\r",
       "  |                                                                            \r",
       "  |===================================                                   |  50%\r",
       "  |                                                                            \r",
       "  |======================================================================| 100%\n"
      ]
     },
     "metadata": {},
     "output_type": "display_data"
    },
    {
     "data": {
      "text/plain": [
       "Bayes factor analysis\n",
       "--------------\n",
       "[1] mask + subject_id : 0.1527168 ±0.58%\n",
       "\n",
       "Against denominator:\n",
       "  value ~ subject_id \n",
       "---\n",
       "Bayes factor type: BFlinearModel, JZS\n",
       "\n"
      ]
     },
     "metadata": {},
     "output_type": "display_data"
    },
    {
     "data": {
      "text/plain": [
       "\n",
       "Error: subject_id\n",
       "          Df Sum Sq Mean Sq F value Pr(>F)\n",
       "Residuals 18 0.5067 0.02815               \n",
       "\n",
       "Error: subject_id:mask\n",
       "          Df Sum Sq  Mean Sq F value Pr(>F)\n",
       "mask       2 0.0043 0.002174    0.13  0.878\n",
       "Residuals 36 0.6003 0.016676               \n"
      ]
     },
     "metadata": {},
     "output_type": "display_data"
    }
   ],
   "source": [
    "tmp = df_glm.pivot_table(index='subject_id', values='value', columns=['par', 'mask'])\n",
    "tmp = tmp['easy'] - tmp['hard']\n",
    "tmp = pandas.melt(tmp.reset_index(), id_vars=['subject_id'])\n",
    "tmp['subject_id'] = tmp.subject_id.astype('category')\n",
    "\n",
    "tmp_l = tmp[np.in1d(tmp['mask'], ['STh_L_A', 'STh_L_B', 'STh_L_C'])]\n",
    "%R -i tmp_l\n",
    "%R bf = anovaBF(value ~ mask + subject_id, data=tmp_l,  whichRandom=\"subject_id\")\n",
    "# %R bf = anovaBF(value ~ mask , data=tmp_l,  iterations=10000)\n",
    "%R print(bf)\n",
    "%R print(summary(aov(value ~ mask + Error(subject_id/(mask)), tmp_l)))\n",
    "\n",
    "    \n",
    "tmp_r = tmp[np.in1d(tmp['mask'], ['STh_R_A', 'STh_R_B', 'STh_R_C'])]\n",
    "%R -i tmp_r\n",
    "%R bf = anovaBF(value ~ mask + subject_id, data=tmp_r,  whichRandom=\"subject_id\")\n",
    "# %R bf = anovaBF(value ~ mask , data=tmp_l,  iterations=10000)\n",
    "%R print(bf)\n",
    "%R print(summary(aov(value ~ mask + Error(subject_id/(mask)), tmp_r)))"
   ]
  },
  {
   "cell_type": "markdown",
   "metadata": {},
   "source": [
    "# Model 1b"
   ]
  },
  {
   "cell_type": "code",
   "execution_count": 33,
   "metadata": {
    "collapsed": false
   },
   "outputs": [
    {
     "name": "stdout",
     "output_type": "stream",
     "text": [
      "Error: 6/STh_R_C/all the input arrays must have same number of dimensions\n"
     ]
    }
   ],
   "source": [
    "import itertools\n",
    "import pyfir\n",
    "from nipy.modalities.fmri import design_matrix, experimental_paradigm\n",
    "import statsmodels.api as sm\n",
    "\n",
    "level2_dict = []\n",
    "adj_r = []\n",
    "# pars = ['neutral_cue', 'left_cue', 'right_cue', 'neutral_easy_correct', 'valid_easy_correct', 'invalid_easy_correct', 'neutral_hard_correct', 'valid_hard_correct', 'invalid_hard_correct', 'easy_error', 'hard_error',]\n",
    "# pars = \n",
    "\n",
    "for subject_id in np.arange(1, 20):\n",
    "    for run in [1,2,3]:\n",
    "\n",
    "        try:\n",
    "            onsets_dict = get_onsets(subject_id, run, 'model1b', shift=-1.5)\n",
    "            pars = onsets_dict.keys()\n",
    "\n",
    "            conditions = []\n",
    "            onsets = []\n",
    "            for key in onsets_dict.keys():\n",
    "                conditions += [key] * len(onsets_dict[key])\n",
    "                onsets += onsets_dict[key]\n",
    "\n",
    "            paradigm =  experimental_paradigm.BlockParadigm(con_id=conditions, \n",
    "                                                            onset=onsets,\n",
    "                                                            duration=[[1.]] * len(conditions))\n",
    "            tr = 3.0\n",
    "            frametimes = np.linspace(0, 387 * tr, 387)\n",
    "            hrf_model = 'Canonical with Derivative'\n",
    "\n",
    "            X, names= design_matrix.dmtx_light(frametimes, paradigm, hrf_model=hrf_model, drift_model='polynomial', fir_delays=np.arange(11), drift_order=3)\n",
    "\n",
    "            X /= X.max(0)\n",
    "            X = pandas.DataFrame(X, columns=names)\n",
    "\n",
    "            for i, mask in enumerate(['STh_L_A', 'STh_L_B', 'STh_L_C', 'STh_R_A', 'STh_R_B', 'STh_R_C']):\n",
    "                signal = get_signal(subject_id,  run, mask)\n",
    "                r = sm.GLSAR(signal, X).iterative_fit()\n",
    "\n",
    "                adj_r.append({'subject_id':subject_id, 'mask':mask, 'r2_adj':r.rsquared_adj, 'r2':r.rsquared, 'run':run})\n",
    "\n",
    "                for par in pars:\n",
    "                    level2_dict.append({'value':r.params[par],\n",
    "                                        'par':par,\n",
    "                                        'subject_id':subject_id,\n",
    "                                        'mask':mask,\n",
    "                                        'run':run})\n",
    "        except Exception as e:\n",
    "            print 'Error: %s/%s/%s' %  (subject_id, mask, e)"
   ]
  },
  {
   "cell_type": "code",
   "execution_count": 34,
   "metadata": {
    "collapsed": false
   },
   "outputs": [
    {
     "data": {
      "text/plain": [
       "<seaborn.axisgrid.FacetGrid at 0x1424c190>"
      ]
     },
     "execution_count": 34,
     "metadata": {},
     "output_type": "execute_result"
    },
    {
     "data": {
      "image/png": "[encoded data removed]",
      "text/plain": [
       "<matplotlib.figure.Figure at 0x143a3c50>"
      ]
     },
     "metadata": {},
     "output_type": "display_data"
    }
   ],
   "source": [
    "df_glm = pandas.DataFrame(level2_dict)\n",
    "df_glm = df_glm.query('par != \"constant\"')\n",
    "df_glm['dummy'] = 1\n",
    "\n",
    "df_glm['% signal change'] = df_glm['value']\n",
    "sns.set_palette('Set1')\n",
    "sns.set_context('poster')\n",
    "sns.set_style('white')\n",
    "\n",
    "# sns.factorplot(x='dummy', y='value', hue='par', data=df_glm, col='mask', col_wrap=3, kind='bar', ci=95, hue_order=['payoff_cue (left)', 'payoff_cue (right)', 'neutral_cue','difficult_rdm', 'easy_rdm'])\n",
    "\n",
    "tmp = df_glm.groupby(['subject_id', 'mask', 'par', 'dummy'], as_index=False).mean()\n",
    "sns.factorplot(x='dummy', y='value', hue='par', data=tmp, col='mask', col_wrap=3, kind='bar', ci=95)"
   ]
  },
  {
   "cell_type": "code",
   "execution_count": 35,
   "metadata": {
    "collapsed": false
   },
   "outputs": [
    {
     "name": "stdout",
     "output_type": "stream",
     "text": [
      "***** STh_L_A ******\n",
      "***** STh_L_B ******\n",
      "***** STh_L_C ******\n",
      "***** STh_R_A ******\n",
      "***** STh_R_B ******\n",
      "***** STh_R_C ******\n"
     ]
    },
    {
     "data": {
      "text/html": [
       "<div>\n",
       "<table border=\"1\" class=\"dataframe\">\n",
       "  <thead>\n",
       "    <tr style=\"text-align: right;\">\n",
       "      <th></th>\n",
       "      <th>0</th>\n",
       "      <th>1</th>\n",
       "      <th>2</th>\n",
       "      <th>3</th>\n",
       "      <th>4</th>\n",
       "      <th>5</th>\n",
       "    </tr>\n",
       "  </thead>\n",
       "  <tbody>\n",
       "    <tr>\n",
       "      <th>mask</th>\n",
       "      <td>STh_L_A</td>\n",
       "      <td>STh_L_B</td>\n",
       "      <td>STh_L_C</td>\n",
       "      <td>STh_R_A</td>\n",
       "      <td>STh_R_B</td>\n",
       "      <td>STh_R_C</td>\n",
       "    </tr>\n",
       "    <tr>\n",
       "      <th>BF</th>\n",
       "      <td>0.3</td>\n",
       "      <td>0.36</td>\n",
       "      <td>0.5</td>\n",
       "      <td>0.32</td>\n",
       "      <td>0.25</td>\n",
       "      <td>0.28</td>\n",
       "    </tr>\n",
       "    <tr>\n",
       "      <th>p</th>\n",
       "      <td>0.49</td>\n",
       "      <td>0.34</td>\n",
       "      <td>0.2</td>\n",
       "      <td>0.42</td>\n",
       "      <td>0.79</td>\n",
       "      <td>0.55</td>\n",
       "    </tr>\n",
       "  </tbody>\n",
       "</table>\n",
       "</div>"
      ],
      "text/plain": [
       "            0        1        2        3        4        5\n",
       "mask  STh_L_A  STh_L_B  STh_L_C  STh_R_A  STh_R_B  STh_R_C\n",
       "BF        0.3     0.36      0.5     0.32     0.25     0.28\n",
       "p        0.49     0.34      0.2     0.42     0.79     0.55"
      ]
     },
     "execution_count": 35,
     "metadata": {},
     "output_type": "execute_result"
    }
   ],
   "source": [
    "masks = ['STh_L_A', 'STh_L_B', 'STh_L_C', 'STh_R_A', 'STh_R_B', 'STh_R_C']\n",
    "\n",
    "results = []\n",
    "\n",
    "for mask in masks:\n",
    "    df_mask = df_glm[df_glm['mask'] == mask].pivot_table(index='subject_id', values='value', columns='par')\n",
    "    \n",
    "    \n",
    "    print '***** %s ******' % mask\n",
    "    %R -i df_mask\n",
    "    %R library(BayesFactor)\n",
    "    %R bf = ttestBF(df_mask$left - df_mask$right)\n",
    "    %R tmp = extractBF(bf)\n",
    "    %R -o tmp\n",
    "    \n",
    "    t, p = sp.stats.ttest_rel(df_mask['left'], df_mask['right'])\n",
    "    \n",
    "    results.append({'mask':mask,\n",
    "                    'BF':tmp.bf.values[0],\n",
    "                     't':t,\n",
    "                    'p':p})\n",
    "    \n",
    "np.round(pandas.DataFrame(results)[['mask', 'BF', 'p']], 2).T"
   ]
  },
  {
   "cell_type": "markdown",
   "metadata": {},
   "source": [
    "# Model 1c"
   ]
  },
  {
   "cell_type": "markdown",
   "metadata": {},
   "source": [
    "\n",
    "It is well-known that especially limbic structures show highly heightened activity after an error has been made {Alexander:2011js}. Therefore, “drift-rate”-related activity in limbic areas such as the Insula {Mulder:2014ho, Keuken:2014iz} might just be a result of a larger number of errors in trials with a lower drift rate. To test this hypothesis, we fitted a third variant of the GLM (GLM 1c), that deconfounded the task difficulty from error trials. It included the following regressors: (a) neutral cue, (b) payoff cue, (d) easy RDM stimulus (correct), (e) easy RDM stimulus (error), (f) hard RDM stimulus (correct), (g) hard RDM stimulus (error). The main contrast-of-interest for this GLM was ‘hard RDM stimulus (correct) > easy RDM stimulus (correct)’.\n"
   ]
  },
  {
   "cell_type": "code",
   "execution_count": 36,
   "metadata": {
    "collapsed": false
   },
   "outputs": [
    {
     "name": "stdout",
     "output_type": "stream",
     "text": [
      "Error: 6/STh_R_C/all the input arrays must have same number of dimensions\n"
     ]
    }
   ],
   "source": [
    "import itertools\n",
    "import pyfir\n",
    "from nipy.modalities.fmri import design_matrix, experimental_paradigm\n",
    "import statsmodels.api as sm\n",
    "\n",
    "level2_dict = []\n",
    "adj_r = []\n",
    "# pars = ['neutral_cue', 'left_cue', 'right_cue', 'neutral_easy_correct', 'valid_easy_correct', 'invalid_easy_correct', 'neutral_hard_correct', 'valid_hard_correct', 'invalid_hard_correct', 'easy_error', 'hard_error',]\n",
    "# pars = \n",
    "\n",
    "for subject_id in np.arange(1, 20):\n",
    "    for run in [1,2,3]:\n",
    "\n",
    "        try:\n",
    "            onsets_dict = get_onsets(subject_id, run, 'model1c', shift=-1.5)\n",
    "            pars = onsets_dict.keys()\n",
    "\n",
    "            conditions = []\n",
    "            onsets = []\n",
    "            for key in onsets_dict.keys():\n",
    "                conditions += [key] * len(onsets_dict[key])\n",
    "                onsets += onsets_dict[key]\n",
    "\n",
    "            paradigm =  experimental_paradigm.BlockParadigm(con_id=conditions, \n",
    "                                                            onset=onsets,\n",
    "                                                            duration=[[1.]] * len(conditions))\n",
    "            tr = 3.0\n",
    "            frametimes = np.linspace(0, 387 * tr, 387)\n",
    "            hrf_model = 'Canonical with Derivative'\n",
    "\n",
    "            X, names= design_matrix.dmtx_light(frametimes, paradigm, hrf_model=hrf_model, drift_model='polynomial', fir_delays=np.arange(11), drift_order=3)\n",
    "\n",
    "            X /= X.max(0)\n",
    "            X = pandas.DataFrame(X, columns=names)\n",
    "\n",
    "            for i, mask in enumerate(['STh_L_A', 'STh_L_B', 'STh_L_C', 'STh_R_A', 'STh_R_B', 'STh_R_C']):\n",
    "                signal = get_signal(subject_id,  run, mask)\n",
    "                r = sm.GLSAR(signal, X).iterative_fit()\n",
    "\n",
    "                adj_r.append({'subject_id':subject_id, 'mask':mask, 'r2_adj':r.rsquared_adj, 'r2':r.rsquared, 'run':run})\n",
    "\n",
    "                for par in pars:\n",
    "                    level2_dict.append({'value':r.params[par],\n",
    "                                        'par':par,\n",
    "                                        'subject_id':subject_id,\n",
    "                                        'mask':mask,\n",
    "                                        'run':run})\n",
    "        except Exception as e:\n",
    "            print 'Error: %s/%s/%s' %  (subject_id, mask, e)"
   ]
  },
  {
   "cell_type": "code",
   "execution_count": 37,
   "metadata": {
    "collapsed": false
   },
   "outputs": [
    {
     "data": {
      "image/png": "[encoded data removed]",
      "text/plain": [
       "<matplotlib.figure.Figure at 0xb2586d0>"
      ]
     },
     "metadata": {},
     "output_type": "display_data"
    }
   ],
   "source": [
    "df_glm = pandas.DataFrame(level2_dict)\n",
    "df_glm = df_glm.query('par != \"constant\"')\n",
    "df_glm['dummy'] = 1\n",
    "\n",
    "df_glm['% signal change'] = df_glm['value']\n",
    "sns.set_palette('Set1')\n",
    "sns.set_context('poster')\n",
    "sns.set_style('white')\n",
    "\n",
    "# sns.factorplot(x='dummy', y='value', hue='par', data=df_glm, col='mask', col_wrap=3, kind='bar', ci=95, hue_order=['payoff_cue (left)', 'payoff_cue (right)', 'neutral_cue','difficult_rdm', 'easy_rdm'])\n",
    "\n",
    "tmp = df_glm.groupby(['subject_id', 'mask', 'par', 'dummy'], as_index=False).mean()\n",
    "fac = sns.factorplot(x='par', y='% signal change', data=tmp, col='mask', col_wrap=3, kind='bar', ci=67, x_order=['easy (correct)', 'hard (correct)', '', 'easy (error)', 'hard (error)'], palette=['lightgreen', 'darkgreen', 'red', 'red', 'darkred'])\n",
    "\n",
    "fac.set_xticklabels(rotation=45)\n",
    "fac.set_xlabels('')\n",
    "\n",
    "plt.tight_layout()\n",
    "\n",
    "plt.savefig('/home/gdholla1/projects/bias/reports/figures/glm_model1c.pdf')"
   ]
  },
  {
   "cell_type": "code",
   "execution_count": 39,
   "metadata": {
    "collapsed": true
   },
   "outputs": [],
   "source": [
    "import re"
   ]
  },
  {
   "cell_type": "code",
   "execution_count": 40,
   "metadata": {
    "collapsed": false,
    "scrolled": false
   },
   "outputs": [
    {
     "name": "stdout",
     "output_type": "stream",
     "text": [
      " ****** STh_L_A *******\n"
     ]
    },
    {
     "data": {
      "text/plain": [
       "\r",
       "  |                                                                            \r",
       "  |                                                                      |   0%\r",
       "  |                                                                            \r",
       "  |==============                                                        |  20%\r",
       "  |                                                                            \r",
       "  |============================                                          |  40%\r",
       "  |                                                                            \r",
       "  |==========================================                            |  60%\r",
       "  |                                                                            \r",
       "  |========================================================              |  80%\r",
       "  |                                                                            \r",
       "  |======================================================================| 100%\n"
      ]
     },
     "metadata": {},
     "output_type": "display_data"
    },
    {
     "data": {
      "text/plain": [
       "Bayes factor top-down analysis\n",
       "--------------\n",
       "When effect is omitted from difficulty + correct + difficulty:correct + subject_id , BF is...\n",
       "[1] Omit correct:difficulty : 1.73602  ±2.31%\n",
       "[2] Omit correct            : 2.184597 ±1.83%\n",
       "[3] Omit difficulty         : 3.736553 ±1.74%\n",
       "\n",
       "Against denominator:\n",
       "  value ~ difficulty + correct + difficulty:correct + subject_id \n",
       "---\n",
       "Bayes factor type: BFlinearModel, JZS\n",
       "\n"
      ]
     },
     "metadata": {},
     "output_type": "display_data"
    },
    {
     "data": {
      "text/plain": [
       "                                                        denominator\n",
       "numerator                                                difficulty + correct + subject_id\n",
       "  difficulty + correct + difficulty:correct + subject_id                         0.5760301\n",
       "                                                        denominator\n",
       "numerator                                                difficulty + difficulty:correct + subject_id\n",
       "  difficulty + correct + difficulty:correct + subject_id                                    0.4577504\n",
       "                                                        denominator\n",
       "numerator                                                correct + difficulty:correct + subject_id\n",
       "  difficulty + correct + difficulty:correct + subject_id                                 0.2676263\n"
      ]
     },
     "metadata": {},
     "output_type": "display_data"
    },
    {
     "data": {
      "text/plain": [
       "\n",
       "Error: subject_id\n",
       "          Df Sum Sq Mean Sq F value Pr(>F)\n",
       "Residuals 18  2.449  0.1361               \n",
       "\n",
       "Error: subject_id:difficulty\n",
       "           Df Sum Sq Mean Sq F value Pr(>F)\n",
       "difficulty  1 0.0112 0.01115   0.571   0.46\n",
       "Residuals  18 0.3517 0.01954               \n",
       "\n",
       "Error: subject_id:correct\n",
       "          Df Sum Sq Mean Sq F value Pr(>F)\n",
       "correct    1 0.0558 0.05579   0.755  0.396\n",
       "Residuals 18 1.3304 0.07391               \n",
       "\n",
       "Error: subject_id:difficulty:correct\n",
       "                   Df  Sum Sq Mean Sq F value Pr(>F)  \n",
       "difficulty:correct  1 0.05733 0.05733   3.548 0.0759 .\n",
       "Residuals          18 0.29088 0.01616                 \n",
       "---\n",
       "Signif. codes:  0 ‘***’ 0.001 ‘**’ 0.01 ‘*’ 0.05 ‘.’ 0.1 ‘ ’ 1\n"
      ]
     },
     "metadata": {},
     "output_type": "display_data"
    },
    {
     "name": "stdout",
     "output_type": "stream",
     "text": [
      " ****** STh_L_B *******\n"
     ]
    },
    {
     "data": {
      "text/plain": [
       "\r",
       "  |                                                                            \r",
       "  |                                                                      |   0%\r",
       "  |                                                                            \r",
       "  |==============                                                        |  20%\r",
       "  |                                                                            \r",
       "  |============================                                          |  40%\r",
       "  |                                                                            \r",
       "  |==========================================                            |  60%\r",
       "  |                                                                            \r",
       "  |========================================================              |  80%\r",
       "  |                                                                            \r",
       "  |======================================================================| 100%\n"
      ]
     },
     "metadata": {},
     "output_type": "display_data"
    },
    {
     "data": {
      "text/plain": [
       "Bayes factor top-down analysis\n",
       "--------------\n",
       "When effect is omitted from difficulty + correct + difficulty:correct + subject_id , BF is...\n",
       "[1] Omit correct:difficulty : 3.399902 ±18.4%\n",
       "[2] Omit correct            : 2.513587 ±2.07%\n",
       "[3] Omit difficulty         : 3.78839  ±1.39%\n",
       "\n",
       "Against denominator:\n",
       "  value ~ difficulty + correct + difficulty:correct + subject_id \n",
       "---\n",
       "Bayes factor type: BFlinearModel, JZS\n",
       "\n"
      ]
     },
     "metadata": {},
     "output_type": "display_data"
    },
    {
     "data": {
      "text/plain": [
       "                                                        denominator\n",
       "numerator                                                difficulty + correct + subject_id\n",
       "  difficulty + correct + difficulty:correct + subject_id                         0.2941261\n",
       "                                                        denominator\n",
       "numerator                                                difficulty + difficulty:correct + subject_id\n",
       "  difficulty + correct + difficulty:correct + subject_id                                    0.3978378\n",
       "                                                        denominator\n",
       "numerator                                                correct + difficulty:correct + subject_id\n",
       "  difficulty + correct + difficulty:correct + subject_id                                 0.2639644\n"
      ]
     },
     "metadata": {},
     "output_type": "display_data"
    },
    {
     "data": {
      "text/plain": [
       "\n",
       "Error: subject_id\n",
       "          Df Sum Sq Mean Sq F value Pr(>F)\n",
       "Residuals 18  5.494  0.3052               \n",
       "\n",
       "Error: subject_id:difficulty\n",
       "           Df  Sum Sq Mean Sq F value Pr(>F)\n",
       "difficulty  1 0.01147 0.01147   0.694  0.416\n",
       "Residuals  18 0.29751 0.01653               \n",
       "\n",
       "Error: subject_id:correct\n",
       "          Df Sum Sq Mean Sq F value Pr(>F)\n",
       "correct    1 0.0664 0.06642   0.578  0.457\n",
       "Residuals 18 2.0674 0.11486               \n",
       "\n",
       "Error: subject_id:difficulty:correct\n",
       "                   Df Sum Sq Mean Sq F value Pr(>F)\n",
       "difficulty:correct  1 0.0184 0.01842   0.603  0.448\n",
       "Residuals          18 0.5500 0.03056               \n"
      ]
     },
     "metadata": {},
     "output_type": "display_data"
    },
    {
     "name": "stdout",
     "output_type": "stream",
     "text": [
      " ****** STh_L_C *******\n"
     ]
    },
    {
     "data": {
      "text/plain": [
       "\r",
       "  |                                                                            \r",
       "  |                                                                      |   0%\r",
       "  |                                                                            \r",
       "  |==============                                                        |  20%\r",
       "  |                                                                            \r",
       "  |============================                                          |  40%\r",
       "  |                                                                            \r",
       "  |==========================================                            |  60%\r",
       "  |                                                                            \r",
       "  |========================================================              |  80%\r",
       "  |                                                                            \r",
       "  |======================================================================| 100%\n"
      ]
     },
     "metadata": {},
     "output_type": "display_data"
    },
    {
     "data": {
      "text/plain": [
       "Bayes factor top-down analysis\n",
       "--------------\n",
       "When effect is omitted from difficulty + correct + difficulty:correct + subject_id , BF is...\n",
       "[1] Omit correct:difficulty : 2.586694  ±3.31%\n",
       "[2] Omit correct            : 0.5138295 ±3.42%\n",
       "[3] Omit difficulty         : 4.024725  ±3.34%\n",
       "\n",
       "Against denominator:\n",
       "  value ~ difficulty + correct + difficulty:correct + subject_id \n",
       "---\n",
       "Bayes factor type: BFlinearModel, JZS\n",
       "\n"
      ]
     },
     "metadata": {},
     "output_type": "display_data"
    },
    {
     "data": {
      "text/plain": [
       "                                                        denominator\n",
       "numerator                                                difficulty + correct + subject_id\n",
       "  difficulty + correct + difficulty:correct + subject_id                         0.3865939\n",
       "                                                        denominator\n",
       "numerator                                                difficulty + difficulty:correct + subject_id\n",
       "  difficulty + correct + difficulty:correct + subject_id                                     1.946171\n",
       "                                                        denominator\n",
       "numerator                                                correct + difficulty:correct + subject_id\n",
       "  difficulty + correct + difficulty:correct + subject_id                                 0.2484642\n"
      ]
     },
     "metadata": {},
     "output_type": "display_data"
    },
    {
     "data": {
      "text/plain": [
       "\n",
       "Error: subject_id\n",
       "          Df Sum Sq Mean Sq F value Pr(>F)\n",
       "Residuals 18  4.982  0.2768               \n",
       "\n",
       "Error: subject_id:difficulty\n",
       "           Df Sum Sq Mean Sq F value Pr(>F)\n",
       "difficulty  1 0.0019 0.00189   0.046  0.832\n",
       "Residuals  18 0.7323 0.04069               \n",
       "\n",
       "Error: subject_id:correct\n",
       "          Df Sum Sq Mean Sq F value Pr(>F)  \n",
       "correct    1 0.2046 0.20460   4.235 0.0544 .\n",
       "Residuals 18 0.8696 0.04831                 \n",
       "---\n",
       "Signif. codes:  0 ‘***’ 0.001 ‘**’ 0.01 ‘*’ 0.05 ‘.’ 0.1 ‘ ’ 1\n",
       "\n",
       "Error: subject_id:difficulty:correct\n",
       "                   Df Sum Sq Mean Sq F value Pr(>F)\n",
       "difficulty:correct  1 0.0186 0.01856    0.48  0.497\n",
       "Residuals          18 0.6960 0.03867               \n"
      ]
     },
     "metadata": {},
     "output_type": "display_data"
    },
    {
     "name": "stdout",
     "output_type": "stream",
     "text": [
      " ****** STh_R_A *******\n"
     ]
    },
    {
     "data": {
      "text/plain": [
       "\r",
       "  |                                                                            \r",
       "  |                                                                      |   0%\r",
       "  |                                                                            \r",
       "  |==============                                                        |  20%\r",
       "  |                                                                            \r",
       "  |============================                                          |  40%\r",
       "  |                                                                            \r",
       "  |==========================================                            |  60%\r",
       "  |                                                                            \r",
       "  |========================================================              |  80%\r",
       "  |                                                                            \r",
       "  |======================================================================| 100%\n"
      ]
     },
     "metadata": {},
     "output_type": "display_data"
    },
    {
     "data": {
      "text/plain": [
       "Bayes factor top-down analysis\n",
       "--------------\n",
       "When effect is omitted from difficulty + correct + difficulty:correct + subject_id , BF is...\n",
       "[1] Omit correct:difficulty : 0.4382096 ±2.99%\n",
       "[2] Omit correct            : 1.067231  ±5.72%\n",
       "[3] Omit difficulty         : 1.979137  ±1.66%\n",
       "\n",
       "Against denominator:\n",
       "  value ~ difficulty + correct + difficulty:correct + subject_id \n",
       "---\n",
       "Bayes factor type: BFlinearModel, JZS\n",
       "\n"
      ]
     },
     "metadata": {},
     "output_type": "display_data"
    },
    {
     "data": {
      "text/plain": [
       "                                                        denominator\n",
       "numerator                                                difficulty + correct + subject_id\n",
       "  difficulty + correct + difficulty:correct + subject_id                          2.282013\n",
       "                                                        denominator\n",
       "numerator                                                difficulty + difficulty:correct + subject_id\n",
       "  difficulty + correct + difficulty:correct + subject_id                                    0.9370045\n",
       "                                                        denominator\n",
       "numerator                                                correct + difficulty:correct + subject_id\n",
       "  difficulty + correct + difficulty:correct + subject_id                                 0.5052709\n"
      ]
     },
     "metadata": {},
     "output_type": "display_data"
    },
    {
     "data": {
      "text/plain": [
       "\n",
       "Error: subject_id\n",
       "          Df Sum Sq Mean Sq F value Pr(>F)\n",
       "Residuals 18  3.921  0.2178               \n",
       "\n",
       "Error: subject_id:difficulty\n",
       "           Df Sum Sq Mean Sq F value Pr(>F)  \n",
       "difficulty  1 0.0777 0.07773   3.903 0.0637 .\n",
       "Residuals  18 0.3585 0.01992                 \n",
       "---\n",
       "Signif. codes:  0 ‘***’ 0.001 ‘**’ 0.01 ‘*’ 0.05 ‘.’ 0.1 ‘ ’ 1\n",
       "\n",
       "Error: subject_id:correct\n",
       "          Df Sum Sq Mean Sq F value Pr(>F)\n",
       "correct    1 0.1471 0.14713   1.961  0.178\n",
       "Residuals 18 1.3507 0.07504               \n",
       "\n",
       "Error: subject_id:difficulty:correct\n",
       "                   Df Sum Sq Mean Sq F value Pr(>F)  \n",
       "difficulty:correct  1 0.2247 0.22473   6.344 0.0215 *\n",
       "Residuals          18 0.6376 0.03542                 \n",
       "---\n",
       "Signif. codes:  0 ‘***’ 0.001 ‘**’ 0.01 ‘*’ 0.05 ‘.’ 0.1 ‘ ’ 1\n"
      ]
     },
     "metadata": {},
     "output_type": "display_data"
    },
    {
     "name": "stdout",
     "output_type": "stream",
     "text": [
      " ****** STh_R_B *******\n"
     ]
    },
    {
     "data": {
      "text/plain": [
       "\r",
       "  |                                                                            \r",
       "  |                                                                      |   0%\r",
       "  |                                                                            \r",
       "  |==============                                                        |  20%\r",
       "  |                                                                            \r",
       "  |============================                                          |  40%\r",
       "  |                                                                            \r",
       "  |==========================================                            |  60%\r",
       "  |                                                                            \r",
       "  |========================================================              |  80%\r",
       "  |                                                                            \r",
       "  |======================================================================| 100%\n"
      ]
     },
     "metadata": {},
     "output_type": "display_data"
    },
    {
     "data": {
      "text/plain": [
       "Bayes factor top-down analysis\n",
       "--------------\n",
       "When effect is omitted from difficulty + correct + difficulty:correct + subject_id , BF is...\n",
       "[1] Omit correct:difficulty : 1.503073 ±5.1%\n",
       "[2] Omit correct            : 2.872619 ±3.68%\n",
       "[3] Omit difficulty         : 2.197707 ±4.73%\n",
       "\n",
       "Against denominator:\n",
       "  value ~ difficulty + correct + difficulty:correct + subject_id \n",
       "---\n",
       "Bayes factor type: BFlinearModel, JZS\n",
       "\n"
      ]
     },
     "metadata": {},
     "output_type": "display_data"
    },
    {
     "data": {
      "text/plain": [
       "                                                        denominator\n",
       "numerator                                                difficulty + correct + subject_id\n",
       "  difficulty + correct + difficulty:correct + subject_id                         0.6653038\n",
       "                                                        denominator\n",
       "numerator                                                difficulty + difficulty:correct + subject_id\n",
       "  difficulty + correct + difficulty:correct + subject_id                                    0.3481144\n",
       "                                                        denominator\n",
       "numerator                                                correct + difficulty:correct + subject_id\n",
       "  difficulty + correct + difficulty:correct + subject_id                                 0.4550198\n"
      ]
     },
     "metadata": {},
     "output_type": "display_data"
    },
    {
     "data": {
      "text/plain": [
       "\n",
       "Error: subject_id\n",
       "          Df Sum Sq Mean Sq F value Pr(>F)\n",
       "Residuals 18  1.821  0.1012               \n",
       "\n",
       "Error: subject_id:difficulty\n",
       "           Df  Sum Sq Mean Sq F value Pr(>F)\n",
       "difficulty  1 0.05174 0.05174   2.978  0.102\n",
       "Residuals  18 0.31269 0.01737               \n",
       "\n",
       "Error: subject_id:correct\n",
       "          Df Sum Sq Mean Sq F value Pr(>F)\n",
       "correct    1 0.0278 0.02785   0.436  0.517\n",
       "Residuals 18 1.1493 0.06385               \n",
       "\n",
       "Error: subject_id:difficulty:correct\n",
       "                   Df Sum Sq Mean Sq F value Pr(>F)\n",
       "difficulty:correct  1 0.0663 0.06631   2.707  0.117\n",
       "Residuals          18 0.4410 0.02450               \n"
      ]
     },
     "metadata": {},
     "output_type": "display_data"
    },
    {
     "name": "stdout",
     "output_type": "stream",
     "text": [
      " ****** STh_R_C *******\n"
     ]
    },
    {
     "data": {
      "text/plain": [
       "\r",
       "  |                                                                            \r",
       "  |                                                                      |   0%\r",
       "  |                                                                            \r",
       "  |==============                                                        |  20%\r",
       "  |                                                                            \r",
       "  |============================                                          |  40%\r",
       "  |                                                                            \r",
       "  |==========================================                            |  60%\r",
       "  |                                                                            \r",
       "  |========================================================              |  80%\r",
       "  |                                                                            \r",
       "  |======================================================================| 100%\n"
      ]
     },
     "metadata": {},
     "output_type": "display_data"
    },
    {
     "data": {
      "text/plain": [
       "Bayes factor top-down analysis\n",
       "--------------\n",
       "When effect is omitted from difficulty + correct + difficulty:correct + subject_id , BF is...\n",
       "[1] Omit correct:difficulty : 1.338042  ±11.91%\n",
       "[2] Omit correct            : 0.6730399 ±11.89%\n",
       "[3] Omit difficulty         : 2.778363  ±11.9%\n",
       "\n",
       "Against denominator:\n",
       "  value ~ difficulty + correct + difficulty:correct + subject_id \n",
       "---\n",
       "Bayes factor type: BFlinearModel, JZS\n",
       "\n"
      ]
     },
     "metadata": {},
     "output_type": "display_data"
    },
    {
     "data": {
      "text/plain": [
       "                                                        denominator\n",
       "numerator                                                difficulty + correct + subject_id\n",
       "  difficulty + correct + difficulty:correct + subject_id                         0.7473609\n",
       "                                                        denominator\n",
       "numerator                                                difficulty + difficulty:correct + subject_id\n",
       "  difficulty + correct + difficulty:correct + subject_id                                     1.485796\n",
       "                                                        denominator\n",
       "numerator                                                correct + difficulty:correct + subject_id\n",
       "  difficulty + correct + difficulty:correct + subject_id                                 0.3599242\n"
      ]
     },
     "metadata": {},
     "output_type": "display_data"
    },
    {
     "data": {
      "text/plain": [
       "\n",
       "Error: subject_id\n",
       "          Df Sum Sq Mean Sq F value Pr(>F)\n",
       "Residuals 18  6.214  0.3452               \n",
       "\n",
       "Error: subject_id:difficulty\n",
       "           Df Sum Sq Mean Sq F value Pr(>F)\n",
       "difficulty  1  0.045 0.04502   0.643  0.433\n",
       "Residuals  18  1.260 0.06997               \n",
       "\n",
       "Error: subject_id:correct\n",
       "          Df Sum Sq Mean Sq F value Pr(>F)\n",
       "correct    1 0.2817 0.28169   2.935  0.104\n",
       "Residuals 18 1.7274 0.09597               \n",
       "\n",
       "Error: subject_id:difficulty:correct\n",
       "                   Df Sum Sq Mean Sq F value Pr(>F)\n",
       "difficulty:correct  1 0.1298 0.12983   2.707  0.117\n",
       "Residuals          18 0.8633 0.04796               \n"
      ]
     },
     "metadata": {},
     "output_type": "display_data"
    }
   ],
   "source": [
    "masks = ['STh_L_A', 'STh_L_B', 'STh_L_C', 'STh_R_A', 'STh_R_B', 'STh_R_C']\n",
    "\n",
    "results = []\n",
    "\n",
    "for mask in masks:\n",
    "    df = df_glm[df_glm['mask'] == mask].pivot_table(index='subject_id', values='value', columns='par')\n",
    "    \n",
    "    df = pandas.melt(df.reset_index(), id_vars='subject_id')\n",
    "    reg = re.compile('([a-z]+) \\(([a-z]+)\\)')\n",
    "\n",
    "    df = df[df.par.apply(lambda x: reg.match(x) is not None)]\n",
    "    df['difficulty'] = df.par.apply(lambda x: reg.match(x).group(1))\n",
    "    df['correct'] = df.par.apply(lambda x: reg.match(x).group(2))\n",
    "    df['subject_id'] = df['subject_id'].astype('category')\n",
    "    \n",
    "    \n",
    "    print ' ****** %s *******' % mask\n",
    "    %R -i df\n",
    "\n",
    "    %R library(BayesFactor)\n",
    "    %R bf = anovaBF(value ~ difficulty*correct + subject_id, data = df,  whichRandom=\"subject_id\", whichModels='top', iterations=100000)\n",
    "    %R print(bf)\n",
    "    %R print(1/bf)\n",
    "    %R print(summary(aov(value ~ difficulty*correct + Error(subject_id/(difficulty*correct)), df)))\n",
    "    \n",
    "#     %R tmp = extractBF(bf)\n",
    "#     %R -o tmp\n",
    "    \n",
    "#     results.append({'mask':mask,\n",
    "#                     'BF':tmp.bf.values[0]})\n",
    "    \n",
    "# pandas.DataFrame(results)[['mask', 'BF']]"
   ]
  },
  {
   "cell_type": "code",
   "execution_count": 41,
   "metadata": {
    "collapsed": false
   },
   "outputs": [
    {
     "data": {
      "text/plain": [
       "\r",
       "  |                                                                            \r",
       "  |                                                                      |   0%\r",
       "  |                                                                            \r",
       "  |==============                                                        |  20%\r",
       "  |                                                                            \r",
       "  |============================                                          |  40%\r",
       "  |                                                                            \r",
       "  |==========================================                            |  60%\r",
       "  |                                                                            \r",
       "  |========================================================              |  80%\r",
       "  |                                                                            \r",
       "  |======================================================================| 100%\n"
      ]
     },
     "metadata": {},
     "output_type": "display_data"
    },
    {
     "data": {
      "text/plain": [
       "Bayes factor top-down analysis\n",
       "--------------\n",
       "When effect is omitted from correct + mask + correct:mask + subject_id , BF is...\n",
       "[1] Omit correct:mask : 6.278262 ±2.13%\n",
       "[2] Omit mask         : 9.016157 ±2.07%\n",
       "[3] Omit correct      : 1.071836 ±2.36%\n",
       "\n",
       "Against denominator:\n",
       "  value ~ correct + mask + correct:mask + subject_id \n",
       "---\n",
       "Bayes factor type: BFlinearModel, JZS\n",
       "\n"
      ]
     },
     "metadata": {},
     "output_type": "display_data"
    },
    {
     "data": {
      "text/plain": [
       "                                            denominator\n",
       "numerator                                    correct + mask + subject_id\n",
       "  correct + mask + correct:mask + subject_id                   0.1592798\n",
       "                                            denominator\n",
       "numerator                                    correct + correct:mask + subject_id\n",
       "  correct + mask + correct:mask + subject_id                            0.110912\n",
       "                                            denominator\n",
       "numerator                                    mask + correct:mask + subject_id\n",
       "  correct + mask + correct:mask + subject_id                        0.9329785\n"
      ]
     },
     "metadata": {},
     "output_type": "display_data"
    },
    {
     "data": {
      "text/plain": [
       "\n",
       "Error: subject_id\n",
       "          Df Sum Sq Mean Sq F value Pr(>F)\n",
       "Residuals 18  4.564  0.2536               \n",
       "\n",
       "Error: subject_id:mask\n",
       "          Df Sum Sq Mean Sq F value Pr(>F)\n",
       "mask       2  0.030 0.01499   0.284  0.754\n",
       "Residuals 36  1.898 0.05273               \n",
       "\n",
       "Error: subject_id:correct\n",
       "          Df Sum Sq Mean Sq F value Pr(>F)\n",
       "correct    1 0.1492 0.14923   1.544   0.23\n",
       "Residuals 18 1.7394 0.09663               \n",
       "\n",
       "Error: subject_id:mask:correct\n",
       "             Df Sum Sq  Mean Sq F value Pr(>F)\n",
       "mask:correct  2 0.0142 0.007087   0.647   0.53\n",
       "Residuals    36 0.3943 0.010953               \n"
      ]
     },
     "metadata": {},
     "output_type": "display_data"
    },
    {
     "data": {
      "text/plain": [
       "\r",
       "  |                                                                            \r",
       "  |                                                                      |   0%\r",
       "  |                                                                            \r",
       "  |==============                                                        |  20%\r",
       "  |                                                                            \r",
       "  |============================                                          |  40%\r",
       "  |                                                                            \r",
       "  |==========================================                            |  60%\r",
       "  |                                                                            \r",
       "  |========================================================              |  80%\r",
       "  |                                                                            \r",
       "  |======================================================================| 100%\n"
      ]
     },
     "metadata": {},
     "output_type": "display_data"
    },
    {
     "data": {
      "text/plain": [
       "Bayes factor top-down analysis\n",
       "--------------\n",
       "When effect is omitted from correct + mask + correct:mask + subject_id , BF is...\n",
       "[1] Omit correct:mask : 5.468601  ±2.45%\n",
       "[2] Omit mask         : 2.411097  ±2.26%\n",
       "[3] Omit correct      : 0.7284319 ±2.28%\n",
       "\n",
       "Against denominator:\n",
       "  value ~ correct + mask + correct:mask + subject_id \n",
       "---\n",
       "Bayes factor type: BFlinearModel, JZS\n",
       "\n"
      ]
     },
     "metadata": {},
     "output_type": "display_data"
    },
    {
     "data": {
      "text/plain": [
       "                                            denominator\n",
       "numerator                                    correct + mask + subject_id\n",
       "  correct + mask + correct:mask + subject_id                   0.1828621\n",
       "                                            denominator\n",
       "numerator                                    correct + correct:mask + subject_id\n",
       "  correct + mask + correct:mask + subject_id                            0.414749\n",
       "                                            denominator\n",
       "numerator                                    mask + correct:mask + subject_id\n",
       "  correct + mask + correct:mask + subject_id                         1.372812\n"
      ]
     },
     "metadata": {},
     "output_type": "display_data"
    },
    {
     "data": {
      "text/plain": [
       "\n",
       "Error: subject_id\n",
       "          Df Sum Sq Mean Sq F value Pr(>F)\n",
       "Residuals 18  3.906   0.217               \n",
       "\n",
       "Error: subject_id:mask\n",
       "          Df Sum Sq Mean Sq F value Pr(>F)\n",
       "mask       2 0.1767 0.08836   1.536  0.229\n",
       "Residuals 36 2.0716 0.05754               \n",
       "\n",
       "Error: subject_id:correct\n",
       "          Df Sum Sq Mean Sq F value Pr(>F)\n",
       "correct    1 0.1948 0.19483   2.023  0.172\n",
       "Residuals 18 1.7332 0.09629               \n",
       "\n",
       "Error: subject_id:mask:correct\n",
       "             Df Sum Sq Mean Sq F value Pr(>F)\n",
       "mask:correct  2 0.0335 0.01675   1.585  0.219\n",
       "Residuals    36 0.3805 0.01057               \n"
      ]
     },
     "metadata": {},
     "output_type": "display_data"
    },
    {
     "data": {
      "text/html": [
       "<div>\n",
       "<table border=\"1\" class=\"dataframe\">\n",
       "  <thead>\n",
       "    <tr style=\"text-align: right;\">\n",
       "      <th></th>\n",
       "      <th>subject_id</th>\n",
       "      <th>mask</th>\n",
       "      <th>par</th>\n",
       "      <th>dummy</th>\n",
       "      <th>run</th>\n",
       "      <th>value</th>\n",
       "      <th>% signal change</th>\n",
       "    </tr>\n",
       "  </thead>\n",
       "  <tbody>\n",
       "    <tr>\n",
       "      <th>0</th>\n",
       "      <td>1</td>\n",
       "      <td>STh_L_A</td>\n",
       "      <td>easy (correct)</td>\n",
       "      <td>1</td>\n",
       "      <td>2.0</td>\n",
       "      <td>0.021144</td>\n",
       "      <td>0.021144</td>\n",
       "    </tr>\n",
       "    <tr>\n",
       "      <th>1</th>\n",
       "      <td>1</td>\n",
       "      <td>STh_L_A</td>\n",
       "      <td>easy (error)</td>\n",
       "      <td>1</td>\n",
       "      <td>2.0</td>\n",
       "      <td>-0.095325</td>\n",
       "      <td>-0.095325</td>\n",
       "    </tr>\n",
       "    <tr>\n",
       "      <th>2</th>\n",
       "      <td>1</td>\n",
       "      <td>STh_L_A</td>\n",
       "      <td>hard (correct)</td>\n",
       "      <td>1</td>\n",
       "      <td>2.0</td>\n",
       "      <td>-0.128460</td>\n",
       "      <td>-0.128460</td>\n",
       "    </tr>\n",
       "    <tr>\n",
       "      <th>3</th>\n",
       "      <td>1</td>\n",
       "      <td>STh_L_A</td>\n",
       "      <td>hard (error)</td>\n",
       "      <td>1</td>\n",
       "      <td>2.0</td>\n",
       "      <td>-0.007186</td>\n",
       "      <td>-0.007186</td>\n",
       "    </tr>\n",
       "    <tr>\n",
       "      <th>4</th>\n",
       "      <td>1</td>\n",
       "      <td>STh_L_A</td>\n",
       "      <td>neutral_cue</td>\n",
       "      <td>1</td>\n",
       "      <td>2.0</td>\n",
       "      <td>0.014610</td>\n",
       "      <td>0.014610</td>\n",
       "    </tr>\n",
       "  </tbody>\n",
       "</table>\n",
       "</div>"
      ],
      "text/plain": [
       "   subject_id     mask             par  dummy  run     value  % signal change\n",
       "0           1  STh_L_A  easy (correct)      1  2.0  0.021144         0.021144\n",
       "1           1  STh_L_A    easy (error)      1  2.0 -0.095325        -0.095325\n",
       "2           1  STh_L_A  hard (correct)      1  2.0 -0.128460        -0.128460\n",
       "3           1  STh_L_A    hard (error)      1  2.0 -0.007186        -0.007186\n",
       "4           1  STh_L_A     neutral_cue      1  2.0  0.014610         0.014610"
      ]
     },
     "execution_count": 41,
     "metadata": {},
     "output_type": "execute_result"
    }
   ],
   "source": [
    "df_glm\n",
    "\n",
    "df = df_glm.copy()\n",
    "\n",
    "# df = pandas.melt(df.reset_index(), id_vars='subject_id')\n",
    "reg = re.compile('([a-z]+) \\(([a-z]+)\\)')\n",
    "\n",
    "df = df[df.par.apply(lambda x: reg.match(x) is not None)]\n",
    "df['difficulty'] = df.par.apply(lambda x: reg.match(x).group(1))\n",
    "df['correct'] = df.par.apply(lambda x: reg.match(x).group(2))\n",
    "df['subject_id'] = df['subject_id'].astype('category')\n",
    "\n",
    "tmp_l = df[np.in1d(df['mask'], ['STh_L_A', 'STh_L_B', 'STh_L_C'])].groupby(['subject_id', 'correct', 'mask'], as_index=False).mean()\n",
    "\n",
    "%R -i tmp_l\n",
    "%R library(BayesFactor)\n",
    "%R bf = anovaBF(value ~ mask*correct + subject_id, data = tmp_l,  whichRandom=\"subject_id\", whichModels='top', iterations=100000)\n",
    "%R print(bf)\n",
    "%R print(1/bf)\n",
    "%R print(summary(aov(value ~ mask*correct + Error(subject_id/(mask*correct)), tmp_l)))\n",
    "\n",
    "tmp_r = df[np.in1d(df['mask'], ['STh_R_A', 'STh_R_B', 'STh_R_C'])].groupby(['subject_id', 'correct', 'mask'], as_index=False).mean()\n",
    "\n",
    "%R -i tmp_r\n",
    "%R library(BayesFactor)\n",
    "%R bf = anovaBF(value ~ mask*correct + subject_id, data = tmp_r,  whichRandom=\"subject_id\", whichModels='top', iterations=100000)\n",
    "%R print(bf)\n",
    "%R print(1/bf)\n",
    "%R print(summary(aov(value ~ mask*correct + Error(subject_id/(mask*correct)), tmp_r)))\n",
    "\n",
    "tmp.head()"
   ]
  },
  {
   "cell_type": "code",
   "execution_count": 42,
   "metadata": {
    "collapsed": true
   },
   "outputs": [],
   "source": [
    "## Interaction"
   ]
  },
  {
   "cell_type": "code",
   "execution_count": 44,
   "metadata": {
    "collapsed": false
   },
   "outputs": [
    {
     "data": {
      "text/plain": [
       "\r",
       "  |                                                                            \r",
       "  |                                                                      |   0%\r",
       "  |                                                                            \r",
       "  |===================================                                   |  50%\r",
       "  |                                                                            \r",
       "  |======================================================================| 100%\n"
      ]
     },
     "metadata": {},
     "output_type": "display_data"
    },
    {
     "data": {
      "text/plain": [
       "Bayes factor analysis\n",
       "--------------\n",
       "[1] mask + subject_id : 0.1669845 ±0.72%\n",
       "\n",
       "Against denominator:\n",
       "  value ~ subject_id \n",
       "---\n",
       "Bayes factor type: BFlinearModel, JZS\n",
       "\n"
      ]
     },
     "metadata": {},
     "output_type": "display_data"
    },
    {
     "data": {
      "text/plain": [
       "\n",
       "Error: subject_id\n",
       "          Df Sum Sq Mean Sq F value Pr(>F)\n",
       "Residuals 18 0.8731 0.04851               \n",
       "\n",
       "Error: subject_id:mask\n",
       "          Df Sum Sq  Mean Sq F value Pr(>F)\n",
       "mask       2 0.0120 0.005999   0.249  0.781\n",
       "Residuals 36 0.8657 0.024048               \n"
      ]
     },
     "metadata": {},
     "output_type": "display_data"
    },
    {
     "data": {
      "text/plain": [
       "\r",
       "  |                                                                            \r",
       "  |                                                                      |   0%\r",
       "  |                                                                            \r",
       "  |===================================                                   |  50%\r",
       "  |                                                                            \r",
       "  |======================================================================| 100%\n"
      ]
     },
     "metadata": {},
     "output_type": "display_data"
    },
    {
     "data": {
      "text/plain": [
       "Bayes factor analysis\n",
       "--------------\n",
       "[1] mask + subject_id : 0.1785562 ±2.65%\n",
       "\n",
       "Against denominator:\n",
       "  value ~ subject_id \n",
       "---\n",
       "Bayes factor type: BFlinearModel, JZS\n",
       "\n"
      ]
     },
     "metadata": {},
     "output_type": "display_data"
    },
    {
     "data": {
      "text/plain": [
       "\n",
       "Error: subject_id\n",
       "          Df Sum Sq Mean Sq F value Pr(>F)\n",
       "Residuals 18 0.5607 0.03115               \n",
       "\n",
       "Error: subject_id:mask\n",
       "          Df Sum Sq  Mean Sq F value Pr(>F)\n",
       "mask       2 0.0145 0.007244   0.246  0.784\n",
       "Residuals 36 1.0620 0.029499               \n"
      ]
     },
     "metadata": {},
     "output_type": "display_data"
    }
   ],
   "source": [
    "tmp = df_glm.pivot_table(index='subject_id', values='value', columns=['par', 'mask'])\n",
    "tmp = tmp['easy (correct)'] - tmp['hard (correct)']\n",
    "tmp = pandas.melt(tmp.reset_index(), id_vars=['subject_id'])\n",
    "tmp['subject_id'] = tmp.subject_id.astype('category')\n",
    "\n",
    "tmp_l = tmp[np.in1d(tmp['mask'], ['STh_L_A', 'STh_L_B', 'STh_L_C'])]\n",
    "%R -i tmp_l\n",
    "%R bf = anovaBF(value ~ mask + subject_id, data=tmp_l,  whichRandom=\"subject_id\")\n",
    "# %R bf = anovaBF(value ~ mask , data=tmp_l,  iterations=10000)\n",
    "%R print(bf)\n",
    "%R print(summary(aov(value ~ mask + Error(subject_id/(mask)), tmp_l)))\n",
    "\n",
    "    \n",
    "tmp_r = tmp[np.in1d(tmp['mask'], ['STh_R_A', 'STh_R_B', 'STh_R_C'])]\n",
    "%R -i tmp_r\n",
    "%R bf = anovaBF(value ~ mask + subject_id, data=tmp_r,  whichRandom=\"subject_id\")\n",
    "# %R bf = anovaBF(value ~ mask , data=tmp_l,  iterations=10000)\n",
    "%R print(bf)\n",
    "%R print(summary(aov(value ~ mask + Error(subject_id/(mask)), tmp_r)))"
   ]
  },
  {
   "cell_type": "markdown",
   "metadata": {
    "collapsed": true
   },
   "source": [
    "## Model 2"
   ]
  },
  {
   "cell_type": "code",
   "execution_count": 635,
   "metadata": {
    "collapsed": false
   },
   "outputs": [
    {
     "name": "stdout",
     "output_type": "stream",
     "text": [
      "Error: 6/STh_R_C/all the input arrays must have same number of dimensions\n"
     ]
    },
    {
     "name": "stderr",
     "output_type": "stream",
     "text": [
      "/usr/local/lib/python2.7/dist-packages/ipykernel/__main__.py:18: SettingWithCopyWarning: \n",
      "A value is trying to be set on a copy of a slice from a DataFrame.\n",
      "Try using .loc[row_indexer,col_indexer] = value instead\n",
      "\n",
      "See the caveats in the documentation: http://pandas.pydata.org/pandas-docs/stable/indexing.html#indexing-view-versus-copy\n"
     ]
    },
    {
     "name": "stdout",
     "output_type": "stream",
     "text": [
      "Error: 15/STh_L_A/'error (incongruent)'\n"
     ]
    }
   ],
   "source": [
    "\n",
    "\n",
    "import itertools\n",
    "import pyfir\n",
    "from nipy.modalities.fmri import design_matrix, experimental_paradigm\n",
    "import statsmodels.api as sm\n",
    "\n",
    "level2_dict = []\n",
    "adj_r = []\n",
    "# pars = ['neutral_cue', 'left_cue', 'right_cue', 'neutral_easy_correct', 'valid_easy_correct', 'invalid_easy_correct', 'neutral_hard_correct', 'valid_hard_correct', 'invalid_hard_correct', 'easy_error', 'hard_error',]\n",
    "# pars = \n",
    "\n",
    "for subject_id in np.arange(1, 20):\n",
    "    for run in [1,2,3]:\n",
    "\n",
    "        try:\n",
    "            onsets_dict = get_onsets(subject_id, run, 'model2', shift=-1.5)\n",
    "            pars = onsets_dict.keys()\n",
    "\n",
    "            conditions = []\n",
    "            onsets = []\n",
    "            for key in onsets_dict.keys():\n",
    "                conditions += [key] * len(onsets_dict[key])\n",
    "                onsets += onsets_dict[key]\n",
    "\n",
    "            paradigm =  experimental_paradigm.BlockParadigm(con_id=conditions, \n",
    "                                                            onset=onsets,\n",
    "                                                            duration=[[1.]] * len(conditions))\n",
    "            tr = 3.0\n",
    "            frametimes = np.linspace(0, 387 * tr, 387)\n",
    "            hrf_model = 'Canonical with Derivative'\n",
    "\n",
    "            X, names= design_matrix.dmtx_light(frametimes, paradigm, hrf_model=hrf_model, drift_model='polynomial', fir_delays=np.arange(11), drift_order=3)\n",
    "\n",
    "            X /= X.max(0)\n",
    "            X = pandas.DataFrame(X, columns=names)\n",
    "\n",
    "            for i, mask in enumerate(['STh_L_A', 'STh_L_B', 'STh_L_C', 'STh_R_A', 'STh_R_B', 'STh_R_C']):\n",
    "                signal = get_signal(subject_id,  run, mask)\n",
    "                r = sm.GLSAR(signal, X).iterative_fit()\n",
    "\n",
    "                adj_r.append({'subject_id':subject_id, 'mask':mask, 'r2_adj':r.rsquared_adj, 'r2':r.rsquared, 'run':run})\n",
    "\n",
    "                for par in pars:\n",
    "                    level2_dict.append({'value':r.params[par],\n",
    "                                        'par':par,\n",
    "                                        'subject_id':subject_id,\n",
    "                                        'mask':mask,\n",
    "                                        'run':run})\n",
    "        except Exception as e:\n",
    "            print 'Error: %s/%s/%s' %  (subject_id, mask, e)"
   ]
  },
  {
   "cell_type": "code",
   "execution_count": 636,
   "metadata": {
    "collapsed": false
   },
   "outputs": [
    {
     "data": {
      "text/plain": [
       "<seaborn.axisgrid.FacetGrid at 0x53e40e10>"
      ]
     },
     "execution_count": 636,
     "metadata": {},
     "output_type": "execute_result"
    },
    {
     "data": {
      "image/png": "[encoded data removed]",
      "text/plain": [
       "<matplotlib.figure.Figure at 0x55102550>"
      ]
     },
     "metadata": {},
     "output_type": "display_data"
    }
   ],
   "source": [
    "df_glm = pandas.DataFrame(level2_dict)\n",
    "df_glm = df_glm.query('par != \"constant\"')\n",
    "df_glm['dummy'] = 1\n",
    "\n",
    "df_glm['% signal change'] = df_glm['value']\n",
    "sns.set_palette('Set1')\n",
    "sns.set_context('poster')\n",
    "sns.set_style('white')\n",
    "\n",
    "# sns.factorplot(x='dummy', y='value', hue='par', data=df_glm, col='mask', col_wrap=3, kind='bar', ci=95, hue_order=['payoff_cue (left)', 'payoff_cue (right)', 'neutral_cue','difficult_rdm', 'easy_rdm'])\n",
    "\n",
    "tmp = df_glm.groupby(['subject_id', 'mask', 'par', 'dummy'], as_index=False).mean()\n",
    "# sns.factorplot(x='dummy', y='value', hue='par', data=tmp, col='mask', col_wrap=3, kind='bar', ci=95, hue_order=['correct (congruent)', 'correct (neutral)', 'correct (incongruent)', '', 'error (congruent)', 'error (neutral)', 'error (incongruent)', ''])\n",
    "fac = sns.factorplot(x='par', y='value', data=tmp, col='mask', col_wrap=3, kind='bar', ci=95, x_order=['correct (congruent)', 'correct (neutral)', 'correct (incongruent)', '', 'error (congruent)', 'error (neutral)', 'error (incongruent)', ''], palette=['gray'])\n",
    "fac.set_xticklabels(rotation=90)\n",
    "\n"
   ]
  },
  {
   "cell_type": "code",
   "execution_count": 637,
   "metadata": {
    "collapsed": false,
    "scrolled": false
   },
   "outputs": [
    {
     "data": {
      "text/plain": [
       "\r",
       "  |                                                                            \r",
       "  |                                                                      |   0%\r",
       "  |                                                                            \r",
       "  |==============                                                        |  20%\r",
       "  |                                                                            \r",
       "  |============================                                          |  40%\r",
       "  |                                                                            \r",
       "  |==========================================                            |  60%\r",
       "  |                                                                            \r",
       "  |========================================================              |  80%\r",
       "  |                                                                            \r",
       "  |======================================================================| 100%\n"
      ]
     },
     "metadata": {},
     "output_type": "display_data"
    },
    {
     "data": {
      "text/plain": [
       "Bayes factor top-down analysis\n",
       "--------------\n",
       "When effect is omitted from correct + congruency + correct:congruency + subject_id , BF is...\n",
       "[1] Omit congruency:correct : 2.703178 ±3.78%\n",
       "[2] Omit congruency         : 11.85688 ±4.18%\n",
       "[3] Omit correct            : 2.875714 ±3.39%\n",
       "\n",
       "Against denominator:\n",
       "  value ~ correct + congruency + correct:congruency + subject_id \n",
       "---\n",
       "Bayes factor type: BFlinearModel, JZS\n",
       "\n"
      ]
     },
     "metadata": {},
     "output_type": "display_data"
    },
    {
     "data": {
      "text/plain": [
       "                                                        denominator\n",
       "numerator                                                correct + congruency + subject_id\n",
       "  correct + congruency + correct:congruency + subject_id                         0.3699349\n",
       "                                                        denominator\n",
       "numerator                                                correct + correct:congruency + subject_id\n",
       "  correct + congruency + correct:congruency + subject_id                                0.08433923\n",
       "                                                        denominator\n",
       "numerator                                                congruency + correct:congruency + subject_id\n",
       "  correct + congruency + correct:congruency + subject_id                                    0.3477397\n"
      ]
     },
     "metadata": {},
     "output_type": "display_data"
    },
    {
     "data": {
      "text/plain": [
       "\n",
       "Error: subject_id\n",
       "          Df Sum Sq Mean Sq F value Pr(>F)\n",
       "Residuals 18  3.869  0.2149               \n",
       "\n",
       "Error: subject_id:congruency\n",
       "           Df Sum Sq Mean Sq F value Pr(>F)\n",
       "congruency  2 0.0028 0.00140   0.017  0.983\n",
       "Residuals  36 2.9373 0.08159               \n",
       "\n",
       "Error: subject_id:correct\n",
       "          Df Sum Sq Mean Sq F value Pr(>F)\n",
       "correct    1 0.0871 0.08715   0.967  0.339\n",
       "Residuals 18 1.6224 0.09013               \n",
       "\n",
       "Error: subject_id:congruency:correct\n",
       "                   Df Sum Sq Mean Sq F value Pr(>F)\n",
       "congruency:correct  2 0.1927 0.09637   1.597  0.216\n",
       "Residuals          36 2.1718 0.06033               \n"
      ]
     },
     "metadata": {},
     "output_type": "display_data"
    },
    {
     "data": {
      "text/plain": [
       "\r",
       "  |                                                                            \r",
       "  |                                                                      |   0%\r",
       "  |                                                                            \r",
       "  |==============                                                        |  20%\r",
       "  |                                                                            \r",
       "  |============================                                          |  40%\r",
       "  |                                                                            \r",
       "  |==========================================                            |  60%\r",
       "  |                                                                            \r",
       "  |========================================================              |  80%\r",
       "  |                                                                            \r",
       "  |======================================================================| 100%\n"
      ]
     },
     "metadata": {},
     "output_type": "display_data"
    },
    {
     "data": {
      "text/plain": [
       "Bayes factor top-down analysis\n",
       "--------------\n",
       "When effect is omitted from correct + congruency + correct:congruency + subject_id , BF is...\n",
       "[1] Omit congruency:correct : 3.377529 ±3.49%\n",
       "[2] Omit congruency         : 6.886877 ±3.19%\n",
       "[3] Omit correct            : 1.102213 ±2.43%\n",
       "\n",
       "Against denominator:\n",
       "  value ~ correct + congruency + correct:congruency + subject_id \n",
       "---\n",
       "Bayes factor type: BFlinearModel, JZS\n",
       "\n"
      ]
     },
     "metadata": {},
     "output_type": "display_data"
    },
    {
     "data": {
      "text/plain": [
       "                                                        denominator\n",
       "numerator                                                correct + congruency + subject_id\n",
       "  correct + congruency + correct:congruency + subject_id                         0.2960744\n",
       "                                                        denominator\n",
       "numerator                                                correct + correct:congruency + subject_id\n",
       "  correct + congruency + correct:congruency + subject_id                                 0.1452037\n",
       "                                                        denominator\n",
       "numerator                                                congruency + correct:congruency + subject_id\n",
       "  correct + congruency + correct:congruency + subject_id                                    0.9072656\n"
      ]
     },
     "metadata": {},
     "output_type": "display_data"
    },
    {
     "data": {
      "text/plain": [
       "\n",
       "Error: subject_id\n",
       "          Df Sum Sq Mean Sq F value Pr(>F)\n",
       "Residuals 18  10.18  0.5658               \n",
       "\n",
       "Error: subject_id:congruency\n",
       "           Df Sum Sq Mean Sq F value Pr(>F)\n",
       "congruency  2  0.117 0.05852   0.608   0.55\n",
       "Residuals  36  3.465 0.09624               \n",
       "\n",
       "Error: subject_id:correct\n",
       "          Df Sum Sq Mean Sq F value Pr(>F)\n",
       "correct    1 0.2811  0.2811   1.851   0.19\n",
       "Residuals 18 2.7342  0.1519               \n",
       "\n",
       "Error: subject_id:congruency:correct\n",
       "                   Df Sum Sq Mean Sq F value Pr(>F)\n",
       "congruency:correct  2  0.184 0.09201   2.323  0.112\n",
       "Residuals          36  1.426 0.03960               \n"
      ]
     },
     "metadata": {},
     "output_type": "display_data"
    },
    {
     "data": {
      "text/plain": [
       "\r",
       "  |                                                                            \r",
       "  |                                                                      |   0%\r",
       "  |                                                                            \r",
       "  |==============                                                        |  20%\r",
       "  |                                                                            \r",
       "  |============================                                          |  40%\r",
       "  |                                                                            \r",
       "  |==========================================                            |  60%\r",
       "  |                                                                            \r",
       "  |========================================================              |  80%\r",
       "  |                                                                            \r",
       "  |======================================================================| 100%\n"
      ]
     },
     "metadata": {},
     "output_type": "display_data"
    },
    {
     "data": {
      "text/plain": [
       "Bayes factor top-down analysis\n",
       "--------------\n",
       "When effect is omitted from correct + congruency + correct:congruency + subject_id , BF is...\n",
       "[1] Omit congruency:correct : 5.617793 ±3.15%\n",
       "[2] Omit congruency         : 5.621913 ±2.23%\n",
       "[3] Omit correct            : 1.084348 ±8.13%\n",
       "\n",
       "Against denominator:\n",
       "  value ~ correct + congruency + correct:congruency + subject_id \n",
       "---\n",
       "Bayes factor type: BFlinearModel, JZS\n",
       "\n"
      ]
     },
     "metadata": {},
     "output_type": "display_data"
    },
    {
     "data": {
      "text/plain": [
       "                                                        denominator\n",
       "numerator                                                correct + congruency + subject_id\n",
       "  correct + congruency + correct:congruency + subject_id                         0.1780058\n",
       "                                                        denominator\n",
       "numerator                                                correct + correct:congruency + subject_id\n",
       "  correct + congruency + correct:congruency + subject_id                                 0.1778754\n",
       "                                                        denominator\n",
       "numerator                                                congruency + correct:congruency + subject_id\n",
       "  correct + congruency + correct:congruency + subject_id                                    0.9222131\n"
      ]
     },
     "metadata": {},
     "output_type": "display_data"
    },
    {
     "data": {
      "text/plain": [
       "\n",
       "Error: subject_id\n",
       "          Df Sum Sq Mean Sq F value Pr(>F)\n",
       "Residuals 18  9.378   0.521               \n",
       "\n",
       "Error: subject_id:congruency\n",
       "           Df Sum Sq Mean Sq F value Pr(>F)\n",
       "congruency  2  0.187 0.09352   0.586  0.562\n",
       "Residuals  36  5.746 0.15961               \n",
       "\n",
       "Error: subject_id:correct\n",
       "          Df Sum Sq Mean Sq F value Pr(>F)  \n",
       "correct    1 0.3608  0.3608   4.076 0.0586 .\n",
       "Residuals 18 1.5933  0.0885                 \n",
       "---\n",
       "Signif. codes:  0 ‘***’ 0.001 ‘**’ 0.01 ‘*’ 0.05 ‘.’ 0.1 ‘ ’ 1\n",
       "\n",
       "Error: subject_id:congruency:correct\n",
       "                   Df Sum Sq Mean Sq F value Pr(>F)\n",
       "congruency:correct  2  0.084 0.04201   0.803  0.456\n",
       "Residuals          36  1.883 0.05229               \n"
      ]
     },
     "metadata": {},
     "output_type": "display_data"
    },
    {
     "data": {
      "text/plain": [
       "\r",
       "  |                                                                            \r",
       "  |                                                                      |   0%\r",
       "  |                                                                            \r",
       "  |==============                                                        |  20%\r",
       "  |                                                                            \r",
       "  |============================                                          |  40%\r",
       "  |                                                                            \r",
       "  |==========================================                            |  60%\r",
       "  |                                                                            \r",
       "  |========================================================              |  80%\r",
       "  |                                                                            \r",
       "  |======================================================================| 100%\n"
      ]
     },
     "metadata": {},
     "output_type": "display_data"
    },
    {
     "data": {
      "text/plain": [
       "Bayes factor top-down analysis\n",
       "--------------\n",
       "When effect is omitted from correct + congruency + correct:congruency + subject_id , BF is...\n",
       "[1] Omit congruency:correct : 4.620596 ±2.01%\n",
       "[2] Omit congruency         : 4.569788 ±6.12%\n",
       "[3] Omit correct            : 1.714012 ±1.7%\n",
       "\n",
       "Against denominator:\n",
       "  value ~ correct + congruency + correct:congruency + subject_id \n",
       "---\n",
       "Bayes factor type: BFlinearModel, JZS\n",
       "\n"
      ]
     },
     "metadata": {},
     "output_type": "display_data"
    },
    {
     "data": {
      "text/plain": [
       "                                                        denominator\n",
       "numerator                                                correct + congruency + subject_id\n",
       "  correct + congruency + correct:congruency + subject_id                         0.2164223\n",
       "                                                        denominator\n",
       "numerator                                                correct + correct:congruency + subject_id\n",
       "  correct + congruency + correct:congruency + subject_id                                 0.2188286\n",
       "                                                        denominator\n",
       "numerator                                                congruency + correct:congruency + subject_id\n",
       "  correct + congruency + correct:congruency + subject_id                                    0.5834266\n"
      ]
     },
     "metadata": {},
     "output_type": "display_data"
    },
    {
     "data": {
      "text/plain": [
       "\n",
       "Error: subject_id\n",
       "          Df Sum Sq Mean Sq F value Pr(>F)\n",
       "Residuals 18  8.776  0.4875               \n",
       "\n",
       "Error: subject_id:congruency\n",
       "           Df Sum Sq Mean Sq F value Pr(>F)\n",
       "congruency  2  0.176 0.08808   0.912  0.411\n",
       "Residuals  36  3.477 0.09660               \n",
       "\n",
       "Error: subject_id:correct\n",
       "          Df Sum Sq Mean Sq F value Pr(>F)\n",
       "correct    1 0.1679 0.16788   1.847  0.191\n",
       "Residuals 18 1.6359 0.09088               \n",
       "\n",
       "Error: subject_id:congruency:correct\n",
       "                   Df Sum Sq Mean Sq F value Pr(>F)\n",
       "congruency:correct  2 0.0854 0.04271   1.326  0.278\n",
       "Residuals          36 1.1595 0.03221               \n"
      ]
     },
     "metadata": {},
     "output_type": "display_data"
    },
    {
     "data": {
      "text/plain": [
       "\r",
       "  |                                                                            \r",
       "  |                                                                      |   0%\r",
       "  |                                                                            \r",
       "  |==============                                                        |  20%\r",
       "  |                                                                            \r",
       "  |============================                                          |  40%\r",
       "  |                                                                            \r",
       "  |==========================================                            |  60%\r",
       "  |                                                                            \r",
       "  |========================================================              |  80%\r",
       "  |                                                                            \r",
       "  |======================================================================| 100%\n"
      ]
     },
     "metadata": {},
     "output_type": "display_data"
    },
    {
     "data": {
      "text/plain": [
       "Bayes factor top-down analysis\n",
       "--------------\n",
       "When effect is omitted from correct + congruency + correct:congruency + subject_id , BF is...\n",
       "[1] Omit congruency:correct : 1.563733 ±2.67%\n",
       "[2] Omit congruency         : 9.891026 ±2.6%\n",
       "[3] Omit correct            : 2.521641 ±26.69%\n",
       "\n",
       "Against denominator:\n",
       "  value ~ correct + congruency + correct:congruency + subject_id \n",
       "---\n",
       "Bayes factor type: BFlinearModel, JZS\n",
       "\n"
      ]
     },
     "metadata": {},
     "output_type": "display_data"
    },
    {
     "data": {
      "text/plain": [
       "                                                        denominator\n",
       "numerator                                                correct + congruency + subject_id\n",
       "  correct + congruency + correct:congruency + subject_id                         0.6394952\n",
       "                                                        denominator\n",
       "numerator                                                correct + correct:congruency + subject_id\n",
       "  correct + congruency + correct:congruency + subject_id                                 0.1011017\n",
       "                                                        denominator\n",
       "numerator                                                congruency + correct:congruency + subject_id\n",
       "  correct + congruency + correct:congruency + subject_id                                    0.3965671\n"
      ]
     },
     "metadata": {},
     "output_type": "display_data"
    },
    {
     "data": {
      "text/plain": [
       "\n",
       "Error: subject_id\n",
       "          Df Sum Sq Mean Sq F value Pr(>F)\n",
       "Residuals 18  4.855  0.2697               \n",
       "\n",
       "Error: subject_id:congruency\n",
       "           Df Sum Sq Mean Sq F value Pr(>F)\n",
       "congruency  2 0.0216 0.01078   0.171  0.844\n",
       "Residuals  36 2.2729 0.06314               \n",
       "\n",
       "Error: subject_id:correct\n",
       "          Df Sum Sq Mean Sq F value Pr(>F)\n",
       "correct    1 0.0967 0.09666   2.278  0.149\n",
       "Residuals 18 0.7637 0.04243               \n",
       "\n",
       "Error: subject_id:congruency:correct\n",
       "                   Df Sum Sq Mean Sq F value Pr(>F)  \n",
       "congruency:correct  2 0.1781 0.08906   3.396 0.0446 *\n",
       "Residuals          36 0.9440 0.02622                 \n",
       "---\n",
       "Signif. codes:  0 ‘***’ 0.001 ‘**’ 0.01 ‘*’ 0.05 ‘.’ 0.1 ‘ ’ 1\n"
      ]
     },
     "metadata": {},
     "output_type": "display_data"
    },
    {
     "data": {
      "text/plain": [
       "\r",
       "  |                                                                            \r",
       "  |                                                                      |   0%\r",
       "  |                                                                            \r",
       "  |==============                                                        |  20%\r",
       "  |                                                                            \r",
       "  |============================                                          |  40%\r",
       "  |                                                                            \r",
       "  |==========================================                            |  60%\r",
       "  |                                                                            \r",
       "  |========================================================              |  80%\r",
       "  |                                                                            \r",
       "  |======================================================================| 100%\n"
      ]
     },
     "metadata": {},
     "output_type": "display_data"
    },
    {
     "data": {
      "text/plain": [
       "Bayes factor top-down analysis\n",
       "--------------\n",
       "When effect is omitted from correct + congruency + correct:congruency + subject_id , BF is...\n",
       "[1] Omit congruency:correct : 6.140006  ±4.07%\n",
       "[2] Omit congruency         : 4.726607  ±4.23%\n",
       "[3] Omit correct            : 0.0225871 ±4.05%\n",
       "\n",
       "Against denominator:\n",
       "  value ~ correct + congruency + correct:congruency + subject_id \n",
       "---\n",
       "Bayes factor type: BFlinearModel, JZS\n",
       "\n"
      ]
     },
     "metadata": {},
     "output_type": "display_data"
    },
    {
     "data": {
      "text/plain": [
       "                                                        denominator\n",
       "numerator                                                correct + congruency + subject_id\n",
       "  correct + congruency + correct:congruency + subject_id                         0.1628663\n",
       "                                                        denominator\n",
       "numerator                                                correct + correct:congruency + subject_id\n",
       "  correct + congruency + correct:congruency + subject_id                                 0.2115682\n",
       "                                                        denominator\n",
       "numerator                                                congruency + correct:congruency + subject_id\n",
       "  correct + congruency + correct:congruency + subject_id                                     44.27305\n"
      ]
     },
     "metadata": {},
     "output_type": "display_data"
    },
    {
     "data": {
      "text/plain": [
       "\n",
       "Error: subject_id\n",
       "          Df Sum Sq Mean Sq F value Pr(>F)\n",
       "Residuals 18   13.1  0.7278               \n",
       "\n",
       "Error: subject_id:congruency\n",
       "           Df Sum Sq Mean Sq F value Pr(>F)\n",
       "congruency  2  0.185 0.09226   0.827  0.445\n",
       "Residuals  36  4.016 0.11156               \n",
       "\n",
       "Error: subject_id:correct\n",
       "          Df Sum Sq Mean Sq F value  Pr(>F)   \n",
       "correct    1  1.010  1.0105   9.975 0.00544 **\n",
       "Residuals 18  1.823  0.1013                   \n",
       "---\n",
       "Signif. codes:  0 ‘***’ 0.001 ‘**’ 0.01 ‘*’ 0.05 ‘.’ 0.1 ‘ ’ 1\n",
       "\n",
       "Error: subject_id:congruency:correct\n",
       "                   Df Sum Sq Mean Sq F value Pr(>F)\n",
       "congruency:correct  2 0.0278 0.01388   0.297  0.745\n",
       "Residuals          36 1.6834 0.04676               \n"
      ]
     },
     "metadata": {},
     "output_type": "display_data"
    }
   ],
   "source": [
    "masks = ['STh_L_A', 'STh_L_B', 'STh_L_C', 'STh_R_A', 'STh_R_B', 'STh_R_C']\n",
    "\n",
    "results = []\n",
    "\n",
    "for mask in masks:\n",
    "    df = df_glm[df_glm['mask'] == mask].pivot_table(index='subject_id', values='value', columns='par')\n",
    "    \n",
    "    df = pandas.melt(df.reset_index(), id_vars='subject_id')\n",
    "    reg = re.compile('([a-z]+) \\(([a-z]+)\\)')\n",
    "\n",
    "    df = df[df.par.apply(lambda x: reg.match(x) is not None)]\n",
    "    df['correct'] = df.par.apply(lambda x: reg.match(x).group(1))\n",
    "    df['congruency'] = df.par.apply(lambda x: reg.match(x).group(2))\n",
    "    df['subject_id'] = df['subject_id'].astype('category')\n",
    "\n",
    "    %R -i df\n",
    "\n",
    "    %R library(BayesFactor)\n",
    "    %R bf = anovaBF(value ~ congruency*correct + subject_id, data = df,  whichRandom=\"subject_id\", whichModels='top')\n",
    "    %R print(bf)\n",
    "    %R print(1/bf)\n",
    "    %R print(summary(aov(value ~ congruency * correct + Error(subject_id/(congruency * correct)), df)))\n",
    "    %R tmp = extractBF(bf)\n",
    "    %R -o tmp\n",
    "    \n",
    "#     results.append({'mask':mask,\n",
    "#                     'BF':tmp.bf.values[0]})\n",
    "    \n",
    "# pandas.DataFrame(results)[['mask', 'BF']]"
   ]
  },
  {
   "cell_type": "markdown",
   "metadata": {},
   "source": [
    "# Model 3"
   ]
  },
  {
   "cell_type": "code",
   "execution_count": 6,
   "metadata": {
    "collapsed": false
   },
   "outputs": [
    {
     "name": "stdout",
     "output_type": "stream",
     "text": [
      "Error: 6/STh_R_C/all the input arrays must have same number of dimensions\n"
     ]
    }
   ],
   "source": [
    "import itertools\n",
    "import pyfir\n",
    "from nipy.modalities.fmri import design_matrix, experimental_paradigm\n",
    "import statsmodels.api as sm\n",
    "\n",
    "level2_dict = []\n",
    "adj_r = []\n",
    "# pars = ['neutral_cue', 'left_cue', 'right_cue', 'neutral_easy_correct', 'valid_easy_correct', 'invalid_easy_correct', 'neutral_hard_correct', 'valid_hard_correct', 'invalid_hard_correct', 'easy_error', 'hard_error',]\n",
    "# pars = \n",
    "\n",
    "for subject_id in np.arange(1, 20):\n",
    "    for run in [1,2,3]:\n",
    "\n",
    "        try:\n",
    "            onsets_dict = get_onsets(subject_id, run, 'model3', shift=-1.5)\n",
    "            pars = onsets_dict.keys()\n",
    "\n",
    "            conditions = []\n",
    "            onsets = []\n",
    "            for key in onsets_dict.keys():\n",
    "                conditions += [key] * len(onsets_dict[key])\n",
    "                onsets += onsets_dict[key]\n",
    "\n",
    "            paradigm =  experimental_paradigm.BlockParadigm(con_id=conditions, \n",
    "                                                            onset=onsets,\n",
    "                                                            duration=[[1.]] * len(conditions))\n",
    "            tr = 3.0\n",
    "            frametimes = np.linspace(0, 387 * tr, 387)\n",
    "            hrf_model = 'Canonical with Derivative'\n",
    "\n",
    "            X, names= design_matrix.dmtx_light(frametimes, paradigm, hrf_model=hrf_model, drift_model='polynomial', fir_delays=np.arange(11), drift_order=3)\n",
    "\n",
    "            X /= X.max(0)\n",
    "            X = pandas.DataFrame(X, columns=names)\n",
    "\n",
    "            for i, mask in enumerate(['STh_L_A', 'STh_L_B', 'STh_L_C', 'STh_R_A', 'STh_R_B', 'STh_R_C']):\n",
    "                signal = get_signal(subject_id,  run, mask)\n",
    "                r = sm.GLSAR(signal, X).iterative_fit()\n",
    "\n",
    "                adj_r.append({'subject_id':subject_id, 'mask':mask, 'r2_adj':r.rsquared_adj, 'r2':r.rsquared, 'run':run})\n",
    "\n",
    "                for par in pars:\n",
    "                    level2_dict.append({'value':r.params[par],\n",
    "                                        'par':par,\n",
    "                                        'subject_id':subject_id,\n",
    "                                        'mask':mask,\n",
    "                                        'run':run})\n",
    "        except Exception as e:\n",
    "            print 'Error: %s/%s/%s' %  (subject_id, mask, e)"
   ]
  },
  {
   "cell_type": "code",
   "execution_count": 7,
   "metadata": {
    "collapsed": false
   },
   "outputs": [
    {
     "data": {
      "text/plain": [
       "<seaborn.axisgrid.FacetGrid at 0x87f4c10>"
      ]
     },
     "execution_count": 7,
     "metadata": {},
     "output_type": "execute_result"
    },
    {
     "data": {
      "image/png": "[encoded data removed]",
      "text/plain": [
       "<matplotlib.figure.Figure at 0xaac9c90>"
      ]
     },
     "metadata": {},
     "output_type": "display_data"
    }
   ],
   "source": [
    "df_glm = pandas.DataFrame(level2_dict)\n",
    "df_glm = df_glm.query('par != \"constant\"')\n",
    "df_glm['dummy'] = 1\n",
    "\n",
    "df_glm['% signal change'] = df_glm['value']\n",
    "sns.set_palette('Set1')\n",
    "sns.set_context('poster')\n",
    "sns.set_style('white')\n",
    "\n",
    "# sns.factorplot(x='dummy', y='value', hue='par', data=df_glm, col='mask', col_wrap=3, kind='bar', ci=95, hue_order=['payoff_cue (left)', 'payoff_cue (right)', 'neutral_cue','difficult_rdm', 'easy_rdm'])\n",
    "\n",
    "tmp = df_glm.groupby(['subject_id', 'mask', 'par', 'dummy'], as_index=False).mean()\n",
    "# sns.factorplot(x='dummy', y='value', hue='par', data=tmp, col='mask', col_wrap=3, kind='bar', ci=95, hue_order=['correct (congruent)', 'correct (neutral)', 'correct (incongruent)', '', 'error (congruent)', 'error (neutral)', 'error (incongruent)', ''])\n",
    "fac = sns.factorplot(x='par', y='value', data=tmp, col='mask', col_wrap=3, kind='bar', ci=95, x_order=['left response', 'right response'], palette=['gray'])\n",
    "fac.set_xticklabels(rotation=45)\n",
    "\n"
   ]
  },
  {
   "cell_type": "code",
   "execution_count": 8,
   "metadata": {
    "collapsed": false
   },
   "outputs": [
    {
     "name": "stderr",
     "output_type": "stream",
     "text": [
      "/usr/local/lib/python2.7/dist-packages/rpy2/rinterface/__init__.py:185: RRuntimeWarning: Loading required package: coda\n",
      "\n",
      "  warnings.warn(x, RRuntimeWarning)\n",
      "/usr/local/lib/python2.7/dist-packages/rpy2/rinterface/__init__.py:185: RRuntimeWarning: Loading required package: Matrix\n",
      "\n",
      "  warnings.warn(x, RRuntimeWarning)\n",
      "/usr/local/lib/python2.7/dist-packages/rpy2/rinterface/__init__.py:185: RRuntimeWarning: ************\n",
      "Welcome to BayesFactor 0.9.11-1. If you have questions, please contact Richard Morey (richarddmorey@gmail.com).\n",
      "\n",
      "Type BFManual() to open the manual.\n",
      "************\n",
      "\n",
      "  warnings.warn(x, RRuntimeWarning)\n"
     ]
    },
    {
     "data": {
      "text/html": [
       "<div>\n",
       "<table border=\"1\" class=\"dataframe\">\n",
       "  <thead>\n",
       "    <tr style=\"text-align: right;\">\n",
       "      <th></th>\n",
       "      <th>0</th>\n",
       "      <th>1</th>\n",
       "      <th>2</th>\n",
       "      <th>3</th>\n",
       "      <th>4</th>\n",
       "      <th>5</th>\n",
       "    </tr>\n",
       "  </thead>\n",
       "  <tbody>\n",
       "    <tr>\n",
       "      <th>mask</th>\n",
       "      <td>STh_L_A</td>\n",
       "      <td>STh_L_B</td>\n",
       "      <td>STh_L_C</td>\n",
       "      <td>STh_R_A</td>\n",
       "      <td>STh_R_B</td>\n",
       "      <td>STh_R_C</td>\n",
       "    </tr>\n",
       "    <tr>\n",
       "      <th>BF</th>\n",
       "      <td>0.32</td>\n",
       "      <td>0.3</td>\n",
       "      <td>1.17</td>\n",
       "      <td>0.55</td>\n",
       "      <td>0.28</td>\n",
       "      <td>0.72</td>\n",
       "    </tr>\n",
       "    <tr>\n",
       "      <th>t</th>\n",
       "      <td>0.83</td>\n",
       "      <td>0.71</td>\n",
       "      <td>1.97</td>\n",
       "      <td>1.4</td>\n",
       "      <td>0.63</td>\n",
       "      <td>1.62</td>\n",
       "    </tr>\n",
       "    <tr>\n",
       "      <th>p</th>\n",
       "      <td>0.42</td>\n",
       "      <td>0.49</td>\n",
       "      <td>0.06</td>\n",
       "      <td>0.18</td>\n",
       "      <td>0.54</td>\n",
       "      <td>0.12</td>\n",
       "    </tr>\n",
       "  </tbody>\n",
       "</table>\n",
       "</div>"
      ],
      "text/plain": [
       "            0        1        2        3        4        5\n",
       "mask  STh_L_A  STh_L_B  STh_L_C  STh_R_A  STh_R_B  STh_R_C\n",
       "BF       0.32      0.3     1.17     0.55     0.28     0.72\n",
       "t        0.83     0.71     1.97      1.4     0.63     1.62\n",
       "p        0.42     0.49     0.06     0.18     0.54     0.12"
      ]
     },
     "execution_count": 8,
     "metadata": {},
     "output_type": "execute_result"
    }
   ],
   "source": [
    "masks = ['STh_L_A', 'STh_L_B', 'STh_L_C', 'STh_R_A', 'STh_R_B', 'STh_R_C']\n",
    "\n",
    "results = []\n",
    "\n",
    "for mask in masks:\n",
    "    df = df_glm[df_glm['mask'] == mask].pivot_table(index='subject_id', values='value', columns='par')\n",
    "    \n",
    "    df = pandas.melt(df.reset_index(), id_vars='subject_id')\n",
    "\n",
    "    df = df[df.par.apply(lambda x: x.split(' ')[-1] == 'response')]\n",
    "    \n",
    "    df_mask = df.pivot_table(index='subject_id', columns='par', values='value')\n",
    "\n",
    "    %R -i df_mask\n",
    "    %R library(BayesFactor)\n",
    "    %R bf = ttestBF(df_mask$left.response - df_mask$right.response)\n",
    "    %R tmp = extractBF(bf)\n",
    "    %R -o tmp\n",
    "    \n",
    "    t, p = sp.stats.ttest_rel(df_mask['left response'], df_mask['right response'])\n",
    "    \n",
    "    results.append({'mask':mask,\n",
    "                    'BF':tmp.bf.values[0],\n",
    "                    't':t,\n",
    "                    'p':p})\n",
    "    \n",
    "np.round(pandas.DataFrame(results)[['mask', 'BF', 't', 'p']], 2).T    \n",
    "    "
   ]
  },
  {
   "cell_type": "markdown",
   "metadata": {},
   "source": [
    "# Model 0"
   ]
  },
  {
   "cell_type": "code",
   "execution_count": 10,
   "metadata": {
    "collapsed": false
   },
   "outputs": [
    {
     "name": "stdout",
     "output_type": "stream",
     "text": [
      "1\n",
      "2\n",
      "3\n",
      "4\n",
      "5\n",
      "6\n",
      "Error: 6/STh_R_C/all the input arrays must have same number of dimensions\n",
      "7\n",
      "8\n",
      "9\n",
      "10\n",
      "11\n",
      "12\n",
      "13\n",
      "14\n",
      "15\n",
      "16\n",
      "17\n",
      "18\n",
      "19\n"
     ]
    }
   ],
   "source": [
    "import itertools\n",
    "import pyfir\n",
    "from nipy.modalities.fmri import design_matrix, experimental_paradigm\n",
    "import statsmodels.api as sm\n",
    "\n",
    "level2_dict = []\n",
    "adj_r = []\n",
    "# pars = ['neutral_cue', 'left_cue', 'right_cue', 'neutral_easy_correct', 'valid_easy_correct', 'invalid_easy_correct', 'neutral_hard_correct', 'valid_hard_correct', 'invalid_hard_correct', 'easy_error', 'hard_error',]\n",
    "# pars = \n",
    "\n",
    "for subject_id in np.arange(1, 20):\n",
    "    print subject_id\n",
    "    for run in [1,2,3]:\n",
    "#         for shift in [-3.0, -1.5, 0.0, 1.5, 3.0]:\n",
    "\n",
    "        try:\n",
    "            onsets_dict = get_onsets(subject_id, run, 'model0', shift=-1.5)\n",
    "            pars = onsets_dict.keys()\n",
    "\n",
    "            conditions = []\n",
    "            onsets = []\n",
    "            for key in onsets_dict.keys():\n",
    "                conditions += [key] * len(onsets_dict[key])\n",
    "                onsets += onsets_dict[key]\n",
    "\n",
    "            paradigm =  experimental_paradigm.BlockParadigm(con_id=conditions, \n",
    "                                                            onset=onsets,\n",
    "                                                            duration=[[1.]] * len(conditions))\n",
    "            tr = 3.0\n",
    "            frametimes = np.linspace(0, 387 * tr, 387)\n",
    "#                 hrf_model = 'Canonical with Derivative'\n",
    "\n",
    "            X, names= design_matrix.dmtx_light(frametimes, paradigm, hrf_model=hrf_model, drift_model='polynomial', fir_delays=np.arange(11), drift_order=3)\n",
    "\n",
    "            X /= X.max(0)\n",
    "            X = pandas.DataFrame(X, columns=names)\n",
    "\n",
    "            for i, mask in enumerate(['STh_L_A', 'STh_L_B', 'STh_L_C', 'STh_R_A', 'STh_R_B', 'STh_R_C']):\n",
    "                signal = get_signal(subject_id,  run, mask)\n",
    "                r = sm.GLSAR(signal, X).iterative_fit()\n",
    "\n",
    "                adj_r.append({'subject_id':subject_id, 'mask':mask, 'r2_adj':r.rsquared_adj, 'r2':r.rsquared, 'run':run})\n",
    "\n",
    "                for par in pars:\n",
    "                    level2_dict.append({'value':r.params[par],\n",
    "                                        'par':par,\n",
    "                                        'p':r.pvalues[par],\n",
    "                                        'subject_id':subject_id,\n",
    "                                        'mask':mask,\n",
    "                                        'run':run,})\n",
    "        except Exception as e:\n",
    "            print 'Error: %s/%s/%s' %  (subject_id, mask, e)"
   ]
  },
  {
   "cell_type": "code",
   "execution_count": 16,
   "metadata": {
    "collapsed": false
   },
   "outputs": [
    {
     "data": {
      "image/png": "[encoded data removed]",
      "text/plain": [
       "<matplotlib.figure.Figure at 0x11c4fed0>"
      ]
     },
     "metadata": {},
     "output_type": "display_data"
    }
   ],
   "source": [
    "df_glm = pandas.DataFrame(level2_dict)\n",
    "df_glm = df_glm.query('par != \"constant\"')\n",
    "df_glm['dummy'] = 1\n",
    "\n",
    "df_glm['% signal change'] = df_glm['value']\n",
    "sns.set_palette('Set1')\n",
    "sns.set_context('poster')\n",
    "sns.set_style('white')\n",
    "\n",
    "# sns.factorplot(x='dummy', y='value', hue='par', data=df_glm, col='mask', col_wrap=3, kind='bar', ci=95, hue_order=['payoff_cue (left)', 'payoff_cue (right)', 'neutral_cue','difficult_rdm', 'easy_rdm'])\n",
    "\n",
    "tmp = df_glm.groupby(['subject_id', 'mask', 'par', 'dummy'], as_index=False).mean()\n",
    "fac = sns.factorplot(x='par', y='% signal change', data=tmp, col='mask', col_wrap=3, kind='bar', ci=95)\n",
    "\n",
    "fac.set_xticklabels(rotation=45)\n",
    "\n",
    "plt.tight_layout()\n",
    "\n",
    "fac.set_xlabels('')\n",
    "\n",
    "plt.savefig('/home/gdholla1/projects/bias/reports/figures/glm_model0.pdf')"
   ]
  },
  {
   "cell_type": "markdown",
   "metadata": {},
   "source": [
    "## Stimulus"
   ]
  },
  {
   "cell_type": "code",
   "execution_count": 17,
   "metadata": {
    "collapsed": false
   },
   "outputs": [
    {
     "data": {
      "text/html": [
       "<div>\n",
       "<table border=\"1\" class=\"dataframe\">\n",
       "  <thead>\n",
       "    <tr style=\"text-align: right;\">\n",
       "      <th></th>\n",
       "      <th>0</th>\n",
       "      <th>1</th>\n",
       "      <th>2</th>\n",
       "      <th>3</th>\n",
       "      <th>4</th>\n",
       "      <th>5</th>\n",
       "    </tr>\n",
       "  </thead>\n",
       "  <tbody>\n",
       "    <tr>\n",
       "      <th>mask</th>\n",
       "      <td>STh_L_A</td>\n",
       "      <td>STh_L_B</td>\n",
       "      <td>STh_L_C</td>\n",
       "      <td>STh_R_A</td>\n",
       "      <td>STh_R_B</td>\n",
       "      <td>STh_R_C</td>\n",
       "    </tr>\n",
       "    <tr>\n",
       "      <th>BF</th>\n",
       "      <td>6.23</td>\n",
       "      <td>3.45</td>\n",
       "      <td>1.53</td>\n",
       "      <td>6.25</td>\n",
       "      <td>0.99</td>\n",
       "      <td>0.48</td>\n",
       "    </tr>\n",
       "    <tr>\n",
       "      <th>t</th>\n",
       "      <td>2.98</td>\n",
       "      <td>2.65</td>\n",
       "      <td>2.15</td>\n",
       "      <td>2.98</td>\n",
       "      <td>1.86</td>\n",
       "      <td>1.28</td>\n",
       "    </tr>\n",
       "    <tr>\n",
       "      <th>p</th>\n",
       "      <td>0.01</td>\n",
       "      <td>0.02</td>\n",
       "      <td>0.05</td>\n",
       "      <td>0.01</td>\n",
       "      <td>0.08</td>\n",
       "      <td>0.22</td>\n",
       "    </tr>\n",
       "  </tbody>\n",
       "</table>\n",
       "</div>"
      ],
      "text/plain": [
       "            0        1        2        3        4        5\n",
       "mask  STh_L_A  STh_L_B  STh_L_C  STh_R_A  STh_R_B  STh_R_C\n",
       "BF       6.23     3.45     1.53     6.25     0.99     0.48\n",
       "t        2.98     2.65     2.15     2.98     1.86     1.28\n",
       "p        0.01     0.02     0.05     0.01     0.08     0.22"
      ]
     },
     "execution_count": 17,
     "metadata": {},
     "output_type": "execute_result"
    }
   ],
   "source": [
    "masks = ['STh_L_A', 'STh_L_B', 'STh_L_C', 'STh_R_A', 'STh_R_B', 'STh_R_C']\n",
    "\n",
    "results = []\n",
    "\n",
    "for mask in masks:\n",
    "    df_mask = df_glm[df_glm['mask'] == mask].pivot_table(index='subject_id', values='value', columns='par')\n",
    "\n",
    "    %R -i df_mask\n",
    "    %R library(BayesFactor)\n",
    "    %R bf = ttestBF(df_mask$onsets_stim)\n",
    "    %R tmp = extractBF(bf)\n",
    "    %R -o tmp\n",
    "    \n",
    "    t, p = sp.stats.ttest_1samp(df_mask['onsets_stim'], 0)\n",
    "    \n",
    "    results.append({'mask':mask,\n",
    "                    'BF':tmp.bf.values[0],\n",
    "                    't':t,\n",
    "                    'p':p})\n",
    "    \n",
    "np.round(pandas.DataFrame(results)[['mask', 'BF', 't', 'p']], 2).T    \n",
    "    "
   ]
  },
  {
   "cell_type": "markdown",
   "metadata": {},
   "source": [
    "## Cue"
   ]
  },
  {
   "cell_type": "code",
   "execution_count": 18,
   "metadata": {
    "collapsed": false
   },
   "outputs": [
    {
     "data": {
      "text/html": [
       "<div>\n",
       "<table border=\"1\" class=\"dataframe\">\n",
       "  <thead>\n",
       "    <tr style=\"text-align: right;\">\n",
       "      <th></th>\n",
       "      <th>0</th>\n",
       "      <th>1</th>\n",
       "      <th>2</th>\n",
       "      <th>3</th>\n",
       "      <th>4</th>\n",
       "      <th>5</th>\n",
       "    </tr>\n",
       "  </thead>\n",
       "  <tbody>\n",
       "    <tr>\n",
       "      <th>mask</th>\n",
       "      <td>STh_L_A</td>\n",
       "      <td>STh_L_B</td>\n",
       "      <td>STh_L_C</td>\n",
       "      <td>STh_R_A</td>\n",
       "      <td>STh_R_B</td>\n",
       "      <td>STh_R_C</td>\n",
       "    </tr>\n",
       "    <tr>\n",
       "      <th>BF</th>\n",
       "      <td>0.44</td>\n",
       "      <td>1.42</td>\n",
       "      <td>1.37</td>\n",
       "      <td>1.07</td>\n",
       "      <td>0.68</td>\n",
       "      <td>1.59</td>\n",
       "    </tr>\n",
       "    <tr>\n",
       "      <th>t</th>\n",
       "      <td>1.19</td>\n",
       "      <td>2.1</td>\n",
       "      <td>2.08</td>\n",
       "      <td>1.91</td>\n",
       "      <td>1.58</td>\n",
       "      <td>2.18</td>\n",
       "    </tr>\n",
       "    <tr>\n",
       "      <th>p</th>\n",
       "      <td>0.25</td>\n",
       "      <td>0.05</td>\n",
       "      <td>0.05</td>\n",
       "      <td>0.07</td>\n",
       "      <td>0.13</td>\n",
       "      <td>0.04</td>\n",
       "    </tr>\n",
       "  </tbody>\n",
       "</table>\n",
       "</div>"
      ],
      "text/plain": [
       "            0        1        2        3        4        5\n",
       "mask  STh_L_A  STh_L_B  STh_L_C  STh_R_A  STh_R_B  STh_R_C\n",
       "BF       0.44     1.42     1.37     1.07     0.68     1.59\n",
       "t        1.19      2.1     2.08     1.91     1.58     2.18\n",
       "p        0.25     0.05     0.05     0.07     0.13     0.04"
      ]
     },
     "execution_count": 18,
     "metadata": {},
     "output_type": "execute_result"
    }
   ],
   "source": [
    "\n",
    "masks = ['STh_L_A', 'STh_L_B', 'STh_L_C', 'STh_R_A', 'STh_R_B', 'STh_R_C']\n",
    "\n",
    "results = []\n",
    "\n",
    "for mask in masks:\n",
    "    df_mask = df_glm[df_glm['mask'] == mask].pivot_table(index='subject_id', values='value', columns='par')\n",
    "\n",
    "    %R -i df_mask\n",
    "    %R library(BayesFactor)\n",
    "    %R bf = ttestBF(df_mask$onsets_cue)\n",
    "    %R tmp = extractBF(bf)\n",
    "    %R -o tmp\n",
    "    \n",
    "    t, p = sp.stats.ttest_1samp(df_mask['onsets_cue'], 0)\n",
    "    \n",
    "    results.append({'mask':mask,\n",
    "                    'BF':tmp.bf.values[0],\n",
    "                    't':t,\n",
    "                    'p':p})\n",
    "    \n",
    "np.round(pandas.DataFrame(results)[['mask', 'BF', 't', 'p']], 2).T    \n",
    "    "
   ]
  },
  {
   "cell_type": "code",
   "execution_count": 19,
   "metadata": {
    "collapsed": false
   },
   "outputs": [
    {
     "data": {
      "image/png": "[encoded data removed]",
      "text/plain": [
       "<matplotlib.figure.Figure at 0x12582510>"
      ]
     },
     "metadata": {},
     "output_type": "display_data"
    }
   ],
   "source": [
    "fac = sns.FacetGrid(df_glm.groupby(['subject_id', 'par', 'mask'], as_index=False).mean(), col='mask', col_wrap=3, hue='par')\n",
    "\n",
    "fac.map(sns.distplot, 'value')\n",
    "for ax in fac.axes.ravel():\n",
    "    ax.axvline(0, c='k', ls='--')"
   ]
  },
  {
   "cell_type": "code",
   "execution_count": 20,
   "metadata": {
    "collapsed": false
   },
   "outputs": [
    {
     "name": "stderr",
     "output_type": "stream",
     "text": [
      "/usr/local/lib/python2.7/dist-packages/rpy2/robjects/pandas2ri.py:57: UserWarning: Error while trying to convert the column \"subject_id\". Fall back to string conversion. The error is: Converting pandas \"Category\" series to R factor is only possible when categories are strings.\n",
      "  (name, str(e)))\n"
     ]
    },
    {
     "data": {
      "text/plain": [
       "\r",
       "  |                                                                            \r",
       "  |                                                                      |   0%\r",
       "  |                                                                            \r",
       "  |===================================                                   |  50%\r",
       "  |                                                                            \r",
       "  |======================================================================| 100%\n"
      ]
     },
     "metadata": {},
     "output_type": "display_data"
    },
    {
     "data": {
      "text/plain": [
       "Bayes factor analysis\n",
       "--------------\n",
       "[1] mask + subject_id : 0.4398343 ±0.32%\n",
       "\n",
       "Against denominator:\n",
       "  onsets_cue ~ subject_id \n",
       "---\n",
       "Bayes factor type: BFlinearModel, JZS\n",
       "\n"
      ]
     },
     "metadata": {},
     "output_type": "display_data"
    },
    {
     "data": {
      "text/plain": [
       "\r",
       "  |                                                                            \r",
       "  |                                                                      |   0%\r",
       "  |                                                                            \r",
       "  |===================================                                   |  50%\r",
       "  |                                                                            \r",
       "  |======================================================================| 100%\n"
      ]
     },
     "metadata": {},
     "output_type": "display_data"
    },
    {
     "data": {
      "text/plain": [
       "Bayes factor analysis\n",
       "--------------\n",
       "[1] mask + subject_id : 0.1628657 ±0.58%\n",
       "\n",
       "Against denominator:\n",
       "  onsets_stim ~ subject_id \n",
       "---\n",
       "Bayes factor type: BFlinearModel, JZS\n",
       "\n"
      ]
     },
     "metadata": {},
     "output_type": "display_data"
    },
    {
     "data": {
      "text/plain": [
       "\r",
       "  |                                                                            \r",
       "  |                                                                      |   0%\r",
       "  |                                                                            \r",
       "  |===================================                                   |  50%\r",
       "  |                                                                            \r",
       "  |======================================================================| 100%\n"
      ]
     },
     "metadata": {},
     "output_type": "display_data"
    },
    {
     "data": {
      "text/plain": [
       "Bayes factor analysis\n",
       "--------------\n",
       "[1] mask + subject_id : 0.1941809 ±0.37%\n",
       "\n",
       "Against denominator:\n",
       "  onsets_cue ~ subject_id \n",
       "---\n",
       "Bayes factor type: BFlinearModel, JZS\n",
       "\n"
      ]
     },
     "metadata": {},
     "output_type": "display_data"
    },
    {
     "data": {
      "text/plain": [
       "\r",
       "  |                                                                            \r",
       "  |                                                                      |   0%\r",
       "  |                                                                            \r",
       "  |===================================                                   |  50%\r",
       "  |                                                                            \r",
       "  |======================================================================| 100%\n"
      ]
     },
     "metadata": {},
     "output_type": "display_data"
    },
    {
     "data": {
      "text/plain": [
       "Bayes factor analysis\n",
       "--------------\n",
       "[1] mask + subject_id : 0.5141639 ±0.28%\n",
       "\n",
       "Against denominator:\n",
       "  onsets_stim ~ subject_id \n",
       "---\n",
       "Bayes factor type: BFlinearModel, JZS\n",
       "\n"
      ]
     },
     "metadata": {},
     "output_type": "display_data"
    }
   ],
   "source": [
    "tmp = df_glm.pivot_table(index=['mask', 'subject_id'], columns=['par'], values='value').reset_index()\n",
    "tmp['subject_id'] = tmp['subject_id'].astype('category')\n",
    "\n",
    "tmp_l = tmp[np.in1d(tmp['mask'], ['STh_L_A', 'STh_L_B', 'STh_L_C'])]\n",
    "%R -i tmp_l\n",
    "%R bf = anovaBF(onsets_cue ~ mask + subject_id, data =tmp_l,  whichRandom=\"subject_id\", whichModels='ID', iterations=100000)\n",
    "%R print(bf)\n",
    "\n",
    "tmp_l = tmp[np.in1d(tmp['mask'], ['STh_L_A', 'STh_L_B', 'STh_L_C'])]\n",
    "%R -i tmp_l\n",
    "%R bf = anovaBF(onsets_stim ~ mask + subject_id, data =tmp_l,  whichRandom=\"subject_id\", iterations=100000)\n",
    "%R print(bf)\n",
    "\n",
    "tmp_r = tmp[np.in1d(tmp['mask'], ['STh_R_A', 'STh_R_B', 'STh_R_C'])]\n",
    "%R -i tmp_r\n",
    "%R bf = anovaBF(onsets_cue ~ mask + subject_id, data =tmp_r,  whichRandom=\"subject_id\", whichModels='all', iterations=100000)\n",
    "%R print(bf)\n",
    "\n",
    "tmp_r = tmp[np.in1d(tmp['mask'], ['STh_R_A', 'STh_R_B', 'STh_R_C'])]\n",
    "%R -i tmp_r\n",
    "%R bf = anovaBF(onsets_stim ~ mask + subject_id, data =tmp_r,  whichRandom=\"subject_id\", whichModels='all', iterations=100000)\n",
    "%R print(bf)"
   ]
  },
  {
   "cell_type": "code",
   "execution_count": 554,
   "metadata": {
    "collapsed": false
   },
   "outputs": [
    {
     "data": {
      "text/plain": [
       "Bayes factor analysis\n",
       "--------------\n",
       "[1] Alt., r=0.707 : 1.144898 ±0%\n",
       "\n",
       "Against denominator:\n",
       "  Null, mu = 0 \n",
       "---\n",
       "Bayes factor type: BFoneSample, JZS\n",
       "\n"
      ]
     },
     "metadata": {},
     "output_type": "display_data"
    },
    {
     "data": {
      "text/plain": [
       "Bayes factor analysis\n",
       "--------------\n",
       "[1] Alt., r=0.707 : 712.9012 ±0%\n",
       "\n",
       "Against denominator:\n",
       "  Null, mu = 0 \n",
       "---\n",
       "Bayes factor type: BFoneSample, JZS\n",
       "\n"
      ]
     },
     "metadata": {},
     "output_type": "display_data"
    }
   ],
   "source": [
    "tmp_l = tmp_l.pivot_table(index='subject_id')\n",
    "\n",
    "%R -i tmp_l\n",
    "%R bf = ttestBF(tmp_l$onsets_cue)\n",
    "%R print(bf)\n",
    "%R bf = ttestBF(tmp_l$onsets_stim)\n",
    "%R print(bf)"
   ]
  },
  {
   "cell_type": "code",
   "execution_count": 555,
   "metadata": {
    "collapsed": false
   },
   "outputs": [
    {
     "data": {
      "text/plain": [
       "Bayes factor analysis\n",
       "--------------\n",
       "[1] Alt., r=0.707 : 0.4092498 ±0.01%\n",
       "\n",
       "Against denominator:\n",
       "  Null, mu = 0 \n",
       "---\n",
       "Bayes factor type: BFoneSample, JZS\n",
       "\n"
      ]
     },
     "metadata": {},
     "output_type": "display_data"
    },
    {
     "data": {
      "text/plain": [
       "Bayes factor analysis\n",
       "--------------\n",
       "[1] Alt., r=0.707 : 262.0966 ±0%\n",
       "\n",
       "Against denominator:\n",
       "  Null, mu = 0 \n",
       "---\n",
       "Bayes factor type: BFoneSample, JZS\n",
       "\n"
      ]
     },
     "metadata": {},
     "output_type": "display_data"
    }
   ],
   "source": [
    "tmp_r = tmp_r.pivot_table(index='subject_id')\n",
    "\n",
    "%R -i tmp_r\n",
    "%R bf = ttestBF(tmp_r$onsets_cue)\n",
    "%R print(bf)\n",
    "%R bf = ttestBF(tmp_r$onsets_stim)\n",
    "%R print(bf)"
   ]
  },
  {
   "cell_type": "markdown",
   "metadata": {
    "collapsed": true
   },
   "source": [
    "# Model 5"
   ]
  },
  {
   "cell_type": "code",
   "execution_count": 48,
   "metadata": {
    "collapsed": false
   },
   "outputs": [
    {
     "name": "stdout",
     "output_type": "stream",
     "text": [
      "1\n",
      "2\n",
      "3\n",
      "4\n",
      "5\n",
      "6\n",
      "Error: 6/STh_R_C/all the input arrays must have same number of dimensions\n",
      "7\n",
      "8\n",
      "9\n",
      "10\n",
      "11\n",
      "12\n",
      "13\n",
      "14\n",
      "15\n",
      "16\n",
      "17\n",
      "18\n",
      "19\n"
     ]
    }
   ],
   "source": [
    "import itertools\n",
    "import pyfir\n",
    "from nipy.modalities.fmri import design_matrix, experimental_paradigm\n",
    "import statsmodels.api as sm\n",
    "\n",
    "level2_dict = []\n",
    "adj_r = []\n",
    "# pars = ['neutral_cue', 'left_cue', 'right_cue', 'neutral_easy_correct', 'valid_easy_correct', 'invalid_easy_correct', 'neutral_hard_correct', 'valid_hard_correct', 'invalid_hard_correct', 'easy_error', 'hard_error',]\n",
    "# pars = \n",
    "\n",
    "for subject_id in np.arange(1, 20):\n",
    "    print subject_id\n",
    "    for run in [1,2,3]:\n",
    "#         for shift in [-3.0, -1.5, 0.0, 1.5, 3.0]:\n",
    "\n",
    "        try:\n",
    "            onsets_dict = get_onsets(subject_id, run, 'model5', shift=-1.5)\n",
    "            pars = onsets_dict.keys()\n",
    "\n",
    "            conditions = []\n",
    "            onsets = []\n",
    "            for key in onsets_dict.keys():\n",
    "                conditions += [key] * len(onsets_dict[key])\n",
    "                onsets += onsets_dict[key]\n",
    "\n",
    "            paradigm =  experimental_paradigm.BlockParadigm(con_id=conditions, \n",
    "                                                            onset=onsets,\n",
    "                                                            duration=[[1.]] * len(conditions))\n",
    "            tr = 3.0\n",
    "            frametimes = np.linspace(0, 387 * tr, 387)\n",
    "#                 hrf_model = 'Canonical with Derivative'\n",
    "\n",
    "            X, names= design_matrix.dmtx_light(frametimes, paradigm, hrf_model=hrf_model, drift_model='polynomial', fir_delays=np.arange(11), drift_order=3)\n",
    "\n",
    "            X /= X.max(0)\n",
    "            X = pandas.DataFrame(X, columns=names)\n",
    "\n",
    "            for i, mask in enumerate(['STh_L_A', 'STh_L_B', 'STh_L_C', 'STh_R_A', 'STh_R_B', 'STh_R_C']):\n",
    "                signal = get_signal(subject_id,  run, mask)\n",
    "                r = sm.GLSAR(signal, X).iterative_fit()\n",
    "\n",
    "                adj_r.append({'subject_id':subject_id, 'mask':mask, 'r2_adj':r.rsquared_adj, 'r2':r.rsquared, 'run':run})\n",
    "\n",
    "                for par in pars:\n",
    "                    level2_dict.append({'value':r.params[par],\n",
    "                                        'par':par,\n",
    "                                        'p':r.pvalues[par],\n",
    "                                        'subject_id':subject_id,\n",
    "                                        'mask':mask,\n",
    "                                        'run':run,})\n",
    "        except Exception as e:\n",
    "            print 'Error: %s/%s/%s' %  (subject_id, mask, e)"
   ]
  },
  {
   "cell_type": "code",
   "execution_count": 50,
   "metadata": {
    "collapsed": false
   },
   "outputs": [
    {
     "data": {
      "image/png": "[encoded data removed]",
      "text/plain": [
       "<matplotlib.figure.Figure at 0x11e02e10>"
      ]
     },
     "metadata": {},
     "output_type": "display_data"
    }
   ],
   "source": [
    "df_glm = pandas.DataFrame(level2_dict)\n",
    "df_glm = df_glm.query('par != \"constant\"')\n",
    "df_glm['dummy'] = 1\n",
    "\n",
    "df_glm['% signal change'] = df_glm['value']\n",
    "sns.set_palette('Set1')\n",
    "sns.set_context('poster')\n",
    "sns.set_style('white')\n",
    "\n",
    "# sns.factorplot(x='dummy', y='value', hue='par', data=df_glm, col='mask', col_wrap=3, kind='bar', ci=95, hue_order=['payoff_cue (left)', 'payoff_cue (right)', 'neutral_cue','difficult_rdm', 'easy_rdm'])\n",
    "\n",
    "tmp = df_glm.groupby(['subject_id', 'mask', 'par', 'dummy'], as_index=False).mean()\n",
    "fac = sns.factorplot(x='par', y='% signal change', data=tmp, col='mask', col_wrap=3, kind='bar', ci=95)\n",
    "\n",
    "fac.set_xticklabels(rotation=45)\n",
    "\n",
    "plt.tight_layout()\n",
    "\n",
    "fac.set_xlabels('')\n",
    "\n",
    "plt.savefig('/home/gdholla1/projects/bias/reports/figures/glm_model5.pdf')"
   ]
  },
  {
   "cell_type": "markdown",
   "metadata": {},
   "source": [
    "# Model 6"
   ]
  },
  {
   "cell_type": "code",
   "execution_count": 51,
   "metadata": {
    "collapsed": false
   },
   "outputs": [
    {
     "name": "stdout",
     "output_type": "stream",
     "text": [
      "1\n",
      "2\n",
      "3\n",
      "4\n",
      "5\n",
      "6\n",
      "Error: 6/STh_R_C/all the input arrays must have same number of dimensions\n",
      "7\n",
      "8\n",
      "9\n",
      "10\n",
      "11\n",
      "12\n",
      "13\n",
      "14\n",
      "15\n",
      "16\n",
      "17\n",
      "18\n",
      "19\n"
     ]
    }
   ],
   "source": [
    "import itertools\n",
    "import pyfir\n",
    "from nipy.modalities.fmri import design_matrix, experimental_paradigm\n",
    "import statsmodels.api as sm\n",
    "\n",
    "level2_dict = []\n",
    "adj_r = []\n",
    "# pars = ['neutral_cue', 'left_cue', 'right_cue', 'neutral_easy_correct', 'valid_easy_correct', 'invalid_easy_correct', 'neutral_hard_correct', 'valid_hard_correct', 'invalid_hard_correct', 'easy_error', 'hard_error',]\n",
    "# pars = \n",
    "\n",
    "for subject_id in np.arange(1, 20):\n",
    "    print subject_id\n",
    "    for run in [1,2,3]:\n",
    "#         for shift in [-3.0, -1.5, 0.0, 1.5, 3.0]:\n",
    "\n",
    "        try:\n",
    "            onsets_dict = get_onsets(subject_id, run, 'model6', shift=-1.5)\n",
    "            pars = onsets_dict.keys()\n",
    "\n",
    "            conditions = []\n",
    "            onsets = []\n",
    "            for key in onsets_dict.keys():\n",
    "                conditions += [key] * len(onsets_dict[key])\n",
    "                onsets += onsets_dict[key]\n",
    "\n",
    "            paradigm =  experimental_paradigm.BlockParadigm(con_id=conditions, \n",
    "                                                            onset=onsets,\n",
    "                                                            duration=[[1.]] * len(conditions))\n",
    "            tr = 3.0\n",
    "            frametimes = np.linspace(0, 387 * tr, 387)\n",
    "#                 hrf_model = 'Canonical with Derivative'\n",
    "\n",
    "            X, names= design_matrix.dmtx_light(frametimes, paradigm, hrf_model=hrf_model, drift_model='polynomial', fir_delays=np.arange(11), drift_order=3)\n",
    "\n",
    "            X /= X.max(0)\n",
    "            X = pandas.DataFrame(X, columns=names)\n",
    "\n",
    "            for i, mask in enumerate(['STh_L_A', 'STh_L_B', 'STh_L_C', 'STh_R_A', 'STh_R_B', 'STh_R_C']):\n",
    "                signal = get_signal(subject_id,  run, mask)\n",
    "                r = sm.GLSAR(signal, X).iterative_fit()\n",
    "\n",
    "                adj_r.append({'subject_id':subject_id, 'mask':mask, 'r2_adj':r.rsquared_adj, 'r2':r.rsquared, 'run':run})\n",
    "\n",
    "                for par in pars:\n",
    "                    level2_dict.append({'value':r.params[par],\n",
    "                                        'par':par,\n",
    "                                        'p':r.pvalues[par],\n",
    "                                        'subject_id':subject_id,\n",
    "                                        'mask':mask,\n",
    "                                        'run':run,})\n",
    "        except Exception as e:\n",
    "            print 'Error: %s/%s/%s' %  (subject_id, mask, e)"
   ]
  },
  {
   "cell_type": "code",
   "execution_count": 53,
   "metadata": {
    "collapsed": false
   },
   "outputs": [
    {
     "data": {
      "image/png": "[encoded data removed]",
      "text/plain": [
       "<matplotlib.figure.Figure at 0x17adbf90>"
      ]
     },
     "metadata": {},
     "output_type": "display_data"
    }
   ],
   "source": [
    "df_glm = pandas.DataFrame(level2_dict)\n",
    "df_glm = df_glm.query('par != \"constant\"')\n",
    "df_glm['dummy'] = 1\n",
    "\n",
    "df_glm['% signal change'] = df_glm['value']\n",
    "sns.set_palette('Set1')\n",
    "sns.set_context('poster')\n",
    "sns.set_style('white')\n",
    "\n",
    "# sns.factorplot(x='dummy', y='value', hue='par', data=df_glm, col='mask', col_wrap=3, kind='bar', ci=95, hue_order=['payoff_cue (left)', 'payoff_cue (right)', 'neutral_cue','difficult_rdm', 'easy_rdm'])\n",
    "\n",
    "tmp = df_glm.groupby(['subject_id', 'mask', 'par', 'dummy'], as_index=False).mean()\n",
    "fac = sns.factorplot(x='par', y='% signal change', data=tmp, col='mask', col_wrap=3, kind='bar', ci=95)\n",
    "\n",
    "fac.set_xticklabels(rotation=45)\n",
    "\n",
    "plt.tight_layout()\n",
    "\n",
    "fac.set_xlabels('')\n",
    "\n",
    "plt.savefig('/home/gdholla1/projects/bias/reports/figures/glm_model6.pdf')"
   ]
  },
  {
   "cell_type": "code",
   "execution_count": null,
   "metadata": {
    "collapsed": true
   },
   "outputs": [],
   "source": []
  }
 ],
 "metadata": {
  "kernelspec": {
   "display_name": "Python 2",
   "language": "python",
   "name": "python2"
  },
  "language_info": {
   "codemirror_mode": {
    "name": "ipython",
    "version": 2
   },
   "file_extension": ".py",
   "mimetype": "text/x-python",
   "name": "python",
   "nbconvert_exporter": "python",
   "pygments_lexer": "ipython2",
   "version": "2.7.3"
  }
 },
 "nbformat": 4,
 "nbformat_minor": 1
}
