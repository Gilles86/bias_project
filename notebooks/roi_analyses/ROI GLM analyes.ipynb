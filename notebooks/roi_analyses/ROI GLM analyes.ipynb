{
 "cells": [
  {
   "cell_type": "code",
   "execution_count": 1,
   "metadata": {
    "collapsed": true
   },
   "outputs": [],
   "source": [
    "import pandas"
   ]
  },
  {
   "cell_type": "code",
   "execution_count": 429,
   "metadata": {
    "collapsed": true
   },
   "outputs": [],
   "source": [
    "def get_signal(subject_id, run, mask):\n",
    "    subject_id = '%02d' % int(subject_id)\n",
    "    run = '%02d' % int(run)    \n",
    "    run0 = int(run) - 1\n",
    "    \n",
    "    signal = np.loadtxt('/home/gdholla1/projects/bias/data/derivatives/extracted_signal/highpassed_motion/_mask_{mask}_subject_id_{subject_id}/_extracter_highpassed_motion{run0}/sub-{subject_id}_task-randomdotmotion_run-{run}_bold_unwarped_st_dtype_mcf_mask_gms_tempfilt_regfilt_maths_ts.txt'.format(**locals()))\n",
    "    \n",
    "    signal = (signal / signal.mean()) * 100\n",
    "    signal -= signal.mean()\n",
    "    \n",
    "    return signal\n",
    "\n",
    "def get_onsets(subject_id, run, design='model0', shift=0):\n",
    "\n",
    "    df = pandas.read_pickle('/home/gdholla1/projects/bias/data/behavior/behavior.pandas')\n",
    "    df = df[(df.subj_idx == subject_id) & (df.block == run)]\n",
    "\n",
    "    df['onset_cue'] += shift\n",
    "    df['onset_stim'] += shift\n",
    "    \n",
    "    \n",
    "    if design == 'model0':\n",
    "        onsets_cue = df.onset_cue.tolist()\n",
    "        onsets_stim = df.onset_stim.tolist()\n",
    "\n",
    "        conditions=['onsets_cue',\n",
    "                    'onsets_stim',]\n",
    "        \n",
    "        onsets=[onsets_cue,\n",
    "                onsets_stim]\n",
    "        \n",
    "    elif design == 'model1a':\n",
    "        conditions=['payoff cue',\n",
    "                    'neutral cue',\n",
    "                    'easy',\n",
    "                    'hard']\n",
    "        \n",
    "        onsets=[df[df.cue != 'neutral'].onset_cue.tolist(),\n",
    "                df[df.cue == 'neutral'].onset_cue.tolist(),\n",
    "                df[df.difficulty == 'easy'].onset_stim.tolist(),\n",
    "                df[df.difficulty == 'hard'].onset_stim.tolist()]\n",
    "        \n",
    "    elif design == 'model1b':\n",
    "        conditions= ['left', 'right', 'neutral', 'easy', 'hard']\n",
    "        \n",
    "        onsets=[df[df.cue == 'left'].onset_cue.tolist(),\n",
    "                df[df.cue == 'right'].onset_cue.tolist(),                \n",
    "                df[df.cue == 'neutral'].onset_cue.tolist(),\n",
    "                df[df.difficulty == 'easy'].onset_stim.tolist(),\n",
    "                df[df.difficulty == 'hard'].onset_stim.tolist()]        \n",
    "        \n",
    "        \n",
    "    elif design == 'model1c':\n",
    "        conditions=['payoff_cue',\n",
    "                    'neutral_cue',\n",
    "                    'easy (correct)',\n",
    "                    'hard (correct)',\n",
    "                    'easy (error)',\n",
    "                    'hard (error)']\n",
    "        \n",
    "        onsets=[df[df.cue != 'neutral'].onset_cue.tolist(),\n",
    "                df[df.cue == 'neutral'].onset_cue.tolist(),\n",
    "                df[(df.difficulty == 'easy') & (df.correct == 1)].onset_stim.tolist(),\n",
    "                df[(df.difficulty == 'hard') & (df.correct == 1)].onset_stim.tolist(),\n",
    "                df[(df.difficulty == 'easy') & (df.correct == 0)].onset_stim.tolist(),\n",
    "                df[(df.difficulty == 'hard') & (df.correct == 0)].onset_stim.tolist()]        \n",
    "        \n",
    "    elif design == 'model1d':\n",
    "        conditions=['payoff_cue',\n",
    "                    'neutral_cue',\n",
    "                    'easy',\n",
    "                    'hard',\n",
    "                    'correct',\n",
    "                    'error']\n",
    "        \n",
    "        onsets=[df[df.cue != 'neutral'].onset_cue.tolist(),\n",
    "                df[df.cue == 'neutral'].onset_cue.tolist(),\n",
    "                df[(df.difficulty == 'easy')].onset_stim.tolist(),\n",
    "                df[(df.difficulty == 'hard')].onset_stim.tolist(),\n",
    "                df[(df.correct == 1)].onset_stim.tolist(),\n",
    "                df[(df.correct == 0)].onset_stim.tolist()]\n",
    "        \n",
    "    \n",
    "    elif design == 'model2':\n",
    "        conditions=['payoff_cue',\n",
    "                    'neutral_cue',\n",
    "                    'correct (congruent)',\n",
    "                    'correct (neutral)',\n",
    "                    'correct (incongruent)',\n",
    "                    'error (congruent)',\n",
    "                    'error (neutral)',\n",
    "                    'error (incongruent)']   \n",
    "        \n",
    "        onsets=[df[df.cue != 'neutral'].onset_cue.tolist(),\n",
    "                df[df.cue == 'neutral'].onset_cue.tolist(),\n",
    "                df[(df.cue_validity == 'valid') & (df.correct == 1)].onset_stim.tolist(),\n",
    "                df[(df.cue_validity == 'neutral') & (df.correct == 1)].onset_stim.tolist(),\n",
    "                df[(df.cue_validity == 'invalid') & (df.correct == 1)].onset_stim.tolist(),\n",
    "                df[(df.cue_validity == 'valid') & (df.correct == 0)].onset_stim.tolist(),\n",
    "                df[(df.cue_validity == 'neutral') & (df.correct == 0)].onset_stim.tolist(),\n",
    "                df[(df.cue_validity == 'invalid') & (df.correct == 0)].onset_stim.tolist()]\n",
    "        \n",
    "        \n",
    "    elif design == 'model3':\n",
    "        conditions=['payoff_cue',\n",
    "                    'neutral_cue',                    \n",
    "                    'left response',\n",
    "                    'right response']\n",
    "        \n",
    "        onsets=[df[df.cue != 'neutral'].onset_cue.tolist(),\n",
    "                df[df.cue == 'neutral'].onset_cue.tolist(),\n",
    "                df[df.response == 1].onset_stim.tolist(),\n",
    "                df[df.response == 2].onset_stim.tolist()]        \n",
    "        \n",
    "        \n",
    "    elif design == 'model4':\n",
    "        \n",
    "        onsets_neutral_cue_correct = df[(df.cue_validity == 'neutral') & (df.correct == 1)].onset_stim.tolist()\n",
    "        onsets_neutral_cue_error = df[(df.cue_validity == 'neutral') & (df.correct == 0)].onset_stim.tolist()\n",
    "        \n",
    "        onsets_valid_cue_correct = df[(df.cue_validity == 'valid') & (df.correct == 1)].onset_stim.tolist()\n",
    "        onsets_valid_cue_error = df[(df.cue_validity == 'valid') & (df.correct == 0)].onset_stim.tolist()        \n",
    "        \n",
    "        onsets_invalid_cue_correct = df[(df.cue_validity == 'invalid') & (df.correct == 1)].onset_stim.tolist()\n",
    "        onsets_invalid_cue_error = df[(df.cue_validity == 'invalid') & (df.correct == 0)].onset_stim.tolist()                \n",
    "\n",
    "        \n",
    "        conditions=['payoff_cue',\n",
    "                    'neutral_cue',\n",
    "                    'valid (correct)',\n",
    "                    'valid (error)',\n",
    "                    'neutral (correct)',\n",
    "                    'neutral (error)',\n",
    "                    'invalid (correct)',\n",
    "                    'invalid (error)']\n",
    "        \n",
    "        onsets=[df[df.cue != 'neutral'].onset_cue.tolist(),\n",
    "                df[df.cue == 'neutral'].onset_cue.tolist(),\n",
    "                onsets_valid_cue_correct,\n",
    "                onsets_valid_cue_error,\n",
    "                onsets_neutral_cue_correct,\n",
    "                onsets_neutral_cue_error,\n",
    "                onsets_invalid_cue_correct,\n",
    "                onsets_invalid_cue_error]                \n",
    "    \n",
    "    return dict(zip(conditions, onsets))"
   ]
  },
  {
   "cell_type": "code",
   "execution_count": 321,
   "metadata": {
    "collapsed": false
   },
   "outputs": [
    {
     "name": "stdout",
     "output_type": "stream",
     "text": [
      "The rpy2.ipython extension is already loaded. To reload it, use:\n",
      "  %reload_ext rpy2.ipython\n"
     ]
    }
   ],
   "source": [
    "%load_ext rpy2.ipython\n"
   ]
  },
  {
   "cell_type": "markdown",
   "metadata": {},
   "source": [
    "# Model 1a"
   ]
  },
  {
   "cell_type": "code",
   "execution_count": 481,
   "metadata": {
    "collapsed": false
   },
   "outputs": [
    {
     "name": "stdout",
     "output_type": "stream",
     "text": [
      "Error: 6/STh_R_C/all the input arrays must have same number of dimensions\n"
     ]
    }
   ],
   "source": [
    "import itertools\n",
    "import pyfir\n",
    "from nipy.modalities.fmri import design_matrix, experimental_paradigm\n",
    "import statsmodels.api as sm\n",
    "\n",
    "level2_dict = []\n",
    "adj_r = []\n",
    "# pars = ['neutral_cue', 'left_cue', 'right_cue', 'neutral_easy_correct', 'valid_easy_correct', 'invalid_easy_correct', 'neutral_hard_correct', 'valid_hard_correct', 'invalid_hard_correct', 'easy_error', 'hard_error',]\n",
    "# pars = \n",
    "\n",
    "for subject_id in np.arange(1, 20):\n",
    "    for run in [1,2,3]:\n",
    "\n",
    "        try:\n",
    "            onsets_dict = get_onsets(subject_id, run, 'model1a', shift=-3)\n",
    "            pars = onsets_dict.keys()\n",
    "\n",
    "            conditions = []\n",
    "            onsets = []\n",
    "            for key in onsets_dict.keys():\n",
    "                conditions += [key] * len(onsets_dict[key])\n",
    "                onsets += onsets_dict[key]\n",
    "\n",
    "            paradigm =  experimental_paradigm.BlockParadigm(con_id=conditions, \n",
    "                                                            onset=onsets,\n",
    "                                                            duration=[[1.]] * len(conditions))\n",
    "            tr = 3.0\n",
    "            frametimes = np.linspace(0, 387 * tr, 387)\n",
    "            hrf_model = 'Canonical with Derivative'\n",
    "\n",
    "            X, names= design_matrix.dmtx_light(frametimes, paradigm, hrf_model=hrf_model, drift_model='polynomial', fir_delays=np.arange(11), drift_order=3)\n",
    "\n",
    "            X /= X.max(0)\n",
    "            X = pandas.DataFrame(X, columns=names)\n",
    "\n",
    "            for i, mask in enumerate(['STh_L_A', 'STh_L_B', 'STh_L_C', 'STh_R_A', 'STh_R_B', 'STh_R_C']):\n",
    "                signal = get_signal(subject_id,  run, mask)\n",
    "                r = sm.GLSAR(signal, X).iterative_fit()\n",
    "\n",
    "                adj_r.append({'subject_id':subject_id, 'mask':mask, 'r2_adj':r.rsquared_adj, 'r2':r.rsquared, 'run':run})\n",
    "\n",
    "                for par in pars:\n",
    "                    level2_dict.append({'value':r.params[par],\n",
    "                                        'par':par,\n",
    "                                        'subject_id':subject_id,\n",
    "                                        'mask':mask,\n",
    "                                        'run':run})\n",
    "        except Exception as e:\n",
    "            print 'Error: %s/%s/%s' %  (subject_id, mask, e)"
   ]
  },
  {
   "cell_type": "markdown",
   "metadata": {},
   "source": [
    "The first set of analyses tested whether there were significant differences in the BOLD response between task conditions. Therefore, a set of general linear models (GLM) were fit to the extracted STN segment time series. The first model (GLM1a) contained the following task condition regressors: (a) neutral cue, (b) payoff cue, (c) easy RDM stimulus, (d) hard RDM stimulus. Its first main contrast of interest was ‘payoff cue > neutral cue’ (and neutral cue > payoff cue), to see whether any segments were involved in processing the cue information. The other main contrast was ‘hard RDM stimulus > easy RDM stimulus’ (and ‘easy RDM stimulus > hard RDM stimulus’), which should indicate areas that were related to the speed of evidence accumulation. \n"
   ]
  },
  {
   "cell_type": "code",
   "execution_count": 483,
   "metadata": {
    "collapsed": false
   },
   "outputs": [
    {
     "data": {
      "image/png": "[encoded data removed]",
      "text/plain": [
       "<matplotlib.figure.Figure at 0x41cdc610>"
      ]
     },
     "metadata": {},
     "output_type": "display_data"
    }
   ],
   "source": [
    "df_glm = pandas.DataFrame(level2_dict)\n",
    "df_glm = df_glm.query('par != \"constant\"')\n",
    "df_glm['dummy'] = 1\n",
    "\n",
    "df_glm['% signal change'] = df_glm['value']\n",
    "sns.set_palette('Set1')\n",
    "sns.set_context('poster')\n",
    "sns.set_style('white')\n",
    "\n",
    "# sns.factorplot(x='dummy', y='value', hue='par', data=df_glm, col='mask', col_wrap=3, kind='bar', ci=95, hue_order=['payoff_cue (left)', 'payoff_cue (right)', 'neutral_cue','difficult_rdm', 'easy_rdm'])\n",
    "\n",
    "tmp = df_glm.groupby(['subject_id', 'mask', 'par', 'dummy'], as_index=False).mean()\n",
    "fac = sns.factorplot(x='par', y='% signal change', data=tmp, col='mask', col_wrap=3, kind='bar', ci=95, x_order=['easy', 'hard', '', 'neutral cue', 'payoff cue'])\n",
    "\n",
    "fac.set_xticklabels(rotation=45)\n",
    "\n",
    "plt.tight_layout()\n",
    "\n",
    "fac.set_xlabels('')\n",
    "\n",
    "plt.savefig('/home/gdholla1/projects/bias/reports/figures/figure2.pdf')"
   ]
  },
  {
   "cell_type": "markdown",
   "metadata": {},
   "source": [
    "### Payoff cue > neutral cue"
   ]
  },
  {
   "cell_type": "code",
   "execution_count": 370,
   "metadata": {
    "collapsed": false,
    "scrolled": false
   },
   "outputs": [
    {
     "name": "stdout",
     "output_type": "stream",
     "text": [
      "***** STh_L_A ******\n",
      "***** STh_L_B ******\n",
      "***** STh_L_C ******\n",
      "***** STh_R_A ******\n",
      "***** STh_R_B ******\n",
      "***** STh_R_C ******\n"
     ]
    },
    {
     "data": {
      "text/html": [
       "<div>\n",
       "<table border=\"1\" class=\"dataframe\">\n",
       "  <thead>\n",
       "    <tr style=\"text-align: right;\">\n",
       "      <th></th>\n",
       "      <th>0</th>\n",
       "      <th>1</th>\n",
       "      <th>2</th>\n",
       "      <th>3</th>\n",
       "      <th>4</th>\n",
       "      <th>5</th>\n",
       "    </tr>\n",
       "  </thead>\n",
       "  <tbody>\n",
       "    <tr>\n",
       "      <th>mask</th>\n",
       "      <td>STh_L_A</td>\n",
       "      <td>STh_L_B</td>\n",
       "      <td>STh_L_C</td>\n",
       "      <td>STh_R_A</td>\n",
       "      <td>STh_R_B</td>\n",
       "      <td>STh_R_C</td>\n",
       "    </tr>\n",
       "    <tr>\n",
       "      <th>BF</th>\n",
       "      <td>0.24</td>\n",
       "      <td>0.25</td>\n",
       "      <td>1.73</td>\n",
       "      <td>0.29</td>\n",
       "      <td>0.32</td>\n",
       "      <td>0.87</td>\n",
       "    </tr>\n",
       "    <tr>\n",
       "      <th>t</th>\n",
       "      <td>0.05</td>\n",
       "      <td>0.38</td>\n",
       "      <td>2.23</td>\n",
       "      <td>0.67</td>\n",
       "      <td>-0.83</td>\n",
       "      <td>1.76</td>\n",
       "    </tr>\n",
       "    <tr>\n",
       "      <th>p</th>\n",
       "      <td>0.96</td>\n",
       "      <td>0.71</td>\n",
       "      <td>0.04</td>\n",
       "      <td>0.51</td>\n",
       "      <td>0.42</td>\n",
       "      <td>0.09</td>\n",
       "    </tr>\n",
       "  </tbody>\n",
       "</table>\n",
       "</div>"
      ],
      "text/plain": [
       "            0        1        2        3        4        5\n",
       "mask  STh_L_A  STh_L_B  STh_L_C  STh_R_A  STh_R_B  STh_R_C\n",
       "BF       0.24     0.25     1.73     0.29     0.32     0.87\n",
       "t        0.05     0.38     2.23     0.67    -0.83     1.76\n",
       "p        0.96     0.71     0.04     0.51     0.42     0.09"
      ]
     },
     "execution_count": 370,
     "metadata": {},
     "output_type": "execute_result"
    }
   ],
   "source": [
    "masks = ['STh_L_A', 'STh_L_B', 'STh_L_C', 'STh_R_A', 'STh_R_B', 'STh_R_C']\n",
    "\n",
    "results = []\n",
    "\n",
    "for mask in masks:\n",
    "    df_mask = df_glm[df_glm['mask'] == mask].pivot_table(index='subject_id', values='value', columns='par')\n",
    "    \n",
    "    \n",
    "    print '***** %s ******' % mask\n",
    "    %R -i df_mask\n",
    "    %R library(BayesFactor)\n",
    "    %R bf = ttestBF(df_mask$payoff.cue - df_mask$neutral.cue)\n",
    "    %R tmp = extractBF(bf)\n",
    "    %R -o tmp\n",
    "    \n",
    "    t, p = sp.stats.ttest_rel(df_mask['payoff cue'], df_mask['neutral cue'])\n",
    "    \n",
    "    results.append({'mask':mask,\n",
    "                    'BF':tmp.bf.values[0],\n",
    "                    't':t,\n",
    "                    'p':p})\n",
    "    \n",
    "np.round(pandas.DataFrame(results)[['mask', 'BF', 't', 'p']], 2).T"
   ]
  },
  {
   "cell_type": "code",
   "execution_count": 381,
   "metadata": {
    "collapsed": false
   },
   "outputs": [],
   "source": [
    "tmp = df_glm.pivot_table(index='subject_id', values='value', columns=['par', 'mask'])\n",
    "tmp = tmp['payoff cue'] - tmp['neutral cue']\n",
    "tmp = pandas.melt(tmp.reset_index(), id_vars=['subject_id'])"
   ]
  },
  {
   "cell_type": "code",
   "execution_count": 394,
   "metadata": {
    "collapsed": false
   },
   "outputs": [
    {
     "data": {
      "text/plain": [
       "\r",
       "  |                                                                            \r",
       "  |                                                                      |   0%\r",
       "  |                                                                            \r",
       "  |===================================                                   |  50%\r",
       "  |                                                                            \r",
       "  |======================================================================| 100%\n"
      ]
     },
     "metadata": {},
     "output_type": "display_data"
    },
    {
     "data": {
      "text/plain": [
       "Bayes factor analysis\n",
       "--------------\n",
       "[1] mask + subject_id : 0.4662471 ±1.07%\n",
       "\n",
       "Against denominator:\n",
       "  value ~ subject_id \n",
       "---\n",
       "Bayes factor type: BFlinearModel, JZS\n",
       "\n"
      ]
     },
     "metadata": {},
     "output_type": "display_data"
    },
    {
     "data": {
      "text/plain": [
       "\r",
       "  |                                                                            \r",
       "  |                                                                      |   0%\r",
       "  |                                                                            \r",
       "  |===================================                                   |  50%\r",
       "  |                                                                            \r",
       "  |======================================================================| 100%\n"
      ]
     },
     "metadata": {},
     "output_type": "display_data"
    },
    {
     "data": {
      "text/plain": [
       "Bayes factor analysis\n",
       "--------------\n",
       "[1] mask + subject_id : 0.5316568 ±1.15%\n",
       "\n",
       "Against denominator:\n",
       "  value ~ subject_id \n",
       "---\n",
       "Bayes factor type: BFlinearModel, JZS\n",
       "\n"
      ]
     },
     "metadata": {},
     "output_type": "display_data"
    }
   ],
   "source": [
    "tmp = df_glm.pivot_table(index='subject_id', values='value', columns=['par', 'mask'])\n",
    "tmp = tmp['payoff cue'] - tmp['neutral cue']\n",
    "tmp = pandas.melt(tmp.reset_index(), id_vars=['subject_id'])\n",
    "tmp['subject_id'] = tmp.subject_id.astype('category')\n",
    "\n",
    "tmp_l = tmp[np.in1d(tmp['mask'], ['STh_L_A', 'STh_L_B', 'STh_L_C'])]\n",
    "%R -i tmp_l\n",
    "%R bf = anovaBF(value ~ mask + subject_id, data=tmp_l,  whichRandom=\"subject_id\")\n",
    "# %R bf = anovaBF(value ~ mask , data=tmp_l,  iterations=10000)\n",
    "%R print(bf)\n",
    "\n",
    "tmp_r = tmp[np.in1d(tmp['mask'], ['STh_R_A', 'STh_R_B', 'STh_R_C'])]\n",
    "%R -i tmp_r\n",
    "%R bf = anovaBF(value ~ mask + subject_id, data=tmp_r,  whichRandom=\"subject_id\")\n",
    "# %R bf = anovaBF(value ~ mask , data=tmp_l,  iterations=10000)\n",
    "%R print(bf)"
   ]
  },
  {
   "cell_type": "code",
   "execution_count": 314,
   "metadata": {
    "collapsed": false
   },
   "outputs": [
    {
     "data": {
      "text/plain": [
       "Bayes factor analysis\n",
       "--------------\n",
       "[1] Alt., r=0.707 : 0.5699204 ±0%\n",
       "\n",
       "Against denominator:\n",
       "  Null, mu = 0 \n",
       "---\n",
       "Bayes factor type: BFoneSample, JZS\n",
       "\n"
      ]
     },
     "metadata": {},
     "output_type": "display_data"
    },
    {
     "data": {
      "text/plain": [
       "Bayes factor analysis\n",
       "--------------\n",
       "[1] Alt., r=0.707 : 0.6650064 ±0%\n",
       "\n",
       "Against denominator:\n",
       "  Null, mu = 0 \n",
       "---\n",
       "Bayes factor type: BFoneSample, JZS\n",
       "\n"
      ]
     },
     "metadata": {},
     "output_type": "display_data"
    },
    {
     "data": {
      "text/plain": [
       "Bayes factor analysis\n",
       "--------------\n",
       "[1] Alt., r=0.707 : 0.3533708 ±0.01%\n",
       "\n",
       "Against denominator:\n",
       "  Null, mu = 0 \n",
       "---\n",
       "Bayes factor type: BFoneSample, JZS\n",
       "\n"
      ]
     },
     "metadata": {},
     "output_type": "display_data"
    },
    {
     "data": {
      "text/plain": [
       "Bayes factor analysis\n",
       "--------------\n",
       "[1] Alt., r=0.707 : 2.803351 ±0%\n",
       "\n",
       "Against denominator:\n",
       "  Null, mu = 0 \n",
       "---\n",
       "Bayes factor type: BFoneSample, JZS\n",
       "\n"
      ]
     },
     "metadata": {},
     "output_type": "display_data"
    },
    {
     "data": {
      "image/png": "[encoded data removed]",
      "text/plain": [
       "<matplotlib.figure.Figure at 0x3133ba50>"
      ]
     },
     "metadata": {},
     "output_type": "display_data"
    }
   ],
   "source": [
    "tmp = df_glm.pivot_table(index='subject_id', values='value', columns=['par', 'mask'])\n",
    "tmp = tmp['payoff cue'] - tmp['neutral cue']\n",
    "\n",
    "sns.violinplot(tmp)\n",
    "plt.axhline(0, c='k')\n",
    "\n",
    "%R -i tmp\n",
    "%R bf = ttestBF(tmp$STh_L_A - tmp$STh_L_C)\n",
    "%R print(bf)\n",
    "%R bf = ttestBF(tmp$STh_L_B - tmp$STh_L_C)\n",
    "%R print(bf)\n",
    "%R bf = ttestBF(tmp$STh_R_A - tmp$STh_L_C)\n",
    "%R print(bf)\n",
    "%R bf = ttestBF(tmp$STh_R_B - tmp$STh_L_C)\n",
    "%R print(bf)"
   ]
  },
  {
   "cell_type": "code",
   "execution_count": null,
   "metadata": {
    "collapsed": false
   },
   "outputs": [],
   "source": [
    "%%R -i tmp\n",
    "\n",
    "\n",
    "bf = anovaBF(cue_effect ~ STh_R_A + STh_R_B  + STh_R_C + subject_id, data=tmp,  whichRandom=\"subject_id\")\n",
    "print(bf)"
   ]
  },
  {
   "cell_type": "markdown",
   "metadata": {},
   "source": [
    "# Difficulty > Easy"
   ]
  },
  {
   "cell_type": "code",
   "execution_count": 345,
   "metadata": {
    "collapsed": false
   },
   "outputs": [
    {
     "name": "stdout",
     "output_type": "stream",
     "text": [
      "***** STh_L_A ******\n",
      "***** STh_L_B ******\n",
      "***** STh_L_C ******\n",
      "***** STh_R_A ******\n",
      "***** STh_R_B ******\n",
      "***** STh_R_C ******\n"
     ]
    },
    {
     "data": {
      "text/html": [
       "<div>\n",
       "<table border=\"1\" class=\"dataframe\">\n",
       "  <thead>\n",
       "    <tr style=\"text-align: right;\">\n",
       "      <th></th>\n",
       "      <th>0</th>\n",
       "      <th>1</th>\n",
       "      <th>2</th>\n",
       "      <th>3</th>\n",
       "      <th>4</th>\n",
       "      <th>5</th>\n",
       "    </tr>\n",
       "  </thead>\n",
       "  <tbody>\n",
       "    <tr>\n",
       "      <th>mask</th>\n",
       "      <td>STh_L_A</td>\n",
       "      <td>STh_L_B</td>\n",
       "      <td>STh_L_C</td>\n",
       "      <td>STh_R_A</td>\n",
       "      <td>STh_R_B</td>\n",
       "      <td>STh_R_C</td>\n",
       "    </tr>\n",
       "    <tr>\n",
       "      <th>BF</th>\n",
       "      <td>0.25</td>\n",
       "      <td>0.24</td>\n",
       "      <td>0.25</td>\n",
       "      <td>0.54</td>\n",
       "      <td>0.3</td>\n",
       "      <td>0.33</td>\n",
       "    </tr>\n",
       "    <tr>\n",
       "      <th>p</th>\n",
       "      <td>0.79</td>\n",
       "      <td>0.82</td>\n",
       "      <td>0.76</td>\n",
       "      <td>0.18</td>\n",
       "      <td>0.49</td>\n",
       "      <td>0.4</td>\n",
       "    </tr>\n",
       "  </tbody>\n",
       "</table>\n",
       "</div>"
      ],
      "text/plain": [
       "            0        1        2        3        4        5\n",
       "mask  STh_L_A  STh_L_B  STh_L_C  STh_R_A  STh_R_B  STh_R_C\n",
       "BF       0.25     0.24     0.25     0.54      0.3     0.33\n",
       "p        0.79     0.82     0.76     0.18     0.49      0.4"
      ]
     },
     "execution_count": 345,
     "metadata": {},
     "output_type": "execute_result"
    }
   ],
   "source": [
    "masks = ['STh_L_A', 'STh_L_B', 'STh_L_C', 'STh_R_A', 'STh_R_B', 'STh_R_C']\n",
    "\n",
    "results = []\n",
    "\n",
    "for mask in masks:\n",
    "    df_mask = df_glm[df_glm['mask'] == mask].pivot_table(index='subject_id', values='value', columns='par')\n",
    "    \n",
    "    \n",
    "    print '***** %s ******' % mask\n",
    "    %R -i df_mask\n",
    "    %R library(BayesFactor)\n",
    "    %R bf = ttestBF(df_mask$easy - df_mask$hard)\n",
    "    %R tmp = extractBF(bf)\n",
    "    %R -o tmp\n",
    "    \n",
    "    t, p = sp.stats.ttest_rel(df_mask['easy'], df_mask['hard'])\n",
    "    \n",
    "    results.append({'mask':mask,\n",
    "                    'BF':tmp.bf.values[0],\n",
    "                     't':t,\n",
    "                    'p':p})\n",
    "    \n",
    "np.round(pandas.DataFrame(results)[['mask', 'BF', 'p']], 2).T"
   ]
  },
  {
   "cell_type": "code",
   "execution_count": 73,
   "metadata": {
    "collapsed": false
   },
   "outputs": [
    {
     "data": {
      "text/html": [
       "<div>\n",
       "<table border=\"1\" class=\"dataframe\">\n",
       "  <thead>\n",
       "    <tr style=\"text-align: right;\">\n",
       "      <th></th>\n",
       "      <th>bf</th>\n",
       "      <th>error</th>\n",
       "      <th>time</th>\n",
       "      <th>code</th>\n",
       "    </tr>\n",
       "  </thead>\n",
       "  <tbody>\n",
       "    <tr>\n",
       "      <th>Alt., r=0.707</th>\n",
       "      <td>7.90203</td>\n",
       "      <td>0.000009</td>\n",
       "      <td>Fri Mar 10 14:19:35 2017</td>\n",
       "      <td>6d962c29e716</td>\n",
       "    </tr>\n",
       "  </tbody>\n",
       "</table>\n",
       "</div>"
      ],
      "text/plain": [
       "                    bf     error                      time          code\n",
       "Alt., r=0.707  7.90203  0.000009  Fri Mar 10 14:19:35 2017  6d962c29e716"
      ]
     },
     "execution_count": 73,
     "metadata": {},
     "output_type": "execute_result"
    }
   ],
   "source": [
    "tmp"
   ]
  },
  {
   "cell_type": "code",
   "execution_count": null,
   "metadata": {
    "collapsed": true
   },
   "outputs": [],
   "source": []
  },
  {
   "cell_type": "code",
   "execution_count": 78,
   "metadata": {
    "collapsed": false
   },
   "outputs": [
    {
     "name": "stdout",
     "output_type": "stream",
     "text": [
      "***** STh_L_A / difficult_rdm ******\n",
      "***** STh_L_A / easy_rdm ******\n",
      "***** STh_L_A / neutral_cue ******\n",
      "***** STh_L_A / payoff_cue ******\n",
      "***** STh_L_B / difficult_rdm ******\n",
      "***** STh_L_B / easy_rdm ******\n",
      "***** STh_L_B / neutral_cue ******\n",
      "***** STh_L_B / payoff_cue ******\n",
      "***** STh_L_C / difficult_rdm ******\n",
      "***** STh_L_C / easy_rdm ******\n",
      "***** STh_L_C / neutral_cue ******\n",
      "***** STh_L_C / payoff_cue ******\n",
      "***** STh_R_A / difficult_rdm ******\n",
      "***** STh_R_A / easy_rdm ******\n",
      "***** STh_R_A / neutral_cue ******\n",
      "***** STh_R_A / payoff_cue ******\n",
      "***** STh_R_B / difficult_rdm ******\n",
      "***** STh_R_B / easy_rdm ******\n",
      "***** STh_R_B / neutral_cue ******\n",
      "***** STh_R_B / payoff_cue ******\n",
      "***** STh_R_C / difficult_rdm ******\n",
      "***** STh_R_C / easy_rdm ******\n",
      "***** STh_R_C / neutral_cue ******\n",
      "***** STh_R_C / payoff_cue ******\n"
     ]
    },
    {
     "data": {
      "text/html": [
       "<div>\n",
       "<table border=\"1\" class=\"dataframe\">\n",
       "  <thead>\n",
       "    <tr style=\"text-align: right;\">\n",
       "      <th>par</th>\n",
       "      <th>difficult_rdm</th>\n",
       "      <th>easy_rdm</th>\n",
       "      <th>neutral_cue</th>\n",
       "      <th>payoff_cue</th>\n",
       "    </tr>\n",
       "    <tr>\n",
       "      <th>mask</th>\n",
       "      <th></th>\n",
       "      <th></th>\n",
       "      <th></th>\n",
       "      <th></th>\n",
       "    </tr>\n",
       "  </thead>\n",
       "  <tbody>\n",
       "    <tr>\n",
       "      <th>STh_L_A</th>\n",
       "      <td>26.876881</td>\n",
       "      <td>44.206139</td>\n",
       "      <td>0.312905</td>\n",
       "      <td>0.293993</td>\n",
       "    </tr>\n",
       "    <tr>\n",
       "      <th>STh_L_B</th>\n",
       "      <td>6.402477</td>\n",
       "      <td>10.544420</td>\n",
       "      <td>2.492586</td>\n",
       "      <td>2.321158</td>\n",
       "    </tr>\n",
       "    <tr>\n",
       "      <th>STh_L_C</th>\n",
       "      <td>59.659987</td>\n",
       "      <td>238.012533</td>\n",
       "      <td>0.368160</td>\n",
       "      <td>3.293387</td>\n",
       "    </tr>\n",
       "    <tr>\n",
       "      <th>STh_R_A</th>\n",
       "      <td>237.734524</td>\n",
       "      <td>10.802724</td>\n",
       "      <td>0.501640</td>\n",
       "      <td>0.608280</td>\n",
       "    </tr>\n",
       "    <tr>\n",
       "      <th>STh_R_B</th>\n",
       "      <td>18.692930</td>\n",
       "      <td>10.515074</td>\n",
       "      <td>0.413749</td>\n",
       "      <td>0.275766</td>\n",
       "    </tr>\n",
       "    <tr>\n",
       "      <th>STh_R_C</th>\n",
       "      <td>26.207962</td>\n",
       "      <td>7.902030</td>\n",
       "      <td>0.247538</td>\n",
       "      <td>0.452727</td>\n",
       "    </tr>\n",
       "  </tbody>\n",
       "</table>\n",
       "</div>"
      ],
      "text/plain": [
       "par      difficult_rdm    easy_rdm  neutral_cue  payoff_cue\n",
       "mask                                                       \n",
       "STh_L_A      26.876881   44.206139     0.312905    0.293993\n",
       "STh_L_B       6.402477   10.544420     2.492586    2.321158\n",
       "STh_L_C      59.659987  238.012533     0.368160    3.293387\n",
       "STh_R_A     237.734524   10.802724     0.501640    0.608280\n",
       "STh_R_B      18.692930   10.515074     0.413749    0.275766\n",
       "STh_R_C      26.207962    7.902030     0.247538    0.452727"
      ]
     },
     "execution_count": 78,
     "metadata": {},
     "output_type": "execute_result"
    }
   ],
   "source": [
    "masks = ['STh_L_A', 'STh_L_B', 'STh_L_C', 'STh_R_A', 'STh_R_B', 'STh_R_C']\n",
    "\n",
    "results = []\n",
    "\n",
    "for mask in masks:\n",
    "    df = df_glm[df_glm['mask'] == mask].pivot_table(index='subject_id', values='value', columns='par')\n",
    "    \n",
    "    for par in df.columns:\n",
    "        print '***** %s / %s ******' % (mask, par)\n",
    "        %R -i df -i par\n",
    "        %R library(BayesFactor)\n",
    "        %R bf = ttestBF(df[,par])\n",
    "        %R tmp = extractBF(bf)\n",
    "        %R -o tmp\n",
    "\n",
    "        results.append({'mask':mask,\n",
    "                        'BF':tmp.bf.values[0],\n",
    "                        'par':par})\n",
    "    \n",
    "pandas.DataFrame(results).pivot_table(index='mask', columns='par', values='BF')"
   ]
  },
  {
   "cell_type": "markdown",
   "metadata": {},
   "source": [
    "# Model 1b"
   ]
  },
  {
   "cell_type": "code",
   "execution_count": 346,
   "metadata": {
    "collapsed": false
   },
   "outputs": [
    {
     "name": "stdout",
     "output_type": "stream",
     "text": [
      "Error: 6/STh_R_C/all the input arrays must have same number of dimensions\n"
     ]
    }
   ],
   "source": [
    "import itertools\n",
    "import pyfir\n",
    "from nipy.modalities.fmri import design_matrix, experimental_paradigm\n",
    "import statsmodels.api as sm\n",
    "\n",
    "level2_dict = []\n",
    "adj_r = []\n",
    "# pars = ['neutral_cue', 'left_cue', 'right_cue', 'neutral_easy_correct', 'valid_easy_correct', 'invalid_easy_correct', 'neutral_hard_correct', 'valid_hard_correct', 'invalid_hard_correct', 'easy_error', 'hard_error',]\n",
    "# pars = \n",
    "\n",
    "for subject_id in np.arange(1, 20):\n",
    "    for run in [1,2,3]:\n",
    "\n",
    "        try:\n",
    "            onsets_dict = get_onsets(subject_id, run, 'model1b', shift=-3)\n",
    "            pars = onsets_dict.keys()\n",
    "\n",
    "            conditions = []\n",
    "            onsets = []\n",
    "            for key in onsets_dict.keys():\n",
    "                conditions += [key] * len(onsets_dict[key])\n",
    "                onsets += onsets_dict[key]\n",
    "\n",
    "            paradigm =  experimental_paradigm.BlockParadigm(con_id=conditions, \n",
    "                                                            onset=onsets,\n",
    "                                                            duration=[[1.]] * len(conditions))\n",
    "            tr = 3.0\n",
    "            frametimes = np.linspace(0, 387 * tr, 387)\n",
    "            hrf_model = 'Canonical with Derivative'\n",
    "\n",
    "            X, names= design_matrix.dmtx_light(frametimes, paradigm, hrf_model=hrf_model, drift_model='polynomial', fir_delays=np.arange(11), drift_order=3)\n",
    "\n",
    "            X /= X.max(0)\n",
    "            X = pandas.DataFrame(X, columns=names)\n",
    "\n",
    "            for i, mask in enumerate(['STh_L_A', 'STh_L_B', 'STh_L_C', 'STh_R_A', 'STh_R_B', 'STh_R_C']):\n",
    "                signal = get_signal(subject_id,  run, mask)\n",
    "                r = sm.GLSAR(signal, X).iterative_fit()\n",
    "\n",
    "                adj_r.append({'subject_id':subject_id, 'mask':mask, 'r2_adj':r.rsquared_adj, 'r2':r.rsquared, 'run':run})\n",
    "\n",
    "                for par in pars:\n",
    "                    level2_dict.append({'value':r.params[par],\n",
    "                                        'par':par,\n",
    "                                        'subject_id':subject_id,\n",
    "                                        'mask':mask,\n",
    "                                        'run':run})\n",
    "        except Exception as e:\n",
    "            print 'Error: %s/%s/%s' %  (subject_id, mask, e)"
   ]
  },
  {
   "cell_type": "code",
   "execution_count": 347,
   "metadata": {
    "collapsed": false
   },
   "outputs": [
    {
     "data": {
      "text/plain": [
       "<seaborn.axisgrid.FacetGrid at 0x354458d0>"
      ]
     },
     "execution_count": 347,
     "metadata": {},
     "output_type": "execute_result"
    },
    {
     "data": {
      "image/png": "[encoded data removed]",
      "text/plain": [
       "<matplotlib.figure.Figure at 0x3597c850>"
      ]
     },
     "metadata": {},
     "output_type": "display_data"
    }
   ],
   "source": [
    "df_glm = pandas.DataFrame(level2_dict)\n",
    "df_glm = df_glm.query('par != \"constant\"')\n",
    "df_glm['dummy'] = 1\n",
    "\n",
    "df_glm['% signal change'] = df_glm['value']\n",
    "sns.set_palette('Set1')\n",
    "sns.set_context('poster')\n",
    "sns.set_style('white')\n",
    "\n",
    "# sns.factorplot(x='dummy', y='value', hue='par', data=df_glm, col='mask', col_wrap=3, kind='bar', ci=95, hue_order=['payoff_cue (left)', 'payoff_cue (right)', 'neutral_cue','difficult_rdm', 'easy_rdm'])\n",
    "\n",
    "tmp = df_glm.groupby(['subject_id', 'mask', 'par', 'dummy'], as_index=False).mean()\n",
    "sns.factorplot(x='dummy', y='value', hue='par', data=tmp, col='mask', col_wrap=3, kind='bar', ci=95)"
   ]
  },
  {
   "cell_type": "code",
   "execution_count": 349,
   "metadata": {
    "collapsed": false
   },
   "outputs": [
    {
     "name": "stdout",
     "output_type": "stream",
     "text": [
      "***** STh_L_A ******\n",
      "***** STh_L_B ******\n",
      "***** STh_L_C ******\n",
      "***** STh_R_A ******\n",
      "***** STh_R_B ******\n",
      "***** STh_R_C ******\n"
     ]
    },
    {
     "data": {
      "text/html": [
       "<div>\n",
       "<table border=\"1\" class=\"dataframe\">\n",
       "  <thead>\n",
       "    <tr style=\"text-align: right;\">\n",
       "      <th></th>\n",
       "      <th>0</th>\n",
       "      <th>1</th>\n",
       "      <th>2</th>\n",
       "      <th>3</th>\n",
       "      <th>4</th>\n",
       "      <th>5</th>\n",
       "    </tr>\n",
       "  </thead>\n",
       "  <tbody>\n",
       "    <tr>\n",
       "      <th>mask</th>\n",
       "      <td>STh_L_A</td>\n",
       "      <td>STh_L_B</td>\n",
       "      <td>STh_L_C</td>\n",
       "      <td>STh_R_A</td>\n",
       "      <td>STh_R_B</td>\n",
       "      <td>STh_R_C</td>\n",
       "    </tr>\n",
       "    <tr>\n",
       "      <th>BF</th>\n",
       "      <td>0.29</td>\n",
       "      <td>0.43</td>\n",
       "      <td>0.3</td>\n",
       "      <td>0.25</td>\n",
       "      <td>0.25</td>\n",
       "      <td>0.24</td>\n",
       "    </tr>\n",
       "    <tr>\n",
       "      <th>p</th>\n",
       "      <td>0.51</td>\n",
       "      <td>0.26</td>\n",
       "      <td>0.48</td>\n",
       "      <td>0.7</td>\n",
       "      <td>0.72</td>\n",
       "      <td>0.96</td>\n",
       "    </tr>\n",
       "  </tbody>\n",
       "</table>\n",
       "</div>"
      ],
      "text/plain": [
       "            0        1        2        3        4        5\n",
       "mask  STh_L_A  STh_L_B  STh_L_C  STh_R_A  STh_R_B  STh_R_C\n",
       "BF       0.29     0.43      0.3     0.25     0.25     0.24\n",
       "p        0.51     0.26     0.48      0.7     0.72     0.96"
      ]
     },
     "execution_count": 349,
     "metadata": {},
     "output_type": "execute_result"
    }
   ],
   "source": [
    "masks = ['STh_L_A', 'STh_L_B', 'STh_L_C', 'STh_R_A', 'STh_R_B', 'STh_R_C']\n",
    "\n",
    "results = []\n",
    "\n",
    "for mask in masks:\n",
    "    df_mask = df_glm[df_glm['mask'] == mask].pivot_table(index='subject_id', values='value', columns='par')\n",
    "    \n",
    "    \n",
    "    print '***** %s ******' % mask\n",
    "    %R -i df_mask\n",
    "    %R library(BayesFactor)\n",
    "    %R bf = ttestBF(df_mask$left - df_mask$right)\n",
    "    %R tmp = extractBF(bf)\n",
    "    %R -o tmp\n",
    "    \n",
    "    t, p = sp.stats.ttest_rel(df_mask['left'], df_mask['right'])\n",
    "    \n",
    "    results.append({'mask':mask,\n",
    "                    'BF':tmp.bf.values[0],\n",
    "                     't':t,\n",
    "                    'p':p})\n",
    "    \n",
    "np.round(pandas.DataFrame(results)[['mask', 'BF', 'p']], 2).T"
   ]
  },
  {
   "cell_type": "markdown",
   "metadata": {},
   "source": [
    "# Model 1c"
   ]
  },
  {
   "cell_type": "markdown",
   "metadata": {},
   "source": [
    "\n",
    "It is well-known that especially limbic structures show highly heightened activity after an error has been made {Alexander:2011js}. Therefore, “drift-rate”-related activity in limbic areas such as the Insula {Mulder:2014ho, Keuken:2014iz} might just be a result of a larger number of errors in trials with a lower drift rate. To test this hypothesis, we fitted a third variant of the GLM (GLM 1c), that deconfounded the task difficulty from error trials. It included the following regressors: (a) neutral cue, (b) payoff cue, (d) easy RDM stimulus (correct), (e) easy RDM stimulus (error), (f) hard RDM stimulus (correct), (g) hard RDM stimulus (error). The main contrast-of-interest for this GLM was ‘hard RDM stimulus (correct) > easy RDM stimulus (correct)’.\n"
   ]
  },
  {
   "cell_type": "code",
   "execution_count": 484,
   "metadata": {
    "collapsed": false
   },
   "outputs": [
    {
     "name": "stdout",
     "output_type": "stream",
     "text": [
      "Error: 6/STh_R_C/all the input arrays must have same number of dimensions\n"
     ]
    }
   ],
   "source": [
    "import itertools\n",
    "import pyfir\n",
    "from nipy.modalities.fmri import design_matrix, experimental_paradigm\n",
    "import statsmodels.api as sm\n",
    "\n",
    "level2_dict = []\n",
    "adj_r = []\n",
    "# pars = ['neutral_cue', 'left_cue', 'right_cue', 'neutral_easy_correct', 'valid_easy_correct', 'invalid_easy_correct', 'neutral_hard_correct', 'valid_hard_correct', 'invalid_hard_correct', 'easy_error', 'hard_error',]\n",
    "# pars = \n",
    "\n",
    "for subject_id in np.arange(1, 20):\n",
    "    for run in [1,2,3]:\n",
    "\n",
    "        try:\n",
    "            onsets_dict = get_onsets(subject_id, run, 'model1c', shift=-3)\n",
    "            pars = onsets_dict.keys()\n",
    "\n",
    "            conditions = []\n",
    "            onsets = []\n",
    "            for key in onsets_dict.keys():\n",
    "                conditions += [key] * len(onsets_dict[key])\n",
    "                onsets += onsets_dict[key]\n",
    "\n",
    "            paradigm =  experimental_paradigm.BlockParadigm(con_id=conditions, \n",
    "                                                            onset=onsets,\n",
    "                                                            duration=[[1.]] * len(conditions))\n",
    "            tr = 3.0\n",
    "            frametimes = np.linspace(0, 387 * tr, 387)\n",
    "            hrf_model = 'Canonical with Derivative'\n",
    "\n",
    "            X, names= design_matrix.dmtx_light(frametimes, paradigm, hrf_model=hrf_model, drift_model='polynomial', fir_delays=np.arange(11), drift_order=3)\n",
    "\n",
    "            X /= X.max(0)\n",
    "            X = pandas.DataFrame(X, columns=names)\n",
    "\n",
    "            for i, mask in enumerate(['STh_L_A', 'STh_L_B', 'STh_L_C', 'STh_R_A', 'STh_R_B', 'STh_R_C']):\n",
    "                signal = get_signal(subject_id,  run, mask)\n",
    "                r = sm.GLSAR(signal, X).iterative_fit()\n",
    "\n",
    "                adj_r.append({'subject_id':subject_id, 'mask':mask, 'r2_adj':r.rsquared_adj, 'r2':r.rsquared, 'run':run})\n",
    "\n",
    "                for par in pars:\n",
    "                    level2_dict.append({'value':r.params[par],\n",
    "                                        'par':par,\n",
    "                                        'subject_id':subject_id,\n",
    "                                        'mask':mask,\n",
    "                                        'run':run})\n",
    "        except Exception as e:\n",
    "            print 'Error: %s/%s/%s' %  (subject_id, mask, e)"
   ]
  },
  {
   "cell_type": "code",
   "execution_count": 486,
   "metadata": {
    "collapsed": false
   },
   "outputs": [
    {
     "data": {
      "image/png": "[encoded data removed]",
      "text/plain": [
       "<matplotlib.figure.Figure at 0x41da23d0>"
      ]
     },
     "metadata": {},
     "output_type": "display_data"
    }
   ],
   "source": [
    "df_glm = pandas.DataFrame(level2_dict)\n",
    "df_glm = df_glm.query('par != \"constant\"')\n",
    "df_glm['dummy'] = 1\n",
    "\n",
    "df_glm['% signal change'] = df_glm['value']\n",
    "sns.set_palette('Set1')\n",
    "sns.set_context('poster')\n",
    "sns.set_style('white')\n",
    "\n",
    "# sns.factorplot(x='dummy', y='value', hue='par', data=df_glm, col='mask', col_wrap=3, kind='bar', ci=95, hue_order=['payoff_cue (left)', 'payoff_cue (right)', 'neutral_cue','difficult_rdm', 'easy_rdm'])\n",
    "\n",
    "tmp = df_glm.groupby(['subject_id', 'mask', 'par', 'dummy'], as_index=False).mean()\n",
    "fac = sns.factorplot(x='par', y='% signal change', data=tmp, col='mask', col_wrap=3, kind='bar', ci=67, x_order=['easy (correct)', 'hard (correct)', '', 'easy (error)', 'hard (error)'], palette=['lightgreen', 'darkgreen', 'red', 'red', 'darkred'])\n",
    "\n",
    "fac.set_xticklabels(rotation=45)\n",
    "fac.set_xlabels('')\n",
    "\n",
    "plt.tight_layout()\n",
    "\n",
    "plt.savefig('/home/gdholla1/projects/bias/reports/figures/figure3.pdf')"
   ]
  },
  {
   "cell_type": "code",
   "execution_count": 454,
   "metadata": {
    "collapsed": false,
    "scrolled": true
   },
   "outputs": [
    {
     "data": {
      "text/plain": [
       "\r",
       "  |                                                                            \r",
       "  |                                                                      |   0%\r",
       "  |                                                                            \r",
       "  |==============                                                        |  20%\r",
       "  |                                                                            \r",
       "  |============================                                          |  40%\r",
       "  |                                                                            \r",
       "  |==========================================                            |  60%\r",
       "  |                                                                            \r",
       "  |========================================================              |  80%\r",
       "  |                                                                            \r",
       "  |======================================================================| 100%\n"
      ]
     },
     "metadata": {},
     "output_type": "display_data"
    },
    {
     "data": {
      "text/plain": [
       "Bayes factor top-down analysis\n",
       "--------------\n",
       "When effect is omitted from difficulty + correct + difficulty:correct + subject_id , BF is...\n",
       "[1] Omit correct:difficulty : 1.955469 ±1.07%\n",
       "[2] Omit correct            : 3.456048 ±2.01%\n",
       "[3] Omit difficulty         : 3.983257 ±1.39%\n",
       "\n",
       "Against denominator:\n",
       "  value ~ difficulty + correct + difficulty:correct + subject_id \n",
       "---\n",
       "Bayes factor type: BFlinearModel, JZS\n",
       "\n"
      ]
     },
     "metadata": {},
     "output_type": "display_data"
    },
    {
     "data": {
      "text/plain": [
       "                                                        denominator\n",
       "numerator                                                difficulty + correct + subject_id\n",
       "  difficulty + correct + difficulty:correct + subject_id                         0.5113863\n",
       "                                                        denominator\n",
       "numerator                                                difficulty + difficulty:correct + subject_id\n",
       "  difficulty + correct + difficulty:correct + subject_id                                    0.2893479\n",
       "                                                        denominator\n",
       "numerator                                                correct + difficulty:correct + subject_id\n",
       "  difficulty + correct + difficulty:correct + subject_id                                 0.2510508\n"
      ]
     },
     "metadata": {},
     "output_type": "display_data"
    },
    {
     "data": {
      "text/plain": [
       "\n",
       "Error: subject_id\n",
       "          Df Sum Sq Mean Sq F value Pr(>F)\n",
       "Residuals 18  2.437  0.1354               \n",
       "\n",
       "Error: subject_id:difficulty\n",
       "           Df  Sum Sq  Mean Sq F value Pr(>F)\n",
       "difficulty  1 0.00305 0.003052   0.297  0.592\n",
       "Residuals  18 0.18479 0.010266               \n",
       "\n",
       "Error: subject_id:correct\n",
       "          Df Sum Sq Mean Sq F value Pr(>F)\n",
       "correct    1 0.0103 0.01026   0.213   0.65\n",
       "Residuals 18 0.8673 0.04818               \n",
       "\n",
       "Error: subject_id:difficulty:correct\n",
       "                   Df  Sum Sq  Mean Sq F value Pr(>F)\n",
       "difficulty:correct  1 0.02624 0.026242    2.64  0.122\n",
       "Residuals          18 0.17895 0.009942               \n"
      ]
     },
     "metadata": {},
     "output_type": "display_data"
    },
    {
     "data": {
      "text/plain": [
       "\r",
       "  |                                                                            \r",
       "  |                                                                      |   0%\r",
       "  |                                                                            \r",
       "  |==============                                                        |  20%\r",
       "  |                                                                            \r",
       "  |============================                                          |  40%\r",
       "  |                                                                            \r",
       "  |==========================================                            |  60%\r",
       "  |                                                                            \r",
       "  |========================================================              |  80%\r",
       "  |                                                                            \r",
       "  |======================================================================| 100%\n"
      ]
     },
     "metadata": {},
     "output_type": "display_data"
    },
    {
     "data": {
      "text/plain": [
       "Bayes factor top-down analysis\n",
       "--------------\n",
       "When effect is omitted from difficulty + correct + difficulty:correct + subject_id , BF is...\n",
       "[1] Omit correct:difficulty : 3.215583  ±1.48%\n",
       "[2] Omit correct            : 0.6334076 ±1.76%\n",
       "[3] Omit difficulty         : 4.237084  ±1.22%\n",
       "\n",
       "Against denominator:\n",
       "  value ~ difficulty + correct + difficulty:correct + subject_id \n",
       "---\n",
       "Bayes factor type: BFlinearModel, JZS\n",
       "\n"
      ]
     },
     "metadata": {},
     "output_type": "display_data"
    },
    {
     "data": {
      "text/plain": [
       "                                                        denominator\n",
       "numerator                                                difficulty + correct + subject_id\n",
       "  difficulty + correct + difficulty:correct + subject_id                         0.3109856\n",
       "                                                        denominator\n",
       "numerator                                                difficulty + difficulty:correct + subject_id\n",
       "  difficulty + correct + difficulty:correct + subject_id                                     1.578762\n",
       "                                                        denominator\n",
       "numerator                                                correct + difficulty:correct + subject_id\n",
       "  difficulty + correct + difficulty:correct + subject_id                                 0.2360114\n"
      ]
     },
     "metadata": {},
     "output_type": "display_data"
    },
    {
     "data": {
      "text/plain": [
       "\n",
       "Error: subject_id\n",
       "          Df Sum Sq Mean Sq F value Pr(>F)\n",
       "Residuals 18  5.381  0.2989               \n",
       "\n",
       "Error: subject_id:difficulty\n",
       "           Df  Sum Sq  Mean Sq F value Pr(>F)\n",
       "difficulty  1 0.00003 0.000032   0.004   0.95\n",
       "Residuals  18 0.14501 0.008056               \n",
       "\n",
       "Error: subject_id:correct\n",
       "          Df Sum Sq Mean Sq F value Pr(>F)\n",
       "correct    1 0.1433 0.14334   2.384   0.14\n",
       "Residuals 18 1.0823 0.06013               \n",
       "\n",
       "Error: subject_id:difficulty:correct\n",
       "                   Df Sum Sq Mean Sq F value Pr(>F)\n",
       "difficulty:correct  1 0.0001 0.00013   0.004  0.948\n",
       "Residuals          18 0.5296 0.02942               \n"
      ]
     },
     "metadata": {},
     "output_type": "display_data"
    },
    {
     "data": {
      "text/plain": [
       "\r",
       "  |                                                                            \r",
       "  |                                                                      |   0%\r",
       "  |                                                                            \r",
       "  |==============                                                        |  20%\r",
       "  |                                                                            \r",
       "  |============================                                          |  40%\r",
       "  |                                                                            \r",
       "  |==========================================                            |  60%\r",
       "  |                                                                            \r",
       "  |========================================================              |  80%\r",
       "  |                                                                            \r",
       "  |======================================================================| 100%\n"
      ]
     },
     "metadata": {},
     "output_type": "display_data"
    },
    {
     "data": {
      "text/plain": [
       "Bayes factor top-down analysis\n",
       "--------------\n",
       "When effect is omitted from difficulty + correct + difficulty:correct + subject_id , BF is...\n",
       "[1] Omit correct:difficulty : 2.771569  ±1.61%\n",
       "[2] Omit correct            : 0.2408017 ±2.87%\n",
       "[3] Omit difficulty         : 3.995033  ±1.41%\n",
       "\n",
       "Against denominator:\n",
       "  value ~ difficulty + correct + difficulty:correct + subject_id \n",
       "---\n",
       "Bayes factor type: BFlinearModel, JZS\n",
       "\n"
      ]
     },
     "metadata": {},
     "output_type": "display_data"
    },
    {
     "data": {
      "text/plain": [
       "                                                        denominator\n",
       "numerator                                                difficulty + correct + subject_id\n",
       "  difficulty + correct + difficulty:correct + subject_id                         0.3608065\n",
       "                                                        denominator\n",
       "numerator                                                difficulty + difficulty:correct + subject_id\n",
       "  difficulty + correct + difficulty:correct + subject_id                                     4.152795\n",
       "                                                        denominator\n",
       "numerator                                                correct + difficulty:correct + subject_id\n",
       "  difficulty + correct + difficulty:correct + subject_id                                 0.2503108\n"
      ]
     },
     "metadata": {},
     "output_type": "display_data"
    },
    {
     "data": {
      "text/plain": [
       "\n",
       "Error: subject_id\n",
       "          Df Sum Sq Mean Sq F value Pr(>F)\n",
       "Residuals 18  4.428   0.246               \n",
       "\n",
       "Error: subject_id:difficulty\n",
       "           Df Sum Sq Mean Sq F value Pr(>F)\n",
       "difficulty  1 0.0043 0.00425   0.123   0.73\n",
       "Residuals  18 0.6247 0.03471               \n",
       "\n",
       "Error: subject_id:correct\n",
       "          Df Sum Sq Mean Sq F value Pr(>F)  \n",
       "correct    1 0.2835 0.28345   6.582 0.0195 *\n",
       "Residuals 18 0.7752 0.04307                 \n",
       "---\n",
       "Signif. codes:  0 ‘***’ 0.001 ‘**’ 0.01 ‘*’ 0.05 ‘.’ 0.1 ‘ ’ 1\n",
       "\n",
       "Error: subject_id:difficulty:correct\n",
       "                   Df Sum Sq Mean Sq F value Pr(>F)\n",
       "difficulty:correct  1 0.0141 0.01406   0.283  0.601\n",
       "Residuals          18 0.8952 0.04974               \n"
      ]
     },
     "metadata": {},
     "output_type": "display_data"
    },
    {
     "data": {
      "text/plain": [
       "\r",
       "  |                                                                            \r",
       "  |                                                                      |   0%\r",
       "  |                                                                            \r",
       "  |==============                                                        |  20%\r",
       "  |                                                                            \r",
       "  |============================                                          |  40%\r",
       "  |                                                                            \r",
       "  |==========================================                            |  60%\r",
       "  |                                                                            \r",
       "  |========================================================              |  80%\r",
       "  |                                                                            \r",
       "  |======================================================================| 100%\n"
      ]
     },
     "metadata": {},
     "output_type": "display_data"
    },
    {
     "data": {
      "text/plain": [
       "Bayes factor top-down analysis\n",
       "--------------\n",
       "When effect is omitted from difficulty + correct + difficulty:correct + subject_id , BF is...\n",
       "[1] Omit correct:difficulty : 0.9883063 ±1.46%\n",
       "[2] Omit correct            : 0.5566166 ±3.74%\n",
       "[3] Omit difficulty         : 2.191397  ±1.37%\n",
       "\n",
       "Against denominator:\n",
       "  value ~ difficulty + correct + difficulty:correct + subject_id \n",
       "---\n",
       "Bayes factor type: BFlinearModel, JZS\n",
       "\n"
      ]
     },
     "metadata": {},
     "output_type": "display_data"
    },
    {
     "data": {
      "text/plain": [
       "                                                        denominator\n",
       "numerator                                                difficulty + correct + subject_id\n",
       "  difficulty + correct + difficulty:correct + subject_id                          1.011832\n",
       "                                                        denominator\n",
       "numerator                                                difficulty + difficulty:correct + subject_id\n",
       "  difficulty + correct + difficulty:correct + subject_id                                     1.796569\n",
       "                                                        denominator\n",
       "numerator                                                correct + difficulty:correct + subject_id\n",
       "  difficulty + correct + difficulty:correct + subject_id                                   0.45633\n"
      ]
     },
     "metadata": {},
     "output_type": "display_data"
    },
    {
     "data": {
      "text/plain": [
       "\n",
       "Error: subject_id\n",
       "          Df Sum Sq Mean Sq F value Pr(>F)\n",
       "Residuals 18  2.949  0.1638               \n",
       "\n",
       "Error: subject_id:difficulty\n",
       "           Df  Sum Sq Mean Sq F value Pr(>F)\n",
       "difficulty  1 0.04641 0.04641   2.765  0.114\n",
       "Residuals  18 0.30218 0.01679               \n",
       "\n",
       "Error: subject_id:correct\n",
       "          Df Sum Sq Mean Sq F value Pr(>F)\n",
       "correct    1 0.1436 0.14364   2.794  0.112\n",
       "Residuals 18 0.9254 0.05141               \n",
       "\n",
       "Error: subject_id:difficulty:correct\n",
       "                   Df Sum Sq Mean Sq F value Pr(>F)  \n",
       "difficulty:correct  1 0.0888 0.08877   4.386 0.0507 .\n",
       "Residuals          18 0.3643 0.02024                 \n",
       "---\n",
       "Signif. codes:  0 ‘***’ 0.001 ‘**’ 0.01 ‘*’ 0.05 ‘.’ 0.1 ‘ ’ 1\n"
      ]
     },
     "metadata": {},
     "output_type": "display_data"
    },
    {
     "data": {
      "text/plain": [
       "\r",
       "  |                                                                            \r",
       "  |                                                                      |   0%\r",
       "  |                                                                            \r",
       "  |==============                                                        |  20%\r",
       "  |                                                                            \r",
       "  |============================                                          |  40%\r",
       "  |                                                                            \r",
       "  |==========================================                            |  60%\r",
       "  |                                                                            \r",
       "  |========================================================              |  80%\r",
       "  |                                                                            \r",
       "  |======================================================================| 100%\n"
      ]
     },
     "metadata": {},
     "output_type": "display_data"
    },
    {
     "data": {
      "text/plain": [
       "Bayes factor top-down analysis\n",
       "--------------\n",
       "When effect is omitted from difficulty + correct + difficulty:correct + subject_id , BF is...\n",
       "[1] Omit correct:difficulty : 2.75595  ±2.29%\n",
       "[2] Omit correct            : 4.094076 ±7.37%\n",
       "[3] Omit difficulty         : 2.390074 ±2.64%\n",
       "\n",
       "Against denominator:\n",
       "  value ~ difficulty + correct + difficulty:correct + subject_id \n",
       "---\n",
       "Bayes factor type: BFlinearModel, JZS\n",
       "\n"
      ]
     },
     "metadata": {},
     "output_type": "display_data"
    },
    {
     "data": {
      "text/plain": [
       "                                                        denominator\n",
       "numerator                                                difficulty + correct + subject_id\n",
       "  difficulty + correct + difficulty:correct + subject_id                         0.3628513\n",
       "                                                        denominator\n",
       "numerator                                                difficulty + difficulty:correct + subject_id\n",
       "  difficulty + correct + difficulty:correct + subject_id                                    0.2442554\n",
       "                                                        denominator\n",
       "numerator                                                correct + difficulty:correct + subject_id\n",
       "  difficulty + correct + difficulty:correct + subject_id                                  0.418397\n"
      ]
     },
     "metadata": {},
     "output_type": "display_data"
    },
    {
     "data": {
      "text/plain": [
       "\n",
       "Error: subject_id\n",
       "          Df Sum Sq Mean Sq F value Pr(>F)\n",
       "Residuals 18  5.286  0.2937               \n",
       "\n",
       "Error: subject_id:difficulty\n",
       "           Df Sum Sq Mean Sq F value Pr(>F)\n",
       "difficulty  1 0.0944 0.09438   1.771    0.2\n",
       "Residuals  18 0.9590 0.05328               \n",
       "\n",
       "Error: subject_id:correct\n",
       "          Df Sum Sq Mean Sq F value Pr(>F)\n",
       "correct    1  0.020 0.02003   0.181  0.676\n",
       "Residuals 18  1.995 0.11081               \n",
       "\n",
       "Error: subject_id:difficulty:correct\n",
       "                   Df Sum Sq Mean Sq F value Pr(>F)\n",
       "difficulty:correct  1 0.0281 0.02813   0.545   0.47\n",
       "Residuals          18 0.9288 0.05160               \n"
      ]
     },
     "metadata": {},
     "output_type": "display_data"
    },
    {
     "data": {
      "text/plain": [
       "\r",
       "  |                                                                            \r",
       "  |                                                                      |   0%\r",
       "  |                                                                            \r",
       "  |==============                                                        |  20%\r",
       "  |                                                                            \r",
       "  |============================                                          |  40%\r",
       "  |                                                                            \r",
       "  |==========================================                            |  60%\r",
       "  |                                                                            \r",
       "  |========================================================              |  80%\r",
       "  |                                                                            \r",
       "  |======================================================================| 100%\n"
      ]
     },
     "metadata": {},
     "output_type": "display_data"
    },
    {
     "data": {
      "text/plain": [
       "Bayes factor top-down analysis\n",
       "--------------\n",
       "When effect is omitted from difficulty + correct + difficulty:correct + subject_id , BF is...\n",
       "[1] Omit correct:difficulty : 1.68184  ±2.24%\n",
       "[2] Omit correct            : 2.75631  ±2.3%\n",
       "[3] Omit difficulty         : 2.369138 ±3.07%\n",
       "\n",
       "Against denominator:\n",
       "  value ~ difficulty + correct + difficulty:correct + subject_id \n",
       "---\n",
       "Bayes factor type: BFlinearModel, JZS\n",
       "\n"
      ]
     },
     "metadata": {},
     "output_type": "display_data"
    },
    {
     "data": {
      "text/plain": [
       "                                                        denominator\n",
       "numerator                                                difficulty + correct + subject_id\n",
       "  difficulty + correct + difficulty:correct + subject_id                         0.5945867\n",
       "                                                        denominator\n",
       "numerator                                                difficulty + difficulty:correct + subject_id\n",
       "  difficulty + correct + difficulty:correct + subject_id                                    0.3628039\n",
       "                                                        denominator\n",
       "numerator                                                correct + difficulty:correct + subject_id\n",
       "  difficulty + correct + difficulty:correct + subject_id                                 0.4220944\n"
      ]
     },
     "metadata": {},
     "output_type": "display_data"
    },
    {
     "data": {
      "text/plain": [
       "\n",
       "Error: subject_id\n",
       "          Df Sum Sq Mean Sq F value Pr(>F)\n",
       "Residuals 18  3.573  0.1985               \n",
       "\n",
       "Error: subject_id:difficulty\n",
       "           Df Sum Sq Mean Sq F value Pr(>F)\n",
       "difficulty  1 0.1019 0.10194   1.142  0.299\n",
       "Residuals  18 1.6071 0.08928               \n",
       "\n",
       "Error: subject_id:correct\n",
       "          Df Sum Sq Mean Sq F value Pr(>F)\n",
       "correct    1 0.0729 0.07286   0.867  0.364\n",
       "Residuals 18 1.5134 0.08408               \n",
       "\n",
       "Error: subject_id:difficulty:correct\n",
       "                   Df Sum Sq Mean Sq F value Pr(>F)\n",
       "difficulty:correct  1 0.1203 0.12029   1.901  0.185\n",
       "Residuals          18 1.1387 0.06326               \n"
      ]
     },
     "metadata": {},
     "output_type": "display_data"
    }
   ],
   "source": [
    "masks = ['STh_L_A', 'STh_L_B', 'STh_L_C', 'STh_R_A', 'STh_R_B', 'STh_R_C']\n",
    "\n",
    "results = []\n",
    "\n",
    "for mask in masks:\n",
    "    df = df_glm[df_glm['mask'] == mask].pivot_table(index='subject_id', values='value', columns='par')\n",
    "    \n",
    "    df = pandas.melt(df.reset_index(), id_vars='subject_id')\n",
    "    reg = re.compile('([a-z]+) \\(([a-z]+)\\)')\n",
    "\n",
    "    df = df[df.par.apply(lambda x: reg.match(x) is not None)]\n",
    "    df['difficulty'] = df.par.apply(lambda x: reg.match(x).group(1))\n",
    "    df['correct'] = df.par.apply(lambda x: reg.match(x).group(2))\n",
    "    df['subject_id'] = df['subject_id'].astype('category')\n",
    "\n",
    "    %R -i df\n",
    "\n",
    "    %R library(BayesFactor)\n",
    "    %R bf = anovaBF(value ~ difficulty*correct + subject_id, data = df,  whichRandom=\"subject_id\", whichModels='top', iterations=100000)\n",
    "    %R print(bf)\n",
    "    %R print(1/bf)\n",
    "    %R print(summary(aov(value ~ difficulty*correct + Error(subject_id/(difficulty*correct)), df)))\n",
    "    \n",
    "#     %R tmp = extractBF(bf)\n",
    "#     %R -o tmp\n",
    "    \n",
    "#     results.append({'mask':mask,\n",
    "#                     'BF':tmp.bf.values[0]})\n",
    "    \n",
    "# pandas.DataFrame(results)[['mask', 'BF']]"
   ]
  },
  {
   "cell_type": "code",
   "execution_count": 473,
   "metadata": {
    "collapsed": false
   },
   "outputs": [
    {
     "data": {
      "text/plain": [
       "\r",
       "  |                                                                            \r",
       "  |                                                                      |   0%\r",
       "  |                                                                            \r",
       "  |==============                                                        |  20%\r",
       "  |                                                                            \r",
       "  |============================                                          |  40%\r",
       "  |                                                                            \r",
       "  |==========================================                            |  60%\r",
       "  |                                                                            \r",
       "  |========================================================              |  80%\r",
       "  |                                                                            \r",
       "  |======================================================================| 100%\n"
      ]
     },
     "metadata": {},
     "output_type": "display_data"
    },
    {
     "data": {
      "text/plain": [
       "Bayes factor top-down analysis\n",
       "--------------\n",
       "When effect is omitted from correct + mask + correct:mask + subject_id , BF is...\n",
       "[1] Omit correct:mask : 4.749574  ±1.01%\n",
       "[2] Omit mask         : 4.027488  ±1.08%\n",
       "[3] Omit correct      : 0.8353629 ±1.48%\n",
       "\n",
       "Against denominator:\n",
       "  value ~ correct + mask + correct:mask + subject_id \n",
       "---\n",
       "Bayes factor type: BFlinearModel, JZS\n",
       "\n"
      ]
     },
     "metadata": {},
     "output_type": "display_data"
    },
    {
     "data": {
      "text/plain": [
       "                                            denominator\n",
       "numerator                                    correct + mask + subject_id\n",
       "  correct + mask + correct:mask + subject_id                   0.2105452\n",
       "                                            denominator\n",
       "numerator                                    correct + correct:mask + subject_id\n",
       "  correct + mask + correct:mask + subject_id                           0.2482938\n",
       "                                            denominator\n",
       "numerator                                    mask + correct:mask + subject_id\n",
       "  correct + mask + correct:mask + subject_id                         1.197085\n"
      ]
     },
     "metadata": {},
     "output_type": "display_data"
    },
    {
     "data": {
      "text/plain": [
       "\n",
       "Error: subject_id\n",
       "          Df Sum Sq Mean Sq F value Pr(>F)\n",
       "Residuals 18  3.558  0.1977               \n",
       "\n",
       "Error: subject_id:mask\n",
       "          Df Sum Sq Mean Sq F value Pr(>F)\n",
       "mask       2 0.1136 0.05678   0.797  0.458\n",
       "Residuals 36 2.5647 0.07124               \n",
       "\n",
       "Error: subject_id:correct\n",
       "          Df Sum Sq Mean Sq F value Pr(>F)  \n",
       "correct    1 0.1708 0.17080   3.027  0.099 .\n",
       "Residuals 18 1.0157 0.05643                 \n",
       "---\n",
       "Signif. codes:  0 ‘***’ 0.001 ‘**’ 0.01 ‘*’ 0.05 ‘.’ 0.1 ‘ ’ 1\n",
       "\n",
       "Error: subject_id:mask:correct\n",
       "             Df Sum Sq  Mean Sq F value Pr(>F)  \n",
       "mask:correct  2 0.0477 0.023866   2.478 0.0981 .\n",
       "Residuals    36 0.3467 0.009632                 \n",
       "---\n",
       "Signif. codes:  0 ‘***’ 0.001 ‘**’ 0.01 ‘*’ 0.05 ‘.’ 0.1 ‘ ’ 1\n"
      ]
     },
     "metadata": {},
     "output_type": "display_data"
    },
    {
     "data": {
      "text/plain": [
       "\r",
       "  |                                                                            \r",
       "  |                                                                      |   0%\r",
       "  |                                                                            \r",
       "  |==============                                                        |  20%\r",
       "  |                                                                            \r",
       "  |============================                                          |  40%\r",
       "  |                                                                            \r",
       "  |==========================================                            |  60%\r",
       "  |                                                                            \r",
       "  |========================================================              |  80%\r",
       "  |                                                                            \r",
       "  |======================================================================| 100%\n"
      ]
     },
     "metadata": {},
     "output_type": "display_data"
    },
    {
     "data": {
      "text/plain": [
       "Bayes factor top-down analysis\n",
       "--------------\n",
       "When effect is omitted from correct + mask + correct:mask + subject_id , BF is...\n",
       "[1] Omit correct:mask : 6.617851 ±1.16%\n",
       "[2] Omit mask         : 11.78133 ±1.04%\n",
       "[3] Omit correct      : 1.887015 ±1.28%\n",
       "\n",
       "Against denominator:\n",
       "  value ~ correct + mask + correct:mask + subject_id \n",
       "---\n",
       "Bayes factor type: BFlinearModel, JZS\n",
       "\n"
      ]
     },
     "metadata": {},
     "output_type": "display_data"
    },
    {
     "data": {
      "text/plain": [
       "                                            denominator\n",
       "numerator                                    correct + mask + subject_id\n",
       "  correct + mask + correct:mask + subject_id                   0.1511064\n",
       "                                            denominator\n",
       "numerator                                    correct + correct:mask + subject_id\n",
       "  correct + mask + correct:mask + subject_id                          0.08488006\n",
       "                                            denominator\n",
       "numerator                                    mask + correct:mask + subject_id\n",
       "  correct + mask + correct:mask + subject_id                        0.5299374\n"
      ]
     },
     "metadata": {},
     "output_type": "display_data"
    },
    {
     "data": {
      "text/plain": [
       "\n",
       "Error: subject_id\n",
       "          Df Sum Sq Mean Sq F value Pr(>F)\n",
       "Residuals 18  3.746  0.2081               \n",
       "\n",
       "Error: subject_id:mask\n",
       "          Df Sum Sq Mean Sq F value Pr(>F)\n",
       "mask       2 0.0054 0.00268   0.045  0.956\n",
       "Residuals 36 2.1582 0.05995               \n",
       "\n",
       "Error: subject_id:correct\n",
       "          Df Sum Sq Mean Sq F value Pr(>F)\n",
       "correct    1 0.1041  0.1041   1.011  0.328\n",
       "Residuals 18 1.8533  0.1030               \n",
       "\n",
       "Error: subject_id:mask:correct\n",
       "             Df Sum Sq  Mean Sq F value Pr(>F)\n",
       "mask:correct  2 0.0141 0.007064     0.7  0.503\n",
       "Residuals    36 0.3634 0.010095               \n"
      ]
     },
     "metadata": {},
     "output_type": "display_data"
    },
    {
     "data": {
      "text/html": [
       "<div>\n",
       "<table border=\"1\" class=\"dataframe\">\n",
       "  <thead>\n",
       "    <tr style=\"text-align: right;\">\n",
       "      <th></th>\n",
       "      <th>correct</th>\n",
       "      <th>correct</th>\n",
       "      <th>error</th>\n",
       "    </tr>\n",
       "    <tr>\n",
       "      <th>subject_id</th>\n",
       "      <th>mask</th>\n",
       "      <th></th>\n",
       "      <th></th>\n",
       "    </tr>\n",
       "  </thead>\n",
       "  <tbody>\n",
       "    <tr>\n",
       "      <th rowspan=\"5\" valign=\"top\">1</th>\n",
       "      <th>STh_L_A</th>\n",
       "      <td>-0.268671</td>\n",
       "      <td>-0.260130</td>\n",
       "    </tr>\n",
       "    <tr>\n",
       "      <th>STh_L_B</th>\n",
       "      <td>-0.151204</td>\n",
       "      <td>0.002393</td>\n",
       "    </tr>\n",
       "    <tr>\n",
       "      <th>STh_L_C</th>\n",
       "      <td>-0.020658</td>\n",
       "      <td>0.150252</td>\n",
       "    </tr>\n",
       "    <tr>\n",
       "      <th>STh_R_A</th>\n",
       "      <td>-0.036892</td>\n",
       "      <td>-0.095763</td>\n",
       "    </tr>\n",
       "    <tr>\n",
       "      <th>STh_R_B</th>\n",
       "      <td>0.040324</td>\n",
       "      <td>0.020512</td>\n",
       "    </tr>\n",
       "  </tbody>\n",
       "</table>\n",
       "</div>"
      ],
      "text/plain": [
       "correct              correct     error\n",
       "subject_id mask                       \n",
       "1          STh_L_A -0.268671 -0.260130\n",
       "           STh_L_B -0.151204  0.002393\n",
       "           STh_L_C -0.020658  0.150252\n",
       "           STh_R_A -0.036892 -0.095763\n",
       "           STh_R_B  0.040324  0.020512"
      ]
     },
     "execution_count": 473,
     "metadata": {},
     "output_type": "execute_result"
    }
   ],
   "source": [
    "df_glm\n",
    "\n",
    "df = df_glm.copy()\n",
    "\n",
    "# df = pandas.melt(df.reset_index(), id_vars='subject_id')\n",
    "reg = re.compile('([a-z]+) \\(([a-z]+)\\)')\n",
    "\n",
    "df = df[df.par.apply(lambda x: reg.match(x) is not None)]\n",
    "df['difficulty'] = df.par.apply(lambda x: reg.match(x).group(1))\n",
    "df['correct'] = df.par.apply(lambda x: reg.match(x).group(2))\n",
    "df['subject_id'] = df['subject_id'].astype('category')\n",
    "\n",
    "tmp_l = df[np.in1d(df['mask'], ['STh_L_A', 'STh_L_B', 'STh_L_C'])].groupby(['subject_id', 'correct', 'mask'], as_index=False).mean()\n",
    "\n",
    "%R -i tmp_l\n",
    "%R library(BayesFactor)\n",
    "%R bf = anovaBF(value ~ mask*correct + subject_id, data = tmp_l,  whichRandom=\"subject_id\", whichModels='top', iterations=100000)\n",
    "%R print(bf)\n",
    "%R print(1/bf)\n",
    "%R print(summary(aov(value ~ mask*correct + Error(subject_id/(mask*correct)), tmp_l)))\n",
    "\n",
    "tmp_r = df[np.in1d(df['mask'], ['STh_R_A', 'STh_R_B', 'STh_R_C'])].groupby(['subject_id', 'correct', 'mask'], as_index=False).mean()\n",
    "\n",
    "%R -i tmp_r\n",
    "%R library(BayesFactor)\n",
    "%R bf = anovaBF(value ~ mask*correct + subject_id, data = tmp_r,  whichRandom=\"subject_id\", whichModels='top', iterations=100000)\n",
    "%R print(bf)\n",
    "%R print(1/bf)\n",
    "%R print(summary(aov(value ~ mask*correct + Error(subject_id/(mask*correct)), tmp_r)))\n",
    "\n",
    "tmp.head()"
   ]
  },
  {
   "cell_type": "markdown",
   "metadata": {},
   "source": [
    "## Model 2"
   ]
  },
  {
   "cell_type": "code",
   "execution_count": 556,
   "metadata": {
    "collapsed": false
   },
   "outputs": [
    {
     "name": "stdout",
     "output_type": "stream",
     "text": [
      "Error: 6/STh_R_C/all the input arrays must have same number of dimensions\n",
      "Error: 15/STh_L_A/'error (incongruent)'\n"
     ]
    }
   ],
   "source": [
    "\n",
    "\n",
    "import itertools\n",
    "import pyfir\n",
    "from nipy.modalities.fmri import design_matrix, experimental_paradigm\n",
    "import statsmodels.api as sm\n",
    "\n",
    "level2_dict = []\n",
    "adj_r = []\n",
    "# pars = ['neutral_cue', 'left_cue', 'right_cue', 'neutral_easy_correct', 'valid_easy_correct', 'invalid_easy_correct', 'neutral_hard_correct', 'valid_hard_correct', 'invalid_hard_correct', 'easy_error', 'hard_error',]\n",
    "# pars = \n",
    "\n",
    "for subject_id in np.arange(1, 20):\n",
    "    for run in [1,2,3]:\n",
    "\n",
    "        try:\n",
    "            onsets_dict = get_onsets(subject_id, run, 'model2', shift=-3)\n",
    "            pars = onsets_dict.keys()\n",
    "\n",
    "            conditions = []\n",
    "            onsets = []\n",
    "            for key in onsets_dict.keys():\n",
    "                conditions += [key] * len(onsets_dict[key])\n",
    "                onsets += onsets_dict[key]\n",
    "\n",
    "            paradigm =  experimental_paradigm.BlockParadigm(con_id=conditions, \n",
    "                                                            onset=onsets,\n",
    "                                                            duration=[[1.]] * len(conditions))\n",
    "            tr = 3.0\n",
    "            frametimes = np.linspace(0, 387 * tr, 387)\n",
    "            hrf_model = 'Canonical with Derivative'\n",
    "\n",
    "            X, names= design_matrix.dmtx_light(frametimes, paradigm, hrf_model=hrf_model, drift_model='polynomial', fir_delays=np.arange(11), drift_order=3)\n",
    "\n",
    "            X /= X.max(0)\n",
    "            X = pandas.DataFrame(X, columns=names)\n",
    "\n",
    "            for i, mask in enumerate(['STh_L_A', 'STh_L_B', 'STh_L_C', 'STh_R_A', 'STh_R_B', 'STh_R_C']):\n",
    "                signal = get_signal(subject_id,  run, mask)\n",
    "                r = sm.GLSAR(signal, X).iterative_fit()\n",
    "\n",
    "                adj_r.append({'subject_id':subject_id, 'mask':mask, 'r2_adj':r.rsquared_adj, 'r2':r.rsquared, 'run':run})\n",
    "\n",
    "                for par in pars:\n",
    "                    level2_dict.append({'value':r.params[par],\n",
    "                                        'par':par,\n",
    "                                        'subject_id':subject_id,\n",
    "                                        'mask':mask,\n",
    "                                        'run':run})\n",
    "        except Exception as e:\n",
    "            print 'Error: %s/%s/%s' %  (subject_id, mask, e)"
   ]
  },
  {
   "cell_type": "code",
   "execution_count": 557,
   "metadata": {
    "collapsed": false
   },
   "outputs": [
    {
     "data": {
      "text/plain": [
       "<seaborn.axisgrid.FacetGrid at 0x4470b990>"
      ]
     },
     "execution_count": 557,
     "metadata": {},
     "output_type": "execute_result"
    },
    {
     "data": {
      "image/png": "[encoded data removed]",
      "text/plain": [
       "<matplotlib.figure.Figure at 0x44891cd0>"
      ]
     },
     "metadata": {},
     "output_type": "display_data"
    }
   ],
   "source": [
    "df_glm = pandas.DataFrame(level2_dict)\n",
    "df_glm = df_glm.query('par != \"constant\"')\n",
    "df_glm['dummy'] = 1\n",
    "\n",
    "df_glm['% signal change'] = df_glm['value']\n",
    "sns.set_palette('Set1')\n",
    "sns.set_context('poster')\n",
    "sns.set_style('white')\n",
    "\n",
    "# sns.factorplot(x='dummy', y='value', hue='par', data=df_glm, col='mask', col_wrap=3, kind='bar', ci=95, hue_order=['payoff_cue (left)', 'payoff_cue (right)', 'neutral_cue','difficult_rdm', 'easy_rdm'])\n",
    "\n",
    "tmp = df_glm.groupby(['subject_id', 'mask', 'par', 'dummy'], as_index=False).mean()\n",
    "# sns.factorplot(x='dummy', y='value', hue='par', data=tmp, col='mask', col_wrap=3, kind='bar', ci=95, hue_order=['correct (congruent)', 'correct (neutral)', 'correct (incongruent)', '', 'error (congruent)', 'error (neutral)', 'error (incongruent)', ''])\n",
    "fac = sns.factorplot(x='par', y='value', data=tmp, col='mask', col_wrap=3, kind='bar', ci=95, x_order=['correct (congruent)', 'correct (neutral)', 'correct (incongruent)', '', 'error (congruent)', 'error (neutral)', 'error (incongruent)', ''], palette=['gray'])\n",
    "fac.set_xticklabels(rotation=90)\n",
    "\n"
   ]
  },
  {
   "cell_type": "code",
   "execution_count": 559,
   "metadata": {
    "collapsed": false,
    "scrolled": false
   },
   "outputs": [
    {
     "data": {
      "text/plain": [
       "\r",
       "  |                                                                            \r",
       "  |                                                                      |   0%\r",
       "  |                                                                            \r",
       "  |==============                                                        |  20%\r",
       "  |                                                                            \r",
       "  |============================                                          |  40%\r",
       "  |                                                                            \r",
       "  |==========================================                            |  60%\r",
       "  |                                                                            \r",
       "  |========================================================              |  80%\r",
       "  |                                                                            \r",
       "  |======================================================================| 100%\n"
      ]
     },
     "metadata": {},
     "output_type": "display_data"
    },
    {
     "data": {
      "text/plain": [
       "Bayes factor top-down analysis\n",
       "--------------\n",
       "When effect is omitted from correct + congruency + correct:congruency + subject_id , BF is...\n",
       "[1] Omit congruency:correct : 3.738037 ±2.39%\n",
       "[2] Omit congruency         : 4.097671 ±2.6%\n",
       "[3] Omit correct            : 3.861902 ±4.19%\n",
       "\n",
       "Against denominator:\n",
       "  value ~ correct + congruency + correct:congruency + subject_id \n",
       "---\n",
       "Bayes factor type: BFlinearModel, JZS\n",
       "\n"
      ]
     },
     "metadata": {},
     "output_type": "display_data"
    },
    {
     "data": {
      "text/plain": [
       "                                                        denominator\n",
       "numerator                                                correct + congruency + subject_id\n",
       "  correct + congruency + correct:congruency + subject_id                         0.2675201\n",
       "                                                        denominator\n",
       "numerator                                                correct + correct:congruency + subject_id\n",
       "  correct + congruency + correct:congruency + subject_id                                 0.2440411\n",
       "                                                        denominator\n",
       "numerator                                                congruency + correct:congruency + subject_id\n",
       "  correct + congruency + correct:congruency + subject_id                                    0.2589397\n"
      ]
     },
     "metadata": {},
     "output_type": "display_data"
    },
    {
     "data": {
      "text/plain": [
       "\n",
       "Error: subject_id\n",
       "          Df Sum Sq Mean Sq F value Pr(>F)\n",
       "Residuals 18  5.028  0.2793               \n",
       "\n",
       "Error: subject_id:congruency\n",
       "           Df Sum Sq Mean Sq F value Pr(>F)\n",
       "congruency  2  0.247  0.1233   0.911  0.411\n",
       "Residuals  36  4.874  0.1354               \n",
       "\n",
       "Error: subject_id:correct\n",
       "          Df Sum Sq Mean Sq F value Pr(>F)\n",
       "correct    1 0.0661 0.06609   1.193  0.289\n",
       "Residuals 18 0.9972 0.05540               \n",
       "\n",
       "Error: subject_id:congruency:correct\n",
       "                   Df Sum Sq Mean Sq F value Pr(>F)\n",
       "congruency:correct  2 0.1599 0.07996   1.082   0.35\n",
       "Residuals          36 2.6602 0.07389               \n"
      ]
     },
     "metadata": {},
     "output_type": "display_data"
    },
    {
     "data": {
      "text/plain": [
       "\r",
       "  |                                                                            \r",
       "  |                                                                      |   0%\r",
       "  |                                                                            \r",
       "  |==============                                                        |  20%\r",
       "  |                                                                            \r",
       "  |============================                                          |  40%\r",
       "  |                                                                            \r",
       "  |==========================================                            |  60%\r",
       "  |                                                                            \r",
       "  |========================================================              |  80%\r",
       "  |                                                                            \r",
       "  |======================================================================| 100%\n"
      ]
     },
     "metadata": {},
     "output_type": "display_data"
    },
    {
     "data": {
      "text/plain": [
       "Bayes factor top-down analysis\n",
       "--------------\n",
       "When effect is omitted from correct + congruency + correct:congruency + subject_id , BF is...\n",
       "[1] Omit congruency:correct : 2.563299  ±3.33%\n",
       "[2] Omit congruency         : 7.825623  ±3.43%\n",
       "[3] Omit correct            : 0.2469223 ±4.34%\n",
       "\n",
       "Against denominator:\n",
       "  value ~ correct + congruency + correct:congruency + subject_id \n",
       "---\n",
       "Bayes factor type: BFlinearModel, JZS\n",
       "\n"
      ]
     },
     "metadata": {},
     "output_type": "display_data"
    },
    {
     "data": {
      "text/plain": [
       "                                                        denominator\n",
       "numerator                                                correct + congruency + subject_id\n",
       "  correct + congruency + correct:congruency + subject_id                         0.3901222\n",
       "                                                        denominator\n",
       "numerator                                                correct + correct:congruency + subject_id\n",
       "  correct + congruency + correct:congruency + subject_id                                 0.1277853\n",
       "                                                        denominator\n",
       "numerator                                                congruency + correct:congruency + subject_id\n",
       "  correct + congruency + correct:congruency + subject_id                                     4.049856\n"
      ]
     },
     "metadata": {},
     "output_type": "display_data"
    },
    {
     "data": {
      "text/plain": [
       "\n",
       "Error: subject_id\n",
       "          Df Sum Sq Mean Sq F value Pr(>F)\n",
       "Residuals 18  9.167  0.5093               \n",
       "\n",
       "Error: subject_id:congruency\n",
       "           Df Sum Sq Mean Sq F value Pr(>F)\n",
       "congruency  2  0.103 0.05167   0.414  0.664\n",
       "Residuals  36  4.489 0.12470               \n",
       "\n",
       "Error: subject_id:correct\n",
       "          Df Sum Sq Mean Sq F value Pr(>F)  \n",
       "correct    1  0.711  0.7110    4.54 0.0472 *\n",
       "Residuals 18  2.819  0.1566                 \n",
       "---\n",
       "Signif. codes:  0 ‘***’ 0.001 ‘**’ 0.01 ‘*’ 0.05 ‘.’ 0.1 ‘ ’ 1\n",
       "\n",
       "Error: subject_id:congruency:correct\n",
       "                   Df Sum Sq Mean Sq F value Pr(>F)\n",
       "congruency:correct  2 0.2814 0.14071   2.147  0.131\n",
       "Residuals          36 2.3588 0.06552               \n"
      ]
     },
     "metadata": {},
     "output_type": "display_data"
    },
    {
     "data": {
      "text/plain": [
       "\r",
       "  |                                                                            \r",
       "  |                                                                      |   0%\r",
       "  |                                                                            \r",
       "  |==============                                                        |  20%\r",
       "  |                                                                            \r",
       "  |============================                                          |  40%\r",
       "  |                                                                            \r",
       "  |==========================================                            |  60%\r",
       "  |                                                                            \r",
       "  |========================================================              |  80%\r",
       "  |                                                                            \r",
       "  |======================================================================| 100%\n"
      ]
     },
     "metadata": {},
     "output_type": "display_data"
    },
    {
     "data": {
      "text/plain": [
       "Bayes factor top-down analysis\n",
       "--------------\n",
       "When effect is omitted from correct + congruency + correct:congruency + subject_id , BF is...\n",
       "[1] Omit congruency:correct : 6.24601   ±2.49%\n",
       "[2] Omit congruency         : 10.51734  ±2.25%\n",
       "[3] Omit correct            : 0.5686777 ±4.92%\n",
       "\n",
       "Against denominator:\n",
       "  value ~ correct + congruency + correct:congruency + subject_id \n",
       "---\n",
       "Bayes factor type: BFlinearModel, JZS\n",
       "\n"
      ]
     },
     "metadata": {},
     "output_type": "display_data"
    },
    {
     "data": {
      "text/plain": [
       "                                                        denominator\n",
       "numerator                                                correct + congruency + subject_id\n",
       "  correct + congruency + correct:congruency + subject_id                         0.1601022\n",
       "                                                        denominator\n",
       "numerator                                                correct + correct:congruency + subject_id\n",
       "  correct + congruency + correct:congruency + subject_id                                 0.0950811\n",
       "                                                        denominator\n",
       "numerator                                                congruency + correct:congruency + subject_id\n",
       "  correct + congruency + correct:congruency + subject_id                                     1.758465\n"
      ]
     },
     "metadata": {},
     "output_type": "display_data"
    },
    {
     "data": {
      "text/plain": [
       "\n",
       "Error: subject_id\n",
       "          Df Sum Sq Mean Sq F value Pr(>F)\n",
       "Residuals 18  5.759  0.3199               \n",
       "\n",
       "Error: subject_id:congruency\n",
       "           Df Sum Sq Mean Sq F value Pr(>F)\n",
       "congruency  2  0.057 0.02833   0.109  0.897\n",
       "Residuals  36  9.397 0.26102               \n",
       "\n",
       "Error: subject_id:correct\n",
       "          Df Sum Sq Mean Sq F value Pr(>F)  \n",
       "correct    1 0.7203  0.7203   5.582 0.0296 *\n",
       "Residuals 18 2.3228  0.1290                 \n",
       "---\n",
       "Signif. codes:  0 ‘***’ 0.001 ‘**’ 0.01 ‘*’ 0.05 ‘.’ 0.1 ‘ ’ 1\n",
       "\n",
       "Error: subject_id:congruency:correct\n",
       "                   Df Sum Sq Mean Sq F value Pr(>F)\n",
       "congruency:correct  2 0.0639 0.03195   0.545  0.585\n",
       "Residuals          36 2.1110 0.05864               \n"
      ]
     },
     "metadata": {},
     "output_type": "display_data"
    },
    {
     "data": {
      "text/plain": [
       "\r",
       "  |                                                                            \r",
       "  |                                                                      |   0%\r",
       "  |                                                                            \r",
       "  |==============                                                        |  20%\r",
       "  |                                                                            \r",
       "  |============================                                          |  40%\r",
       "  |                                                                            \r",
       "  |==========================================                            |  60%\r",
       "  |                                                                            \r",
       "  |========================================================              |  80%\r",
       "  |                                                                            \r",
       "  |======================================================================| 100%\n"
      ]
     },
     "metadata": {},
     "output_type": "display_data"
    },
    {
     "data": {
      "text/plain": [
       "Bayes factor top-down analysis\n",
       "--------------\n",
       "When effect is omitted from correct + congruency + correct:congruency + subject_id , BF is...\n",
       "[1] Omit congruency:correct : 5.6584    ±3.66%\n",
       "[2] Omit congruency         : 10.91799  ±2.4%\n",
       "[3] Omit correct            : 0.5866003 ±2.6%\n",
       "\n",
       "Against denominator:\n",
       "  value ~ correct + congruency + correct:congruency + subject_id \n",
       "---\n",
       "Bayes factor type: BFlinearModel, JZS\n",
       "\n"
      ]
     },
     "metadata": {},
     "output_type": "display_data"
    },
    {
     "data": {
      "text/plain": [
       "                                                        denominator\n",
       "numerator                                                correct + congruency + subject_id\n",
       "  correct + congruency + correct:congruency + subject_id                         0.1767284\n",
       "                                                        denominator\n",
       "numerator                                                correct + correct:congruency + subject_id\n",
       "  correct + congruency + correct:congruency + subject_id                                0.09159192\n",
       "                                                        denominator\n",
       "numerator                                                congruency + correct:congruency + subject_id\n",
       "  correct + congruency + correct:congruency + subject_id                                     1.704738\n"
      ]
     },
     "metadata": {},
     "output_type": "display_data"
    },
    {
     "data": {
      "text/plain": [
       "\n",
       "Error: subject_id\n",
       "          Df Sum Sq Mean Sq F value Pr(>F)\n",
       "Residuals 18  5.044  0.2802               \n",
       "\n",
       "Error: subject_id:congruency\n",
       "           Df Sum Sq Mean Sq F value Pr(>F)\n",
       "congruency  2  0.013 0.00649   0.077  0.926\n",
       "Residuals  36  3.035 0.08430               \n",
       "\n",
       "Error: subject_id:correct\n",
       "          Df Sum Sq Mean Sq F value Pr(>F)  \n",
       "correct    1 0.2924 0.29244   3.406 0.0815 .\n",
       "Residuals 18 1.5456 0.08587                 \n",
       "---\n",
       "Signif. codes:  0 ‘***’ 0.001 ‘**’ 0.01 ‘*’ 0.05 ‘.’ 0.1 ‘ ’ 1\n",
       "\n",
       "Error: subject_id:congruency:correct\n",
       "                   Df Sum Sq Mean Sq F value Pr(>F)\n",
       "congruency:correct  2 0.0392 0.01960   0.654  0.526\n",
       "Residuals          36 1.0792 0.02998               \n"
      ]
     },
     "metadata": {},
     "output_type": "display_data"
    },
    {
     "data": {
      "text/plain": [
       "\r",
       "  |                                                                            \r",
       "  |                                                                      |   0%\r",
       "  |                                                                            \r",
       "  |==============                                                        |  20%\r",
       "  |                                                                            \r",
       "  |============================                                          |  40%\r",
       "  |                                                                            \r",
       "  |==========================================                            |  60%\r",
       "  |                                                                            \r",
       "  |========================================================              |  80%\r",
       "  |                                                                            \r",
       "  |======================================================================| 100%\n"
      ]
     },
     "metadata": {},
     "output_type": "display_data"
    },
    {
     "data": {
      "text/plain": [
       "Bayes factor top-down analysis\n",
       "--------------\n",
       "When effect is omitted from correct + congruency + correct:congruency + subject_id , BF is...\n",
       "[1] Omit congruency:correct : 4.794983  ±2.48%\n",
       "[2] Omit congruency         : 7.350224  ±2.25%\n",
       "[3] Omit correct            : 0.2896184 ±2.19%\n",
       "\n",
       "Against denominator:\n",
       "  value ~ correct + congruency + correct:congruency + subject_id \n",
       "---\n",
       "Bayes factor type: BFlinearModel, JZS\n",
       "\n"
      ]
     },
     "metadata": {},
     "output_type": "display_data"
    },
    {
     "data": {
      "text/plain": [
       "                                                        denominator\n",
       "numerator                                                correct + congruency + subject_id\n",
       "  correct + congruency + correct:congruency + subject_id                         0.2085513\n",
       "                                                        denominator\n",
       "numerator                                                correct + correct:congruency + subject_id\n",
       "  correct + congruency + correct:congruency + subject_id                                 0.1360503\n",
       "                                                        denominator\n",
       "numerator                                                congruency + correct:congruency + subject_id\n",
       "  correct + congruency + correct:congruency + subject_id                                     3.452819\n"
      ]
     },
     "metadata": {},
     "output_type": "display_data"
    },
    {
     "data": {
      "text/plain": [
       "\n",
       "Error: subject_id\n",
       "          Df Sum Sq Mean Sq F value Pr(>F)\n",
       "Residuals 18  3.693  0.2052               \n",
       "\n",
       "Error: subject_id:congruency\n",
       "           Df Sum Sq Mean Sq F value Pr(>F)\n",
       "congruency  2 0.0577 0.02886   0.594  0.558\n",
       "Residuals  36 1.7498 0.04861               \n",
       "\n",
       "Error: subject_id:correct\n",
       "          Df Sum Sq Mean Sq F value Pr(>F)  \n",
       "correct    1 0.2896 0.28964    4.17 0.0561 .\n",
       "Residuals 18 1.2503 0.06946                 \n",
       "---\n",
       "Signif. codes:  0 ‘***’ 0.001 ‘**’ 0.01 ‘*’ 0.05 ‘.’ 0.1 ‘ ’ 1\n",
       "\n",
       "Error: subject_id:congruency:correct\n",
       "                   Df Sum Sq Mean Sq F value Pr(>F)\n",
       "congruency:correct  2 0.0548 0.02741   0.853  0.435\n",
       "Residuals          36 1.1566 0.03213               \n"
      ]
     },
     "metadata": {},
     "output_type": "display_data"
    },
    {
     "data": {
      "text/plain": [
       "\r",
       "  |                                                                            \r",
       "  |                                                                      |   0%\r",
       "  |                                                                            \r",
       "  |==============                                                        |  20%\r",
       "  |                                                                            \r",
       "  |============================                                          |  40%\r",
       "  |                                                                            \r",
       "  |==========================================                            |  60%\r",
       "  |                                                                            \r",
       "  |========================================================              |  80%\r",
       "  |                                                                            \r",
       "  |======================================================================| 100%\n"
      ]
     },
     "metadata": {},
     "output_type": "display_data"
    },
    {
     "data": {
      "text/plain": [
       "Bayes factor top-down analysis\n",
       "--------------\n",
       "When effect is omitted from correct + congruency + correct:congruency + subject_id , BF is...\n",
       "[1] Omit congruency:correct : 5.466331  ±5.32%\n",
       "[2] Omit congruency         : 1.25216   ±5.15%\n",
       "[3] Omit correct            : 0.1206856 ±5.15%\n",
       "\n",
       "Against denominator:\n",
       "  value ~ correct + congruency + correct:congruency + subject_id \n",
       "---\n",
       "Bayes factor type: BFlinearModel, JZS\n",
       "\n"
      ]
     },
     "metadata": {},
     "output_type": "display_data"
    },
    {
     "data": {
      "text/plain": [
       "                                                        denominator\n",
       "numerator                                                correct + congruency + subject_id\n",
       "  correct + congruency + correct:congruency + subject_id                         0.1829381\n",
       "                                                        denominator\n",
       "numerator                                                correct + correct:congruency + subject_id\n",
       "  correct + congruency + correct:congruency + subject_id                                 0.7986202\n",
       "                                                        denominator\n",
       "numerator                                                congruency + correct:congruency + subject_id\n",
       "  correct + congruency + correct:congruency + subject_id                                     8.285991\n"
      ]
     },
     "metadata": {},
     "output_type": "display_data"
    },
    {
     "data": {
      "text/plain": [
       "\n",
       "Error: subject_id\n",
       "          Df Sum Sq Mean Sq F value Pr(>F)\n",
       "Residuals 18  5.574  0.3096               \n",
       "\n",
       "Error: subject_id:congruency\n",
       "           Df Sum Sq Mean Sq F value Pr(>F)\n",
       "congruency  2  0.449  0.2243    1.99  0.151\n",
       "Residuals  36  4.057  0.1127               \n",
       "\n",
       "Error: subject_id:correct\n",
       "          Df Sum Sq Mean Sq F value Pr(>F)  \n",
       "correct    1 0.6964  0.6964   6.921  0.017 *\n",
       "Residuals 18 1.8111  0.1006                 \n",
       "---\n",
       "Signif. codes:  0 ‘***’ 0.001 ‘**’ 0.01 ‘*’ 0.05 ‘.’ 0.1 ‘ ’ 1\n",
       "\n",
       "Error: subject_id:congruency:correct\n",
       "                   Df Sum Sq Mean Sq F value Pr(>F)\n",
       "congruency:correct  2 0.0492 0.02461    0.45  0.641\n",
       "Residuals          36 1.9704 0.05473               \n"
      ]
     },
     "metadata": {},
     "output_type": "display_data"
    }
   ],
   "source": [
    "masks = ['STh_L_A', 'STh_L_B', 'STh_L_C', 'STh_R_A', 'STh_R_B', 'STh_R_C']\n",
    "\n",
    "results = []\n",
    "\n",
    "for mask in masks:\n",
    "    df = df_glm[df_glm['mask'] == mask].pivot_table(index='subject_id', values='value', columns='par')\n",
    "    \n",
    "    df = pandas.melt(df.reset_index(), id_vars='subject_id')\n",
    "    reg = re.compile('([a-z]+) \\(([a-z]+)\\)')\n",
    "\n",
    "    df = df[df.par.apply(lambda x: reg.match(x) is not None)]\n",
    "    df['correct'] = df.par.apply(lambda x: reg.match(x).group(1))\n",
    "    df['congruency'] = df.par.apply(lambda x: reg.match(x).group(2))\n",
    "    df['subject_id'] = df['subject_id'].astype('category')\n",
    "\n",
    "    %R -i df\n",
    "\n",
    "    %R library(BayesFactor)\n",
    "    %R bf = anovaBF(value ~ congruency*correct + subject_id, data = df,  whichRandom=\"subject_id\", whichModels='top')\n",
    "    %R print(bf)\n",
    "    %R print(1/bf)\n",
    "    %R print(summary(aov(value ~ congruency * correct + Error(subject_id/(congruency * correct)), df)))\n",
    "    %R tmp = extractBF(bf)\n",
    "    %R -o tmp\n",
    "    \n",
    "#     results.append({'mask':mask,\n",
    "#                     'BF':tmp.bf.values[0]})\n",
    "    \n",
    "# pandas.DataFrame(results)[['mask', 'BF']]"
   ]
  },
  {
   "cell_type": "markdown",
   "metadata": {},
   "source": [
    "# Model 3"
   ]
  },
  {
   "cell_type": "code",
   "execution_count": 560,
   "metadata": {
    "collapsed": false
   },
   "outputs": [
    {
     "name": "stdout",
     "output_type": "stream",
     "text": [
      "Error: 6/STh_R_C/all the input arrays must have same number of dimensions\n"
     ]
    }
   ],
   "source": [
    "import itertools\n",
    "import pyfir\n",
    "from nipy.modalities.fmri import design_matrix, experimental_paradigm\n",
    "import statsmodels.api as sm\n",
    "\n",
    "level2_dict = []\n",
    "adj_r = []\n",
    "# pars = ['neutral_cue', 'left_cue', 'right_cue', 'neutral_easy_correct', 'valid_easy_correct', 'invalid_easy_correct', 'neutral_hard_correct', 'valid_hard_correct', 'invalid_hard_correct', 'easy_error', 'hard_error',]\n",
    "# pars = \n",
    "\n",
    "for subject_id in np.arange(1, 20):\n",
    "    for run in [1,2,3]:\n",
    "\n",
    "        try:\n",
    "            onsets_dict = get_onsets(subject_id, run, 'model3', shift=-3)\n",
    "            pars = onsets_dict.keys()\n",
    "\n",
    "            conditions = []\n",
    "            onsets = []\n",
    "            for key in onsets_dict.keys():\n",
    "                conditions += [key] * len(onsets_dict[key])\n",
    "                onsets += onsets_dict[key]\n",
    "\n",
    "            paradigm =  experimental_paradigm.BlockParadigm(con_id=conditions, \n",
    "                                                            onset=onsets,\n",
    "                                                            duration=[[1.]] * len(conditions))\n",
    "            tr = 3.0\n",
    "            frametimes = np.linspace(0, 387 * tr, 387)\n",
    "            hrf_model = 'Canonical with Derivative'\n",
    "\n",
    "            X, names= design_matrix.dmtx_light(frametimes, paradigm, hrf_model=hrf_model, drift_model='polynomial', fir_delays=np.arange(11), drift_order=3)\n",
    "\n",
    "            X /= X.max(0)\n",
    "            X = pandas.DataFrame(X, columns=names)\n",
    "\n",
    "            for i, mask in enumerate(['STh_L_A', 'STh_L_B', 'STh_L_C', 'STh_R_A', 'STh_R_B', 'STh_R_C']):\n",
    "                signal = get_signal(subject_id,  run, mask)\n",
    "                r = sm.GLSAR(signal, X).iterative_fit()\n",
    "\n",
    "                adj_r.append({'subject_id':subject_id, 'mask':mask, 'r2_adj':r.rsquared_adj, 'r2':r.rsquared, 'run':run})\n",
    "\n",
    "                for par in pars:\n",
    "                    level2_dict.append({'value':r.params[par],\n",
    "                                        'par':par,\n",
    "                                        'subject_id':subject_id,\n",
    "                                        'mask':mask,\n",
    "                                        'run':run})\n",
    "        except Exception as e:\n",
    "            print 'Error: %s/%s/%s' %  (subject_id, mask, e)"
   ]
  },
  {
   "cell_type": "code",
   "execution_count": 561,
   "metadata": {
    "collapsed": false
   },
   "outputs": [
    {
     "data": {
      "text/plain": [
       "<seaborn.axisgrid.FacetGrid at 0x445b1550>"
      ]
     },
     "execution_count": 561,
     "metadata": {},
     "output_type": "execute_result"
    },
    {
     "data": {
      "image/png": "[encoded data removed]",
      "text/plain": [
       "<matplotlib.figure.Figure at 0x4667c3d0>"
      ]
     },
     "metadata": {},
     "output_type": "display_data"
    }
   ],
   "source": [
    "df_glm = pandas.DataFrame(level2_dict)\n",
    "df_glm = df_glm.query('par != \"constant\"')\n",
    "df_glm['dummy'] = 1\n",
    "\n",
    "df_glm['% signal change'] = df_glm['value']\n",
    "sns.set_palette('Set1')\n",
    "sns.set_context('poster')\n",
    "sns.set_style('white')\n",
    "\n",
    "# sns.factorplot(x='dummy', y='value', hue='par', data=df_glm, col='mask', col_wrap=3, kind='bar', ci=95, hue_order=['payoff_cue (left)', 'payoff_cue (right)', 'neutral_cue','difficult_rdm', 'easy_rdm'])\n",
    "\n",
    "tmp = df_glm.groupby(['subject_id', 'mask', 'par', 'dummy'], as_index=False).mean()\n",
    "# sns.factorplot(x='dummy', y='value', hue='par', data=tmp, col='mask', col_wrap=3, kind='bar', ci=95, hue_order=['correct (congruent)', 'correct (neutral)', 'correct (incongruent)', '', 'error (congruent)', 'error (neutral)', 'error (incongruent)', ''])\n",
    "fac = sns.factorplot(x='par', y='value', data=tmp, col='mask', col_wrap=3, kind='bar', ci=95, x_order=['left response', 'right response'], palette=['gray'])\n",
    "fac.set_xticklabels(rotation=45)\n",
    "\n"
   ]
  },
  {
   "cell_type": "code",
   "execution_count": 562,
   "metadata": {
    "collapsed": false
   },
   "outputs": [
    {
     "data": {
      "text/html": [
       "<div>\n",
       "<table border=\"1\" class=\"dataframe\">\n",
       "  <thead>\n",
       "    <tr style=\"text-align: right;\">\n",
       "      <th></th>\n",
       "      <th>0</th>\n",
       "      <th>1</th>\n",
       "      <th>2</th>\n",
       "      <th>3</th>\n",
       "      <th>4</th>\n",
       "      <th>5</th>\n",
       "    </tr>\n",
       "  </thead>\n",
       "  <tbody>\n",
       "    <tr>\n",
       "      <th>mask</th>\n",
       "      <td>STh_L_A</td>\n",
       "      <td>STh_L_B</td>\n",
       "      <td>STh_L_C</td>\n",
       "      <td>STh_R_A</td>\n",
       "      <td>STh_R_B</td>\n",
       "      <td>STh_R_C</td>\n",
       "    </tr>\n",
       "    <tr>\n",
       "      <th>BF</th>\n",
       "      <td>0.24</td>\n",
       "      <td>0.25</td>\n",
       "      <td>0.83</td>\n",
       "      <td>0.46</td>\n",
       "      <td>0.45</td>\n",
       "      <td>0.68</td>\n",
       "    </tr>\n",
       "    <tr>\n",
       "      <th>t</th>\n",
       "      <td>0.11</td>\n",
       "      <td>0.28</td>\n",
       "      <td>1.73</td>\n",
       "      <td>1.24</td>\n",
       "      <td>1.22</td>\n",
       "      <td>1.58</td>\n",
       "    </tr>\n",
       "    <tr>\n",
       "      <th>p</th>\n",
       "      <td>0.91</td>\n",
       "      <td>0.78</td>\n",
       "      <td>0.1</td>\n",
       "      <td>0.23</td>\n",
       "      <td>0.24</td>\n",
       "      <td>0.13</td>\n",
       "    </tr>\n",
       "  </tbody>\n",
       "</table>\n",
       "</div>"
      ],
      "text/plain": [
       "            0        1        2        3        4        5\n",
       "mask  STh_L_A  STh_L_B  STh_L_C  STh_R_A  STh_R_B  STh_R_C\n",
       "BF       0.24     0.25     0.83     0.46     0.45     0.68\n",
       "t        0.11     0.28     1.73     1.24     1.22     1.58\n",
       "p        0.91     0.78      0.1     0.23     0.24     0.13"
      ]
     },
     "execution_count": 562,
     "metadata": {},
     "output_type": "execute_result"
    }
   ],
   "source": [
    "masks = ['STh_L_A', 'STh_L_B', 'STh_L_C', 'STh_R_A', 'STh_R_B', 'STh_R_C']\n",
    "\n",
    "results = []\n",
    "\n",
    "for mask in masks:\n",
    "    df = df_glm[df_glm['mask'] == mask].pivot_table(index='subject_id', values='value', columns='par')\n",
    "    \n",
    "    df = pandas.melt(df.reset_index(), id_vars='subject_id')\n",
    "\n",
    "    df = df[df.par.apply(lambda x: x.split(' ')[-1] == 'response')]\n",
    "    \n",
    "    df_mask = df.pivot_table(index='subject_id', columns='par', values='value')\n",
    "\n",
    "    %R -i df_mask\n",
    "    %R library(BayesFactor)\n",
    "    %R bf = ttestBF(df_mask$left.response - df_mask$right.response)\n",
    "    %R tmp = extractBF(bf)\n",
    "    %R -o tmp\n",
    "    \n",
    "    t, p = sp.stats.ttest_rel(df_mask['left response'], df_mask['right response'])\n",
    "    \n",
    "    results.append({'mask':mask,\n",
    "                    'BF':tmp.bf.values[0],\n",
    "                    't':t,\n",
    "                    'p':p})\n",
    "    \n",
    "np.round(pandas.DataFrame(results)[['mask', 'BF', 't', 'p']], 2).T    \n",
    "    "
   ]
  },
  {
   "cell_type": "markdown",
   "metadata": {},
   "source": [
    "# Model 0"
   ]
  },
  {
   "cell_type": "code",
   "execution_count": 563,
   "metadata": {
    "collapsed": false
   },
   "outputs": [
    {
     "name": "stdout",
     "output_type": "stream",
     "text": [
      "Error: 6/STh_R_C/all the input arrays must have same number of dimensions\n"
     ]
    }
   ],
   "source": [
    "import itertools\n",
    "import pyfir\n",
    "from nipy.modalities.fmri import design_matrix, experimental_paradigm\n",
    "import statsmodels.api as sm\n",
    "\n",
    "level2_dict = []\n",
    "adj_r = []\n",
    "# pars = ['neutral_cue', 'left_cue', 'right_cue', 'neutral_easy_correct', 'valid_easy_correct', 'invalid_easy_correct', 'neutral_hard_correct', 'valid_hard_correct', 'invalid_hard_correct', 'easy_error', 'hard_error',]\n",
    "# pars = \n",
    "\n",
    "for subject_id in np.arange(1, 20):\n",
    "    for run in [1,2,3]:\n",
    "\n",
    "        try:\n",
    "            onsets_dict = get_onsets(subject_id, run, 'model0', shift=-3)\n",
    "            pars = onsets_dict.keys()\n",
    "\n",
    "            conditions = []\n",
    "            onsets = []\n",
    "            for key in onsets_dict.keys():\n",
    "                conditions += [key] * len(onsets_dict[key])\n",
    "                onsets += onsets_dict[key]\n",
    "\n",
    "            paradigm =  experimental_paradigm.BlockParadigm(con_id=conditions, \n",
    "                                                            onset=onsets,\n",
    "                                                            duration=[[1.]] * len(conditions))\n",
    "            tr = 3.0\n",
    "            frametimes = np.linspace(0, 387 * tr, 387)\n",
    "            hrf_model = 'Canonical with Derivative'\n",
    "\n",
    "            X, names= design_matrix.dmtx_light(frametimes, paradigm, hrf_model=hrf_model, drift_model='polynomial', fir_delays=np.arange(11), drift_order=3)\n",
    "\n",
    "            X /= X.max(0)\n",
    "            X = pandas.DataFrame(X, columns=names)\n",
    "\n",
    "            for i, mask in enumerate(['STh_L_A', 'STh_L_B', 'STh_L_C', 'STh_R_A', 'STh_R_B', 'STh_R_C']):\n",
    "                signal = get_signal(subject_id,  run, mask)\n",
    "                r = sm.GLSAR(signal, X).iterative_fit()\n",
    "\n",
    "                adj_r.append({'subject_id':subject_id, 'mask':mask, 'r2_adj':r.rsquared_adj, 'r2':r.rsquared, 'run':run})\n",
    "\n",
    "                for par in pars:\n",
    "                    level2_dict.append({'value':r.params[par],\n",
    "                                        'par':par,\n",
    "                                        'p':r.pvalues[par],\n",
    "                                        'subject_id':subject_id,\n",
    "                                        'mask':mask,\n",
    "                                        'run':run})\n",
    "        except Exception as e:\n",
    "            print 'Error: %s/%s/%s' %  (subject_id, mask, e)"
   ]
  },
  {
   "cell_type": "code",
   "execution_count": 564,
   "metadata": {
    "collapsed": false
   },
   "outputs": [
    {
     "data": {
      "text/plain": [
       "<seaborn.axisgrid.FacetGrid at 0x4632ab90>"
      ]
     },
     "execution_count": 564,
     "metadata": {},
     "output_type": "execute_result"
    },
    {
     "data": {
      "image/png": "[encoded data removed]",
      "text/plain": [
       "<matplotlib.figure.Figure at 0x43944450>"
      ]
     },
     "metadata": {},
     "output_type": "display_data"
    }
   ],
   "source": [
    "df_glm = pandas.DataFrame(level2_dict)\n",
    "df_glm = df_glm.query('par != \"constant\"')\n",
    "df_glm['dummy'] = 1\n",
    "\n",
    "df_glm['% signal change'] = df_glm['value']\n",
    "sns.set_palette('Set1')\n",
    "sns.set_context('poster')\n",
    "sns.set_style('white')\n",
    "\n",
    "# sns.factorplot(x='dummy', y='value', hue='par', data=df_glm, col='mask', col_wrap=3, kind='bar', ci=95, hue_order=['payoff_cue (left)', 'payoff_cue (right)', 'neutral_cue','difficult_rdm', 'easy_rdm'])\n",
    "\n",
    "tmp = df_glm.groupby(['subject_id', 'mask', 'par', 'dummy'], as_index=False).mean()\n",
    "# sns.factorplot(x='dummy', y='value', hue='par', data=tmp, col='mask', col_wrap=3, kind='bar', ci=95, hue_order=['correct (congruent)', 'correct (neutral)', 'correct (incongruent)', '', 'error (congruent)', 'error (neutral)', 'error (incongruent)', ''])\n",
    "fac = sns.factorplot(x='par', y='value', data=tmp, col='mask', col_wrap=3, kind='bar', ci=95)\n",
    "fac.set_xticklabels(rotation=45)"
   ]
  },
  {
   "cell_type": "code",
   "execution_count": 565,
   "metadata": {
    "collapsed": false
   },
   "outputs": [],
   "source": [
    "df_glm['significant'] = df_glm.p < 0.05"
   ]
  },
  {
   "cell_type": "code",
   "execution_count": 566,
   "metadata": {
    "collapsed": false
   },
   "outputs": [
    {
     "data": {
      "text/plain": [
       "mask     par        \n",
       "STh_L_A  onsets_cue     0.035714\n",
       "         onsets_stim    0.160714\n",
       "STh_L_B  onsets_cue     0.071429\n",
       "         onsets_stim    0.125000\n",
       "STh_L_C  onsets_cue     0.017857\n",
       "         onsets_stim    0.214286\n",
       "STh_R_A  onsets_cue     0.071429\n",
       "         onsets_stim    0.125000\n",
       "STh_R_B  onsets_cue     0.017857\n",
       "         onsets_stim    0.089286\n",
       "STh_R_C  onsets_cue     0.035714\n",
       "         onsets_stim    0.125000\n",
       "Name: significant, dtype: float64"
      ]
     },
     "execution_count": 566,
     "metadata": {},
     "output_type": "execute_result"
    }
   ],
   "source": [
    "df_glm.groupby(['mask', 'par']).significant.mean()"
   ]
  },
  {
   "cell_type": "markdown",
   "metadata": {},
   "source": [
    "## Stimulus"
   ]
  },
  {
   "cell_type": "code",
   "execution_count": 568,
   "metadata": {
    "collapsed": false
   },
   "outputs": [
    {
     "data": {
      "text/html": [
       "<div>\n",
       "<table border=\"1\" class=\"dataframe\">\n",
       "  <thead>\n",
       "    <tr style=\"text-align: right;\">\n",
       "      <th></th>\n",
       "      <th>0</th>\n",
       "      <th>1</th>\n",
       "      <th>2</th>\n",
       "      <th>3</th>\n",
       "      <th>4</th>\n",
       "      <th>5</th>\n",
       "    </tr>\n",
       "  </thead>\n",
       "  <tbody>\n",
       "    <tr>\n",
       "      <th>mask</th>\n",
       "      <td>STh_L_A</td>\n",
       "      <td>STh_L_B</td>\n",
       "      <td>STh_L_C</td>\n",
       "      <td>STh_R_A</td>\n",
       "      <td>STh_R_B</td>\n",
       "      <td>STh_R_C</td>\n",
       "    </tr>\n",
       "    <tr>\n",
       "      <th>BF</th>\n",
       "      <td>33.43</td>\n",
       "      <td>13.8</td>\n",
       "      <td>212.28</td>\n",
       "      <td>51.04</td>\n",
       "      <td>25.28</td>\n",
       "      <td>23.71</td>\n",
       "    </tr>\n",
       "    <tr>\n",
       "      <th>t</th>\n",
       "      <td>3.87</td>\n",
       "      <td>3.41</td>\n",
       "      <td>4.82</td>\n",
       "      <td>4.09</td>\n",
       "      <td>3.72</td>\n",
       "      <td>3.69</td>\n",
       "    </tr>\n",
       "    <tr>\n",
       "      <th>p</th>\n",
       "      <td>0</td>\n",
       "      <td>0</td>\n",
       "      <td>0</td>\n",
       "      <td>0</td>\n",
       "      <td>0</td>\n",
       "      <td>0</td>\n",
       "    </tr>\n",
       "  </tbody>\n",
       "</table>\n",
       "</div>"
      ],
      "text/plain": [
       "            0        1        2        3        4        5\n",
       "mask  STh_L_A  STh_L_B  STh_L_C  STh_R_A  STh_R_B  STh_R_C\n",
       "BF      33.43     13.8   212.28    51.04    25.28    23.71\n",
       "t        3.87     3.41     4.82     4.09     3.72     3.69\n",
       "p           0        0        0        0        0        0"
      ]
     },
     "execution_count": 568,
     "metadata": {},
     "output_type": "execute_result"
    }
   ],
   "source": [
    "masks = ['STh_L_A', 'STh_L_B', 'STh_L_C', 'STh_R_A', 'STh_R_B', 'STh_R_C']\n",
    "\n",
    "results = []\n",
    "\n",
    "for mask in masks:\n",
    "    df_mask = df_glm[df_glm['mask'] == mask].pivot_table(index='subject_id', values='value', columns='par')\n",
    "\n",
    "    %R -i df_mask\n",
    "    %R library(BayesFactor)\n",
    "    %R bf = ttestBF(df_mask$onsets_stim)\n",
    "    %R tmp = extractBF(bf)\n",
    "    %R -o tmp\n",
    "    \n",
    "    t, p = sp.stats.ttest_1samp(df_mask['onsets_stim'], 0)\n",
    "    \n",
    "    results.append({'mask':mask,\n",
    "                    'BF':tmp.bf.values[0],\n",
    "                    't':t,\n",
    "                    'p':p})\n",
    "    \n",
    "np.round(pandas.DataFrame(results)[['mask', 'BF', 't', 'p']], 2).T    \n",
    "    "
   ]
  },
  {
   "cell_type": "markdown",
   "metadata": {},
   "source": [
    "## Cue"
   ]
  },
  {
   "cell_type": "code",
   "execution_count": 567,
   "metadata": {
    "collapsed": false
   },
   "outputs": [
    {
     "data": {
      "text/html": [
       "<div>\n",
       "<table border=\"1\" class=\"dataframe\">\n",
       "  <thead>\n",
       "    <tr style=\"text-align: right;\">\n",
       "      <th></th>\n",
       "      <th>BF</th>\n",
       "      <th>mask</th>\n",
       "      <th>p</th>\n",
       "      <th>t</th>\n",
       "    </tr>\n",
       "  </thead>\n",
       "  <tbody>\n",
       "    <tr>\n",
       "      <th>0</th>\n",
       "      <td>0.238833</td>\n",
       "      <td>STh_L_A</td>\n",
       "      <td>0.912309</td>\n",
       "      <td>0.111685</td>\n",
       "    </tr>\n",
       "    <tr>\n",
       "      <th>1</th>\n",
       "      <td>0.246075</td>\n",
       "      <td>STh_L_B</td>\n",
       "      <td>0.782094</td>\n",
       "      <td>0.280763</td>\n",
       "    </tr>\n",
       "    <tr>\n",
       "      <th>2</th>\n",
       "      <td>0.826730</td>\n",
       "      <td>STh_L_C</td>\n",
       "      <td>0.101241</td>\n",
       "      <td>1.727257</td>\n",
       "    </tr>\n",
       "    <tr>\n",
       "      <th>3</th>\n",
       "      <td>0.463163</td>\n",
       "      <td>STh_R_A</td>\n",
       "      <td>0.230309</td>\n",
       "      <td>1.241630</td>\n",
       "    </tr>\n",
       "    <tr>\n",
       "      <th>4</th>\n",
       "      <td>0.454190</td>\n",
       "      <td>STh_R_B</td>\n",
       "      <td>0.237256</td>\n",
       "      <td>1.222580</td>\n",
       "    </tr>\n",
       "    <tr>\n",
       "      <th>5</th>\n",
       "      <td>0.679560</td>\n",
       "      <td>STh_R_C</td>\n",
       "      <td>0.132400</td>\n",
       "      <td>1.576167</td>\n",
       "    </tr>\n",
       "  </tbody>\n",
       "</table>\n",
       "</div>"
      ],
      "text/plain": [
       "         BF     mask         p         t\n",
       "0  0.238833  STh_L_A  0.912309  0.111685\n",
       "1  0.246075  STh_L_B  0.782094  0.280763\n",
       "2  0.826730  STh_L_C  0.101241  1.727257\n",
       "3  0.463163  STh_R_A  0.230309  1.241630\n",
       "4  0.454190  STh_R_B  0.237256  1.222580\n",
       "5  0.679560  STh_R_C  0.132400  1.576167"
      ]
     },
     "execution_count": 567,
     "metadata": {},
     "output_type": "execute_result"
    }
   ],
   "source": []
  },
  {
   "cell_type": "code",
   "execution_count": 511,
   "metadata": {
    "collapsed": false
   },
   "outputs": [
    {
     "data": {
      "text/html": [
       "<div>\n",
       "<table border=\"1\" class=\"dataframe\">\n",
       "  <thead>\n",
       "    <tr style=\"text-align: right;\">\n",
       "      <th></th>\n",
       "      <th>0</th>\n",
       "      <th>1</th>\n",
       "      <th>2</th>\n",
       "      <th>3</th>\n",
       "      <th>4</th>\n",
       "      <th>5</th>\n",
       "    </tr>\n",
       "  </thead>\n",
       "  <tbody>\n",
       "    <tr>\n",
       "      <th>mask</th>\n",
       "      <td>STh_L_A</td>\n",
       "      <td>STh_L_B</td>\n",
       "      <td>STh_L_C</td>\n",
       "      <td>STh_R_A</td>\n",
       "      <td>STh_R_B</td>\n",
       "      <td>STh_R_C</td>\n",
       "    </tr>\n",
       "    <tr>\n",
       "      <th>BF</th>\n",
       "      <td>0.28</td>\n",
       "      <td>3.76</td>\n",
       "      <td>0.91</td>\n",
       "      <td>0.62</td>\n",
       "      <td>0.33</td>\n",
       "      <td>0.29</td>\n",
       "    </tr>\n",
       "    <tr>\n",
       "      <th>t</th>\n",
       "      <td>0.63</td>\n",
       "      <td>2.7</td>\n",
       "      <td>1.8</td>\n",
       "      <td>1.5</td>\n",
       "      <td>0.85</td>\n",
       "      <td>0.66</td>\n",
       "    </tr>\n",
       "    <tr>\n",
       "      <th>p</th>\n",
       "      <td>0.54</td>\n",
       "      <td>0.01</td>\n",
       "      <td>0.09</td>\n",
       "      <td>0.15</td>\n",
       "      <td>0.4</td>\n",
       "      <td>0.52</td>\n",
       "    </tr>\n",
       "  </tbody>\n",
       "</table>\n",
       "</div>"
      ],
      "text/plain": [
       "            0        1        2        3        4        5\n",
       "mask  STh_L_A  STh_L_B  STh_L_C  STh_R_A  STh_R_B  STh_R_C\n",
       "BF       0.28     3.76     0.91     0.62     0.33     0.29\n",
       "t        0.63      2.7      1.8      1.5     0.85     0.66\n",
       "p        0.54     0.01     0.09     0.15      0.4     0.52"
      ]
     },
     "execution_count": 511,
     "metadata": {},
     "output_type": "execute_result"
    }
   ],
   "source": [
    "\n",
    "masks = ['STh_L_A', 'STh_L_B', 'STh_L_C', 'STh_R_A', 'STh_R_B', 'STh_R_C']\n",
    "\n",
    "results = []\n",
    "\n",
    "for mask in masks:\n",
    "    df_mask = df_glm[df_glm['mask'] == mask].pivot_table(index='subject_id', values='value', columns='par')\n",
    "\n",
    "    %R -i df_mask\n",
    "    %R library(BayesFactor)\n",
    "    %R bf = ttestBF(df_mask$onsets_cue)\n",
    "    %R tmp = extractBF(bf)\n",
    "    %R -o tmp\n",
    "    \n",
    "    t, p = sp.stats.ttest_1samp(df_mask['onsets_cue'], 0)\n",
    "    \n",
    "    results.append({'mask':mask,\n",
    "                    'BF':tmp.bf.values[0],\n",
    "                    't':t,\n",
    "                    'p':p})\n",
    "    \n",
    "np.round(pandas.DataFrame(results)[['mask', 'BF', 't', 'p']], 2).T    \n",
    "    "
   ]
  },
  {
   "cell_type": "code",
   "execution_count": 533,
   "metadata": {
    "collapsed": false
   },
   "outputs": [
    {
     "data": {
      "image/png": "[encoded data removed]",
      "text/plain": [
       "<matplotlib.figure.Figure at 0x43a7de10>"
      ]
     },
     "metadata": {},
     "output_type": "display_data"
    }
   ],
   "source": [
    "fac = sns.FacetGrid(df_glm.groupby(['subject_id', 'par', 'mask'], as_index=False).mean(), col='mask', col_wrap=3, hue='par')\n",
    "\n",
    "fac.map(sns.distplot, 'value')\n",
    "for ax in fac.axes.ravel():\n",
    "    ax.axvline(0, c='k', ls='--')"
   ]
  },
  {
   "cell_type": "code",
   "execution_count": 570,
   "metadata": {
    "collapsed": false
   },
   "outputs": [
    {
     "data": {
      "text/plain": [
       "\r",
       "  |                                                                            \r",
       "  |                                                                      |   0%\r",
       "  |                                                                            \r",
       "  |===================================                                   |  50%\r",
       "  |                                                                            \r",
       "  |======================================================================| 100%\n"
      ]
     },
     "metadata": {},
     "output_type": "display_data"
    },
    {
     "data": {
      "text/plain": [
       "Bayes factor analysis\n",
       "--------------\n",
       "[1] mask + subject_id : 0.4860592 ±0.33%\n",
       "\n",
       "Against denominator:\n",
       "  onsets_cue ~ subject_id \n",
       "---\n",
       "Bayes factor type: BFlinearModel, JZS\n",
       "\n"
      ]
     },
     "metadata": {},
     "output_type": "display_data"
    },
    {
     "data": {
      "text/plain": [
       "\r",
       "  |                                                                            \r",
       "  |                                                                      |   0%\r",
       "  |                                                                            \r",
       "  |===================================                                   |  50%\r",
       "  |                                                                            \r",
       "  |======================================================================| 100%\n"
      ]
     },
     "metadata": {},
     "output_type": "display_data"
    },
    {
     "data": {
      "text/plain": [
       "Bayes factor analysis\n",
       "--------------\n",
       "[1] mask + subject_id : 0.2826392 ±0.25%\n",
       "\n",
       "Against denominator:\n",
       "  onsets_stim ~ subject_id \n",
       "---\n",
       "Bayes factor type: BFlinearModel, JZS\n",
       "\n"
      ]
     },
     "metadata": {},
     "output_type": "display_data"
    },
    {
     "data": {
      "text/plain": [
       "\r",
       "  |                                                                            \r",
       "  |                                                                      |   0%\r",
       "  |                                                                            \r",
       "  |===================================                                   |  50%\r",
       "  |                                                                            \r",
       "  |======================================================================| 100%\n"
      ]
     },
     "metadata": {},
     "output_type": "display_data"
    },
    {
     "data": {
      "text/plain": [
       "Bayes factor analysis\n",
       "--------------\n",
       "[1] mask + subject_id : 0.1565372 ±0.4%\n",
       "\n",
       "Against denominator:\n",
       "  onsets_cue ~ subject_id \n",
       "---\n",
       "Bayes factor type: BFlinearModel, JZS\n",
       "\n"
      ]
     },
     "metadata": {},
     "output_type": "display_data"
    },
    {
     "data": {
      "text/plain": [
       "\r",
       "  |                                                                            \r",
       "  |                                                                      |   0%\r",
       "  |                                                                            \r",
       "  |===================================                                   |  50%\r",
       "  |                                                                            \r",
       "  |======================================================================| 100%\n"
      ]
     },
     "metadata": {},
     "output_type": "display_data"
    },
    {
     "data": {
      "text/plain": [
       "Bayes factor analysis\n",
       "--------------\n",
       "[1] mask + subject_id : 0.1853174 ±0.46%\n",
       "\n",
       "Against denominator:\n",
       "  onsets_stim ~ subject_id \n",
       "---\n",
       "Bayes factor type: BFlinearModel, JZS\n",
       "\n"
      ]
     },
     "metadata": {},
     "output_type": "display_data"
    }
   ],
   "source": [
    "tmp = df_glm.pivot_table(index=['mask', 'subject_id'], columns=['par'], values='value').reset_index()\n",
    "tmp['subject_id'] = tmp['subject_id'].astype('category')\n",
    "\n",
    "tmp_l = tmp[np.in1d(tmp['mask'], ['STh_L_A', 'STh_L_B', 'STh_L_C'])]\n",
    "%R -i tmp_l\n",
    "%R bf = anovaBF(onsets_cue ~ mask + subject_id, data =tmp_l,  whichRandom=\"subject_id\", whichModels='ID', iterations=100000)\n",
    "%R print(bf)\n",
    "\n",
    "tmp_l = tmp[np.in1d(tmp['mask'], ['STh_L_A', 'STh_L_B', 'STh_L_C'])]\n",
    "%R -i tmp_l\n",
    "%R bf = anovaBF(onsets_stim ~ mask + subject_id, data =tmp_l,  whichRandom=\"subject_id\", iterations=100000)\n",
    "%R print(bf)\n",
    "\n",
    "tmp_r = tmp[np.in1d(tmp['mask'], ['STh_R_A', 'STh_R_B', 'STh_R_C'])]\n",
    "%R -i tmp_r\n",
    "%R bf = anovaBF(onsets_cue ~ mask + subject_id, data =tmp_r,  whichRandom=\"subject_id\", whichModels='all', iterations=100000)\n",
    "%R print(bf)\n",
    "\n",
    "tmp_r = tmp[np.in1d(tmp['mask'], ['STh_R_A', 'STh_R_B', 'STh_R_C'])]\n",
    "%R -i tmp_r\n",
    "%R bf = anovaBF(onsets_stim ~ mask + subject_id, data =tmp_r,  whichRandom=\"subject_id\", whichModels='all', iterations=100000)\n",
    "%R print(bf)"
   ]
  },
  {
   "cell_type": "code",
   "execution_count": 554,
   "metadata": {
    "collapsed": false
   },
   "outputs": [
    {
     "data": {
      "text/plain": [
       "Bayes factor analysis\n",
       "--------------\n",
       "[1] Alt., r=0.707 : 1.144898 ±0%\n",
       "\n",
       "Against denominator:\n",
       "  Null, mu = 0 \n",
       "---\n",
       "Bayes factor type: BFoneSample, JZS\n",
       "\n"
      ]
     },
     "metadata": {},
     "output_type": "display_data"
    },
    {
     "data": {
      "text/plain": [
       "Bayes factor analysis\n",
       "--------------\n",
       "[1] Alt., r=0.707 : 712.9012 ±0%\n",
       "\n",
       "Against denominator:\n",
       "  Null, mu = 0 \n",
       "---\n",
       "Bayes factor type: BFoneSample, JZS\n",
       "\n"
      ]
     },
     "metadata": {},
     "output_type": "display_data"
    }
   ],
   "source": [
    "tmp_l = tmp_l.pivot_table(index='subject_id')\n",
    "\n",
    "%R -i tmp_l\n",
    "%R bf = ttestBF(tmp_l$onsets_cue)\n",
    "%R print(bf)\n",
    "%R bf = ttestBF(tmp_l$onsets_stim)\n",
    "%R print(bf)"
   ]
  },
  {
   "cell_type": "code",
   "execution_count": 555,
   "metadata": {
    "collapsed": false
   },
   "outputs": [
    {
     "data": {
      "text/plain": [
       "Bayes factor analysis\n",
       "--------------\n",
       "[1] Alt., r=0.707 : 0.4092498 ±0.01%\n",
       "\n",
       "Against denominator:\n",
       "  Null, mu = 0 \n",
       "---\n",
       "Bayes factor type: BFoneSample, JZS\n",
       "\n"
      ]
     },
     "metadata": {},
     "output_type": "display_data"
    },
    {
     "data": {
      "text/plain": [
       "Bayes factor analysis\n",
       "--------------\n",
       "[1] Alt., r=0.707 : 262.0966 ±0%\n",
       "\n",
       "Against denominator:\n",
       "  Null, mu = 0 \n",
       "---\n",
       "Bayes factor type: BFoneSample, JZS\n",
       "\n"
      ]
     },
     "metadata": {},
     "output_type": "display_data"
    }
   ],
   "source": [
    "tmp_r = tmp_r.pivot_table(index='subject_id')\n",
    "\n",
    "%R -i tmp_r\n",
    "%R bf = ttestBF(tmp_r$onsets_cue)\n",
    "%R print(bf)\n",
    "%R bf = ttestBF(tmp_r$onsets_stim)\n",
    "%R print(bf)"
   ]
  },
  {
   "cell_type": "code",
   "execution_count": null,
   "metadata": {
    "collapsed": true
   },
   "outputs": [],
   "source": []
  }
 ],
 "metadata": {
  "kernelspec": {
   "display_name": "Python 2",
   "language": "python",
   "name": "python2"
  },
  "language_info": {
   "codemirror_mode": {
    "name": "ipython",
    "version": 2
   },
   "file_extension": ".py",
   "mimetype": "text/x-python",
   "name": "python",
   "nbconvert_exporter": "python",
   "pygments_lexer": "ipython2",
   "version": "2.7.3"
  }
 },
 "nbformat": 4,
 "nbformat_minor": 1
}
