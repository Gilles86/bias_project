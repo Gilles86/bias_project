{
 "cells": [
  {
   "cell_type": "code",
   "execution_count": 208,
   "metadata": {
    "collapsed": false
   },
   "outputs": [],
   "source": [
    "import argparse\n",
    "import os\n",
    "from kabuki.analyze import gelman_rubin\n",
    "import pandas\n",
    "import hddm\n",
    "import numpy as np\n",
    "\n",
    "path = '/home/gdholla1/projects/bias/data/hddm_fits'\n",
    "\n",
    "def get_model(model):\n",
    "    df = pandas.read_pickle('/home/gdholla1/projects/bias/data/behavior/behavior.pandas')\n",
    "\n",
    "    # Prepare data\n",
    "    data = df[['cue_validity', 'rt', 'correct', 'difficulty', 'subj_idx']]\n",
    "    data['response'] = data['correct']\n",
    "    data['rt'] = data['rt'] / 1000.\n",
    "    data = data[(data.rt > .2) & (data.rt < 1.5)]\n",
    "    data = data[~data.rt.isnull()]\n",
    "    data['cue_coding'] = data.cue_validity.map({'valid':1, 'neutral':0, 'invalid':-1})\n",
    "\n",
    "    def z_link_func(x, data=data):\n",
    "        return 1 / (1 + np.exp(-(x.values.ravel())))\n",
    "\n",
    "    regs, free_pars = model.split('_')\n",
    "\n",
    "    if regs == 'drift':\n",
    "        z_reg = {'model': 'z ~ 0', 'link_func': z_link_func}\n",
    "        v_reg = {'model': 'v ~ 1 + C(difficulty) + cue_coding', 'link_func': lambda x: x}\n",
    "    elif regs == 'startpoint':\n",
    "        z_reg = {'model': 'z ~ 0 + cue_coding', 'link_func': z_link_func}\n",
    "        v_reg = {'model': 'v ~ 1 + C(difficulty)', 'link_func': lambda x: x}\n",
    "    elif regs == 'both':\n",
    "        z_reg = {'model': 'z ~ 0 + cue_coding', 'link_func': z_link_func}\n",
    "        v_reg = {'model': 'v ~ 1 + C(difficulty) + cue_coding', 'link_func': lambda x: x}\n",
    "\n",
    "    reg_descr = [z_reg, v_reg]\n",
    "\n",
    "    if free_pars == 'sv':\n",
    "        hddm_model = hddm.HDDMRegressor(data, reg_descr, include=('sv'), bias=True, group_only_regressors=False, group_only_nodes=['sv'])\n",
    "    elif free_pars == 'sz':\n",
    "        hddm_model = hddm.HDDMRegressor(data, reg_descr, include=('sz'), bias=True, group_only_regressors=False, group_only_nodes=['sz'])\n",
    "    elif free_pars == 'svsz':\n",
    "        hddm_model = hddm.HDDMRegressor(data, reg_descr, include=('sv', 'sz'), bias=True, group_only_regressors=False, group_only_nodes=['sv', 'sz'])\n",
    "    elif free_pars == 'all':\n",
    "        hddm_model = hddm.HDDMRegressor(data, reg_descr, include=('sv', 'sz', 'st'), bias=True, group_only_regressors=False, group_only_nodes=['sv', 'sz', 'st'])\n",
    "        \n",
    "    reg = re.compile('.*/traces_{model}_[0-9]+.pkl'.format(**locals()))\n",
    "    fns = [fn for fn in glob.glob('/home/gdholla1/projects/bias/data/hddm_fits/traces_{model}_*.pkl'.format(**locals())) if reg.match(fn)]\n",
    "\n",
    "    hddm_model.load_db(fns[0], db='pickle')\n",
    "\n",
    "    for fn in fns[1:]:\n",
    "        traces = pkl.load(open(fn))    \n",
    "        for node in hddm_model.get_stochastics().node:\n",
    "            node.trace._trace[0] = np.concatenate([traces[str(node)][0], node.trace[:]])        \n",
    "\n",
    "\n",
    "    return hddm_model"
   ]
  },
  {
   "cell_type": "code",
   "execution_count": 209,
   "metadata": {
    "collapsed": true
   },
   "outputs": [],
   "source": [
    "import glob\n",
    "import re\n",
    "\n",
    "import pickle as pkl"
   ]
  },
  {
   "cell_type": "code",
   "execution_count": 210,
   "metadata": {
    "collapsed": false
   },
   "outputs": [
    {
     "name": "stderr",
     "output_type": "stream",
     "text": [
      "/usr/local/lib/python2.7/dist-packages/ipykernel/__main__.py:15: SettingWithCopyWarning: \n",
      "A value is trying to be set on a copy of a slice from a DataFrame.\n",
      "Try using .loc[row_indexer,col_indexer] = value instead\n",
      "\n",
      "See the caveats in the documentation: http://pandas.pydata.org/pandas-docs/stable/indexing.html#indexing-view-versus-copy\n",
      "/usr/local/lib/python2.7/dist-packages/ipykernel/__main__.py:16: SettingWithCopyWarning: \n",
      "A value is trying to be set on a copy of a slice from a DataFrame.\n",
      "Try using .loc[row_indexer,col_indexer] = value instead\n",
      "\n",
      "See the caveats in the documentation: http://pandas.pydata.org/pandas-docs/stable/indexing.html#indexing-view-versus-copy\n"
     ]
    },
    {
     "name": "stdout",
     "output_type": "stream",
     "text": [
      "Adding these covariates:\n",
      "['z_cue_coding']\n",
      "Adding these covariates:\n",
      "['v_Intercept', 'v_C(difficulty)[T.hard]', 'v_cue_coding']\n"
     ]
    }
   ],
   "source": [
    "model = get_model('both_all')"
   ]
  },
  {
   "cell_type": "code",
   "execution_count": 211,
   "metadata": {
    "collapsed": false
   },
   "outputs": [
    {
     "data": {
      "text/plain": [
       "(9000, 129)"
      ]
     },
     "execution_count": 211,
     "metadata": {},
     "output_type": "execute_result"
    }
   ],
   "source": [
    "traces = model.get_traces()\n",
    "traces.shape"
   ]
  },
  {
   "cell_type": "code",
   "execution_count": 224,
   "metadata": {
    "collapsed": false
   },
   "outputs": [
    {
     "data": {
      "text/plain": [
       "['a',\n",
       " 'a_std',\n",
       " 'a_subj.1',\n",
       " 'a_subj.10',\n",
       " 'a_subj.11',\n",
       " 'a_subj.12',\n",
       " 'a_subj.13',\n",
       " 'a_subj.14',\n",
       " 'a_subj.15',\n",
       " 'a_subj.16',\n",
       " 'a_subj.17',\n",
       " 'a_subj.18',\n",
       " 'a_subj.19',\n",
       " 'a_subj.2',\n",
       " 'a_subj.3',\n",
       " 'a_subj.4',\n",
       " 'a_subj.5',\n",
       " 'a_subj.6',\n",
       " 'a_subj.7',\n",
       " 'a_subj.8',\n",
       " 'a_subj.9',\n",
       " 'st',\n",
       " 'sv',\n",
       " 'sz',\n",
       " 't',\n",
       " 't_std',\n",
       " 't_subj.1',\n",
       " 't_subj.10',\n",
       " 't_subj.11',\n",
       " 't_subj.12',\n",
       " 't_subj.13',\n",
       " 't_subj.14',\n",
       " 't_subj.15',\n",
       " 't_subj.16',\n",
       " 't_subj.17',\n",
       " 't_subj.18',\n",
       " 't_subj.19',\n",
       " 't_subj.2',\n",
       " 't_subj.3',\n",
       " 't_subj.4',\n",
       " 't_subj.5',\n",
       " 't_subj.6',\n",
       " 't_subj.7',\n",
       " 't_subj.8',\n",
       " 't_subj.9',\n",
       " 'v_C(difficulty)[T.hard]',\n",
       " 'v_C(difficulty)[T.hard]_std',\n",
       " 'v_C(difficulty)[T.hard]_subj.1',\n",
       " 'v_C(difficulty)[T.hard]_subj.10',\n",
       " 'v_C(difficulty)[T.hard]_subj.11',\n",
       " 'v_C(difficulty)[T.hard]_subj.12',\n",
       " 'v_C(difficulty)[T.hard]_subj.13',\n",
       " 'v_C(difficulty)[T.hard]_subj.14',\n",
       " 'v_C(difficulty)[T.hard]_subj.15',\n",
       " 'v_C(difficulty)[T.hard]_subj.16',\n",
       " 'v_C(difficulty)[T.hard]_subj.17',\n",
       " 'v_C(difficulty)[T.hard]_subj.18',\n",
       " 'v_C(difficulty)[T.hard]_subj.19',\n",
       " 'v_C(difficulty)[T.hard]_subj.2',\n",
       " 'v_C(difficulty)[T.hard]_subj.3',\n",
       " 'v_C(difficulty)[T.hard]_subj.4',\n",
       " 'v_C(difficulty)[T.hard]_subj.5',\n",
       " 'v_C(difficulty)[T.hard]_subj.6',\n",
       " 'v_C(difficulty)[T.hard]_subj.7',\n",
       " 'v_C(difficulty)[T.hard]_subj.8',\n",
       " 'v_C(difficulty)[T.hard]_subj.9',\n",
       " 'v_Intercept',\n",
       " 'v_Intercept_std',\n",
       " 'v_Intercept_subj.1',\n",
       " 'v_Intercept_subj.10',\n",
       " 'v_Intercept_subj.11',\n",
       " 'v_Intercept_subj.12',\n",
       " 'v_Intercept_subj.13',\n",
       " 'v_Intercept_subj.14',\n",
       " 'v_Intercept_subj.15',\n",
       " 'v_Intercept_subj.16',\n",
       " 'v_Intercept_subj.17',\n",
       " 'v_Intercept_subj.18',\n",
       " 'v_Intercept_subj.19',\n",
       " 'v_Intercept_subj.2',\n",
       " 'v_Intercept_subj.3',\n",
       " 'v_Intercept_subj.4',\n",
       " 'v_Intercept_subj.5',\n",
       " 'v_Intercept_subj.6',\n",
       " 'v_Intercept_subj.7',\n",
       " 'v_Intercept_subj.8',\n",
       " 'v_Intercept_subj.9',\n",
       " 'v_cue_coding',\n",
       " 'v_cue_coding_std',\n",
       " 'v_cue_coding_subj.1',\n",
       " 'v_cue_coding_subj.10',\n",
       " 'v_cue_coding_subj.11',\n",
       " 'v_cue_coding_subj.12',\n",
       " 'v_cue_coding_subj.13',\n",
       " 'v_cue_coding_subj.14',\n",
       " 'v_cue_coding_subj.15',\n",
       " 'v_cue_coding_subj.16',\n",
       " 'v_cue_coding_subj.17',\n",
       " 'v_cue_coding_subj.18',\n",
       " 'v_cue_coding_subj.19',\n",
       " 'v_cue_coding_subj.2',\n",
       " 'v_cue_coding_subj.3',\n",
       " 'v_cue_coding_subj.4',\n",
       " 'v_cue_coding_subj.5',\n",
       " 'v_cue_coding_subj.6',\n",
       " 'v_cue_coding_subj.7',\n",
       " 'v_cue_coding_subj.8',\n",
       " 'v_cue_coding_subj.9',\n",
       " 'z_cue_coding',\n",
       " 'z_cue_coding_std',\n",
       " 'z_cue_coding_subj.1',\n",
       " 'z_cue_coding_subj.10',\n",
       " 'z_cue_coding_subj.11',\n",
       " 'z_cue_coding_subj.12',\n",
       " 'z_cue_coding_subj.13',\n",
       " 'z_cue_coding_subj.14',\n",
       " 'z_cue_coding_subj.15',\n",
       " 'z_cue_coding_subj.16',\n",
       " 'z_cue_coding_subj.17',\n",
       " 'z_cue_coding_subj.18',\n",
       " 'z_cue_coding_subj.19',\n",
       " 'z_cue_coding_subj.2',\n",
       " 'z_cue_coding_subj.3',\n",
       " 'z_cue_coding_subj.4',\n",
       " 'z_cue_coding_subj.5',\n",
       " 'z_cue_coding_subj.6',\n",
       " 'z_cue_coding_subj.7',\n",
       " 'z_cue_coding_subj.8',\n",
       " 'z_cue_coding_subj.9']"
      ]
     },
     "execution_count": 224,
     "metadata": {},
     "output_type": "execute_result"
    }
   ],
   "source": [
    "traces.columns.tolist()"
   ]
  },
  {
   "cell_type": "code",
   "execution_count": 228,
   "metadata": {
    "collapsed": false
   },
   "outputs": [],
   "source": [
    "r = []\n",
    "\n",
    "for i in np.arange(1, 20):\n",
    "    r.append({'subj_idx':i,\n",
    "              'z_cue_coding':traces['z_cue_coding_subj.%d' % i].mean(),\n",
    "              'v_cue_coding':traces['v_cue_coding_subj.%d' % i].mean(),\n",
    "              'v_difficulty':traces['v_C(difficulty)[T.hard]_subj.%d' % i].mean()})\n",
    "    \n",
    "df = pandas.DataFrame(r)"
   ]
  },
  {
   "cell_type": "code",
   "execution_count": 229,
   "metadata": {
    "collapsed": false
   },
   "outputs": [
    {
     "data": {
      "text/plain": [
       "<seaborn.axisgrid.JointGrid at 0x7d3e5250>"
      ]
     },
     "execution_count": 229,
     "metadata": {},
     "output_type": "execute_result"
    },
    {
     "data": {
      "image/png": "[encoded data removed]",
      "text/plain": [
       "<matplotlib.figure.Figure at 0x7d3d9890>"
      ]
     },
     "metadata": {},
     "output_type": "display_data"
    }
   ],
   "source": [
    "sns.jointplot('v_cue_coding', 'z_cue_coding', df)"
   ]
  },
  {
   "cell_type": "code",
   "execution_count": 230,
   "metadata": {
    "collapsed": false
   },
   "outputs": [
    {
     "data": {
      "text/plain": [
       "<seaborn.axisgrid.JointGrid at 0x768b1710>"
      ]
     },
     "execution_count": 230,
     "metadata": {},
     "output_type": "execute_result"
    },
    {
     "data": {
      "image/png": "[encoded data removed]",
      "text/plain": [
       "<matplotlib.figure.Figure at 0x7f5e05d0>"
      ]
     },
     "metadata": {},
     "output_type": "display_data"
    }
   ],
   "source": [
    "sns.jointplot('z_cue_coding', 'v_difficulty', df)"
   ]
  },
  {
   "cell_type": "code",
   "execution_count": 231,
   "metadata": {
    "collapsed": true
   },
   "outputs": [],
   "source": [
    "df.to_pickle('/home/gdholla1/projects/bias/data/derivatives/behavior/hddm/bias_shifts.pkl')"
   ]
  },
  {
   "cell_type": "code",
   "execution_count": null,
   "metadata": {
    "collapsed": true
   },
   "outputs": [],
   "source": []
  }
 ],
 "metadata": {
  "kernelspec": {
   "display_name": "Python 2",
   "language": "python",
   "name": "python2"
  },
  "language_info": {
   "codemirror_mode": {
    "name": "ipython",
    "version": 2
   },
   "file_extension": ".py",
   "mimetype": "text/x-python",
   "name": "python",
   "nbconvert_exporter": "python",
   "pygments_lexer": "ipython2",
   "version": "2.7.3"
  }
 },
 "nbformat": 4,
 "nbformat_minor": 1
}
