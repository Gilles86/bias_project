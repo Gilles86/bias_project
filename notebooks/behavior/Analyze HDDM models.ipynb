{
 "cells": [
  {
   "cell_type": "code",
   "execution_count": 232,
   "metadata": {
    "collapsed": false
   },
   "outputs": [],
   "source": [
    "import argparse\n",
    "import os\n",
    "from kabuki.analyze import gelman_rubin\n",
    "import pandas\n",
    "import hddm\n",
    "import numpy as np\n",
    "\n",
    "path = '/home/gdholla1/projects/bias/data/hddm_fits'\n",
    "\n",
    "def get_model(model):\n",
    "    df = pandas.read_pickle('/home/gdholla1/projects/bias/data/behavior/behavior.pandas')\n",
    "\n",
    "    # Prepare data\n",
    "    data = df[['cue_validity', 'rt', 'correct', 'difficulty', 'subj_idx']]\n",
    "    data['response'] = data['correct']\n",
    "    data['rt'] = data['rt'] / 1000.\n",
    "    data = data[(data.rt > .2) & (data.rt < 1.5)]\n",
    "    data = data[~data.rt.isnull()]\n",
    "    data['cue_coding'] = data.cue_validity.map({'valid':1, 'neutral':0, 'invalid':-1})\n",
    "\n",
    "    def z_link_func(x, data=data):\n",
    "        return 1 / (1 + np.exp(-(x.values.ravel())))\n",
    "\n",
    "    regs, free_pars = model.split('_')\n",
    "\n",
    "    if regs == 'drift':\n",
    "        z_reg = {'model': 'z ~ 0', 'link_func': z_link_func}\n",
    "        v_reg = {'model': 'v ~ 1 + C(difficulty) + cue_coding', 'link_func': lambda x: x}\n",
    "    elif regs == 'startpoint':\n",
    "        z_reg = {'model': 'z ~ 0 + cue_coding', 'link_func': z_link_func}\n",
    "        v_reg = {'model': 'v ~ 1 + C(difficulty)', 'link_func': lambda x: x}\n",
    "    elif regs == 'both':\n",
    "        z_reg = {'model': 'z ~ 0 + cue_coding', 'link_func': z_link_func}\n",
    "        v_reg = {'model': 'v ~ 1 + C(difficulty) + cue_coding', 'link_func': lambda x: x}\n",
    "\n",
    "    reg_descr = [z_reg, v_reg]\n",
    "\n",
    "    if free_pars == 'sv':\n",
    "        hddm_model = hddm.HDDMRegressor(data, reg_descr, include=('sv'), bias=True, group_only_regressors=False, group_only_nodes=['sv'])\n",
    "    elif free_pars == 'sz':\n",
    "        hddm_model = hddm.HDDMRegressor(data, reg_descr, include=('sz'), bias=True, group_only_regressors=False, group_only_nodes=['sz'])\n",
    "    elif free_pars == 'svsz':\n",
    "        hddm_model = hddm.HDDMRegressor(data, reg_descr, include=('sv', 'sz'), bias=True, group_only_regressors=False, group_only_nodes=['sv', 'sz'])\n",
    "    elif free_pars == 'all':\n",
    "        hddm_model = hddm.HDDMRegressor(data, reg_descr, include=('sv', 'sz', 'st'), bias=True, group_only_regressors=False, group_only_nodes=['sv', 'sz', 'st'])\n",
    "    \n",
    "    \n",
    "    # NOW FIND, LOAD, AND CONCAT TRACES\n",
    "    reg = re.compile('.*/traces_{model}_[0-9]+.pkl'.format(**locals()))\n",
    "    fns = [fn for fn in glob.glob('/home/gdholla1/projects/bias/data/hddm_fits/traces_{model}_*.pkl'.format(**locals())) if reg.match(fn)]\n",
    "\n",
    "    hddm_model.load_db(fns[0], db='pickle')\n",
    "\n",
    "    for fn in fns[1:]:\n",
    "        traces = pkl.load(open(fn))    \n",
    "        for node in hddm_model.get_stochastics().node:\n",
    "            node.trace._trace[0] = np.concatenate([traces[str(node)][0], node.trace[:]])        \n",
    "\n",
    "\n",
    "    return hddm_model"
   ]
  },
  {
   "cell_type": "code",
   "execution_count": 233,
   "metadata": {
    "collapsed": true
   },
   "outputs": [],
   "source": [
    "import glob\n",
    "import re\n",
    "\n",
    "import pickle as pkl"
   ]
  },
  {
   "cell_type": "code",
   "execution_count": 234,
   "metadata": {
    "collapsed": false
   },
   "outputs": [
    {
     "name": "stderr",
     "output_type": "stream",
     "text": [
      "/usr/local/lib/python2.7/dist-packages/ipykernel/__main__.py:15: SettingWithCopyWarning: \n",
      "A value is trying to be set on a copy of a slice from a DataFrame.\n",
      "Try using .loc[row_indexer,col_indexer] = value instead\n",
      "\n",
      "See the caveats in the documentation: http://pandas.pydata.org/pandas-docs/stable/indexing.html#indexing-view-versus-copy\n",
      "/usr/local/lib/python2.7/dist-packages/ipykernel/__main__.py:16: SettingWithCopyWarning: \n",
      "A value is trying to be set on a copy of a slice from a DataFrame.\n",
      "Try using .loc[row_indexer,col_indexer] = value instead\n",
      "\n",
      "See the caveats in the documentation: http://pandas.pydata.org/pandas-docs/stable/indexing.html#indexing-view-versus-copy\n"
     ]
    },
    {
     "name": "stdout",
     "output_type": "stream",
     "text": [
      "Adding these covariates:\n",
      "['z_cue_coding']\n",
      "Adding these covariates:\n",
      "['v_Intercept', 'v_C(difficulty)[T.hard]', 'v_cue_coding']\n"
     ]
    }
   ],
   "source": [
    "model = get_model('both_all')"
   ]
  },
  {
   "cell_type": "code",
   "execution_count": 235,
   "metadata": {
    "collapsed": false
   },
   "outputs": [
    {
     "data": {
      "text/plain": [
       "(9000, 129)"
      ]
     },
     "execution_count": 235,
     "metadata": {},
     "output_type": "execute_result"
    }
   ],
   "source": [
    "traces = model.get_traces()\n",
    "traces.shape"
   ]
  },
  {
   "cell_type": "code",
   "execution_count": 228,
   "metadata": {
    "collapsed": false
   },
   "outputs": [],
   "source": [
    "r = []\n",
    "\n",
    "for i in np.arange(1, 20):\n",
    "    r.append({'subj_idx':i,\n",
    "              'z_cue_coding':traces['z_cue_coding_subj.%d' % i].mean(),\n",
    "              'v_cue_coding':traces['v_cue_coding_subj.%d' % i].mean(),\n",
    "              'v_difficulty':traces['v_C(difficulty)[T.hard]_subj.%d' % i].mean()})\n",
    "    \n",
    "df = pandas.DataFrame(r)"
   ]
  },
  {
   "cell_type": "code",
   "execution_count": 231,
   "metadata": {
    "collapsed": true
   },
   "outputs": [],
   "source": [
    "df.to_pickle('/home/gdholla1/projects/bias/data/derivatives/behavior/hddm/bias_shifts.pkl')"
   ]
  },
  {
   "cell_type": "markdown",
   "metadata": {},
   "source": [
    "# Posterior predictive checks"
   ]
  },
  {
   "cell_type": "code",
   "execution_count": null,
   "metadata": {
    "collapsed": false
   },
   "outputs": [
    {
     "name": "stdout",
     "output_type": "stream",
     "text": [
      " [-----------------52%                  ] 10 of 19 complete in 2009.1 sec"
     ]
    }
   ],
   "source": [
    "ppc_data = hddm.utils.post_pred_gen(model, samples=100)"
   ]
  },
  {
   "cell_type": "code",
   "execution_count": 335,
   "metadata": {
    "collapsed": true
   },
   "outputs": [],
   "source": [
    "# Make a column that make clear which nth sample from the posterior was used\n",
    "ppc_data['sample'] = ppc_data.index.get_level_values(1)\n",
    "\n",
    "\n",
    "# Merge with real data, so we know the corresponding trial conditions\n",
    "ppc_data_merged = model.data[['cue_validity', 'difficulty', 'subj_idx']].merge(ppc_data.set_index(ppc_data.index.get_level_values(2)), left_index=True, right_index=True)"
   ]
  },
  {
   "cell_type": "code",
   "execution_count": 336,
   "metadata": {
    "collapsed": true
   },
   "outputs": [],
   "source": [
    "def get_quantile_dataframe(d, q=(0.1, 0.3, 0.5, 0.7, 0.9)):\n",
    "    q_ub, q_lb, prop_ub = hddm.utils.data_quantiles(d)\n",
    "    \n",
    "    df_ub = pandas.DataFrame({'q_rt':q_ub, 'prop':np.array(q)*prop_ub, 'q':q})\n",
    "    df_ub['bound'] = 'ub'\n",
    "    \n",
    "    df_lb = pandas.DataFrame({'q_rt':q_lb, 'prop':np.array(q)*(1-prop_ub), 'q':q})    \n",
    "    df_lb['bound'] = 'lb'\n",
    "    \n",
    "    return pandas.concat((df_ub, df_lb))\n"
   ]
  },
  {
   "cell_type": "code",
   "execution_count": 339,
   "metadata": {
    "collapsed": true
   },
   "outputs": [],
   "source": [
    "sns.set_context('paper')"
   ]
  },
  {
   "cell_type": "code",
   "execution_count": 380,
   "metadata": {
    "collapsed": false
   },
   "outputs": [
    {
     "data": {
      "text/plain": [
       "<seaborn.axisgrid.FacetGrid at 0x94a4ead0>"
      ]
     },
     "execution_count": 380,
     "metadata": {},
     "output_type": "execute_result"
    },
    {
     "data": {
      "image/png": "[encoded data removed]",
      "text/plain": [
       "<matplotlib.figure.Figure at 0x933d0050>"
      ]
     },
     "metadata": {},
     "output_type": "display_data"
    }
   ],
   "source": [
    "# Make quantiles per subject\n",
    "data_quantiles = model.data.groupby(['subj_idx', 'cue_validity', 'difficulty']).apply(get_quantile_dataframe)\n",
    "\n",
    "# Mean quantiles over subjects\n",
    "data_quantiles = data_quantiles.reset_index().groupby(['cue_validity', 'difficulty', 'q', 'bound'], as_index=False).mean()\n",
    "\n",
    "# Make a FacetGrid to plot the quantiles over conditions\n",
    "fac = sns.FacetGrid(data_quantiles, col='cue_validity', row='difficulty', hue='bound', hue_kws={'ls':['--', '-']})\n",
    "fac.map(plt.plot, 'q_rt', 'prop', lw=3, color='k', marker='o', markeredgewidth=2)"
   ]
  },
  {
   "cell_type": "code",
   "execution_count": 356,
   "metadata": {
    "collapsed": false
   },
   "outputs": [],
   "source": [
    "model_quantiles = ppc_data_merged.groupby(['sample', 'subj_idx', 'cue_validity', 'difficulty']).apply(get_quantile_dataframe)"
   ]
  },
  {
   "cell_type": "code",
   "execution_count": 357,
   "metadata": {
    "collapsed": false
   },
   "outputs": [],
   "source": [
    "model_quantiles = model_quantiles.reset_index().groupby(['sample', 'cue_validity', 'difficulty', 'q', 'bound'], as_index=False).mean()"
   ]
  },
  {
   "cell_type": "code",
   "execution_count": null,
   "metadata": {
    "collapsed": true
   },
   "outputs": [],
   "source": [
    "def hexbin(x, y, color, **kwargs):\n",
    "    plt.hexbin(x, y, **kwargs)\n",
    "\n",
    "fac_model = sns.FacetGrid(model_quantiles, col='cue_validity', row='difficulty')\n",
    "fac_model.map(hexbin, 'q_rt', 'prop', gridsize=25, cmap=plt.cm.viridis, extent=[.5, 1.25, 0, 1])\n",
    "\n",
    "fac = sns.FacetGrid(data_quantiles, col='cue_validity', row='difficulty', hue='bound', hue_kws={'ls':['--', '-']})\n",
    "fac.fig = fac_model.fig\n",
    "fac.axes = fac_model.axes\n",
    "fac.map(plt.plot, 'q_rt', 'prop', lw=3, color='w', marker='o', markeredgewidth=2, alpha=.7)\n",
    "fac.fig.savefig('/home/gdholla1/projects/bias/reports/hddm_fit_both.pdf')\n",
    "\n",
    "# fac.fig.set_size_inches(30, 25)"
   ]
  },
  {
   "cell_type": "code",
   "execution_count": null,
   "metadata": {
    "collapsed": true
   },
   "outputs": [],
   "source": []
  }
 ],
 "metadata": {
  "kernelspec": {
   "display_name": "Python 2",
   "language": "python",
   "name": "python2"
  },
  "language_info": {
   "codemirror_mode": {
    "name": "ipython",
    "version": 2
   },
   "file_extension": ".py",
   "mimetype": "text/x-python",
   "name": "python",
   "nbconvert_exporter": "python",
   "pygments_lexer": "ipython2",
   "version": "2.7.3"
  }
 },
 "nbformat": 4,
 "nbformat_minor": 1
}
