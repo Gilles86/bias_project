{
 "cells": [
  {
   "cell_type": "code",
   "execution_count": 1,
   "metadata": {
    "collapsed": true
   },
   "outputs": [],
   "source": [
    "import pandas"
   ]
  },
  {
   "cell_type": "code",
   "execution_count": 2,
   "metadata": {
    "collapsed": true
   },
   "outputs": [],
   "source": [
    "df = pandas.read_pickle('/home/gdholla1/projects/bias/data/behavior/behavior.pandas')"
   ]
  },
  {
   "cell_type": "code",
   "execution_count": 9,
   "metadata": {
    "collapsed": true
   },
   "outputs": [],
   "source": [
    "%load_ext rpy2.ipython"
   ]
  },
  {
   "cell_type": "markdown",
   "metadata": {},
   "source": [
    "# Accuracy effects"
   ]
  },
  {
   "cell_type": "markdown",
   "metadata": {},
   "source": [
    "# Difficulty"
   ]
  },
  {
   "cell_type": "code",
   "execution_count": 10,
   "metadata": {
    "collapsed": false
   },
   "outputs": [],
   "source": [
    "tmp = df.groupby(['subj_idx', 'difficulty'], as_index=False).mean()\n",
    "tmp = tmp.pivot_table(index='subj_idx', columns='difficulty', values='correct')\n",
    "tmp = np.arcsin(tmp)"
   ]
  },
  {
   "cell_type": "code",
   "execution_count": 11,
   "metadata": {
    "collapsed": false
   },
   "outputs": [
    {
     "data": {
      "text/plain": [
       "Ttest_relResult(statistic=4.895719305769676, pvalue=0.00011640819832034805)"
      ]
     },
     "execution_count": 11,
     "metadata": {},
     "output_type": "execute_result"
    }
   ],
   "source": [
    "sp.stats.ttest_rel(tmp['easy'], tmp['hard'])"
   ]
  },
  {
   "cell_type": "code",
   "execution_count": 12,
   "metadata": {
    "collapsed": false
   },
   "outputs": [
    {
     "name": "stderr",
     "output_type": "stream",
     "text": [
      "/usr/local/lib/python2.7/dist-packages/rpy2/rinterface/__init__.py:185: RRuntimeWarning: Loading required package: coda\n",
      "\n",
      "  warnings.warn(x, RRuntimeWarning)\n",
      "/usr/local/lib/python2.7/dist-packages/rpy2/rinterface/__init__.py:185: RRuntimeWarning: Loading required package: Matrix\n",
      "\n",
      "  warnings.warn(x, RRuntimeWarning)\n",
      "/usr/local/lib/python2.7/dist-packages/rpy2/rinterface/__init__.py:185: RRuntimeWarning: ************\n",
      "Welcome to BayesFactor 0.9.11-1. If you have questions, please contact Richard Morey (richarddmorey@gmail.com).\n",
      "\n",
      "Type BFManual() to open the manual.\n",
      "************\n",
      "\n",
      "  warnings.warn(x, RRuntimeWarning)\n"
     ]
    },
    {
     "data": {
      "text/plain": [
       "Bayes factor analysis\n",
       "--------------\n",
       "[1] Alt., r=0.707 : 244.7405 ±0%\n",
       "\n",
       "Against denominator:\n",
       "  Null, mu = 0 \n",
       "---\n",
       "Bayes factor type: BFoneSample, JZS\n",
       "\n"
      ]
     },
     "metadata": {},
     "output_type": "display_data"
    }
   ],
   "source": [
    "%%R -i tmp\n",
    "library(BayesFactor)\n",
    "\n",
    "ttestBF(tmp$easy - tmp$hard)"
   ]
  },
  {
   "cell_type": "markdown",
   "metadata": {},
   "source": [
    "## Congruency"
   ]
  },
  {
   "cell_type": "code",
   "execution_count": 52,
   "metadata": {
    "collapsed": false
   },
   "outputs": [],
   "source": [
    "tmp = df.groupby(['subj_idx', 'cue_validity'], as_index=False).mean()[['subj_idx', 'cue_validity', 'correct']]\n",
    "# tmp = tmp.pivot_table(index='subj_idx', columns='cue_validity', values='correct')\n",
    "tmp['correct'] = np.arcsin(tmp['correct'])"
   ]
  },
  {
   "cell_type": "code",
   "execution_count": 53,
   "metadata": {
    "collapsed": false
   },
   "outputs": [],
   "source": [
    "tmp = tmp[['subj_idx', 'cue_validity', 'correct']]"
   ]
  },
  {
   "cell_type": "code",
   "execution_count": 54,
   "metadata": {
    "collapsed": false
   },
   "outputs": [
    {
     "data": {
      "text/plain": [
       "\n",
       "Error: subj_idx\n",
       "          Df Sum Sq Mean Sq F value Pr(>F)\n",
       "Residuals 18  1.093 0.06074               \n",
       "\n",
       "Error: subj_idx:cue_validity\n",
       "             Df Sum Sq Mean Sq F value   Pr(>F)    \n",
       "cue_validity  2 0.4081 0.20407   8.741 0.000805 ***\n",
       "Residuals    36 0.8405 0.02335                     \n",
       "---\n",
       "Signif. codes:  0 ‘***’ 0.001 ‘**’ 0.01 ‘*’ 0.05 ‘.’ 0.1 ‘ ’ 1\n",
       "\r",
       "  |                                                                            \r",
       "  |                                                                      |   0%\r",
       "  |                                                                            \r",
       "  |==================                                                    |  25%\r",
       "  |                                                                            \r",
       "  |===================================                                   |  50%\r",
       "  |                                                                            \r",
       "  |====================================================                  |  75%\r",
       "  |                                                                            \r",
       "  |======================================================================| 100%\n",
       "Bayes factor top-down analysis\n",
       "--------------\n",
       "When effect is omitted from subj_idx + cue_validity + subj_idx:cue_validity , BF is...\n",
       "[1] Omit cue_validity:subj_idx : 1.919631   ±3.34%\n",
       "[2] Omit cue_validity          : 0.01020012 ±1.86%\n",
       "[3] Omit subj_idx              : 0.04468264 ±1.91%\n",
       "\n",
       "Against denominator:\n",
       "  correct ~ subj_idx + cue_validity + subj_idx:cue_validity \n",
       "---\n",
       "Bayes factor type: BFlinearModel, JZS\n",
       "\n",
       "                                                 denominator\n",
       "numerator                                         subj_idx + cue_validity\n",
       "  subj_idx + cue_validity + subj_idx:cue_validity               0.5209333\n",
       "                                                 denominator\n",
       "numerator                                         subj_idx + subj_idx:cue_validity\n",
       "  subj_idx + cue_validity + subj_idx:cue_validity                         98.03804\n",
       "                                                 denominator\n",
       "numerator                                         cue_validity + subj_idx:cue_validity\n",
       "  subj_idx + cue_validity + subj_idx:cue_validity                             22.38006\n"
      ]
     },
     "metadata": {},
     "output_type": "display_data"
    }
   ],
   "source": [
    "%%R -i tmp\n",
    "library(BayesFactor)\n",
    "\n",
    "tmp$subj_idx = as.factor(tmp$subj_idx)\n",
    "\n",
    "print(summary(aov(correct ~ cue_validity + Error(subj_idx/(cue_validity)), data=tmp)))\n",
    "\n",
    "\n",
    "bf = anovaBF(correct ~ cue_validity + subj_idx, data=tmp,  whichModels=\"top\")\n",
    "\n",
    "print(bf)\n",
    "print(1/bf)"
   ]
  },
  {
   "cell_type": "code",
   "execution_count": 55,
   "metadata": {
    "collapsed": false
   },
   "outputs": [
    {
     "data": {
      "text/plain": [
       "Ttest_relResult(statistic=3.063773132561884, pvalue=0.0066883793289771263)"
      ]
     },
     "execution_count": 55,
     "metadata": {},
     "output_type": "execute_result"
    }
   ],
   "source": [
    "tmp = tmp.pivot_table(index='subj_idx', columns='cue_validity', values='correct')\n",
    "\n",
    "sp.stats.ttest_rel(tmp['valid'], tmp['invalid'])"
   ]
  },
  {
   "cell_type": "code",
   "execution_count": 56,
   "metadata": {
    "collapsed": false
   },
   "outputs": [
    {
     "data": {
      "text/plain": [
       "Bayes factor analysis\n",
       "--------------\n",
       "[1] Alt., r=0.707 : 7.280327 ±0%\n",
       "\n",
       "Against denominator:\n",
       "  Null, mu = 0 \n",
       "---\n",
       "Bayes factor type: BFoneSample, JZS\n",
       "\n"
      ]
     },
     "metadata": {},
     "output_type": "display_data"
    }
   ],
   "source": [
    "%%R -i tmp\n",
    "library(BayesFactor)\n",
    "\n",
    "ttestBF(tmp$valid - tmp$invalid)"
   ]
  },
  {
   "cell_type": "markdown",
   "metadata": {},
   "source": [
    "# RT effects"
   ]
  },
  {
   "cell_type": "markdown",
   "metadata": {},
   "source": [
    "## Difficulty"
   ]
  },
  {
   "cell_type": "code",
   "execution_count": 21,
   "metadata": {
    "collapsed": false
   },
   "outputs": [
    {
     "data": {
      "text/html": [
       "<div>\n",
       "<table border=\"1\" class=\"dataframe\">\n",
       "  <thead>\n",
       "    <tr style=\"text-align: right;\">\n",
       "      <th>difficulty</th>\n",
       "      <th>easy</th>\n",
       "      <th>hard</th>\n",
       "    </tr>\n",
       "    <tr>\n",
       "      <th>subj_idx</th>\n",
       "      <th></th>\n",
       "      <th></th>\n",
       "    </tr>\n",
       "  </thead>\n",
       "  <tbody>\n",
       "    <tr>\n",
       "      <th>1</th>\n",
       "      <td>837.507853</td>\n",
       "      <td>839.152632</td>\n",
       "    </tr>\n",
       "    <tr>\n",
       "      <th>2</th>\n",
       "      <td>800.413613</td>\n",
       "      <td>811.973262</td>\n",
       "    </tr>\n",
       "    <tr>\n",
       "      <th>3</th>\n",
       "      <td>807.415789</td>\n",
       "      <td>824.673684</td>\n",
       "    </tr>\n",
       "    <tr>\n",
       "      <th>4</th>\n",
       "      <td>825.801047</td>\n",
       "      <td>816.790576</td>\n",
       "    </tr>\n",
       "    <tr>\n",
       "      <th>5</th>\n",
       "      <td>747.064748</td>\n",
       "      <td>780.858108</td>\n",
       "    </tr>\n",
       "  </tbody>\n",
       "</table>\n",
       "</div>"
      ],
      "text/plain": [
       "difficulty        easy        hard\n",
       "subj_idx                          \n",
       "1           837.507853  839.152632\n",
       "2           800.413613  811.973262\n",
       "3           807.415789  824.673684\n",
       "4           825.801047  816.790576\n",
       "5           747.064748  780.858108"
      ]
     },
     "execution_count": 21,
     "metadata": {},
     "output_type": "execute_result"
    }
   ],
   "source": [
    "tmp = df.groupby(['subj_idx', 'difficulty'], as_index=False).mean()\n",
    "tmp = tmp.pivot_table(index='subj_idx', columns='difficulty', values='rt')\n",
    "tmp.head()"
   ]
  },
  {
   "cell_type": "code",
   "execution_count": 22,
   "metadata": {
    "collapsed": false
   },
   "outputs": [
    {
     "name": "stdout",
     "output_type": "stream",
     "text": [
      "difficulty\n",
      "easy    821.688559\n",
      "hard    850.073304\n",
      "dtype: float64 difficulty\n",
      "easy    88.46772\n",
      "hard    76.39418\n",
      "dtype: float64\n"
     ]
    },
    {
     "data": {
      "text/plain": [
       "Ttest_relResult(statistic=3.8853095823176003, pvalue=0.0010843399828263823)"
      ]
     },
     "execution_count": 22,
     "metadata": {},
     "output_type": "execute_result"
    }
   ],
   "source": [
    "print tmp.mean(), tmp.std()\n",
    "sp.stats.ttest_rel(tmp['hard'], tmp['easy'])"
   ]
  },
  {
   "cell_type": "code",
   "execution_count": 24,
   "metadata": {
    "collapsed": false
   },
   "outputs": [
    {
     "data": {
      "text/plain": [
       "Bayes factor analysis\n",
       "--------------\n",
       "[1] Alt., r=0.707 : 34.46702 ±0%\n",
       "\n",
       "Against denominator:\n",
       "  Null, mu = 0 \n",
       "---\n",
       "Bayes factor type: BFoneSample, JZS\n",
       "\n"
      ]
     },
     "metadata": {},
     "output_type": "display_data"
    }
   ],
   "source": [
    "%%R -i tmp\n",
    "library(BayesFactor)\n",
    "\n",
    "ttestBF(tmp$easy - tmp$hard)"
   ]
  },
  {
   "cell_type": "markdown",
   "metadata": {},
   "source": [
    "## Cue congruency"
   ]
  },
  {
   "cell_type": "code",
   "execution_count": 70,
   "metadata": {
    "collapsed": false
   },
   "outputs": [
    {
     "data": {
      "text/html": [
       "<div>\n",
       "<table border=\"1\" class=\"dataframe\">\n",
       "  <thead>\n",
       "    <tr style=\"text-align: right;\">\n",
       "      <th></th>\n",
       "      <th>subj_idx</th>\n",
       "      <th>cue_validity</th>\n",
       "      <th>correct</th>\n",
       "      <th>block</th>\n",
       "      <th>trial_NR</th>\n",
       "      <th>cue_delay</th>\n",
       "      <th>stim_delay</th>\n",
       "      <th>coherence</th>\n",
       "      <th>response</th>\n",
       "      <th>rt</th>\n",
       "      <th>onset_cue</th>\n",
       "      <th>onset_stim</th>\n",
       "      <th>subj_idx_exp</th>\n",
       "    </tr>\n",
       "  </thead>\n",
       "  <tbody>\n",
       "    <tr>\n",
       "      <th>0</th>\n",
       "      <td>1</td>\n",
       "      <td>invalid</td>\n",
       "      <td>error</td>\n",
       "      <td>1.685714</td>\n",
       "      <td>63.885714</td>\n",
       "      <td>1092.857143</td>\n",
       "      <td>2050.000000</td>\n",
       "      <td>0.107429</td>\n",
       "      <td>1.342857</td>\n",
       "      <td>904.971429</td>\n",
       "      <td>573.064286</td>\n",
       "      <td>576.114286</td>\n",
       "      <td>12.0</td>\n",
       "    </tr>\n",
       "    <tr>\n",
       "      <th>1</th>\n",
       "      <td>1</td>\n",
       "      <td>invalid</td>\n",
       "      <td>correct</td>\n",
       "      <td>2.180328</td>\n",
       "      <td>70.245902</td>\n",
       "      <td>1229.508197</td>\n",
       "      <td>2180.327869</td>\n",
       "      <td>0.127213</td>\n",
       "      <td>1.409836</td>\n",
       "      <td>830.754098</td>\n",
       "      <td>630.442623</td>\n",
       "      <td>633.622951</td>\n",
       "      <td>12.0</td>\n",
       "    </tr>\n",
       "    <tr>\n",
       "      <th>2</th>\n",
       "      <td>1</td>\n",
       "      <td>neutral</td>\n",
       "      <td>error</td>\n",
       "      <td>2.014706</td>\n",
       "      <td>64.985294</td>\n",
       "      <td>1058.823529</td>\n",
       "      <td>2158.088235</td>\n",
       "      <td>0.115294</td>\n",
       "      <td>1.264706</td>\n",
       "      <td>867.292308</td>\n",
       "      <td>582.926471</td>\n",
       "      <td>586.084559</td>\n",
       "      <td>12.0</td>\n",
       "    </tr>\n",
       "    <tr>\n",
       "      <th>3</th>\n",
       "      <td>1</td>\n",
       "      <td>neutral</td>\n",
       "      <td>correct</td>\n",
       "      <td>1.991935</td>\n",
       "      <td>58.435484</td>\n",
       "      <td>1040.322581</td>\n",
       "      <td>2058.467742</td>\n",
       "      <td>0.122581</td>\n",
       "      <td>1.427419</td>\n",
       "      <td>816.838710</td>\n",
       "      <td>523.959677</td>\n",
       "      <td>527.018145</td>\n",
       "      <td>12.0</td>\n",
       "    </tr>\n",
       "    <tr>\n",
       "      <th>4</th>\n",
       "      <td>1</td>\n",
       "      <td>valid</td>\n",
       "      <td>error</td>\n",
       "      <td>2.024390</td>\n",
       "      <td>66.292683</td>\n",
       "      <td>1207.317073</td>\n",
       "      <td>2207.317073</td>\n",
       "      <td>0.111220</td>\n",
       "      <td>1.390244</td>\n",
       "      <td>823.609756</td>\n",
       "      <td>594.841463</td>\n",
       "      <td>598.048780</td>\n",
       "      <td>12.0</td>\n",
       "    </tr>\n",
       "  </tbody>\n",
       "</table>\n",
       "</div>"
      ],
      "text/plain": [
       "   subj_idx cue_validity  correct     block   trial_NR    cue_delay  \\\n",
       "0         1      invalid    error  1.685714  63.885714  1092.857143   \n",
       "1         1      invalid  correct  2.180328  70.245902  1229.508197   \n",
       "2         1      neutral    error  2.014706  64.985294  1058.823529   \n",
       "3         1      neutral  correct  1.991935  58.435484  1040.322581   \n",
       "4         1        valid    error  2.024390  66.292683  1207.317073   \n",
       "\n",
       "    stim_delay  coherence  response          rt   onset_cue  onset_stim  \\\n",
       "0  2050.000000   0.107429  1.342857  904.971429  573.064286  576.114286   \n",
       "1  2180.327869   0.127213  1.409836  830.754098  630.442623  633.622951   \n",
       "2  2158.088235   0.115294  1.264706  867.292308  582.926471  586.084559   \n",
       "3  2058.467742   0.122581  1.427419  816.838710  523.959677  527.018145   \n",
       "4  2207.317073   0.111220  1.390244  823.609756  594.841463  598.048780   \n",
       "\n",
       "   subj_idx_exp  \n",
       "0          12.0  \n",
       "1          12.0  \n",
       "2          12.0  \n",
       "3          12.0  \n",
       "4          12.0  "
      ]
     },
     "execution_count": 70,
     "metadata": {},
     "output_type": "execute_result"
    }
   ],
   "source": [
    "tmp = df.groupby(['subj_idx', 'cue_validity', 'correct'], as_index=False).mean()\n",
    "tmp['correct'] =  tmp['correct'].map({0:'error', 1:'correct'})\n",
    "tmp.head()"
   ]
  },
  {
   "cell_type": "code",
   "execution_count": 71,
   "metadata": {
    "collapsed": false
   },
   "outputs": [
    {
     "data": {
      "text/plain": [
       "\n",
       "Error: subj_idx\n",
       "          Df Sum Sq Mean Sq F value Pr(>F)\n",
       "Residuals 18 668432   37135               \n",
       "\n",
       "Error: subj_idx:cue_validity\n",
       "             Df Sum Sq Mean Sq F value Pr(>F)\n",
       "cue_validity  2    799   399.3   0.378  0.688\n",
       "Residuals    36  38047  1056.9               \n",
       "\n",
       "Error: subj_idx:correct\n",
       "          Df Sum Sq Mean Sq F value  Pr(>F)   \n",
       "correct    1  33332   33332    9.88 0.00562 **\n",
       "Residuals 18  60726    3374                   \n",
       "---\n",
       "Signif. codes:  0 ‘***’ 0.001 ‘**’ 0.01 ‘*’ 0.05 ‘.’ 0.1 ‘ ’ 1\n",
       "\n",
       "Error: subj_idx:cue_validity:correct\n",
       "                     Df Sum Sq Mean Sq F value  Pr(>F)   \n",
       "cue_validity:correct  2  34993   17496   5.753 0.00679 **\n",
       "Residuals            36 109483    3041                   \n",
       "---\n",
       "Signif. codes:  0 ‘***’ 0.001 ‘**’ 0.01 ‘*’ 0.05 ‘.’ 0.1 ‘ ’ 1\n",
       "\r",
       "  |                                                                            \r",
       "  |                                                                      |   0%\r",
       "  |                                                                            \r",
       "  |==============                                                        |  20%\r",
       "  |                                                                            \r",
       "  |============================                                          |  40%\r",
       "  |                                                                            \r",
       "  |==========================================                            |  60%\r",
       "  |                                                                            \r",
       "  |========================================================              |  80%\r",
       "  |                                                                            \r",
       "  |======================================================================| 100%\n",
       "Bayes factor top-down analysis\n",
       "--------------\n",
       "When effect is omitted from cue_validity + correct + cue_validity:correct + subj_idx , BF is...\n",
       "[1] Omit correct:cue_validity : 0.02558802 ±1.9%\n",
       "[2] Omit correct              : 0.00993812 ±1.93%\n",
       "[3] Omit cue_validity         : 10.39037   ±1.85%\n",
       "\n",
       "Against denominator:\n",
       "  rt ~ cue_validity + correct + cue_validity:correct + subj_idx \n",
       "---\n",
       "Bayes factor type: BFlinearModel, JZS\n",
       "\n",
       "                                                          denominator\n",
       "numerator                                                  cue_validity + correct + subj_idx\n",
       "  cue_validity + correct + cue_validity:correct + subj_idx                          39.08079\n",
       "                                                          denominator\n",
       "numerator                                                  cue_validity + cue_validity:correct + subj_idx\n",
       "  cue_validity + correct + cue_validity:correct + subj_idx                                       100.6226\n",
       "                                                          denominator\n",
       "numerator                                                  correct + cue_validity:correct + subj_idx\n",
       "  cue_validity + correct + cue_validity:correct + subj_idx                                0.09624295\n"
      ]
     },
     "metadata": {},
     "output_type": "display_data"
    }
   ],
   "source": [
    "%%R -i tmp\n",
    "library(BayesFactor)\n",
    "\n",
    "tmp$subj_idx = as.factor(tmp$subj_idx)\n",
    "\n",
    "print(summary(aov(rt ~ cue_validity*correct + Error(subj_idx/(cue_validity*correct)), data=tmp)))\n",
    "\n",
    "\n",
    "bf = anovaBF(rt ~ cue_validity*correct + subj_idx, data = tmp,  whichRandom=\"subj_idx\", whichModels=\"top\")\n",
    "\n",
    "print(bf)\n",
    "print(1/bf)"
   ]
  },
  {
   "cell_type": "code",
   "execution_count": 130,
   "metadata": {
    "collapsed": false
   },
   "outputs": [
    {
     "data": {
      "text/html": [
       "<div>\n",
       "<table border=\"1\" class=\"dataframe\">\n",
       "  <thead>\n",
       "    <tr>\n",
       "      <th>cue_validity</th>\n",
       "      <th colspan=\"2\" halign=\"left\">invalid</th>\n",
       "      <th colspan=\"2\" halign=\"left\">neutral</th>\n",
       "      <th colspan=\"2\" halign=\"left\">valid</th>\n",
       "    </tr>\n",
       "    <tr>\n",
       "      <th>correct</th>\n",
       "      <th>correct</th>\n",
       "      <th>error</th>\n",
       "      <th>correct</th>\n",
       "      <th>error</th>\n",
       "      <th>correct</th>\n",
       "      <th>error</th>\n",
       "    </tr>\n",
       "    <tr>\n",
       "      <th>subj_idx</th>\n",
       "      <th></th>\n",
       "      <th></th>\n",
       "      <th></th>\n",
       "      <th></th>\n",
       "      <th></th>\n",
       "      <th></th>\n",
       "    </tr>\n",
       "  </thead>\n",
       "  <tbody>\n",
       "    <tr>\n",
       "      <th>1</th>\n",
       "      <td>830.754098</td>\n",
       "      <td>904.971429</td>\n",
       "      <td>816.838710</td>\n",
       "      <td>867.292308</td>\n",
       "      <td>829.509091</td>\n",
       "      <td>823.609756</td>\n",
       "    </tr>\n",
       "    <tr>\n",
       "      <th>2</th>\n",
       "      <td>825.220000</td>\n",
       "      <td>775.045455</td>\n",
       "      <td>816.839623</td>\n",
       "      <td>785.926829</td>\n",
       "      <td>763.627119</td>\n",
       "      <td>899.189189</td>\n",
       "    </tr>\n",
       "    <tr>\n",
       "      <th>3</th>\n",
       "      <td>800.228070</td>\n",
       "      <td>817.820513</td>\n",
       "      <td>819.241667</td>\n",
       "      <td>811.671429</td>\n",
       "      <td>801.081967</td>\n",
       "      <td>866.575758</td>\n",
       "    </tr>\n",
       "    <tr>\n",
       "      <th>4</th>\n",
       "      <td>928.590909</td>\n",
       "      <td>763.328767</td>\n",
       "      <td>839.583333</td>\n",
       "      <td>869.226190</td>\n",
       "      <td>761.216867</td>\n",
       "      <td>892.666667</td>\n",
       "    </tr>\n",
       "    <tr>\n",
       "      <th>5</th>\n",
       "      <td>767.280000</td>\n",
       "      <td>761.238095</td>\n",
       "      <td>741.345455</td>\n",
       "      <td>762.256410</td>\n",
       "      <td>809.962264</td>\n",
       "      <td>775.357143</td>\n",
       "    </tr>\n",
       "  </tbody>\n",
       "</table>\n",
       "</div>"
      ],
      "text/plain": [
       "cue_validity     invalid                 neutral                   valid  \\\n",
       "correct          correct       error     correct       error     correct   \n",
       "subj_idx                                                                   \n",
       "1             830.754098  904.971429  816.838710  867.292308  829.509091   \n",
       "2             825.220000  775.045455  816.839623  785.926829  763.627119   \n",
       "3             800.228070  817.820513  819.241667  811.671429  801.081967   \n",
       "4             928.590909  763.328767  839.583333  869.226190  761.216867   \n",
       "5             767.280000  761.238095  741.345455  762.256410  809.962264   \n",
       "\n",
       "cue_validity              \n",
       "correct            error  \n",
       "subj_idx                  \n",
       "1             823.609756  \n",
       "2             899.189189  \n",
       "3             866.575758  \n",
       "4             892.666667  \n",
       "5             775.357143  "
      ]
     },
     "execution_count": 130,
     "metadata": {},
     "output_type": "execute_result"
    }
   ],
   "source": [
    "tmp = df.groupby(['subj_idx', 'cue_validity', 'correct'], as_index=False).mean()\n",
    "tmp['correct'] =  tmp['correct'].map({0:'error', 1:'correct'})\n",
    "tmp = tmp.pivot_table(index='subj_idx', columns=['cue_validity', 'correct'], values='rt')\n",
    "tmp.head()"
   ]
  },
  {
   "cell_type": "code",
   "execution_count": 131,
   "metadata": {
    "collapsed": false
   },
   "outputs": [
    {
     "name": "stdout",
     "output_type": "stream",
     "text": [
      "Ttest_relResult(statistic=-2.9050774183321177, pvalue=0.0094412721889935956)\n",
      "Ttest_relResult(statistic=1.9379004964901754, pvalue=0.068484726795863815)\n"
     ]
    }
   ],
   "source": [
    "print sp.stats.ttest_rel(tmp['valid', 'correct'], tmp['invalid', 'correct'])\n",
    "print sp.stats.ttest_rel(tmp['valid', 'error'], tmp['invalid', 'error'])"
   ]
  },
  {
   "cell_type": "code",
   "execution_count": 132,
   "metadata": {
    "collapsed": false
   },
   "outputs": [
    {
     "data": {
      "text/plain": [
       "[1] \"X..invalid....correct..\" \"X..invalid....error..\"  \n",
       "[3] \"X..neutral....correct..\" \"X..neutral....error..\"  \n",
       "[5] \"X..valid....correct..\"   \"X..valid....error..\"    \n",
       "Bayes factor analysis\n",
       "--------------\n",
       "[1] Alt., r=0.707 : 5.456999 ±0%\n",
       "\n",
       "Against denominator:\n",
       "  Null, mu = 0 \n",
       "---\n",
       "Bayes factor type: BFoneSample, JZS\n",
       "\n",
       "Bayes factor analysis\n",
       "--------------\n",
       "[1] Alt., r=0.707 : 1.109742 ±0%\n",
       "\n",
       "Against denominator:\n",
       "  Null, mu = 0 \n",
       "---\n",
       "Bayes factor type: BFoneSample, JZS\n",
       "\n"
      ]
     },
     "metadata": {},
     "output_type": "display_data"
    }
   ],
   "source": [
    "%%R -i tmp\n",
    "library(BayesFactor)\n",
    "print(names(tmp))\n",
    "print(ttestBF(tmp$X..valid....correct.. - tmp$X..invalid....correct..))\n",
    "print(ttestBF(tmp$X..valid....error.. - tmp$X..invalid....error..))"
   ]
  },
  {
   "cell_type": "code",
   "execution_count": 133,
   "metadata": {
    "collapsed": true
   },
   "outputs": [],
   "source": [
    "tmp = df.groupby(['subj_idx', 'cue_validity', 'difficulty', 'correct'], as_index=False).mean()\n",
    "tmp['correct'] =  tmp['correct'].map({0:'error', 1:'correct'})\n"
   ]
  },
  {
   "cell_type": "code",
   "execution_count": 134,
   "metadata": {
    "collapsed": false
   },
   "outputs": [
    {
     "data": {
      "image/png": "[encoded data removed]",
      "text/plain": [
       "<matplotlib.figure.Figure at 0x12ec78d0>"
      ]
     },
     "metadata": {},
     "output_type": "display_data"
    }
   ],
   "source": [
    "sns.set_context('poster')\n",
    "sns.set_style('whitegrid')\n",
    "\n",
    "fac = sns.factorplot('cue_validity', 'rt', 'correct', tmp, palette=['red', 'green'], col='difficulty', size=3, aspect=1.5, ci=67)\n",
    "\n",
    "for ax in fac.axes.ravel():\n",
    "    ax.set_yticks(np.arange(750, 950, 50))\n",
    "    \n",
    "plt.savefig('/home/gdholla1/projects/bias/reports/figures/figure1a.pdf')"
   ]
  },
  {
   "cell_type": "code",
   "execution_count": 135,
   "metadata": {
    "collapsed": true
   },
   "outputs": [],
   "source": [
    "tmp = df.groupby(['subj_idx', 'cue_validity', 'difficulty'], as_index=False).mean()"
   ]
  },
  {
   "cell_type": "code",
   "execution_count": 143,
   "metadata": {
    "collapsed": false
   },
   "outputs": [
    {
     "data": {
      "image/png": "[encoded data removed]",
      "text/plain": [
       "<matplotlib.figure.Figure at 0x140888d0>"
      ]
     },
     "metadata": {},
     "output_type": "display_data"
    }
   ],
   "source": [
    "sns.set_context('poster')\n",
    "sns.set_style('whitegrid')\n",
    "\n",
    "fac = sns.factorplot('cue_validity', 'correct', data=tmp, palette=['black'], col='difficulty', size=3, aspect=1.5, ci=67)\n",
    "\n",
    "for ax in fac.axes.ravel():\n",
    "    ax.set_yticks(np.arange(.5, .85, .05))\n",
    "    \n",
    "plt.savefig('/home/gdholla1/projects/bias/reports/figures/figure1b.pdf')"
   ]
  },
  {
   "cell_type": "code",
   "execution_count": null,
   "metadata": {
    "collapsed": true
   },
   "outputs": [],
   "source": []
  },
  {
   "cell_type": "code",
   "execution_count": null,
   "metadata": {
    "collapsed": true
   },
   "outputs": [],
   "source": []
  }
 ],
 "metadata": {
  "kernelspec": {
   "display_name": "Python 2",
   "language": "python",
   "name": "python2"
  },
  "language_info": {
   "codemirror_mode": {
    "name": "ipython",
    "version": 2
   },
   "file_extension": ".py",
   "mimetype": "text/x-python",
   "name": "python",
   "nbconvert_exporter": "python",
   "pygments_lexer": "ipython2",
   "version": "2.7.3"
  }
 },
 "nbformat": 4,
 "nbformat_minor": 1
}
